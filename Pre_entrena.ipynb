{
 "cells": [
  {
   "cell_type": "code",
   "execution_count": 1,
   "metadata": {
    "collapsed": false
   },
   "outputs": [],
   "source": [
    "#importamos las libreias a usar\n",
    "import numpy as np\n",
    "import math\n",
    "import matplotlib.pyplot as plt\n",
    "import graphlab\n",
    "# easy_install -U scikit-fuzzy #instalar por consola\n",
    "import skfuzzy as fuzzy\n",
    "graphlab.canvas.set_target('ipynb')\n",
    "\n",
    "from skfuzzy import control as ctrl\n",
    "#puntos de operacion C=0.9951, T=350.4, V=13.89, FlCh=105, FlRx=82"
   ]
  },
  {
   "cell_type": "code",
   "execution_count": 3,
   "metadata": {
    "collapsed": false
   },
   "outputs": [
    {
     "data": {
      "text/html": [
       "<pre>Finished parsing file C:\\Users\\D A Santana\\Documents\\01_Univer\\2018-1\\03 Inteligencia\\proyectofinal\\red_matlab_ne\\file.csv</pre>"
      ],
      "text/plain": [
       "Finished parsing file C:\\Users\\D A Santana\\Documents\\01_Univer\\2018-1\\03 Inteligencia\\proyectofinal\\red_matlab_ne\\file.csv"
      ]
     },
     "metadata": {},
     "output_type": "display_data"
    },
    {
     "data": {
      "text/html": [
       "<pre>Parsing completed. Parsed 100 lines in 0.099153 secs.</pre>"
      ],
      "text/plain": [
       "Parsing completed. Parsed 100 lines in 0.099153 secs."
      ]
     },
     "metadata": {},
     "output_type": "display_data"
    },
    {
     "name": "stdout",
     "output_type": "stream",
     "text": [
      "------------------------------------------------------\n",
      "Inferred types from first 100 line(s) of file as \n",
      "column_type_hints=[float,float,float,float,float]\n",
      "If parsing fails due to incorrect types, you can correct\n",
      "the inferred type list above and pass it to read_csv in\n",
      "the column_type_hints argument\n",
      "------------------------------------------------------\n"
     ]
    },
    {
     "data": {
      "text/html": [
       "<pre>Finished parsing file C:\\Users\\D A Santana\\Documents\\01_Univer\\2018-1\\03 Inteligencia\\proyectofinal\\red_matlab_ne\\file.csv</pre>"
      ],
      "text/plain": [
       "Finished parsing file C:\\Users\\D A Santana\\Documents\\01_Univer\\2018-1\\03 Inteligencia\\proyectofinal\\red_matlab_ne\\file.csv"
      ]
     },
     "metadata": {},
     "output_type": "display_data"
    },
    {
     "data": {
      "text/html": [
       "<pre>Parsing completed. Parsed 50000 lines in 0.142347 secs.</pre>"
      ],
      "text/plain": [
       "Parsing completed. Parsed 50000 lines in 0.142347 secs."
      ]
     },
     "metadata": {},
     "output_type": "display_data"
    },
    {
     "data": {
      "text/html": [
       "<div style=\"max-height:1000px;max-width:1500px;overflow:auto;\"><table frame=\"box\" rules=\"cols\">\n",
       "    <tr>\n",
       "        <th style=\"padding-left: 1em; padding-right: 1em; text-align: center\">FlujoRx</th>\n",
       "        <th style=\"padding-left: 1em; padding-right: 1em; text-align: center\">FlujoCh</th>\n",
       "        <th style=\"padding-left: 1em; padding-right: 1em; text-align: center\">Concent</th>\n",
       "        <th style=\"padding-left: 1em; padding-right: 1em; text-align: center\">Tempera</th>\n",
       "        <th style=\"padding-left: 1em; padding-right: 1em; text-align: center\">Volumen</th>\n",
       "    </tr>\n",
       "    <tr>\n",
       "        <td style=\"padding-left: 1em; padding-right: 1em; text-align: center; vertical-align: top\">80.16</td>\n",
       "        <td style=\"padding-left: 1em; padding-right: 1em; text-align: center; vertical-align: top\">104.75</td>\n",
       "        <td style=\"padding-left: 1em; padding-right: 1em; text-align: center; vertical-align: top\">1.0</td>\n",
       "        <td style=\"padding-left: 1em; padding-right: 1em; text-align: center; vertical-align: top\">273.15</td>\n",
       "        <td style=\"padding-left: 1em; padding-right: 1em; text-align: center; vertical-align: top\">0.1</td>\n",
       "    </tr>\n",
       "    <tr>\n",
       "        <td style=\"padding-left: 1em; padding-right: 1em; text-align: center; vertical-align: top\">83.468</td>\n",
       "        <td style=\"padding-left: 1em; padding-right: 1em; text-align: center; vertical-align: top\">106.81</td>\n",
       "        <td style=\"padding-left: 1em; padding-right: 1em; text-align: center; vertical-align: top\">0.99994</td>\n",
       "        <td style=\"padding-left: 1em; padding-right: 1em; text-align: center; vertical-align: top\">281.12</td>\n",
       "        <td style=\"padding-left: 1em; padding-right: 1em; text-align: center; vertical-align: top\">0.10498</td>\n",
       "    </tr>\n",
       "    <tr>\n",
       "        <td style=\"padding-left: 1em; padding-right: 1em; text-align: center; vertical-align: top\">83.129</td>\n",
       "        <td style=\"padding-left: 1em; padding-right: 1em; text-align: center; vertical-align: top\">104.11</td>\n",
       "        <td style=\"padding-left: 1em; padding-right: 1em; text-align: center; vertical-align: top\">0.99987</td>\n",
       "        <td style=\"padding-left: 1em; padding-right: 1em; text-align: center; vertical-align: top\">287.85</td>\n",
       "        <td style=\"padding-left: 1em; padding-right: 1em; text-align: center; vertical-align: top\">0.10998</td>\n",
       "    </tr>\n",
       "    <tr>\n",
       "        <td style=\"padding-left: 1em; padding-right: 1em; text-align: center; vertical-align: top\">82.207</td>\n",
       "        <td style=\"padding-left: 1em; padding-right: 1em; text-align: center; vertical-align: top\">103.81</td>\n",
       "        <td style=\"padding-left: 1em; padding-right: 1em; text-align: center; vertical-align: top\">0.99989</td>\n",
       "        <td style=\"padding-left: 1em; padding-right: 1em; text-align: center; vertical-align: top\">293.53</td>\n",
       "        <td style=\"padding-left: 1em; padding-right: 1em; text-align: center; vertical-align: top\">0.11505</td>\n",
       "    </tr>\n",
       "    <tr>\n",
       "        <td style=\"padding-left: 1em; padding-right: 1em; text-align: center; vertical-align: top\">84.865</td>\n",
       "        <td style=\"padding-left: 1em; padding-right: 1em; text-align: center; vertical-align: top\">104.66</td>\n",
       "        <td style=\"padding-left: 1em; padding-right: 1em; text-align: center; vertical-align: top\">0.99993</td>\n",
       "        <td style=\"padding-left: 1em; padding-right: 1em; text-align: center; vertical-align: top\">298.55</td>\n",
       "        <td style=\"padding-left: 1em; padding-right: 1em; text-align: center; vertical-align: top\">0.12019</td>\n",
       "    </tr>\n",
       "    <tr>\n",
       "        <td style=\"padding-left: 1em; padding-right: 1em; text-align: center; vertical-align: top\">80.703</td>\n",
       "        <td style=\"padding-left: 1em; padding-right: 1em; text-align: center; vertical-align: top\">106.06</td>\n",
       "        <td style=\"padding-left: 1em; padding-right: 1em; text-align: center; vertical-align: top\">0.99989</td>\n",
       "        <td style=\"padding-left: 1em; padding-right: 1em; text-align: center; vertical-align: top\">304.24</td>\n",
       "        <td style=\"padding-left: 1em; padding-right: 1em; text-align: center; vertical-align: top\">0.12674</td>\n",
       "    </tr>\n",
       "    <tr>\n",
       "        <td style=\"padding-left: 1em; padding-right: 1em; text-align: center; vertical-align: top\">81.827</td>\n",
       "        <td style=\"padding-left: 1em; padding-right: 1em; text-align: center; vertical-align: top\">106.51</td>\n",
       "        <td style=\"padding-left: 1em; padding-right: 1em; text-align: center; vertical-align: top\">0.99993</td>\n",
       "        <td style=\"padding-left: 1em; padding-right: 1em; text-align: center; vertical-align: top\">308.96</td>\n",
       "        <td style=\"padding-left: 1em; padding-right: 1em; text-align: center; vertical-align: top\">0.13308</td>\n",
       "    </tr>\n",
       "    <tr>\n",
       "        <td style=\"padding-left: 1em; padding-right: 1em; text-align: center; vertical-align: top\">80.74</td>\n",
       "        <td style=\"padding-left: 1em; padding-right: 1em; text-align: center; vertical-align: top\">106.56</td>\n",
       "        <td style=\"padding-left: 1em; padding-right: 1em; text-align: center; vertical-align: top\">1.0001</td>\n",
       "        <td style=\"padding-left: 1em; padding-right: 1em; text-align: center; vertical-align: top\">312.91</td>\n",
       "        <td style=\"padding-left: 1em; padding-right: 1em; text-align: center; vertical-align: top\">0.13918</td>\n",
       "    </tr>\n",
       "    <tr>\n",
       "        <td style=\"padding-left: 1em; padding-right: 1em; text-align: center; vertical-align: top\">83.209</td>\n",
       "        <td style=\"padding-left: 1em; padding-right: 1em; text-align: center; vertical-align: top\">105.53</td>\n",
       "        <td style=\"padding-left: 1em; padding-right: 1em; text-align: center; vertical-align: top\">1.0001</td>\n",
       "        <td style=\"padding-left: 1em; padding-right: 1em; text-align: center; vertical-align: top\">316.32</td>\n",
       "        <td style=\"padding-left: 1em; padding-right: 1em; text-align: center; vertical-align: top\">0.14539</td>\n",
       "    </tr>\n",
       "    <tr>\n",
       "        <td style=\"padding-left: 1em; padding-right: 1em; text-align: center; vertical-align: top\">80.743</td>\n",
       "        <td style=\"padding-left: 1em; padding-right: 1em; text-align: center; vertical-align: top\">102.52</td>\n",
       "        <td style=\"padding-left: 1em; padding-right: 1em; text-align: center; vertical-align: top\">1.0</td>\n",
       "        <td style=\"padding-left: 1em; padding-right: 1em; text-align: center; vertical-align: top\">319.48</td>\n",
       "        <td style=\"padding-left: 1em; padding-right: 1em; text-align: center; vertical-align: top\">0.15219</td>\n",
       "    </tr>\n",
       "</table>\n",
       "[50000 rows x 5 columns]<br/>Note: Only the head of the SFrame is printed.<br/>You can use print_rows(num_rows=m, num_columns=n) to print more rows and columns.\n",
       "</div>"
      ],
      "text/plain": [
       "Columns:\n",
       "\tFlujoRx\tfloat\n",
       "\tFlujoCh\tfloat\n",
       "\tConcent\tfloat\n",
       "\tTempera\tfloat\n",
       "\tVolumen\tfloat\n",
       "\n",
       "Rows: 50000\n",
       "\n",
       "Data:\n",
       "+---------+---------+---------+---------+---------+\n",
       "| FlujoRx | FlujoCh | Concent | Tempera | Volumen |\n",
       "+---------+---------+---------+---------+---------+\n",
       "|  80.16  |  104.75 |   1.0   |  273.15 |   0.1   |\n",
       "|  83.468 |  106.81 | 0.99994 |  281.12 | 0.10498 |\n",
       "|  83.129 |  104.11 | 0.99987 |  287.85 | 0.10998 |\n",
       "|  82.207 |  103.81 | 0.99989 |  293.53 | 0.11505 |\n",
       "|  84.865 |  104.66 | 0.99993 |  298.55 | 0.12019 |\n",
       "|  80.703 |  106.06 | 0.99989 |  304.24 | 0.12674 |\n",
       "|  81.827 |  106.51 | 0.99993 |  308.96 | 0.13308 |\n",
       "|  80.74  |  106.56 |  1.0001 |  312.91 | 0.13918 |\n",
       "|  83.209 |  105.53 |  1.0001 |  316.32 | 0.14539 |\n",
       "|  80.743 |  102.52 |   1.0   |  319.48 | 0.15219 |\n",
       "+---------+---------+---------+---------+---------+\n",
       "[50000 rows x 5 columns]\n",
       "Note: Only the head of the SFrame is printed.\n",
       "You can use print_rows(num_rows=m, num_columns=n) to print more rows and columns."
      ]
     },
     "execution_count": 3,
     "metadata": {},
     "output_type": "execute_result"
    }
   ],
   "source": [
    "#cargamos el archivo en la misma carpeta\n",
    "data = graphlab.SFrame.read_csv('file.csv')\n",
    "#longitud total\n",
    "len (data)\n",
    "data"
   ]
  },
  {
   "cell_type": "code",
   "execution_count": 4,
   "metadata": {
    "collapsed": false
   },
   "outputs": [
    {
     "data": {
      "text/html": [
       "<div style=\"max-height:1000px;max-width:1500px;overflow:auto;\"><table frame=\"box\" rules=\"cols\">\n",
       "    <tr>\n",
       "        <th style=\"padding-left: 1em; padding-right: 1em; text-align: center\">Concent</th>\n",
       "        <th style=\"padding-left: 1em; padding-right: 1em; text-align: center\">FlujoCh</th>\n",
       "        <th style=\"padding-left: 1em; padding-right: 1em; text-align: center\">FlujoRx</th>\n",
       "    </tr>\n",
       "    <tr>\n",
       "        <td style=\"padding-left: 1em; padding-right: 1em; text-align: center; vertical-align: top\">1.0</td>\n",
       "        <td style=\"padding-left: 1em; padding-right: 1em; text-align: center; vertical-align: top\">104.75</td>\n",
       "        <td style=\"padding-left: 1em; padding-right: 1em; text-align: center; vertical-align: top\">80.16</td>\n",
       "    </tr>\n",
       "    <tr>\n",
       "        <td style=\"padding-left: 1em; padding-right: 1em; text-align: center; vertical-align: top\">0.99994</td>\n",
       "        <td style=\"padding-left: 1em; padding-right: 1em; text-align: center; vertical-align: top\">106.81</td>\n",
       "        <td style=\"padding-left: 1em; padding-right: 1em; text-align: center; vertical-align: top\">83.468</td>\n",
       "    </tr>\n",
       "    <tr>\n",
       "        <td style=\"padding-left: 1em; padding-right: 1em; text-align: center; vertical-align: top\">0.99987</td>\n",
       "        <td style=\"padding-left: 1em; padding-right: 1em; text-align: center; vertical-align: top\">104.11</td>\n",
       "        <td style=\"padding-left: 1em; padding-right: 1em; text-align: center; vertical-align: top\">83.129</td>\n",
       "    </tr>\n",
       "    <tr>\n",
       "        <td style=\"padding-left: 1em; padding-right: 1em; text-align: center; vertical-align: top\">0.99989</td>\n",
       "        <td style=\"padding-left: 1em; padding-right: 1em; text-align: center; vertical-align: top\">103.81</td>\n",
       "        <td style=\"padding-left: 1em; padding-right: 1em; text-align: center; vertical-align: top\">82.207</td>\n",
       "    </tr>\n",
       "    <tr>\n",
       "        <td style=\"padding-left: 1em; padding-right: 1em; text-align: center; vertical-align: top\">0.99993</td>\n",
       "        <td style=\"padding-left: 1em; padding-right: 1em; text-align: center; vertical-align: top\">104.66</td>\n",
       "        <td style=\"padding-left: 1em; padding-right: 1em; text-align: center; vertical-align: top\">84.865</td>\n",
       "    </tr>\n",
       "    <tr>\n",
       "        <td style=\"padding-left: 1em; padding-right: 1em; text-align: center; vertical-align: top\">0.99989</td>\n",
       "        <td style=\"padding-left: 1em; padding-right: 1em; text-align: center; vertical-align: top\">106.06</td>\n",
       "        <td style=\"padding-left: 1em; padding-right: 1em; text-align: center; vertical-align: top\">80.703</td>\n",
       "    </tr>\n",
       "    <tr>\n",
       "        <td style=\"padding-left: 1em; padding-right: 1em; text-align: center; vertical-align: top\">0.99993</td>\n",
       "        <td style=\"padding-left: 1em; padding-right: 1em; text-align: center; vertical-align: top\">106.51</td>\n",
       "        <td style=\"padding-left: 1em; padding-right: 1em; text-align: center; vertical-align: top\">81.827</td>\n",
       "    </tr>\n",
       "    <tr>\n",
       "        <td style=\"padding-left: 1em; padding-right: 1em; text-align: center; vertical-align: top\">1.0001</td>\n",
       "        <td style=\"padding-left: 1em; padding-right: 1em; text-align: center; vertical-align: top\">106.56</td>\n",
       "        <td style=\"padding-left: 1em; padding-right: 1em; text-align: center; vertical-align: top\">80.74</td>\n",
       "    </tr>\n",
       "    <tr>\n",
       "        <td style=\"padding-left: 1em; padding-right: 1em; text-align: center; vertical-align: top\">1.0001</td>\n",
       "        <td style=\"padding-left: 1em; padding-right: 1em; text-align: center; vertical-align: top\">105.53</td>\n",
       "        <td style=\"padding-left: 1em; padding-right: 1em; text-align: center; vertical-align: top\">83.209</td>\n",
       "    </tr>\n",
       "    <tr>\n",
       "        <td style=\"padding-left: 1em; padding-right: 1em; text-align: center; vertical-align: top\">1.0</td>\n",
       "        <td style=\"padding-left: 1em; padding-right: 1em; text-align: center; vertical-align: top\">102.52</td>\n",
       "        <td style=\"padding-left: 1em; padding-right: 1em; text-align: center; vertical-align: top\">80.743</td>\n",
       "    </tr>\n",
       "</table>\n",
       "[50000 rows x 3 columns]<br/>Note: Only the head of the SFrame is printed.<br/>You can use print_rows(num_rows=m, num_columns=n) to print more rows and columns.\n",
       "</div>"
      ],
      "text/plain": [
       "Columns:\n",
       "\tConcent\tfloat\n",
       "\tFlujoCh\tfloat\n",
       "\tFlujoRx\tfloat\n",
       "\n",
       "Rows: 50000\n",
       "\n",
       "Data:\n",
       "+---------+---------+---------+\n",
       "| Concent | FlujoCh | FlujoRx |\n",
       "+---------+---------+---------+\n",
       "|   1.0   |  104.75 |  80.16  |\n",
       "| 0.99994 |  106.81 |  83.468 |\n",
       "| 0.99987 |  104.11 |  83.129 |\n",
       "| 0.99989 |  103.81 |  82.207 |\n",
       "| 0.99993 |  104.66 |  84.865 |\n",
       "| 0.99989 |  106.06 |  80.703 |\n",
       "| 0.99993 |  106.51 |  81.827 |\n",
       "|  1.0001 |  106.56 |  80.74  |\n",
       "|  1.0001 |  105.53 |  83.209 |\n",
       "|   1.0   |  102.52 |  80.743 |\n",
       "+---------+---------+---------+\n",
       "[50000 rows x 3 columns]\n",
       "Note: Only the head of the SFrame is printed.\n",
       "You can use print_rows(num_rows=m, num_columns=n) to print more rows and columns."
      ]
     },
     "execution_count": 4,
     "metadata": {},
     "output_type": "execute_result"
    }
   ],
   "source": [
    "#creacion de la tabla de relacion Variables entrada Vs salida Concentracion \n",
    "entvsC = graphlab.SFrame({'Concent':data.select_column('Concent'),'FlujoCh':data.select_column('FlujoCh'),\n",
    "                          'FlujoRx':data.select_column('FlujoRx')})\n",
    "entvsC"
   ]
  },
  {
   "cell_type": "code",
   "execution_count": 5,
   "metadata": {
    "collapsed": false
   },
   "outputs": [
    {
     "data": {
      "text/html": [
       "<div style=\"max-height:1000px;max-width:1500px;overflow:auto;\"><table frame=\"box\" rules=\"cols\">\n",
       "    <tr>\n",
       "        <th style=\"padding-left: 1em; padding-right: 1em; text-align: center\">FlujoCh</th>\n",
       "        <th style=\"padding-left: 1em; padding-right: 1em; text-align: center\">FlujoRx</th>\n",
       "        <th style=\"padding-left: 1em; padding-right: 1em; text-align: center\">Volumen</th>\n",
       "    </tr>\n",
       "    <tr>\n",
       "        <td style=\"padding-left: 1em; padding-right: 1em; text-align: center; vertical-align: top\">104.75</td>\n",
       "        <td style=\"padding-left: 1em; padding-right: 1em; text-align: center; vertical-align: top\">80.16</td>\n",
       "        <td style=\"padding-left: 1em; padding-right: 1em; text-align: center; vertical-align: top\">0.1</td>\n",
       "    </tr>\n",
       "    <tr>\n",
       "        <td style=\"padding-left: 1em; padding-right: 1em; text-align: center; vertical-align: top\">106.81</td>\n",
       "        <td style=\"padding-left: 1em; padding-right: 1em; text-align: center; vertical-align: top\">83.468</td>\n",
       "        <td style=\"padding-left: 1em; padding-right: 1em; text-align: center; vertical-align: top\">0.10498</td>\n",
       "    </tr>\n",
       "    <tr>\n",
       "        <td style=\"padding-left: 1em; padding-right: 1em; text-align: center; vertical-align: top\">104.11</td>\n",
       "        <td style=\"padding-left: 1em; padding-right: 1em; text-align: center; vertical-align: top\">83.129</td>\n",
       "        <td style=\"padding-left: 1em; padding-right: 1em; text-align: center; vertical-align: top\">0.10998</td>\n",
       "    </tr>\n",
       "    <tr>\n",
       "        <td style=\"padding-left: 1em; padding-right: 1em; text-align: center; vertical-align: top\">103.81</td>\n",
       "        <td style=\"padding-left: 1em; padding-right: 1em; text-align: center; vertical-align: top\">82.207</td>\n",
       "        <td style=\"padding-left: 1em; padding-right: 1em; text-align: center; vertical-align: top\">0.11505</td>\n",
       "    </tr>\n",
       "    <tr>\n",
       "        <td style=\"padding-left: 1em; padding-right: 1em; text-align: center; vertical-align: top\">104.66</td>\n",
       "        <td style=\"padding-left: 1em; padding-right: 1em; text-align: center; vertical-align: top\">84.865</td>\n",
       "        <td style=\"padding-left: 1em; padding-right: 1em; text-align: center; vertical-align: top\">0.12019</td>\n",
       "    </tr>\n",
       "    <tr>\n",
       "        <td style=\"padding-left: 1em; padding-right: 1em; text-align: center; vertical-align: top\">106.06</td>\n",
       "        <td style=\"padding-left: 1em; padding-right: 1em; text-align: center; vertical-align: top\">80.703</td>\n",
       "        <td style=\"padding-left: 1em; padding-right: 1em; text-align: center; vertical-align: top\">0.12674</td>\n",
       "    </tr>\n",
       "    <tr>\n",
       "        <td style=\"padding-left: 1em; padding-right: 1em; text-align: center; vertical-align: top\">106.51</td>\n",
       "        <td style=\"padding-left: 1em; padding-right: 1em; text-align: center; vertical-align: top\">81.827</td>\n",
       "        <td style=\"padding-left: 1em; padding-right: 1em; text-align: center; vertical-align: top\">0.13308</td>\n",
       "    </tr>\n",
       "    <tr>\n",
       "        <td style=\"padding-left: 1em; padding-right: 1em; text-align: center; vertical-align: top\">106.56</td>\n",
       "        <td style=\"padding-left: 1em; padding-right: 1em; text-align: center; vertical-align: top\">80.74</td>\n",
       "        <td style=\"padding-left: 1em; padding-right: 1em; text-align: center; vertical-align: top\">0.13918</td>\n",
       "    </tr>\n",
       "    <tr>\n",
       "        <td style=\"padding-left: 1em; padding-right: 1em; text-align: center; vertical-align: top\">105.53</td>\n",
       "        <td style=\"padding-left: 1em; padding-right: 1em; text-align: center; vertical-align: top\">83.209</td>\n",
       "        <td style=\"padding-left: 1em; padding-right: 1em; text-align: center; vertical-align: top\">0.14539</td>\n",
       "    </tr>\n",
       "    <tr>\n",
       "        <td style=\"padding-left: 1em; padding-right: 1em; text-align: center; vertical-align: top\">102.52</td>\n",
       "        <td style=\"padding-left: 1em; padding-right: 1em; text-align: center; vertical-align: top\">80.743</td>\n",
       "        <td style=\"padding-left: 1em; padding-right: 1em; text-align: center; vertical-align: top\">0.15219</td>\n",
       "    </tr>\n",
       "</table>\n",
       "[50000 rows x 3 columns]<br/>Note: Only the head of the SFrame is printed.<br/>You can use print_rows(num_rows=m, num_columns=n) to print more rows and columns.\n",
       "</div>"
      ],
      "text/plain": [
       "Columns:\n",
       "\tFlujoCh\tfloat\n",
       "\tFlujoRx\tfloat\n",
       "\tVolumen\tfloat\n",
       "\n",
       "Rows: 50000\n",
       "\n",
       "Data:\n",
       "+---------+---------+---------+\n",
       "| FlujoCh | FlujoRx | Volumen |\n",
       "+---------+---------+---------+\n",
       "|  104.75 |  80.16  |   0.1   |\n",
       "|  106.81 |  83.468 | 0.10498 |\n",
       "|  104.11 |  83.129 | 0.10998 |\n",
       "|  103.81 |  82.207 | 0.11505 |\n",
       "|  104.66 |  84.865 | 0.12019 |\n",
       "|  106.06 |  80.703 | 0.12674 |\n",
       "|  106.51 |  81.827 | 0.13308 |\n",
       "|  106.56 |  80.74  | 0.13918 |\n",
       "|  105.53 |  83.209 | 0.14539 |\n",
       "|  102.52 |  80.743 | 0.15219 |\n",
       "+---------+---------+---------+\n",
       "[50000 rows x 3 columns]\n",
       "Note: Only the head of the SFrame is printed.\n",
       "You can use print_rows(num_rows=m, num_columns=n) to print more rows and columns."
      ]
     },
     "execution_count": 5,
     "metadata": {},
     "output_type": "execute_result"
    }
   ],
   "source": [
    "#creacion de la tabla de relacion Variables entrada Vs salida Volumen \n",
    "entvsV = graphlab.SFrame({'Volumen':data.select_column('Volumen'),'FlujoCh':data.select_column('FlujoCh'),\n",
    "                          'FlujoRx':data.select_column('FlujoRx')})\n",
    "entvsV"
   ]
  },
  {
   "cell_type": "code",
   "execution_count": 6,
   "metadata": {
    "collapsed": false
   },
   "outputs": [
    {
     "data": {
      "text/html": [
       "<div style=\"max-height:1000px;max-width:1500px;overflow:auto;\"><table frame=\"box\" rules=\"cols\">\n",
       "    <tr>\n",
       "        <th style=\"padding-left: 1em; padding-right: 1em; text-align: center\">FlujoCh</th>\n",
       "        <th style=\"padding-left: 1em; padding-right: 1em; text-align: center\">FlujoRx</th>\n",
       "        <th style=\"padding-left: 1em; padding-right: 1em; text-align: center\">TCalificacion</th>\n",
       "        <th style=\"padding-left: 1em; padding-right: 1em; text-align: center\">Tempera</th>\n",
       "    </tr>\n",
       "    <tr>\n",
       "        <td style=\"padding-left: 1em; padding-right: 1em; text-align: center; vertical-align: top\">104.75</td>\n",
       "        <td style=\"padding-left: 1em; padding-right: 1em; text-align: center; vertical-align: top\">80.16</td>\n",
       "        <td style=\"padding-left: 1em; padding-right: 1em; text-align: center; vertical-align: top\">1.0</td>\n",
       "        <td style=\"padding-left: 1em; padding-right: 1em; text-align: center; vertical-align: top\">273.15</td>\n",
       "    </tr>\n",
       "    <tr>\n",
       "        <td style=\"padding-left: 1em; padding-right: 1em; text-align: center; vertical-align: top\">106.81</td>\n",
       "        <td style=\"padding-left: 1em; padding-right: 1em; text-align: center; vertical-align: top\">83.468</td>\n",
       "        <td style=\"padding-left: 1em; padding-right: 1em; text-align: center; vertical-align: top\">0.99994</td>\n",
       "        <td style=\"padding-left: 1em; padding-right: 1em; text-align: center; vertical-align: top\">281.12</td>\n",
       "    </tr>\n",
       "    <tr>\n",
       "        <td style=\"padding-left: 1em; padding-right: 1em; text-align: center; vertical-align: top\">104.11</td>\n",
       "        <td style=\"padding-left: 1em; padding-right: 1em; text-align: center; vertical-align: top\">83.129</td>\n",
       "        <td style=\"padding-left: 1em; padding-right: 1em; text-align: center; vertical-align: top\">0.99987</td>\n",
       "        <td style=\"padding-left: 1em; padding-right: 1em; text-align: center; vertical-align: top\">287.85</td>\n",
       "    </tr>\n",
       "    <tr>\n",
       "        <td style=\"padding-left: 1em; padding-right: 1em; text-align: center; vertical-align: top\">103.81</td>\n",
       "        <td style=\"padding-left: 1em; padding-right: 1em; text-align: center; vertical-align: top\">82.207</td>\n",
       "        <td style=\"padding-left: 1em; padding-right: 1em; text-align: center; vertical-align: top\">0.99989</td>\n",
       "        <td style=\"padding-left: 1em; padding-right: 1em; text-align: center; vertical-align: top\">293.53</td>\n",
       "    </tr>\n",
       "    <tr>\n",
       "        <td style=\"padding-left: 1em; padding-right: 1em; text-align: center; vertical-align: top\">104.66</td>\n",
       "        <td style=\"padding-left: 1em; padding-right: 1em; text-align: center; vertical-align: top\">84.865</td>\n",
       "        <td style=\"padding-left: 1em; padding-right: 1em; text-align: center; vertical-align: top\">0.99993</td>\n",
       "        <td style=\"padding-left: 1em; padding-right: 1em; text-align: center; vertical-align: top\">298.55</td>\n",
       "    </tr>\n",
       "    <tr>\n",
       "        <td style=\"padding-left: 1em; padding-right: 1em; text-align: center; vertical-align: top\">106.06</td>\n",
       "        <td style=\"padding-left: 1em; padding-right: 1em; text-align: center; vertical-align: top\">80.703</td>\n",
       "        <td style=\"padding-left: 1em; padding-right: 1em; text-align: center; vertical-align: top\">0.99989</td>\n",
       "        <td style=\"padding-left: 1em; padding-right: 1em; text-align: center; vertical-align: top\">304.24</td>\n",
       "    </tr>\n",
       "    <tr>\n",
       "        <td style=\"padding-left: 1em; padding-right: 1em; text-align: center; vertical-align: top\">106.51</td>\n",
       "        <td style=\"padding-left: 1em; padding-right: 1em; text-align: center; vertical-align: top\">81.827</td>\n",
       "        <td style=\"padding-left: 1em; padding-right: 1em; text-align: center; vertical-align: top\">0.99993</td>\n",
       "        <td style=\"padding-left: 1em; padding-right: 1em; text-align: center; vertical-align: top\">308.96</td>\n",
       "    </tr>\n",
       "    <tr>\n",
       "        <td style=\"padding-left: 1em; padding-right: 1em; text-align: center; vertical-align: top\">106.56</td>\n",
       "        <td style=\"padding-left: 1em; padding-right: 1em; text-align: center; vertical-align: top\">80.74</td>\n",
       "        <td style=\"padding-left: 1em; padding-right: 1em; text-align: center; vertical-align: top\">1.0001</td>\n",
       "        <td style=\"padding-left: 1em; padding-right: 1em; text-align: center; vertical-align: top\">312.91</td>\n",
       "    </tr>\n",
       "    <tr>\n",
       "        <td style=\"padding-left: 1em; padding-right: 1em; text-align: center; vertical-align: top\">105.53</td>\n",
       "        <td style=\"padding-left: 1em; padding-right: 1em; text-align: center; vertical-align: top\">83.209</td>\n",
       "        <td style=\"padding-left: 1em; padding-right: 1em; text-align: center; vertical-align: top\">1.0001</td>\n",
       "        <td style=\"padding-left: 1em; padding-right: 1em; text-align: center; vertical-align: top\">316.32</td>\n",
       "    </tr>\n",
       "    <tr>\n",
       "        <td style=\"padding-left: 1em; padding-right: 1em; text-align: center; vertical-align: top\">102.52</td>\n",
       "        <td style=\"padding-left: 1em; padding-right: 1em; text-align: center; vertical-align: top\">80.743</td>\n",
       "        <td style=\"padding-left: 1em; padding-right: 1em; text-align: center; vertical-align: top\">1.0</td>\n",
       "        <td style=\"padding-left: 1em; padding-right: 1em; text-align: center; vertical-align: top\">319.48</td>\n",
       "    </tr>\n",
       "</table>\n",
       "[50000 rows x 4 columns]<br/>Note: Only the head of the SFrame is printed.<br/>You can use print_rows(num_rows=m, num_columns=n) to print more rows and columns.\n",
       "</div>"
      ],
      "text/plain": [
       "Columns:\n",
       "\tFlujoCh\tfloat\n",
       "\tFlujoRx\tfloat\n",
       "\tTCalificacion\tfloat\n",
       "\tTempera\tfloat\n",
       "\n",
       "Rows: 50000\n",
       "\n",
       "Data:\n",
       "+---------+---------+---------------+---------+\n",
       "| FlujoCh | FlujoRx | TCalificacion | Tempera |\n",
       "+---------+---------+---------------+---------+\n",
       "|  104.75 |  80.16  |      1.0      |  273.15 |\n",
       "|  106.81 |  83.468 |    0.99994    |  281.12 |\n",
       "|  104.11 |  83.129 |    0.99987    |  287.85 |\n",
       "|  103.81 |  82.207 |    0.99989    |  293.53 |\n",
       "|  104.66 |  84.865 |    0.99993    |  298.55 |\n",
       "|  106.06 |  80.703 |    0.99989    |  304.24 |\n",
       "|  106.51 |  81.827 |    0.99993    |  308.96 |\n",
       "|  106.56 |  80.74  |     1.0001    |  312.91 |\n",
       "|  105.53 |  83.209 |     1.0001    |  316.32 |\n",
       "|  102.52 |  80.743 |      1.0      |  319.48 |\n",
       "+---------+---------+---------------+---------+\n",
       "[50000 rows x 4 columns]\n",
       "Note: Only the head of the SFrame is printed.\n",
       "You can use print_rows(num_rows=m, num_columns=n) to print more rows and columns."
      ]
     },
     "execution_count": 6,
     "metadata": {},
     "output_type": "execute_result"
    }
   ],
   "source": [
    "#creacion de la tabla de relacion Variables entrada Vs salida Temp \n",
    "entvsT = graphlab.SFrame({'Tempera':data.select_column('Tempera'),'FlujoCh':data.select_column('FlujoCh'),\n",
    "                          'FlujoRx':data.select_column('FlujoRx'),'TCalificacion':data.select_column('Concent')})\n",
    "entvsT"
   ]
  },
  {
   "cell_type": "code",
   "execution_count": 7,
   "metadata": {
    "collapsed": true
   },
   "outputs": [],
   "source": [
    "#Division en Entrenamento y Validation para cada net\n",
    "training_dataC, validation_dataC = entvsC.random_split(0.8) #DB concentracion\n",
    "training_dataT, validation_dataT = entvsT.random_split(0.8) #DB temperatura\n",
    "training_dataV, validation_dataV = entvsV.random_split(0.8) #DB volumen"
   ]
  },
  {
   "cell_type": "code",
   "execution_count": 8,
   "metadata": {
    "collapsed": false
   },
   "outputs": [
    {
     "data": {
      "text/html": [
       "<div style=\"max-height:1000px;max-width:1500px;overflow:auto;\"><table frame=\"box\" rules=\"cols\">\n",
       "    <tr>\n",
       "        <th style=\"padding-left: 1em; padding-right: 1em; text-align: center\">FlujoCh</th>\n",
       "        <th style=\"padding-left: 1em; padding-right: 1em; text-align: center\">FlujoRx</th>\n",
       "        <th style=\"padding-left: 1em; padding-right: 1em; text-align: center\">TCalificacion</th>\n",
       "        <th style=\"padding-left: 1em; padding-right: 1em; text-align: center\">Tempera</th>\n",
       "    </tr>\n",
       "    <tr>\n",
       "        <td style=\"padding-left: 1em; padding-right: 1em; text-align: center; vertical-align: top\">104.75</td>\n",
       "        <td style=\"padding-left: 1em; padding-right: 1em; text-align: center; vertical-align: top\">80.16</td>\n",
       "        <td style=\"padding-left: 1em; padding-right: 1em; text-align: center; vertical-align: top\">1.0</td>\n",
       "        <td style=\"padding-left: 1em; padding-right: 1em; text-align: center; vertical-align: top\">273.15</td>\n",
       "    </tr>\n",
       "    <tr>\n",
       "        <td style=\"padding-left: 1em; padding-right: 1em; text-align: center; vertical-align: top\">106.81</td>\n",
       "        <td style=\"padding-left: 1em; padding-right: 1em; text-align: center; vertical-align: top\">83.468</td>\n",
       "        <td style=\"padding-left: 1em; padding-right: 1em; text-align: center; vertical-align: top\">0.99994</td>\n",
       "        <td style=\"padding-left: 1em; padding-right: 1em; text-align: center; vertical-align: top\">281.12</td>\n",
       "    </tr>\n",
       "    <tr>\n",
       "        <td style=\"padding-left: 1em; padding-right: 1em; text-align: center; vertical-align: top\">104.11</td>\n",
       "        <td style=\"padding-left: 1em; padding-right: 1em; text-align: center; vertical-align: top\">83.129</td>\n",
       "        <td style=\"padding-left: 1em; padding-right: 1em; text-align: center; vertical-align: top\">0.99987</td>\n",
       "        <td style=\"padding-left: 1em; padding-right: 1em; text-align: center; vertical-align: top\">287.85</td>\n",
       "    </tr>\n",
       "    <tr>\n",
       "        <td style=\"padding-left: 1em; padding-right: 1em; text-align: center; vertical-align: top\">103.81</td>\n",
       "        <td style=\"padding-left: 1em; padding-right: 1em; text-align: center; vertical-align: top\">82.207</td>\n",
       "        <td style=\"padding-left: 1em; padding-right: 1em; text-align: center; vertical-align: top\">0.99989</td>\n",
       "        <td style=\"padding-left: 1em; padding-right: 1em; text-align: center; vertical-align: top\">293.53</td>\n",
       "    </tr>\n",
       "    <tr>\n",
       "        <td style=\"padding-left: 1em; padding-right: 1em; text-align: center; vertical-align: top\">104.66</td>\n",
       "        <td style=\"padding-left: 1em; padding-right: 1em; text-align: center; vertical-align: top\">84.865</td>\n",
       "        <td style=\"padding-left: 1em; padding-right: 1em; text-align: center; vertical-align: top\">0.99993</td>\n",
       "        <td style=\"padding-left: 1em; padding-right: 1em; text-align: center; vertical-align: top\">298.55</td>\n",
       "    </tr>\n",
       "    <tr>\n",
       "        <td style=\"padding-left: 1em; padding-right: 1em; text-align: center; vertical-align: top\">106.06</td>\n",
       "        <td style=\"padding-left: 1em; padding-right: 1em; text-align: center; vertical-align: top\">80.703</td>\n",
       "        <td style=\"padding-left: 1em; padding-right: 1em; text-align: center; vertical-align: top\">0.99989</td>\n",
       "        <td style=\"padding-left: 1em; padding-right: 1em; text-align: center; vertical-align: top\">304.24</td>\n",
       "    </tr>\n",
       "    <tr>\n",
       "        <td style=\"padding-left: 1em; padding-right: 1em; text-align: center; vertical-align: top\">106.56</td>\n",
       "        <td style=\"padding-left: 1em; padding-right: 1em; text-align: center; vertical-align: top\">80.74</td>\n",
       "        <td style=\"padding-left: 1em; padding-right: 1em; text-align: center; vertical-align: top\">1.0001</td>\n",
       "        <td style=\"padding-left: 1em; padding-right: 1em; text-align: center; vertical-align: top\">312.91</td>\n",
       "    </tr>\n",
       "    <tr>\n",
       "        <td style=\"padding-left: 1em; padding-right: 1em; text-align: center; vertical-align: top\">105.53</td>\n",
       "        <td style=\"padding-left: 1em; padding-right: 1em; text-align: center; vertical-align: top\">83.209</td>\n",
       "        <td style=\"padding-left: 1em; padding-right: 1em; text-align: center; vertical-align: top\">1.0001</td>\n",
       "        <td style=\"padding-left: 1em; padding-right: 1em; text-align: center; vertical-align: top\">316.32</td>\n",
       "    </tr>\n",
       "    <tr>\n",
       "        <td style=\"padding-left: 1em; padding-right: 1em; text-align: center; vertical-align: top\">107.21</td>\n",
       "        <td style=\"padding-left: 1em; padding-right: 1em; text-align: center; vertical-align: top\">80.343</td>\n",
       "        <td style=\"padding-left: 1em; padding-right: 1em; text-align: center; vertical-align: top\">1.0</td>\n",
       "        <td style=\"padding-left: 1em; padding-right: 1em; text-align: center; vertical-align: top\">322.3</td>\n",
       "    </tr>\n",
       "    <tr>\n",
       "        <td style=\"padding-left: 1em; padding-right: 1em; text-align: center; vertical-align: top\">102.2</td>\n",
       "        <td style=\"padding-left: 1em; padding-right: 1em; text-align: center; vertical-align: top\">80.212</td>\n",
       "        <td style=\"padding-left: 1em; padding-right: 1em; text-align: center; vertical-align: top\">0.99997</td>\n",
       "        <td style=\"padding-left: 1em; padding-right: 1em; text-align: center; vertical-align: top\">324.87</td>\n",
       "    </tr>\n",
       "</table>\n",
       "[39999 rows x 4 columns]<br/>Note: Only the head of the SFrame is printed.<br/>You can use print_rows(num_rows=m, num_columns=n) to print more rows and columns.\n",
       "</div>"
      ],
      "text/plain": [
       "Columns:\n",
       "\tFlujoCh\tfloat\n",
       "\tFlujoRx\tfloat\n",
       "\tTCalificacion\tfloat\n",
       "\tTempera\tfloat\n",
       "\n",
       "Rows: 39999\n",
       "\n",
       "Data:\n",
       "+---------+---------+---------------+---------+\n",
       "| FlujoCh | FlujoRx | TCalificacion | Tempera |\n",
       "+---------+---------+---------------+---------+\n",
       "|  104.75 |  80.16  |      1.0      |  273.15 |\n",
       "|  106.81 |  83.468 |    0.99994    |  281.12 |\n",
       "|  104.11 |  83.129 |    0.99987    |  287.85 |\n",
       "|  103.81 |  82.207 |    0.99989    |  293.53 |\n",
       "|  104.66 |  84.865 |    0.99993    |  298.55 |\n",
       "|  106.06 |  80.703 |    0.99989    |  304.24 |\n",
       "|  106.56 |  80.74  |     1.0001    |  312.91 |\n",
       "|  105.53 |  83.209 |     1.0001    |  316.32 |\n",
       "|  107.21 |  80.343 |      1.0      |  322.3  |\n",
       "|  102.2  |  80.212 |    0.99997    |  324.87 |\n",
       "+---------+---------+---------------+---------+\n",
       "[39999 rows x 4 columns]\n",
       "Note: Only the head of the SFrame is printed.\n",
       "You can use print_rows(num_rows=m, num_columns=n) to print more rows and columns."
      ]
     },
     "execution_count": 8,
     "metadata": {},
     "output_type": "execute_result"
    }
   ],
   "source": [
    "#Comprobacion longitud Entrenamiento 80%\n",
    "len(training_dataT)\n",
    "training_dataT"
   ]
  },
  {
   "cell_type": "code",
   "execution_count": 9,
   "metadata": {
    "collapsed": false
   },
   "outputs": [
    {
     "data": {
      "text/html": [
       "<div style=\"max-height:1000px;max-width:1500px;overflow:auto;\"><table frame=\"box\" rules=\"cols\">\n",
       "    <tr>\n",
       "        <th style=\"padding-left: 1em; padding-right: 1em; text-align: center\">FlujoCh</th>\n",
       "        <th style=\"padding-left: 1em; padding-right: 1em; text-align: center\">FlujoRx</th>\n",
       "        <th style=\"padding-left: 1em; padding-right: 1em; text-align: center\">TCalificacion</th>\n",
       "        <th style=\"padding-left: 1em; padding-right: 1em; text-align: center\">Tempera</th>\n",
       "    </tr>\n",
       "    <tr>\n",
       "        <td style=\"padding-left: 1em; padding-right: 1em; text-align: center; vertical-align: top\">106.51</td>\n",
       "        <td style=\"padding-left: 1em; padding-right: 1em; text-align: center; vertical-align: top\">81.827</td>\n",
       "        <td style=\"padding-left: 1em; padding-right: 1em; text-align: center; vertical-align: top\">0.99993</td>\n",
       "        <td style=\"padding-left: 1em; padding-right: 1em; text-align: center; vertical-align: top\">308.96</td>\n",
       "    </tr>\n",
       "    <tr>\n",
       "        <td style=\"padding-left: 1em; padding-right: 1em; text-align: center; vertical-align: top\">102.52</td>\n",
       "        <td style=\"padding-left: 1em; padding-right: 1em; text-align: center; vertical-align: top\">80.743</td>\n",
       "        <td style=\"padding-left: 1em; padding-right: 1em; text-align: center; vertical-align: top\">1.0</td>\n",
       "        <td style=\"padding-left: 1em; padding-right: 1em; text-align: center; vertical-align: top\">319.48</td>\n",
       "    </tr>\n",
       "    <tr>\n",
       "        <td style=\"padding-left: 1em; padding-right: 1em; text-align: center; vertical-align: top\">104.2</td>\n",
       "        <td style=\"padding-left: 1em; padding-right: 1em; text-align: center; vertical-align: top\">81.641</td>\n",
       "        <td style=\"padding-left: 1em; padding-right: 1em; text-align: center; vertical-align: top\">0.99993</td>\n",
       "        <td style=\"padding-left: 1em; padding-right: 1em; text-align: center; vertical-align: top\">330.8</td>\n",
       "    </tr>\n",
       "    <tr>\n",
       "        <td style=\"padding-left: 1em; padding-right: 1em; text-align: center; vertical-align: top\">107.34</td>\n",
       "        <td style=\"padding-left: 1em; padding-right: 1em; text-align: center; vertical-align: top\">81.704</td>\n",
       "        <td style=\"padding-left: 1em; padding-right: 1em; text-align: center; vertical-align: top\">0.9999</td>\n",
       "        <td style=\"padding-left: 1em; padding-right: 1em; text-align: center; vertical-align: top\">346.34</td>\n",
       "    </tr>\n",
       "    <tr>\n",
       "        <td style=\"padding-left: 1em; padding-right: 1em; text-align: center; vertical-align: top\">105.41</td>\n",
       "        <td style=\"padding-left: 1em; padding-right: 1em; text-align: center; vertical-align: top\">83.833</td>\n",
       "        <td style=\"padding-left: 1em; padding-right: 1em; text-align: center; vertical-align: top\">1.0</td>\n",
       "        <td style=\"padding-left: 1em; padding-right: 1em; text-align: center; vertical-align: top\">346.89</td>\n",
       "    </tr>\n",
       "    <tr>\n",
       "        <td style=\"padding-left: 1em; padding-right: 1em; text-align: center; vertical-align: top\">104.73</td>\n",
       "        <td style=\"padding-left: 1em; padding-right: 1em; text-align: center; vertical-align: top\">82.288</td>\n",
       "        <td style=\"padding-left: 1em; padding-right: 1em; text-align: center; vertical-align: top\">1.0002</td>\n",
       "        <td style=\"padding-left: 1em; padding-right: 1em; text-align: center; vertical-align: top\">347.73</td>\n",
       "    </tr>\n",
       "    <tr>\n",
       "        <td style=\"padding-left: 1em; padding-right: 1em; text-align: center; vertical-align: top\">106.72</td>\n",
       "        <td style=\"padding-left: 1em; padding-right: 1em; text-align: center; vertical-align: top\">83.148</td>\n",
       "        <td style=\"padding-left: 1em; padding-right: 1em; text-align: center; vertical-align: top\">1.0001</td>\n",
       "        <td style=\"padding-left: 1em; padding-right: 1em; text-align: center; vertical-align: top\">348.68</td>\n",
       "    </tr>\n",
       "    <tr>\n",
       "        <td style=\"padding-left: 1em; padding-right: 1em; text-align: center; vertical-align: top\">105.64</td>\n",
       "        <td style=\"padding-left: 1em; padding-right: 1em; text-align: center; vertical-align: top\">84.659</td>\n",
       "        <td style=\"padding-left: 1em; padding-right: 1em; text-align: center; vertical-align: top\">0.99977</td>\n",
       "        <td style=\"padding-left: 1em; padding-right: 1em; text-align: center; vertical-align: top\">348.82</td>\n",
       "    </tr>\n",
       "    <tr>\n",
       "        <td style=\"padding-left: 1em; padding-right: 1em; text-align: center; vertical-align: top\">103.32</td>\n",
       "        <td style=\"padding-left: 1em; padding-right: 1em; text-align: center; vertical-align: top\">83.075</td>\n",
       "        <td style=\"padding-left: 1em; padding-right: 1em; text-align: center; vertical-align: top\">0.99972</td>\n",
       "        <td style=\"padding-left: 1em; padding-right: 1em; text-align: center; vertical-align: top\">349.77</td>\n",
       "    </tr>\n",
       "    <tr>\n",
       "        <td style=\"padding-left: 1em; padding-right: 1em; text-align: center; vertical-align: top\">106.86</td>\n",
       "        <td style=\"padding-left: 1em; padding-right: 1em; text-align: center; vertical-align: top\">82.893</td>\n",
       "        <td style=\"padding-left: 1em; padding-right: 1em; text-align: center; vertical-align: top\">0.99951</td>\n",
       "        <td style=\"padding-left: 1em; padding-right: 1em; text-align: center; vertical-align: top\">350.25</td>\n",
       "    </tr>\n",
       "</table>\n",
       "[10001 rows x 4 columns]<br/>Note: Only the head of the SFrame is printed.<br/>You can use print_rows(num_rows=m, num_columns=n) to print more rows and columns.\n",
       "</div>"
      ],
      "text/plain": [
       "Columns:\n",
       "\tFlujoCh\tfloat\n",
       "\tFlujoRx\tfloat\n",
       "\tTCalificacion\tfloat\n",
       "\tTempera\tfloat\n",
       "\n",
       "Rows: 10001\n",
       "\n",
       "Data:\n",
       "+---------+---------+---------------+---------+\n",
       "| FlujoCh | FlujoRx | TCalificacion | Tempera |\n",
       "+---------+---------+---------------+---------+\n",
       "|  106.51 |  81.827 |    0.99993    |  308.96 |\n",
       "|  102.52 |  80.743 |      1.0      |  319.48 |\n",
       "|  104.2  |  81.641 |    0.99993    |  330.8  |\n",
       "|  107.34 |  81.704 |     0.9999    |  346.34 |\n",
       "|  105.41 |  83.833 |      1.0      |  346.89 |\n",
       "|  104.73 |  82.288 |     1.0002    |  347.73 |\n",
       "|  106.72 |  83.148 |     1.0001    |  348.68 |\n",
       "|  105.64 |  84.659 |    0.99977    |  348.82 |\n",
       "|  103.32 |  83.075 |    0.99972    |  349.77 |\n",
       "|  106.86 |  82.893 |    0.99951    |  350.25 |\n",
       "+---------+---------+---------------+---------+\n",
       "[10001 rows x 4 columns]\n",
       "Note: Only the head of the SFrame is printed.\n",
       "You can use print_rows(num_rows=m, num_columns=n) to print more rows and columns."
      ]
     },
     "execution_count": 9,
     "metadata": {},
     "output_type": "execute_result"
    }
   ],
   "source": [
    "#Comprobacion longitud Validacion 20%\n",
    "len(validation_dataT)\n",
    "validation_dataT"
   ]
  },
  {
   "cell_type": "code",
   "execution_count": 10,
   "metadata": {
    "collapsed": false,
    "scrolled": false
   },
   "outputs": [
    {
     "data": {
      "application/javascript": [
       "$(\"head\").append($(\"<link/>\").attr({\n",
       "  rel:  \"stylesheet\",\n",
       "  type: \"text/css\",\n",
       "  href: \"//cdnjs.cloudflare.com/ajax/libs/font-awesome/4.1.0/css/font-awesome.min.css\"\n",
       "}));\n",
       "$(\"head\").append($(\"<link/>\").attr({\n",
       "  rel:  \"stylesheet\",\n",
       "  type: \"text/css\",\n",
       "  href: \"https://static.turi.com/products/graphlab-create/2.1/canvas/css/canvas.css\"\n",
       "}));\n",
       "\n",
       "            (function(){\n",
       "\n",
       "                var e = null;\n",
       "                if (typeof element == 'undefined') {\n",
       "                    var scripts = document.getElementsByTagName('script');\n",
       "                    var thisScriptTag = scripts[scripts.length-1];\n",
       "                    var parentDiv = thisScriptTag.parentNode;\n",
       "                    e = document.createElement('div');\n",
       "                    parentDiv.appendChild(e);\n",
       "                } else {\n",
       "                    e = element[0];\n",
       "                }\n",
       "\n",
       "                if (typeof requirejs !== 'undefined') {\n",
       "                    // disable load timeout; ipython_app.js is large and can take a while to load.\n",
       "                    requirejs.config({waitSeconds: 0});\n",
       "                }\n",
       "\n",
       "                require(['https://static.turi.com/products/graphlab-create/2.1/canvas/js/ipython_app.js'], function(IPythonApp){\n",
       "                    var app = new IPythonApp();\n",
       "                    app.attachView('sarray','Numeric', {\"ipython\": true, \"sketch\": {\"std\": 7.910660643329102, \"complete\": true, \"min\": 273.15, \"max\": 351.05, \"quantile\": [273.15, 304.24, 319.48, 330.8, 338.34, 343.67, 345.8, 346.6, 347.53, 348.16, 348.48, 348.56, 348.69, 348.75, 348.81, 348.83, 348.86, 348.93, 348.97, 349.01, 349.03, 349.07, 349.11, 349.15, 349.19, 349.23, 349.27, 349.31, 349.32, 349.35, 349.36, 349.37, 349.38, 349.4, 349.41, 349.43, 349.45, 349.46, 349.48, 349.5, 349.52, 349.54, 349.55, 349.56, 349.57, 349.59, 349.61, 349.61, 349.64, 349.66, 349.66, 349.68, 349.69, 349.7, 349.71, 349.72, 349.73, 349.74, 349.75, 349.76, 349.78, 349.79, 349.81, 349.83, 349.85, 349.86, 349.87, 349.9, 349.91, 349.93, 349.94, 349.95, 349.96, 349.99, 350.0, 350.01, 350.02, 350.03, 350.04, 350.06, 350.08, 350.09, 350.1, 350.11, 350.13, 350.15, 350.17, 350.2, 350.22, 350.24, 350.25, 350.28, 350.3, 350.32, 350.35, 350.37, 350.43, 350.49, 350.54, 350.82, 351.05], \"median\": 349.66, \"numeric\": true, \"num_unique\": 223, \"num_undefined\": 0, \"var\": 62.578551813916, \"progress\": 1.0, \"size\": 39999, \"frequent_items\": {\"350.25\": {\"frequency\": 462, \"value\": 350.25}, \"350.5\": {\"frequency\": 239, \"value\": 350.5}, \"287.85\": {\"frequency\": 78, \"value\": 287.85}, \"348.75\": {\"frequency\": 77, \"value\": 348.75}, \"349.38\": {\"frequency\": 410, \"value\": 349.38}, \"349.93\": {\"frequency\": 159, \"value\": 349.93}, \"349.21\": {\"frequency\": 79, \"value\": 349.21}, \"349.12\": {\"frequency\": 84, \"value\": 349.12}, \"348.77\": {\"frequency\": 154, \"value\": 348.77}, \"349.76\": {\"frequency\": 482, \"value\": 349.76}, \"349.28\": {\"frequency\": 84, \"value\": 349.28}, \"349.4\": {\"frequency\": 156, \"value\": 349.4}, \"349.92\": {\"frequency\": 329, \"value\": 349.92}, \"348.16\": {\"frequency\": 79, \"value\": 348.16}, \"333.97\": {\"frequency\": 78, \"value\": 333.97}, \"349.02\": {\"frequency\": 160, \"value\": 349.02}, \"347.74\": {\"frequency\": 71, \"value\": 347.74}, \"349.79\": {\"frequency\": 397, \"value\": 349.79}, \"349.46\": {\"frequency\": 485, \"value\": 349.46}, \"349.39\": {\"frequency\": 329, \"value\": 349.39}, \"349.54\": {\"frequency\": 314, \"value\": 349.54}, \"350.37\": {\"frequency\": 75, \"value\": 350.37}, \"349.53\": {\"frequency\": 161, \"value\": 349.53}, \"347.53\": {\"frequency\": 87, \"value\": 347.53}, \"349.59\": {\"frequency\": 398, \"value\": 349.59}, \"349.88\": {\"frequency\": 87, \"value\": 349.88}, \"349.61\": {\"frequency\": 474, \"value\": 349.61}, \"350.01\": {\"frequency\": 248, \"value\": 350.01}, \"348.41\": {\"frequency\": 78, \"value\": 348.41}, \"344.35\": {\"frequency\": 78, \"value\": 344.35}, \"350.36\": {\"frequency\": 77, \"value\": 350.36}, \"322.3\": {\"frequency\": 85, \"value\": 322.3}, \"349.83\": {\"frequency\": 246, \"value\": 349.83}, \"349.78\": {\"frequency\": 168, \"value\": 349.78}, \"348.54\": {\"frequency\": 86, \"value\": 348.54}, \"349.15\": {\"frequency\": 171, \"value\": 349.15}, \"350.07\": {\"frequency\": 159, \"value\": 350.07}, \"351.05\": {\"frequency\": 75, \"value\": 351.05}, \"349.1\": {\"frequency\": 73, \"value\": 349.1}, \"350.1\": {\"frequency\": 401, \"value\": 350.1}, \"298.55\": {\"frequency\": 81, \"value\": 298.55}, \"350.3\": {\"frequency\": 235, \"value\": 350.3}, \"350.03\": {\"frequency\": 409, \"value\": 350.03}, \"350.15\": {\"frequency\": 240, \"value\": 350.15}, \"324.87\": {\"frequency\": 78, \"value\": 324.87}, \"348.97\": {\"frequency\": 79, \"value\": 348.97}, \"348.74\": {\"frequency\": 75, \"value\": 348.74}, \"348.68\": {\"frequency\": 77, \"value\": 348.68}, \"348.91\": {\"frequency\": 245, \"value\": 348.91}, \"348.85\": {\"frequency\": 85, \"value\": 348.85}, \"349.95\": {\"frequency\": 393, \"value\": 349.95}, \"330.8\": {\"frequency\": 79, \"value\": 330.8}, \"350.32\": {\"frequency\": 313, \"value\": 350.32}, \"349.14\": {\"frequency\": 83, \"value\": 349.14}, \"346.34\": {\"frequency\": 79, \"value\": 346.34}, \"329.02\": {\"frequency\": 81, \"value\": 329.02}, \"338.34\": {\"frequency\": 79, \"value\": 338.34}, \"350.08\": {\"frequency\": 238, \"value\": 350.08}, \"348.93\": {\"frequency\": 158, \"value\": 348.93}, \"350.91\": {\"frequency\": 164, \"value\": 350.91}, \"349.96\": {\"frequency\": 491, \"value\": 349.96}, \"349.22\": {\"frequency\": 82, \"value\": 349.22}, \"327.05\": {\"frequency\": 79, \"value\": 327.05}, \"350.34\": {\"frequency\": 81, \"value\": 350.34}, \"347.23\": {\"frequency\": 79, \"value\": 347.23}, \"348.18\": {\"frequency\": 82, \"value\": 348.18}, \"350.53\": {\"frequency\": 87, \"value\": 350.53}, \"350.33\": {\"frequency\": 238, \"value\": 350.33}, \"349.57\": {\"frequency\": 389, \"value\": 349.57}, \"350.09\": {\"frequency\": 244, \"value\": 350.09}, \"337.18\": {\"frequency\": 82, \"value\": 337.18}, \"319.48\": {\"frequency\": 81, \"value\": 319.48}, \"351.01\": {\"frequency\": 81, \"value\": 351.01}, \"349.06\": {\"frequency\": 77, \"value\": 349.06}, \"348.45\": {\"frequency\": 76, \"value\": 348.45}, \"348.7\": {\"frequency\": 86, \"value\": 348.7}, \"349.85\": {\"frequency\": 323, \"value\": 349.85}, \"345.67\": {\"frequency\": 82, \"value\": 345.67}, \"348.95\": {\"frequency\": 158, \"value\": 348.95}, \"312.91\": {\"frequency\": 80, \"value\": 312.91}, \"350.62\": {\"frequency\": 77, \"value\": 350.62}, \"349.73\": {\"frequency\": 169, \"value\": 349.73}, \"349.24\": {\"frequency\": 79, \"value\": 349.24}, \"349.47\": {\"frequency\": 82, \"value\": 349.47}, \"349.08\": {\"frequency\": 164, \"value\": 349.08}, \"348.83\": {\"frequency\": 317, \"value\": 348.83}, \"349.82\": {\"frequency\": 153, \"value\": 349.82}, \"349.66\": {\"frequency\": 474, \"value\": 349.66}, \"349.6\": {\"frequency\": 159, \"value\": 349.6}, \"349.72\": {\"frequency\": 559, \"value\": 349.72}, \"348.46\": {\"frequency\": 80, \"value\": 348.46}, \"346.87\": {\"frequency\": 78, \"value\": 346.87}, \"304.24\": {\"frequency\": 86, \"value\": 304.24}, \"349.94\": {\"frequency\": 320, \"value\": 349.94}, \"348.98\": {\"frequency\": 75, \"value\": 348.98}, \"349.48\": {\"frequency\": 245, \"value\": 349.48}, \"349.49\": {\"frequency\": 80, \"value\": 349.49}, \"350.38\": {\"frequency\": 81, \"value\": 350.38}, \"349.62\": {\"frequency\": 81, \"value\": 349.62}, \"349.42\": {\"frequency\": 167, \"value\": 349.42}, \"349.56\": {\"frequency\": 240, \"value\": 349.56}, \"342.89\": {\"frequency\": 84, \"value\": 342.89}, \"349.5\": {\"frequency\": 230, \"value\": 349.5}, \"349.97\": {\"frequency\": 238, \"value\": 349.97}, \"350.06\": {\"frequency\": 412, \"value\": 350.06}, \"349.26\": {\"frequency\": 167, \"value\": 349.26}, \"349.84\": {\"frequency\": 238, \"value\": 349.84}, \"350.04\": {\"frequency\": 244, \"value\": 350.04}, \"350.14\": {\"frequency\": 84, \"value\": 350.14}, \"346.89\": {\"frequency\": 76, \"value\": 346.89}, \"349.86\": {\"frequency\": 467, \"value\": 349.86}, \"349.74\": {\"frequency\": 471, \"value\": 349.74}, \"349.68\": {\"frequency\": 242, \"value\": 349.68}, \"339.28\": {\"frequency\": 74, \"value\": 339.28}, \"348.81\": {\"frequency\": 161, \"value\": 348.81}, \"349.87\": {\"frequency\": 159, \"value\": 349.87}, \"349.81\": {\"frequency\": 82, \"value\": 349.81}, \"350.22\": {\"frequency\": 77, \"value\": 350.22}, \"349.18\": {\"frequency\": 76, \"value\": 349.18}, \"345.8\": {\"frequency\": 86, \"value\": 345.8}, \"350.29\": {\"frequency\": 170, \"value\": 350.29}, \"349.8\": {\"frequency\": 312, \"value\": 349.8}, \"349.7\": {\"frequency\": 548, \"value\": 349.7}, \"349.64\": {\"frequency\": 168, \"value\": 349.64}, \"349.11\": {\"frequency\": 233, \"value\": 349.11}, \"349.99\": {\"frequency\": 321, \"value\": 349.99}, \"349.75\": {\"frequency\": 395, \"value\": 349.75}, \"349.41\": {\"frequency\": 391, \"value\": 349.41}, \"350.41\": {\"frequency\": 234, \"value\": 350.41}, \"350.35\": {\"frequency\": 330, \"value\": 350.35}, \"350.82\": {\"frequency\": 81, \"value\": 350.82}, \"350.54\": {\"frequency\": 81, \"value\": 350.54}, \"335.71\": {\"frequency\": 78, \"value\": 335.71}, \"350.17\": {\"frequency\": 236, \"value\": 350.17}, \"341.94\": {\"frequency\": 81, \"value\": 341.94}, \"349.89\": {\"frequency\": 156, \"value\": 349.89}, \"347.84\": {\"frequency\": 82, \"value\": 347.84}, \"349.34\": {\"frequency\": 154, \"value\": 349.34}, \"349.29\": {\"frequency\": 80, \"value\": 349.29}, \"349.0\": {\"frequency\": 80, \"value\": 349.0}, \"350.0\": {\"frequency\": 392, \"value\": 350.0}, \"350.43\": {\"frequency\": 159, \"value\": 350.43}, \"348.82\": {\"frequency\": 242, \"value\": 348.82}, \"348.48\": {\"frequency\": 80, \"value\": 348.48}, \"340.68\": {\"frequency\": 83, \"value\": 340.68}, \"350.31\": {\"frequency\": 86, \"value\": 350.31}, \"346.6\": {\"frequency\": 80, \"value\": 346.6}, \"348.55\": {\"frequency\": 78, \"value\": 348.55}, \"346.11\": {\"frequency\": 77, \"value\": 346.11}, \"350.16\": {\"frequency\": 243, \"value\": 350.16}, \"350.44\": {\"frequency\": 165, \"value\": 350.44}, \"350.2\": {\"frequency\": 158, \"value\": 350.2}, \"350.18\": {\"frequency\": 151, \"value\": 350.18}, \"350.49\": {\"frequency\": 154, \"value\": 350.49}, \"316.32\": {\"frequency\": 86, \"value\": 316.32}, \"350.05\": {\"frequency\": 79, \"value\": 350.05}, \"348.73\": {\"frequency\": 159, \"value\": 348.73}, \"349.63\": {\"frequency\": 236, \"value\": 349.63}, \"349.45\": {\"frequency\": 316, \"value\": 349.45}, \"293.53\": {\"frequency\": 89, \"value\": 293.53}, \"348.86\": {\"frequency\": 159, \"value\": 348.86}, \"349.35\": {\"frequency\": 471, \"value\": 349.35}, \"348.69\": {\"frequency\": 82, \"value\": 348.69}, \"350.02\": {\"frequency\": 548, \"value\": 350.02}, \"349.43\": {\"frequency\": 154, \"value\": 349.43}, \"350.21\": {\"frequency\": 326, \"value\": 350.21}, \"345.4\": {\"frequency\": 76, \"value\": 345.4}, \"349.65\": {\"frequency\": 239, \"value\": 349.65}, \"348.67\": {\"frequency\": 73, \"value\": 348.67}, \"348.78\": {\"frequency\": 82, \"value\": 348.78}, \"346.56\": {\"frequency\": 77, \"value\": 346.56}, \"349.58\": {\"frequency\": 167, \"value\": 349.58}, \"350.75\": {\"frequency\": 71, \"value\": 350.75}, \"349.91\": {\"frequency\": 249, \"value\": 349.91}, \"349.52\": {\"frequency\": 324, \"value\": 349.52}, \"349.05\": {\"frequency\": 83, \"value\": 349.05}, \"349.32\": {\"frequency\": 240, \"value\": 349.32}, \"343.67\": {\"frequency\": 77, \"value\": 343.67}, \"349.04\": {\"frequency\": 87, \"value\": 349.04}, \"308.96\": {\"frequency\": 79, \"value\": 308.96}, \"349.27\": {\"frequency\": 157, \"value\": 349.27}, \"350.11\": {\"frequency\": 402, \"value\": 350.11}, \"332.46\": {\"frequency\": 88, \"value\": 332.46}, \"350.26\": {\"frequency\": 244, \"value\": 350.26}, \"349.37\": {\"frequency\": 400, \"value\": 349.37}, \"350.12\": {\"frequency\": 236, \"value\": 350.12}, \"350.47\": {\"frequency\": 83, \"value\": 350.47}, \"348.53\": {\"frequency\": 87, \"value\": 348.53}, \"350.28\": {\"frequency\": 80, \"value\": 350.28}, \"349.17\": {\"frequency\": 84, \"value\": 349.17}, \"349.69\": {\"frequency\": 234, \"value\": 349.69}, \"349.23\": {\"frequency\": 165, \"value\": 349.23}, \"348.64\": {\"frequency\": 87, \"value\": 348.64}, \"349.16\": {\"frequency\": 83, \"value\": 349.16}, \"350.23\": {\"frequency\": 150, \"value\": 350.23}, \"281.12\": {\"frequency\": 80, \"value\": 281.12}, \"349.51\": {\"frequency\": 160, \"value\": 349.51}, \"349.31\": {\"frequency\": 313, \"value\": 349.31}, \"349.71\": {\"frequency\": 238, \"value\": 349.71}, \"349.01\": {\"frequency\": 316, \"value\": 349.01}, \"344.9\": {\"frequency\": 77, \"value\": 344.9}, \"349.36\": {\"frequency\": 156, \"value\": 349.36}, \"349.19\": {\"frequency\": 165, \"value\": 349.19}, \"348.62\": {\"frequency\": 84, \"value\": 348.62}, \"349.13\": {\"frequency\": 80, \"value\": 349.13}, \"349.07\": {\"frequency\": 166, \"value\": 349.07}, \"346.44\": {\"frequency\": 79, \"value\": 346.44}, \"350.58\": {\"frequency\": 157, \"value\": 350.58}, \"348.76\": {\"frequency\": 80, \"value\": 348.76}, \"347.73\": {\"frequency\": 153, \"value\": 347.73}, \"349.55\": {\"frequency\": 476, \"value\": 349.55}, \"350.13\": {\"frequency\": 244, \"value\": 350.13}, \"348.56\": {\"frequency\": 157, \"value\": 348.56}, \"349.25\": {\"frequency\": 79, \"value\": 349.25}, \"348.96\": {\"frequency\": 81, \"value\": 348.96}, \"350.24\": {\"frequency\": 251, \"value\": 350.24}, \"347.2\": {\"frequency\": 78, \"value\": 347.2}, \"349.03\": {\"frequency\": 159, \"value\": 349.03}, \"273.15\": {\"frequency\": 86, \"value\": 273.15}, \"349.44\": {\"frequency\": 164, \"value\": 349.44}, \"349.9\": {\"frequency\": 251, \"value\": 349.9}, \"349.67\": {\"frequency\": 325, \"value\": 349.67}, \"349.77\": {\"frequency\": 160, \"value\": 349.77}}, \"mean\": 348.0743041076035}, \"selected_variable\": {\"name\": [\"<SArray>\"], \"dtype\": \"float\", \"view_component\": \"Numeric\", \"view_file\": \"sarray\", \"descriptives\": {\"rows\": 39999}, \"type\": \"SArray\", \"view_components\": [\"Numeric\", \"Categorical\"]}, \"histogram\": {\"progress\": 1.0, \"histogram\": {\"max\": 351.8617200000002, \"bins\": [86, 80, 78, 170, 86, 79, 166, 244, 239, 405, 554, 37812], \"min\": 272.28923999999995}, \"min\": 273.15, \"complete\": 1, \"max\": 351.05}}, e);\n",
       "                });\n",
       "            })();\n",
       "        "
      ]
     },
     "metadata": {},
     "output_type": "display_data"
    }
   ],
   "source": [
    "#Aprendizaje de Flujos de Entrada al Reactor vs Temperatura de Salida\n",
    "graphlab.canvas.set_target('ipynb')\n",
    "training_dataT['Tempera'].show()"
   ]
  },
  {
   "cell_type": "code",
   "execution_count": 11,
   "metadata": {
    "collapsed": false
   },
   "outputs": [
    {
     "name": "stdout",
     "output_type": "stream",
     "text": [
      "layers Red del Flujo del Reactor vs Temperatura\n",
      "_______________________________________________\n",
      "layer[0]: FullConnectionLayer\n",
      "  init_sigma = 0.01\n",
      "  init_random = gaussian\n",
      "  init_bias = 0\n",
      "  num_hidden_units = 10\n",
      "layer[1]: SigmoidLayer\n",
      "layer[2]: FullConnectionLayer\n",
      "  init_sigma = 0.01\n",
      "  init_random = gaussian\n",
      "  init_bias = 0\n",
      "  num_hidden_units = 223\n",
      "layer[3]: SoftmaxLayer\n",
      "_______________________________________________\n",
      "Parametros de la Red\n",
      "{'learning_rate': 0.001, 'momentum': 0.9}\n"
     ]
    }
   ],
   "source": [
    "netT = graphlab.deeplearning.create(training_dataT, target ='Tempera')\n",
    "print \"layers Red del Flujo del Reactor vs Temperatura\"\n",
    "print \"_______________________________________________\"\n",
    "print netT.layers\n",
    "print \"_______________________________________________\"\n",
    "print \"Parametros de la Red\"\n",
    "print netT.params"
   ]
  },
  {
   "cell_type": "code",
   "execution_count": 12,
   "metadata": {
    "collapsed": false
   },
   "outputs": [
    {
     "data": {
      "text/plain": [
       "<bound method SArray.show of dtype: float\n",
       "Rows: 39999\n",
       "[273.15, 281.12, 287.85, 293.53, 298.55, 304.24, 312.91, 316.32, 322.3, 324.87, 327.05, 329.02, 332.46, 333.97, 335.71, 337.18, 338.34, 339.28, 340.68, 341.94, 342.89, 343.67, 344.35, 344.9, 345.4, 345.8, 346.11, 346.44, 346.6, 347.2, 347.53, 347.73, 347.84, 348.18, 348.45, 348.53, 348.54, 348.48, 348.55, 348.73, 348.78, 348.93, 349.11, 349.23, 349.31, 349.4, 349.55, 349.86, 349.86, 350.02, 350.24, 350.35, 350.44, 350.53, 350.44, 350.33, 350.32, 350.17, 350.06, 350.11, 350.25, 350.25, 350.07, 350.0, 349.95, 349.95, 350.01, 350.18, 350.18, 350.24, 350.43, 350.3, 350.35, 350.26, 350.15, 350.17, 350.22, 350.16, 350.05, 350.01, 349.94, 349.97, 350.02, 349.9, 349.79, 349.92, 349.99, 349.85, 349.79, 349.86, 349.94, 349.91, 349.87, 349.78, 349.76, 349.96, 350.11, 350.15, 350.11, 350.14, ... ]>"
      ]
     },
     "execution_count": 12,
     "metadata": {},
     "output_type": "execute_result"
    }
   ],
   "source": [
    "#Valores a calificar en la red de entrenamiento objetivo 350, rango(345,355)=1\n",
    "training_dataT['Tempera'].show"
   ]
  },
  {
   "cell_type": "code",
   "execution_count": 13,
   "metadata": {
    "collapsed": false
   },
   "outputs": [
    {
     "data": {
      "application/javascript": [
       "$(\"head\").append($(\"<link/>\").attr({\n",
       "  rel:  \"stylesheet\",\n",
       "  type: \"text/css\",\n",
       "  href: \"//cdnjs.cloudflare.com/ajax/libs/font-awesome/4.1.0/css/font-awesome.min.css\"\n",
       "}));\n",
       "$(\"head\").append($(\"<link/>\").attr({\n",
       "  rel:  \"stylesheet\",\n",
       "  type: \"text/css\",\n",
       "  href: \"https://static.turi.com/products/graphlab-create/2.1/canvas/css/canvas.css\"\n",
       "}));\n",
       "\n",
       "            (function(){\n",
       "\n",
       "                var e = null;\n",
       "                if (typeof element == 'undefined') {\n",
       "                    var scripts = document.getElementsByTagName('script');\n",
       "                    var thisScriptTag = scripts[scripts.length-1];\n",
       "                    var parentDiv = thisScriptTag.parentNode;\n",
       "                    e = document.createElement('div');\n",
       "                    parentDiv.appendChild(e);\n",
       "                } else {\n",
       "                    e = element[0];\n",
       "                }\n",
       "\n",
       "                if (typeof requirejs !== 'undefined') {\n",
       "                    // disable load timeout; ipython_app.js is large and can take a while to load.\n",
       "                    requirejs.config({waitSeconds: 0});\n",
       "                }\n",
       "\n",
       "                require(['https://static.turi.com/products/graphlab-create/2.1/canvas/js/ipython_app.js'], function(IPythonApp){\n",
       "                    var app = new IPythonApp();\n",
       "                    app.attachView('sarray','Categorical', {\"ipython\": true, \"sketch\": {\"std\": 7.910660643329102, \"complete\": true, \"min\": 273.15, \"max\": 351.05, \"quantile\": [273.15, 304.24, 319.48, 330.8, 338.34, 343.67, 345.8, 346.6, 347.53, 348.16, 348.48, 348.56, 348.69, 348.75, 348.81, 348.83, 348.86, 348.93, 348.97, 349.01, 349.03, 349.07, 349.11, 349.15, 349.19, 349.23, 349.27, 349.31, 349.32, 349.35, 349.36, 349.37, 349.38, 349.4, 349.41, 349.43, 349.45, 349.46, 349.48, 349.5, 349.52, 349.54, 349.55, 349.56, 349.57, 349.59, 349.61, 349.61, 349.64, 349.66, 349.66, 349.68, 349.69, 349.7, 349.71, 349.72, 349.73, 349.74, 349.75, 349.76, 349.78, 349.79, 349.81, 349.83, 349.85, 349.86, 349.87, 349.9, 349.91, 349.93, 349.94, 349.95, 349.96, 349.99, 350.0, 350.01, 350.02, 350.03, 350.04, 350.06, 350.08, 350.09, 350.1, 350.11, 350.13, 350.15, 350.17, 350.2, 350.22, 350.24, 350.25, 350.28, 350.3, 350.32, 350.35, 350.37, 350.43, 350.49, 350.54, 350.82, 351.05], \"median\": 349.66, \"numeric\": true, \"num_unique\": 223, \"num_undefined\": 0, \"var\": 62.578551813916, \"progress\": 1.0, \"size\": 39999, \"frequent_items\": {\"350.25\": {\"frequency\": 462, \"value\": 350.25}, \"350.5\": {\"frequency\": 239, \"value\": 350.5}, \"287.85\": {\"frequency\": 78, \"value\": 287.85}, \"348.75\": {\"frequency\": 77, \"value\": 348.75}, \"349.38\": {\"frequency\": 410, \"value\": 349.38}, \"349.93\": {\"frequency\": 159, \"value\": 349.93}, \"349.21\": {\"frequency\": 79, \"value\": 349.21}, \"349.12\": {\"frequency\": 84, \"value\": 349.12}, \"348.77\": {\"frequency\": 154, \"value\": 348.77}, \"349.76\": {\"frequency\": 482, \"value\": 349.76}, \"349.28\": {\"frequency\": 84, \"value\": 349.28}, \"349.4\": {\"frequency\": 156, \"value\": 349.4}, \"349.92\": {\"frequency\": 329, \"value\": 349.92}, \"348.16\": {\"frequency\": 79, \"value\": 348.16}, \"333.97\": {\"frequency\": 78, \"value\": 333.97}, \"349.02\": {\"frequency\": 160, \"value\": 349.02}, \"347.74\": {\"frequency\": 71, \"value\": 347.74}, \"349.79\": {\"frequency\": 397, \"value\": 349.79}, \"349.46\": {\"frequency\": 485, \"value\": 349.46}, \"349.39\": {\"frequency\": 329, \"value\": 349.39}, \"349.54\": {\"frequency\": 314, \"value\": 349.54}, \"350.37\": {\"frequency\": 75, \"value\": 350.37}, \"349.53\": {\"frequency\": 161, \"value\": 349.53}, \"347.53\": {\"frequency\": 87, \"value\": 347.53}, \"349.59\": {\"frequency\": 398, \"value\": 349.59}, \"349.88\": {\"frequency\": 87, \"value\": 349.88}, \"349.61\": {\"frequency\": 474, \"value\": 349.61}, \"350.01\": {\"frequency\": 248, \"value\": 350.01}, \"348.41\": {\"frequency\": 78, \"value\": 348.41}, \"344.35\": {\"frequency\": 78, \"value\": 344.35}, \"350.36\": {\"frequency\": 77, \"value\": 350.36}, \"322.3\": {\"frequency\": 85, \"value\": 322.3}, \"349.83\": {\"frequency\": 246, \"value\": 349.83}, \"349.78\": {\"frequency\": 168, \"value\": 349.78}, \"348.54\": {\"frequency\": 86, \"value\": 348.54}, \"349.15\": {\"frequency\": 171, \"value\": 349.15}, \"350.07\": {\"frequency\": 159, \"value\": 350.07}, \"351.05\": {\"frequency\": 75, \"value\": 351.05}, \"349.1\": {\"frequency\": 73, \"value\": 349.1}, \"350.1\": {\"frequency\": 401, \"value\": 350.1}, \"298.55\": {\"frequency\": 81, \"value\": 298.55}, \"350.3\": {\"frequency\": 235, \"value\": 350.3}, \"350.03\": {\"frequency\": 409, \"value\": 350.03}, \"350.15\": {\"frequency\": 240, \"value\": 350.15}, \"324.87\": {\"frequency\": 78, \"value\": 324.87}, \"348.97\": {\"frequency\": 79, \"value\": 348.97}, \"348.74\": {\"frequency\": 75, \"value\": 348.74}, \"348.68\": {\"frequency\": 77, \"value\": 348.68}, \"348.91\": {\"frequency\": 245, \"value\": 348.91}, \"348.85\": {\"frequency\": 85, \"value\": 348.85}, \"349.95\": {\"frequency\": 393, \"value\": 349.95}, \"330.8\": {\"frequency\": 79, \"value\": 330.8}, \"350.32\": {\"frequency\": 313, \"value\": 350.32}, \"349.14\": {\"frequency\": 83, \"value\": 349.14}, \"346.34\": {\"frequency\": 79, \"value\": 346.34}, \"329.02\": {\"frequency\": 81, \"value\": 329.02}, \"338.34\": {\"frequency\": 79, \"value\": 338.34}, \"350.08\": {\"frequency\": 238, \"value\": 350.08}, \"348.93\": {\"frequency\": 158, \"value\": 348.93}, \"350.91\": {\"frequency\": 164, \"value\": 350.91}, \"349.96\": {\"frequency\": 491, \"value\": 349.96}, \"349.22\": {\"frequency\": 82, \"value\": 349.22}, \"327.05\": {\"frequency\": 79, \"value\": 327.05}, \"350.34\": {\"frequency\": 81, \"value\": 350.34}, \"347.23\": {\"frequency\": 79, \"value\": 347.23}, \"348.18\": {\"frequency\": 82, \"value\": 348.18}, \"350.53\": {\"frequency\": 87, \"value\": 350.53}, \"350.33\": {\"frequency\": 238, \"value\": 350.33}, \"349.57\": {\"frequency\": 389, \"value\": 349.57}, \"350.09\": {\"frequency\": 244, \"value\": 350.09}, \"337.18\": {\"frequency\": 82, \"value\": 337.18}, \"319.48\": {\"frequency\": 81, \"value\": 319.48}, \"351.01\": {\"frequency\": 81, \"value\": 351.01}, \"349.06\": {\"frequency\": 77, \"value\": 349.06}, \"348.45\": {\"frequency\": 76, \"value\": 348.45}, \"348.7\": {\"frequency\": 86, \"value\": 348.7}, \"349.85\": {\"frequency\": 323, \"value\": 349.85}, \"345.67\": {\"frequency\": 82, \"value\": 345.67}, \"348.95\": {\"frequency\": 158, \"value\": 348.95}, \"312.91\": {\"frequency\": 80, \"value\": 312.91}, \"350.62\": {\"frequency\": 77, \"value\": 350.62}, \"349.73\": {\"frequency\": 169, \"value\": 349.73}, \"349.24\": {\"frequency\": 79, \"value\": 349.24}, \"349.47\": {\"frequency\": 82, \"value\": 349.47}, \"349.08\": {\"frequency\": 164, \"value\": 349.08}, \"348.83\": {\"frequency\": 317, \"value\": 348.83}, \"349.82\": {\"frequency\": 153, \"value\": 349.82}, \"349.66\": {\"frequency\": 474, \"value\": 349.66}, \"349.6\": {\"frequency\": 159, \"value\": 349.6}, \"349.72\": {\"frequency\": 559, \"value\": 349.72}, \"348.46\": {\"frequency\": 80, \"value\": 348.46}, \"346.87\": {\"frequency\": 78, \"value\": 346.87}, \"304.24\": {\"frequency\": 86, \"value\": 304.24}, \"349.94\": {\"frequency\": 320, \"value\": 349.94}, \"348.98\": {\"frequency\": 75, \"value\": 348.98}, \"349.48\": {\"frequency\": 245, \"value\": 349.48}, \"349.49\": {\"frequency\": 80, \"value\": 349.49}, \"350.38\": {\"frequency\": 81, \"value\": 350.38}, \"349.62\": {\"frequency\": 81, \"value\": 349.62}, \"349.42\": {\"frequency\": 167, \"value\": 349.42}, \"349.56\": {\"frequency\": 240, \"value\": 349.56}, \"342.89\": {\"frequency\": 84, \"value\": 342.89}, \"349.5\": {\"frequency\": 230, \"value\": 349.5}, \"349.97\": {\"frequency\": 238, \"value\": 349.97}, \"350.06\": {\"frequency\": 412, \"value\": 350.06}, \"349.26\": {\"frequency\": 167, \"value\": 349.26}, \"349.84\": {\"frequency\": 238, \"value\": 349.84}, \"350.04\": {\"frequency\": 244, \"value\": 350.04}, \"350.14\": {\"frequency\": 84, \"value\": 350.14}, \"346.89\": {\"frequency\": 76, \"value\": 346.89}, \"349.86\": {\"frequency\": 467, \"value\": 349.86}, \"349.74\": {\"frequency\": 471, \"value\": 349.74}, \"349.68\": {\"frequency\": 242, \"value\": 349.68}, \"339.28\": {\"frequency\": 74, \"value\": 339.28}, \"348.81\": {\"frequency\": 161, \"value\": 348.81}, \"349.87\": {\"frequency\": 159, \"value\": 349.87}, \"349.81\": {\"frequency\": 82, \"value\": 349.81}, \"350.22\": {\"frequency\": 77, \"value\": 350.22}, \"349.18\": {\"frequency\": 76, \"value\": 349.18}, \"345.8\": {\"frequency\": 86, \"value\": 345.8}, \"350.29\": {\"frequency\": 170, \"value\": 350.29}, \"349.8\": {\"frequency\": 312, \"value\": 349.8}, \"349.7\": {\"frequency\": 548, \"value\": 349.7}, \"349.64\": {\"frequency\": 168, \"value\": 349.64}, \"349.11\": {\"frequency\": 233, \"value\": 349.11}, \"349.99\": {\"frequency\": 321, \"value\": 349.99}, \"349.75\": {\"frequency\": 395, \"value\": 349.75}, \"349.41\": {\"frequency\": 391, \"value\": 349.41}, \"350.41\": {\"frequency\": 234, \"value\": 350.41}, \"350.35\": {\"frequency\": 330, \"value\": 350.35}, \"350.82\": {\"frequency\": 81, \"value\": 350.82}, \"350.54\": {\"frequency\": 81, \"value\": 350.54}, \"335.71\": {\"frequency\": 78, \"value\": 335.71}, \"350.17\": {\"frequency\": 236, \"value\": 350.17}, \"341.94\": {\"frequency\": 81, \"value\": 341.94}, \"349.89\": {\"frequency\": 156, \"value\": 349.89}, \"347.84\": {\"frequency\": 82, \"value\": 347.84}, \"349.34\": {\"frequency\": 154, \"value\": 349.34}, \"349.29\": {\"frequency\": 80, \"value\": 349.29}, \"349.0\": {\"frequency\": 80, \"value\": 349.0}, \"350.0\": {\"frequency\": 392, \"value\": 350.0}, \"350.43\": {\"frequency\": 159, \"value\": 350.43}, \"348.82\": {\"frequency\": 242, \"value\": 348.82}, \"348.48\": {\"frequency\": 80, \"value\": 348.48}, \"340.68\": {\"frequency\": 83, \"value\": 340.68}, \"350.31\": {\"frequency\": 86, \"value\": 350.31}, \"346.6\": {\"frequency\": 80, \"value\": 346.6}, \"348.55\": {\"frequency\": 78, \"value\": 348.55}, \"346.11\": {\"frequency\": 77, \"value\": 346.11}, \"350.16\": {\"frequency\": 243, \"value\": 350.16}, \"350.44\": {\"frequency\": 165, \"value\": 350.44}, \"350.2\": {\"frequency\": 158, \"value\": 350.2}, \"350.18\": {\"frequency\": 151, \"value\": 350.18}, \"350.49\": {\"frequency\": 154, \"value\": 350.49}, \"316.32\": {\"frequency\": 86, \"value\": 316.32}, \"350.05\": {\"frequency\": 79, \"value\": 350.05}, \"348.73\": {\"frequency\": 159, \"value\": 348.73}, \"349.63\": {\"frequency\": 236, \"value\": 349.63}, \"349.45\": {\"frequency\": 316, \"value\": 349.45}, \"293.53\": {\"frequency\": 89, \"value\": 293.53}, \"348.86\": {\"frequency\": 159, \"value\": 348.86}, \"349.35\": {\"frequency\": 471, \"value\": 349.35}, \"348.69\": {\"frequency\": 82, \"value\": 348.69}, \"350.02\": {\"frequency\": 548, \"value\": 350.02}, \"349.43\": {\"frequency\": 154, \"value\": 349.43}, \"350.21\": {\"frequency\": 326, \"value\": 350.21}, \"345.4\": {\"frequency\": 76, \"value\": 345.4}, \"349.65\": {\"frequency\": 239, \"value\": 349.65}, \"348.67\": {\"frequency\": 73, \"value\": 348.67}, \"348.78\": {\"frequency\": 82, \"value\": 348.78}, \"346.56\": {\"frequency\": 77, \"value\": 346.56}, \"349.58\": {\"frequency\": 167, \"value\": 349.58}, \"350.75\": {\"frequency\": 71, \"value\": 350.75}, \"349.91\": {\"frequency\": 249, \"value\": 349.91}, \"349.52\": {\"frequency\": 324, \"value\": 349.52}, \"349.05\": {\"frequency\": 83, \"value\": 349.05}, \"349.32\": {\"frequency\": 240, \"value\": 349.32}, \"343.67\": {\"frequency\": 77, \"value\": 343.67}, \"349.04\": {\"frequency\": 87, \"value\": 349.04}, \"308.96\": {\"frequency\": 79, \"value\": 308.96}, \"349.27\": {\"frequency\": 157, \"value\": 349.27}, \"350.11\": {\"frequency\": 402, \"value\": 350.11}, \"332.46\": {\"frequency\": 88, \"value\": 332.46}, \"350.26\": {\"frequency\": 244, \"value\": 350.26}, \"349.37\": {\"frequency\": 400, \"value\": 349.37}, \"350.12\": {\"frequency\": 236, \"value\": 350.12}, \"350.47\": {\"frequency\": 83, \"value\": 350.47}, \"348.53\": {\"frequency\": 87, \"value\": 348.53}, \"350.28\": {\"frequency\": 80, \"value\": 350.28}, \"349.17\": {\"frequency\": 84, \"value\": 349.17}, \"349.69\": {\"frequency\": 234, \"value\": 349.69}, \"349.23\": {\"frequency\": 165, \"value\": 349.23}, \"348.64\": {\"frequency\": 87, \"value\": 348.64}, \"349.16\": {\"frequency\": 83, \"value\": 349.16}, \"350.23\": {\"frequency\": 150, \"value\": 350.23}, \"281.12\": {\"frequency\": 80, \"value\": 281.12}, \"349.51\": {\"frequency\": 160, \"value\": 349.51}, \"349.31\": {\"frequency\": 313, \"value\": 349.31}, \"349.71\": {\"frequency\": 238, \"value\": 349.71}, \"349.01\": {\"frequency\": 316, \"value\": 349.01}, \"344.9\": {\"frequency\": 77, \"value\": 344.9}, \"349.36\": {\"frequency\": 156, \"value\": 349.36}, \"349.19\": {\"frequency\": 165, \"value\": 349.19}, \"348.62\": {\"frequency\": 84, \"value\": 348.62}, \"349.13\": {\"frequency\": 80, \"value\": 349.13}, \"349.07\": {\"frequency\": 166, \"value\": 349.07}, \"346.44\": {\"frequency\": 79, \"value\": 346.44}, \"350.58\": {\"frequency\": 157, \"value\": 350.58}, \"348.76\": {\"frequency\": 80, \"value\": 348.76}, \"347.73\": {\"frequency\": 153, \"value\": 347.73}, \"349.55\": {\"frequency\": 476, \"value\": 349.55}, \"350.13\": {\"frequency\": 244, \"value\": 350.13}, \"348.56\": {\"frequency\": 157, \"value\": 348.56}, \"349.25\": {\"frequency\": 79, \"value\": 349.25}, \"348.96\": {\"frequency\": 81, \"value\": 348.96}, \"350.24\": {\"frequency\": 251, \"value\": 350.24}, \"347.2\": {\"frequency\": 78, \"value\": 347.2}, \"349.03\": {\"frequency\": 159, \"value\": 349.03}, \"273.15\": {\"frequency\": 86, \"value\": 273.15}, \"349.44\": {\"frequency\": 164, \"value\": 349.44}, \"349.9\": {\"frequency\": 251, \"value\": 349.9}, \"349.67\": {\"frequency\": 325, \"value\": 349.67}, \"349.77\": {\"frequency\": 160, \"value\": 349.77}}, \"mean\": 348.0743041076035}, \"selected_variable\": {\"name\": [\"<SArray>\"], \"dtype\": \"float\", \"view_component\": \"Categorical\", \"view_file\": \"sarray\", \"descriptives\": {\"rows\": 39999}, \"type\": \"SArray\", \"view_components\": [\"Numeric\", \"Categorical\"]}, \"histogram\": {\"progress\": 1.0, \"histogram\": {\"max\": 351.8617200000002, \"bins\": [86, 80, 78, 170, 86, 79, 166, 244, 239, 405, 554, 37812], \"min\": 272.28923999999995}, \"min\": 273.15, \"complete\": 1, \"max\": 351.05}}, e);\n",
       "                });\n",
       "            })();\n",
       "        "
      ]
     },
     "metadata": {},
     "output_type": "display_data"
    }
   ],
   "source": [
    "#Mostramos la frecuencia de recurrencia de cada dato\n",
    "training_dataT['Tempera'].show(view = 'Categorical')"
   ]
  },
  {
   "cell_type": "code",
   "execution_count": 14,
   "metadata": {
    "collapsed": false
   },
   "outputs": [
    {
     "data": {
      "text/html": [
       "<div style=\"max-height:1000px;max-width:1500px;overflow:auto;\"><table frame=\"box\" rules=\"cols\">\n",
       "    <tr>\n",
       "        <th style=\"padding-left: 1em; padding-right: 1em; text-align: center\">FlujoCh</th>\n",
       "        <th style=\"padding-left: 1em; padding-right: 1em; text-align: center\">FlujoRx</th>\n",
       "        <th style=\"padding-left: 1em; padding-right: 1em; text-align: center\">TCalificacion</th>\n",
       "        <th style=\"padding-left: 1em; padding-right: 1em; text-align: center\">Tempera</th>\n",
       "    </tr>\n",
       "    <tr>\n",
       "        <td style=\"padding-left: 1em; padding-right: 1em; text-align: center; vertical-align: top\">104.75</td>\n",
       "        <td style=\"padding-left: 1em; padding-right: 1em; text-align: center; vertical-align: top\">80.16</td>\n",
       "        <td style=\"padding-left: 1em; padding-right: 1em; text-align: center; vertical-align: top\">-1</td>\n",
       "        <td style=\"padding-left: 1em; padding-right: 1em; text-align: center; vertical-align: top\">273.15</td>\n",
       "    </tr>\n",
       "    <tr>\n",
       "        <td style=\"padding-left: 1em; padding-right: 1em; text-align: center; vertical-align: top\">106.81</td>\n",
       "        <td style=\"padding-left: 1em; padding-right: 1em; text-align: center; vertical-align: top\">83.468</td>\n",
       "        <td style=\"padding-left: 1em; padding-right: 1em; text-align: center; vertical-align: top\">-1</td>\n",
       "        <td style=\"padding-left: 1em; padding-right: 1em; text-align: center; vertical-align: top\">281.12</td>\n",
       "    </tr>\n",
       "    <tr>\n",
       "        <td style=\"padding-left: 1em; padding-right: 1em; text-align: center; vertical-align: top\">104.11</td>\n",
       "        <td style=\"padding-left: 1em; padding-right: 1em; text-align: center; vertical-align: top\">83.129</td>\n",
       "        <td style=\"padding-left: 1em; padding-right: 1em; text-align: center; vertical-align: top\">-1</td>\n",
       "        <td style=\"padding-left: 1em; padding-right: 1em; text-align: center; vertical-align: top\">287.85</td>\n",
       "    </tr>\n",
       "    <tr>\n",
       "        <td style=\"padding-left: 1em; padding-right: 1em; text-align: center; vertical-align: top\">103.81</td>\n",
       "        <td style=\"padding-left: 1em; padding-right: 1em; text-align: center; vertical-align: top\">82.207</td>\n",
       "        <td style=\"padding-left: 1em; padding-right: 1em; text-align: center; vertical-align: top\">-1</td>\n",
       "        <td style=\"padding-left: 1em; padding-right: 1em; text-align: center; vertical-align: top\">293.53</td>\n",
       "    </tr>\n",
       "    <tr>\n",
       "        <td style=\"padding-left: 1em; padding-right: 1em; text-align: center; vertical-align: top\">104.66</td>\n",
       "        <td style=\"padding-left: 1em; padding-right: 1em; text-align: center; vertical-align: top\">84.865</td>\n",
       "        <td style=\"padding-left: 1em; padding-right: 1em; text-align: center; vertical-align: top\">-1</td>\n",
       "        <td style=\"padding-left: 1em; padding-right: 1em; text-align: center; vertical-align: top\">298.55</td>\n",
       "    </tr>\n",
       "    <tr>\n",
       "        <td style=\"padding-left: 1em; padding-right: 1em; text-align: center; vertical-align: top\">106.06</td>\n",
       "        <td style=\"padding-left: 1em; padding-right: 1em; text-align: center; vertical-align: top\">80.703</td>\n",
       "        <td style=\"padding-left: 1em; padding-right: 1em; text-align: center; vertical-align: top\">-1</td>\n",
       "        <td style=\"padding-left: 1em; padding-right: 1em; text-align: center; vertical-align: top\">304.24</td>\n",
       "    </tr>\n",
       "    <tr>\n",
       "        <td style=\"padding-left: 1em; padding-right: 1em; text-align: center; vertical-align: top\">106.56</td>\n",
       "        <td style=\"padding-left: 1em; padding-right: 1em; text-align: center; vertical-align: top\">80.74</td>\n",
       "        <td style=\"padding-left: 1em; padding-right: 1em; text-align: center; vertical-align: top\">-1</td>\n",
       "        <td style=\"padding-left: 1em; padding-right: 1em; text-align: center; vertical-align: top\">312.91</td>\n",
       "    </tr>\n",
       "    <tr>\n",
       "        <td style=\"padding-left: 1em; padding-right: 1em; text-align: center; vertical-align: top\">105.53</td>\n",
       "        <td style=\"padding-left: 1em; padding-right: 1em; text-align: center; vertical-align: top\">83.209</td>\n",
       "        <td style=\"padding-left: 1em; padding-right: 1em; text-align: center; vertical-align: top\">-1</td>\n",
       "        <td style=\"padding-left: 1em; padding-right: 1em; text-align: center; vertical-align: top\">316.32</td>\n",
       "    </tr>\n",
       "    <tr>\n",
       "        <td style=\"padding-left: 1em; padding-right: 1em; text-align: center; vertical-align: top\">107.21</td>\n",
       "        <td style=\"padding-left: 1em; padding-right: 1em; text-align: center; vertical-align: top\">80.343</td>\n",
       "        <td style=\"padding-left: 1em; padding-right: 1em; text-align: center; vertical-align: top\">-1</td>\n",
       "        <td style=\"padding-left: 1em; padding-right: 1em; text-align: center; vertical-align: top\">322.3</td>\n",
       "    </tr>\n",
       "    <tr>\n",
       "        <td style=\"padding-left: 1em; padding-right: 1em; text-align: center; vertical-align: top\">102.2</td>\n",
       "        <td style=\"padding-left: 1em; padding-right: 1em; text-align: center; vertical-align: top\">80.212</td>\n",
       "        <td style=\"padding-left: 1em; padding-right: 1em; text-align: center; vertical-align: top\">-1</td>\n",
       "        <td style=\"padding-left: 1em; padding-right: 1em; text-align: center; vertical-align: top\">324.87</td>\n",
       "    </tr>\n",
       "</table>\n",
       "[39999 rows x 4 columns]<br/>Note: Only the head of the SFrame is printed.<br/>You can use print_rows(num_rows=m, num_columns=n) to print more rows and columns.\n",
       "</div>"
      ],
      "text/plain": [
       "Columns:\n",
       "\tFlujoCh\tfloat\n",
       "\tFlujoRx\tfloat\n",
       "\tTCalificacion\tint\n",
       "\tTempera\tfloat\n",
       "\n",
       "Rows: 39999\n",
       "\n",
       "Data:\n",
       "+---------+---------+---------------+---------+\n",
       "| FlujoCh | FlujoRx | TCalificacion | Tempera |\n",
       "+---------+---------+---------------+---------+\n",
       "|  104.75 |  80.16  |       -1      |  273.15 |\n",
       "|  106.81 |  83.468 |       -1      |  281.12 |\n",
       "|  104.11 |  83.129 |       -1      |  287.85 |\n",
       "|  103.81 |  82.207 |       -1      |  293.53 |\n",
       "|  104.66 |  84.865 |       -1      |  298.55 |\n",
       "|  106.06 |  80.703 |       -1      |  304.24 |\n",
       "|  106.56 |  80.74  |       -1      |  312.91 |\n",
       "|  105.53 |  83.209 |       -1      |  316.32 |\n",
       "|  107.21 |  80.343 |       -1      |  322.3  |\n",
       "|  102.2  |  80.212 |       -1      |  324.87 |\n",
       "+---------+---------+---------------+---------+\n",
       "[39999 rows x 4 columns]\n",
       "Note: Only the head of the SFrame is printed.\n",
       "You can use print_rows(num_rows=m, num_columns=n) to print more rows and columns."
      ]
     },
     "execution_count": 14,
     "metadata": {},
     "output_type": "execute_result"
    }
   ],
   "source": [
    "#Creacion tabla Clasificadora\n",
    "#Temp = rango, +1\n",
    "#Temp =fuera rango,-1\n",
    "training_dataT['TCalificacion'] = training_dataT['Tempera'].apply(lambda x: +1 if x in range(345,355) else -1)\n",
    "training_dataT"
   ]
  },
  {
   "cell_type": "code",
   "execution_count": 15,
   "metadata": {
    "collapsed": false
   },
   "outputs": [
    {
     "data": {
      "application/javascript": [
       "$(\"head\").append($(\"<link/>\").attr({\n",
       "  rel:  \"stylesheet\",\n",
       "  type: \"text/css\",\n",
       "  href: \"//cdnjs.cloudflare.com/ajax/libs/font-awesome/4.1.0/css/font-awesome.min.css\"\n",
       "}));\n",
       "$(\"head\").append($(\"<link/>\").attr({\n",
       "  rel:  \"stylesheet\",\n",
       "  type: \"text/css\",\n",
       "  href: \"https://static.turi.com/products/graphlab-create/2.1/canvas/css/canvas.css\"\n",
       "}));\n",
       "\n",
       "            (function(){\n",
       "\n",
       "                var e = null;\n",
       "                if (typeof element == 'undefined') {\n",
       "                    var scripts = document.getElementsByTagName('script');\n",
       "                    var thisScriptTag = scripts[scripts.length-1];\n",
       "                    var parentDiv = thisScriptTag.parentNode;\n",
       "                    e = document.createElement('div');\n",
       "                    parentDiv.appendChild(e);\n",
       "                } else {\n",
       "                    e = element[0];\n",
       "                }\n",
       "\n",
       "                if (typeof requirejs !== 'undefined') {\n",
       "                    // disable load timeout; ipython_app.js is large and can take a while to load.\n",
       "                    requirejs.config({waitSeconds: 0});\n",
       "                }\n",
       "\n",
       "                require(['https://static.turi.com/products/graphlab-create/2.1/canvas/js/ipython_app.js'], function(IPythonApp){\n",
       "                    var app = new IPythonApp();\n",
       "                    app.attachView('sarray','Categorical', {\"ipython\": true, \"sketch\": {\"std\": 0.2159726653548, \"complete\": true, \"min\": -1.0, \"max\": 1.0, \"quantile\": [-1.0, -1.0, -1.0, -1.0, -1.0, -1.0, -1.0, -1.0, -1.0, -1.0, -1.0, -1.0, -1.0, -1.0, -1.0, -1.0, -1.0, -1.0, -1.0, -1.0, -1.0, -1.0, -1.0, -1.0, -1.0, -1.0, -1.0, -1.0, -1.0, -1.0, -1.0, -1.0, -1.0, -1.0, -1.0, -1.0, -1.0, -1.0, -1.0, -1.0, -1.0, -1.0, -1.0, -1.0, -1.0, -1.0, -1.0, -1.0, -1.0, -1.0, -1.0, -1.0, -1.0, -1.0, -1.0, -1.0, -1.0, -1.0, -1.0, -1.0, -1.0, -1.0, -1.0, -1.0, -1.0, -1.0, -1.0, -1.0, -1.0, -1.0, -1.0, -1.0, -1.0, -1.0, -1.0, -1.0, -1.0, -1.0, -1.0, -1.0, -1.0, -1.0, -1.0, -1.0, -1.0, -1.0, -1.0, -1.0, -1.0, -1.0, -1.0, -1.0, -1.0, -1.0, -1.0, -1.0, -1.0, -1.0, -1.0, 1.0, 1.0], \"median\": -1.0, \"numeric\": true, \"num_unique\": 2, \"num_undefined\": 0, \"var\": 0.046644192180456436, \"progress\": 1.0, \"size\": 39999, \"frequent_items\": {\"1\": {\"frequency\": 472, \"value\": 1}, \"-1\": {\"frequency\": 39527, \"value\": -1}}, \"mean\": -0.976399409985249}, \"selected_variable\": {\"name\": [\"<SArray>\"], \"dtype\": \"int\", \"view_component\": \"Categorical\", \"view_file\": \"sarray\", \"descriptives\": {\"rows\": 39999}, \"type\": \"SArray\", \"view_components\": [\"Numeric\", \"Categorical\"]}, \"histogram\": {\"progress\": 1.0, \"histogram\": {\"max\": 1.0171599999999872, \"bins\": [39527, 0, 0, 0, 0, 0, 0, 0, 0, 0, 0, 472], \"min\": -1.0103599999999995}, \"min\": -1, \"complete\": 1, \"max\": 1}}, e);\n",
       "                });\n",
       "            })();\n",
       "        "
      ]
     },
     "metadata": {},
     "output_type": "display_data"
    }
   ],
   "source": [
    "#valores validos luego de la clasificacion\n",
    "training_dataT['TCalificacion'].show(view = 'Categorical')"
   ]
  },
  {
   "cell_type": "code",
   "execution_count": 16,
   "metadata": {
    "collapsed": false
   },
   "outputs": [
    {
     "name": "stdout",
     "output_type": "stream",
     "text": [
      "Valores_Clasificados: 472\n",
      "Valores_Rechazados: 39527\n"
     ]
    }
   ],
   "source": [
    "#creacion de la tabla de clasificacion\n",
    "Valores_Clasificados =training_dataT[training_dataT['TCalificacion']== +1]\n",
    "Valores_Rechazados   =training_dataT[training_dataT['TCalificacion']== -1]\n",
    "print \"Valores_Clasificados: %s\" % len(Valores_Clasificados)\n",
    "print \"Valores_Rechazados: %s\" % len(Valores_Rechazados)"
   ]
  },
  {
   "cell_type": "code",
   "execution_count": 17,
   "metadata": {
    "collapsed": false
   },
   "outputs": [
    {
     "data": {
      "text/html": [
       "<div style=\"max-height:1000px;max-width:1500px;overflow:auto;\"><table frame=\"box\" rules=\"cols\">\n",
       "    <tr>\n",
       "        <th style=\"padding-left: 1em; padding-right: 1em; text-align: center\">FlujoCh</th>\n",
       "        <th style=\"padding-left: 1em; padding-right: 1em; text-align: center\">FlujoRx</th>\n",
       "        <th style=\"padding-left: 1em; padding-right: 1em; text-align: center\">TCalificacion</th>\n",
       "        <th style=\"padding-left: 1em; padding-right: 1em; text-align: center\">Tempera</th>\n",
       "    </tr>\n",
       "    <tr>\n",
       "        <td style=\"padding-left: 1em; padding-right: 1em; text-align: center; vertical-align: top\">105.25</td>\n",
       "        <td style=\"padding-left: 1em; padding-right: 1em; text-align: center; vertical-align: top\">80.616</td>\n",
       "        <td style=\"padding-left: 1em; padding-right: 1em; text-align: center; vertical-align: top\">1</td>\n",
       "        <td style=\"padding-left: 1em; padding-right: 1em; text-align: center; vertical-align: top\">350.0</td>\n",
       "    </tr>\n",
       "    <tr>\n",
       "        <td style=\"padding-left: 1em; padding-right: 1em; text-align: center; vertical-align: top\">103.47</td>\n",
       "        <td style=\"padding-left: 1em; padding-right: 1em; text-align: center; vertical-align: top\">82.316</td>\n",
       "        <td style=\"padding-left: 1em; padding-right: 1em; text-align: center; vertical-align: top\">1</td>\n",
       "        <td style=\"padding-left: 1em; padding-right: 1em; text-align: center; vertical-align: top\">350.0</td>\n",
       "    </tr>\n",
       "    <tr>\n",
       "        <td style=\"padding-left: 1em; padding-right: 1em; text-align: center; vertical-align: top\">103.8</td>\n",
       "        <td style=\"padding-left: 1em; padding-right: 1em; text-align: center; vertical-align: top\">84.503</td>\n",
       "        <td style=\"padding-left: 1em; padding-right: 1em; text-align: center; vertical-align: top\">1</td>\n",
       "        <td style=\"padding-left: 1em; padding-right: 1em; text-align: center; vertical-align: top\">350.0</td>\n",
       "    </tr>\n",
       "    <tr>\n",
       "        <td style=\"padding-left: 1em; padding-right: 1em; text-align: center; vertical-align: top\">105.39</td>\n",
       "        <td style=\"padding-left: 1em; padding-right: 1em; text-align: center; vertical-align: top\">79.191</td>\n",
       "        <td style=\"padding-left: 1em; padding-right: 1em; text-align: center; vertical-align: top\">1</td>\n",
       "        <td style=\"padding-left: 1em; padding-right: 1em; text-align: center; vertical-align: top\">349.0</td>\n",
       "    </tr>\n",
       "    <tr>\n",
       "        <td style=\"padding-left: 1em; padding-right: 1em; text-align: center; vertical-align: top\">107.77</td>\n",
       "        <td style=\"padding-left: 1em; padding-right: 1em; text-align: center; vertical-align: top\">82.101</td>\n",
       "        <td style=\"padding-left: 1em; padding-right: 1em; text-align: center; vertical-align: top\">1</td>\n",
       "        <td style=\"padding-left: 1em; padding-right: 1em; text-align: center; vertical-align: top\">350.0</td>\n",
       "    </tr>\n",
       "    <tr>\n",
       "        <td style=\"padding-left: 1em; padding-right: 1em; text-align: center; vertical-align: top\">103.34</td>\n",
       "        <td style=\"padding-left: 1em; padding-right: 1em; text-align: center; vertical-align: top\">84.051</td>\n",
       "        <td style=\"padding-left: 1em; padding-right: 1em; text-align: center; vertical-align: top\">1</td>\n",
       "        <td style=\"padding-left: 1em; padding-right: 1em; text-align: center; vertical-align: top\">350.0</td>\n",
       "    </tr>\n",
       "    <tr>\n",
       "        <td style=\"padding-left: 1em; padding-right: 1em; text-align: center; vertical-align: top\">103.93</td>\n",
       "        <td style=\"padding-left: 1em; padding-right: 1em; text-align: center; vertical-align: top\">80.83</td>\n",
       "        <td style=\"padding-left: 1em; padding-right: 1em; text-align: center; vertical-align: top\">1</td>\n",
       "        <td style=\"padding-left: 1em; padding-right: 1em; text-align: center; vertical-align: top\">350.0</td>\n",
       "    </tr>\n",
       "    <tr>\n",
       "        <td style=\"padding-left: 1em; padding-right: 1em; text-align: center; vertical-align: top\">107.11</td>\n",
       "        <td style=\"padding-left: 1em; padding-right: 1em; text-align: center; vertical-align: top\">83.932</td>\n",
       "        <td style=\"padding-left: 1em; padding-right: 1em; text-align: center; vertical-align: top\">1</td>\n",
       "        <td style=\"padding-left: 1em; padding-right: 1em; text-align: center; vertical-align: top\">350.0</td>\n",
       "    </tr>\n",
       "    <tr>\n",
       "        <td style=\"padding-left: 1em; padding-right: 1em; text-align: center; vertical-align: top\">106.02</td>\n",
       "        <td style=\"padding-left: 1em; padding-right: 1em; text-align: center; vertical-align: top\">83.464</td>\n",
       "        <td style=\"padding-left: 1em; padding-right: 1em; text-align: center; vertical-align: top\">1</td>\n",
       "        <td style=\"padding-left: 1em; padding-right: 1em; text-align: center; vertical-align: top\">349.0</td>\n",
       "    </tr>\n",
       "    <tr>\n",
       "        <td style=\"padding-left: 1em; padding-right: 1em; text-align: center; vertical-align: top\">102.43</td>\n",
       "        <td style=\"padding-left: 1em; padding-right: 1em; text-align: center; vertical-align: top\">83.468</td>\n",
       "        <td style=\"padding-left: 1em; padding-right: 1em; text-align: center; vertical-align: top\">1</td>\n",
       "        <td style=\"padding-left: 1em; padding-right: 1em; text-align: center; vertical-align: top\">350.0</td>\n",
       "    </tr>\n",
       "</table>\n",
       "[472 rows x 4 columns]<br/>Note: Only the head of the SFrame is printed.<br/>You can use print_rows(num_rows=m, num_columns=n) to print more rows and columns.\n",
       "</div>"
      ],
      "text/plain": [
       "Columns:\n",
       "\tFlujoCh\tfloat\n",
       "\tFlujoRx\tfloat\n",
       "\tTCalificacion\tint\n",
       "\tTempera\tfloat\n",
       "\n",
       "Rows: 472\n",
       "\n",
       "Data:\n",
       "+---------+---------+---------------+---------+\n",
       "| FlujoCh | FlujoRx | TCalificacion | Tempera |\n",
       "+---------+---------+---------------+---------+\n",
       "|  105.25 |  80.616 |       1       |  350.0  |\n",
       "|  103.47 |  82.316 |       1       |  350.0  |\n",
       "|  103.8  |  84.503 |       1       |  350.0  |\n",
       "|  105.39 |  79.191 |       1       |  349.0  |\n",
       "|  107.77 |  82.101 |       1       |  350.0  |\n",
       "|  103.34 |  84.051 |       1       |  350.0  |\n",
       "|  103.93 |  80.83  |       1       |  350.0  |\n",
       "|  107.11 |  83.932 |       1       |  350.0  |\n",
       "|  106.02 |  83.464 |       1       |  349.0  |\n",
       "|  102.43 |  83.468 |       1       |  350.0  |\n",
       "+---------+---------+---------------+---------+\n",
       "[472 rows x 4 columns]\n",
       "Note: Only the head of the SFrame is printed.\n",
       "You can use print_rows(num_rows=m, num_columns=n) to print more rows and columns."
      ]
     },
     "execution_count": 17,
     "metadata": {},
     "output_type": "execute_result"
    }
   ],
   "source": [
    "#visualizacion de la tabla\n",
    "Valores_Clasificados"
   ]
  },
  {
   "cell_type": "code",
   "execution_count": 18,
   "metadata": {
    "collapsed": false
   },
   "outputs": [
    {
     "name": "stderr",
     "output_type": "stream",
     "text": [
      "[ERROR] graphlab.toolkits._main: Toolkit error: Column type of target 'Tempera' must be int or str.\n",
      "\n"
     ]
    },
    {
     "name": "stdout",
     "output_type": "stream",
     "text": [
      "PROGRESS: Creating a validation set from 5 percent of training data. This may take a while.\n",
      "          You can set ``validation_set=None`` to disable validation tracking.\n",
      "\n"
     ]
    },
    {
     "ename": "ToolkitError",
     "evalue": "Column type of target 'Tempera' must be int or str.\n",
     "output_type": "error",
     "traceback": [
      "\u001b[1;31m---------------------------------------------------------------------------\u001b[0m",
      "\u001b[1;31mToolkitError\u001b[0m                              Traceback (most recent call last)",
      "\u001b[1;32m<ipython-input-18-cd940a2a3eee>\u001b[0m in \u001b[0;36m<module>\u001b[1;34m()\u001b[0m\n\u001b[0;32m      2\u001b[0m \u001b[0mfeatures\u001b[0m \u001b[1;33m=\u001b[0m\u001b[1;33m[\u001b[0m\u001b[1;34m'FlujoCh'\u001b[0m\u001b[1;33m,\u001b[0m\u001b[1;34m'FlujoRx'\u001b[0m\u001b[1;33m,\u001b[0m\u001b[1;34m'TCalificacion'\u001b[0m\u001b[1;33m,\u001b[0m\u001b[1;34m'Tempera'\u001b[0m\u001b[1;33m]\u001b[0m\u001b[1;33m\u001b[0m\u001b[0m\n\u001b[0;32m      3\u001b[0m decision_tree_model = graphlab.decision_tree_classifier.create(training_dataT, validation_dataT=None,\n\u001b[1;32m----> 4\u001b[1;33m                                                                target ='Tempera', features= features) \n\u001b[0m",
      "\u001b[1;32mC:\\Users\\D A Santana\\Anaconda2\\envs\\gl-env\\lib\\site-packages\\graphlab\\toolkits\\classifier\\decision_tree_classifier.pyc\u001b[0m in \u001b[0;36mcreate\u001b[1;34m(dataset, target, features, validation_set, class_weights, max_depth, min_loss_reduction, min_child_weight, verbose, random_seed, metric, **kwargs)\u001b[0m\n\u001b[0;32m    626\u001b[0m                         \u001b[0mverbose\u001b[0m \u001b[1;33m=\u001b[0m \u001b[0mverbose\u001b[0m\u001b[1;33m,\u001b[0m\u001b[1;33m\u001b[0m\u001b[0m\n\u001b[0;32m    627\u001b[0m                         \u001b[0mmetric\u001b[0m \u001b[1;33m=\u001b[0m \u001b[0mmetric\u001b[0m\u001b[1;33m,\u001b[0m\u001b[1;33m\u001b[0m\u001b[0m\n\u001b[1;32m--> 628\u001b[1;33m                         **kwargs)\n\u001b[0m\u001b[0;32m    629\u001b[0m     \u001b[1;32mreturn\u001b[0m \u001b[0mDecisionTreeClassifier\u001b[0m\u001b[1;33m(\u001b[0m\u001b[0mmodel\u001b[0m\u001b[1;33m.\u001b[0m\u001b[0m__proxy__\u001b[0m\u001b[1;33m)\u001b[0m\u001b[1;33m\u001b[0m\u001b[0m\n",
      "\u001b[1;32mC:\\Users\\D A Santana\\Anaconda2\\envs\\gl-env\\lib\\site-packages\\graphlab\\toolkits\\_supervised_learning.pyc\u001b[0m in \u001b[0;36mcreate\u001b[1;34m(dataset, target, model_name, features, validation_set, verbose, distributed, **kwargs)\u001b[0m\n\u001b[0;32m    434\u001b[0m \u001b[1;33m\u001b[0m\u001b[0m\n\u001b[0;32m    435\u001b[0m     ret = _graphlab.toolkits._main.run(\"supervised_learning_train\",\n\u001b[1;32m--> 436\u001b[1;33m                                        options, verbose)\n\u001b[0m\u001b[0;32m    437\u001b[0m     \u001b[0mmodel\u001b[0m \u001b[1;33m=\u001b[0m \u001b[0mSupervisedLearningModel\u001b[0m\u001b[1;33m(\u001b[0m\u001b[0mret\u001b[0m\u001b[1;33m[\u001b[0m\u001b[1;34m'model'\u001b[0m\u001b[1;33m]\u001b[0m\u001b[1;33m,\u001b[0m \u001b[0mmodel_name\u001b[0m\u001b[1;33m)\u001b[0m\u001b[1;33m\u001b[0m\u001b[0m\n\u001b[0;32m    438\u001b[0m \u001b[1;33m\u001b[0m\u001b[0m\n",
      "\u001b[1;32mC:\\Users\\D A Santana\\Anaconda2\\envs\\gl-env\\lib\\site-packages\\graphlab\\toolkits\\_main.pyc\u001b[0m in \u001b[0;36mrun\u001b[1;34m(toolkit_name, options, verbose, show_progress)\u001b[0m\n\u001b[0;32m     87\u001b[0m         \u001b[0m_get_metric_tracker\u001b[0m\u001b[1;33m(\u001b[0m\u001b[1;33m)\u001b[0m\u001b[1;33m.\u001b[0m\u001b[0mtrack\u001b[0m\u001b[1;33m(\u001b[0m\u001b[0mmetric_name\u001b[0m\u001b[1;33m,\u001b[0m \u001b[0mvalue\u001b[0m\u001b[1;33m=\u001b[0m\u001b[1;36m1\u001b[0m\u001b[1;33m,\u001b[0m \u001b[0mproperties\u001b[0m\u001b[1;33m=\u001b[0m\u001b[0mtrack_props\u001b[0m\u001b[1;33m,\u001b[0m \u001b[0msend_sys_info\u001b[0m\u001b[1;33m=\u001b[0m\u001b[0mFalse\u001b[0m\u001b[1;33m)\u001b[0m\u001b[1;33m\u001b[0m\u001b[0m\n\u001b[0;32m     88\u001b[0m \u001b[1;33m\u001b[0m\u001b[0m\n\u001b[1;32m---> 89\u001b[1;33m         \u001b[1;32mraise\u001b[0m \u001b[0mToolkitError\u001b[0m\u001b[1;33m(\u001b[0m\u001b[0mstr\u001b[0m\u001b[1;33m(\u001b[0m\u001b[0mmessage\u001b[0m\u001b[1;33m)\u001b[0m\u001b[1;33m)\u001b[0m\u001b[1;33m\u001b[0m\u001b[0m\n\u001b[0m",
      "\u001b[1;31mToolkitError\u001b[0m: Column type of target 'Tempera' must be int or str.\n"
     ]
    }
   ],
   "source": [
    "#arbol de decision \n",
    "features =['FlujoCh','FlujoRx','TCalificacion','Tempera']\n",
    "decision_tree_model = graphlab.decision_tree_classifier.create(training_dataT, validation_dataT=None,\n",
    "                                                               target ='Tempera', features= features) "
   ]
  },
  {
   "cell_type": "code",
   "execution_count": 28,
   "metadata": {
    "collapsed": false
   },
   "outputs": [
    {
     "ename": "NameError",
     "evalue": "name 'train_data' is not defined",
     "output_type": "error",
     "traceback": [
      "\u001b[1;31m---------------------------------------------------------------------------\u001b[0m",
      "\u001b[1;31mNameError\u001b[0m                                 Traceback (most recent call last)",
      "\u001b[1;32m<ipython-input-28-aa768db616e8>\u001b[0m in \u001b[0;36m<module>\u001b[1;34m()\u001b[0m\n\u001b[1;32m----> 1\u001b[1;33m small_model = graphlab.decision_tree_classifier.create(train_data, validation_set=None,\n\u001b[0m\u001b[0;32m      2\u001b[0m                                                                \u001b[0mtarget\u001b[0m \u001b[1;33m=\u001b[0m\u001b[0mtarget\u001b[0m\u001b[1;33m,\u001b[0m \u001b[0mfeatures\u001b[0m \u001b[1;33m=\u001b[0m \u001b[0mfeatures\u001b[0m\u001b[1;33m,\u001b[0m\u001b[1;33m\u001b[0m\u001b[0m\n\u001b[0;32m      3\u001b[0m                                                        max_depth =2)\n",
      "\u001b[1;31mNameError\u001b[0m: name 'train_data' is not defined"
     ]
    }
   ],
   "source": [
    "small_model = graphlab.decision_tree_classifier.create(train_data, validation_set=None,\n",
    "                                                               target =target, features = features,\n",
    "                                                       max_depth =2)"
   ]
  },
  {
   "cell_type": "code",
   "execution_count": null,
   "metadata": {
    "collapsed": true
   },
   "outputs": [],
   "source": [
    "small_model.show(view=\"Treee\")"
   ]
  },
  {
   "cell_type": "code",
   "execution_count": null,
   "metadata": {
    "collapsed": true
   },
   "outputs": [],
   "source": [
    "small_model.show(view=\"Tree\")"
   ]
  },
  {
   "cell_type": "code",
   "execution_count": null,
   "metadata": {
    "collapsed": true
   },
   "outputs": [],
   "source": [
    "validation_safe_loans =validation_data[validation_data[target] ==1]\n",
    "validation_risky_loans =validation_data[validation_data[target] ==-1]\n",
    "\n",
    "sample_validation_data_risky =validation_risky_loans[0:2]\n",
    "sample_validation_data_safe =validation_safe_loans[0:2]\n",
    "\n",
    "sample_validation_data = sample_validation_data_safe.append(sample_validation_data_risky)\n",
    "sample_validation_data\n",
    "\n",
    "decision_tree_model.predict(sample_validation_data)\n",
    "\n",
    "(sample_validation_data['safe_loans'] == decision_tree_model.predict(sample_validation_data)).sum()/float(len(sample_validation_data))\n",
    "\n",
    "\n",
    "decision_tree_model.predict(sample_validation_data, output_type='probability')\n",
    "\n",
    "print small_model.evaluate(train_data)['accuracy']\n",
    "print decision_tree_model.evaluate(train_data)['accuracy']\n",
    "\n",
    "big_model =graphlab.decision_tree_classifier.create(train_data, validation_set=None,\n",
    "                                                  target = target, features = features, max_depth=10)\n",
    "\n",
    "\n",
    "print big_model.evaluate(train_data)['accuracy']\n",
    "print big_model.evaluate(validation_data)['accuracy']\n",
    "\n",
    "predictions = decision_tree_model.predict(validation_data)\n",
    "\n",
    "decision_tree_model.show(view='Evaluation')\n",
    "\n",
    "len(predictions)\n",
    "\n",
    "false_positives = (validation_data[validation_data['safe_loans']!= predictions]['safe_loans'] ==-1).sum()\n",
    "print \"Costo de los falsos positivos:    \",false_positives\n",
    "\n",
    "false_negatives = (validation_data[validation_data['safe_loans']!= predictions]['safe_loans'] ==+1).sum()\n",
    "print \"Costo de los falsos negativos:    \", false_negatives"
   ]
  }
 ],
 "metadata": {
  "kernelspec": {
   "display_name": "Python 2",
   "language": "python",
   "name": "python2"
  },
  "language_info": {
   "codemirror_mode": {
    "name": "ipython",
    "version": 2
   },
   "file_extension": ".py",
   "mimetype": "text/x-python",
   "name": "python",
   "nbconvert_exporter": "python",
   "pygments_lexer": "ipython2",
   "version": "2.7.11"
  }
 },
 "nbformat": 4,
 "nbformat_minor": 0
}
