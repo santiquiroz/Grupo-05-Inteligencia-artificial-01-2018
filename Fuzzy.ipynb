{
 "cells": [
  {
   "cell_type": "code",
   "execution_count": 1,
   "metadata": {
    "collapsed": true
   },
   "outputs": [],
   "source": [
    "import numpy as np\n",
    "import skfuzzy as fuzz\n",
    "from skfuzzy import control as ctrl"
   ]
  },
  {
   "cell_type": "code",
   "execution_count": 2,
   "metadata": {
    "collapsed": true
   },
   "outputs": [],
   "source": [
    "# Definicion de los dominios a trabajar         \n",
    "# functions\n",
    "caudalE = ctrl.Antecedent(np.arange(0, 160, 1), 'caudalE')\n",
    "caudalCh = ctrl.Antecedent(np.arange(0, 200, 1), 'caudalCh')\n",
    "temperatura = ctrl.Consequent(np.arange(0, 700, 1), 'temperatura')\n",
    "volumen = ctrl.Consequent(np.arange(0, 120, 1), 'volumen')\n",
    "concentracion = ctrl.Consequent(np.arange(0, 1.5, 1), 'concentracion')"
   ]
  },
  {
   "cell_type": "code",
   "execution_count": 3,
   "metadata": {
    "collapsed": false
   },
   "outputs": [],
   "source": [
    "# Definicion de los conjuntos difusos \n",
    "caudalE['Bajo'] = fuzz.trapmf(caudalE.universe,[0, 0, 77, 97])\n",
    "caudalE['Ideal'] = fuzz.gaussmf(caudalE.universe,5 , 82)\n",
    "caudalE['Alto'] = fuzz.trapmf(caudalE.universe,[67, 87, 160, 160])\n",
    "\n",
    "caudalCh['Bajo'] = fuzz.trapmf(caudalCh.universe,[0, 0, 100, 120])\n",
    "caudalCh['Ideal'] = fuzz.gaussmf(caudalCh.universe, 5, 105)\n",
    "caudalCh['Alto'] = fuzz.trapmf(caudalCh.universe,[90, 110, 200, 200])\n",
    "\n",
    "temperatura['MuyBajo'] = fuzz.trapmf(temperatura.universe,[0, 0, 60, 120])\n",
    "temperatura['MedioBajo'] = fuzz.trapmf(temperatura.universe,[30, 90, 190, 250])\n",
    "temperatura['LigeroBajo'] = fuzz.trapmf(temperatura.universe,[160, 220, 320, 380])\n",
    "temperatura['Ideal'] = fuzz.trimf(temperatura.universe,[300, 350, 400])\n",
    "temperatura['LigeroAlto'] = fuzz.trapmf(temperatura.universe,[320, 380, 480, 540])\n",
    "temperatura['MedioAlto'] = fuzz.trapmf(temperatura.universe,[450, 510, 610, 670])\n",
    "temperatura['MuyAlto'] = fuzz.trapmf(temperatura.universe,[580, 640, 700, 700])\n",
    "\n",
    "volumen['Bajo'] = fuzz.trapmf(volumen.universe,[0, 0, 10.89, 20.89])\n",
    "volumen['Ideal'] = fuzz.trimf(volumen.universe,[10.89, 13.89, 16.89])\n",
    "volumen['Alto'] = fuzz.trapmf(volumen.universe,[13.89, 16.89, 120, 120])\n",
    "\n",
    "concentracion['Ideal'] = fuzz.smf(concentracion.universe,0.92, 0.9951)"
   ]
  },
  {
   "cell_type": "code",
   "execution_count": 4,
   "metadata": {
    "collapsed": false
   },
   "outputs": [],
   "source": [
    "temperatura['Ideal'].view()"
   ]
  },
  {
   "cell_type": "code",
   "execution_count": 5,
   "metadata": {
    "collapsed": false
   },
   "outputs": [],
   "source": [
    "#Reglas Temperatura\n",
    "rule1 = ctrl.Rule(caudalCh['Bajo'] & caudalE['Bajo'], temperatura['MuyBajo'])\n",
    "rule2 = ctrl.Rule(caudalCh['Ideal'] & caudalE['Bajo'] | caudalCh['Bajo'] & caudalE['Ideal'], temperatura['MedioBajo'])\n",
    "rule3 = ctrl.Rule(caudalCh['Alto'] & caudalE['Bajo'], temperatura['LigeroBajo'])\n",
    "rule4 = ctrl.Rule(caudalCh['Ideal'] & caudalE['Ideal'], temperatura['Ideal'])\n",
    "rule5 = ctrl.Rule(caudalCh['Bajo'] & caudalE['Alto'], temperatura['LigeroAlto'])\n",
    "rule6 = ctrl.Rule(caudalCh['Alto'] & caudalE['Ideal'] | caudalCh['Ideal'] & caudalE['Alto'], temperatura['MedioAlto'])\n",
    "rule7 = ctrl.Rule(caudalCh['Alto'] & caudalE['Alto'], temperatura['MuyAlto'])\n",
    "#Reglas Volumen\n",
    "rule8 = ctrl.Rule(caudalCh['Bajo'] & caudalE['Bajo'], volumen['Bajo'])\n",
    "rule9 = ctrl.Rule(caudalCh['Bajo'] & caudalE['Ideal'] | caudalCh['Ideal'] & caudalE['Bajo'] , volumen['Ideal'])\n",
    "rule10 = ctrl.Rule(caudalCh['Alto'] & caudalE['Bajo'] | caudalCh['Alto'] & caudalE['Ideal'] \n",
    "| caudalCh['Alto'] & caudalE['Alto'] | caudalCh['Ideal'] & caudalE['Ideal'] \n",
    "| caudalCh['Ideal'] & caudalE['Alto'] | caudalCh['Bajo'] & caudalE['Alto'] , volumen['Alto'])\n",
    "#Reglas Concentracion \n",
    "\n",
    "rule12 = ctrl.Rule(caudalCh['Ideal'] & caudalE['Ideal'] | caudalCh['Ideal'] & caudalE['Alto'] \n",
    "|caudalCh['Alto'] & caudalE['Ideal'] | caudalCh['Alto'] & caudalE['Alto'], concentracion['Ideal'])\n",
    "#controlador Temperatura\n",
    "tempe_ctrl = ctrl.ControlSystem([rule1, rule2, rule3, rule4, rule5, rule6, rule7])\n",
    "tempe = ctrl.ControlSystemSimulation(tempe_ctrl)\n"
   ]
  },
  {
   "cell_type": "code",
   "execution_count": 6,
   "metadata": {
    "collapsed": false
   },
   "outputs": [],
   "source": [
    "#Controlador Volumen\n",
    "vol_ctrl = ctrl.ControlSystem([rule8, rule9, rule10])\n",
    "vol = ctrl.ControlSystemSimulation(vol_ctrl)"
   ]
  },
  {
   "cell_type": "code",
   "execution_count": 7,
   "metadata": {
    "collapsed": true
   },
   "outputs": [],
   "source": [
    "#Controlador Concentracion\n",
    "conc_ctrl = ctrl.ControlSystem(rule12)\n",
    "conc = ctrl.ControlSystemSimulation(conc_ctrl)"
   ]
  },
  {
   "cell_type": "code",
   "execution_count": 8,
   "metadata": {
    "collapsed": false
   },
   "outputs": [],
   "source": [
    "# Pass inputs to the ControlSystem using Antecedent labels with Pythonic API\n",
    "# Note: if you like passing many inputs all at once, use .inputs(dict_of_data)\n",
    "tempe.input['caudalE'] = 82\n",
    "tempe.input['caudalCh'] = 105\n"
   ]
  },
  {
   "cell_type": "code",
   "execution_count": 9,
   "metadata": {
    "collapsed": true
   },
   "outputs": [],
   "source": [
    "tempe.compute()"
   ]
  },
  {
   "cell_type": "code",
   "execution_count": 10,
   "metadata": {
    "collapsed": false
   },
   "outputs": [
    {
     "name": "stdout",
     "output_type": "stream",
     "text": [
      "349.470746539\n"
     ]
    }
   ],
   "source": [
    "# Crunch the numbers\n",
    "print(tempe.output['temperatura'])\n",
    "temperatura.view(sim=tempe)"
   ]
  },
  {
   "cell_type": "code",
   "execution_count": null,
   "metadata": {
    "collapsed": true
   },
   "outputs": [],
   "source": []
  }
 ],
 "metadata": {
  "kernelspec": {
   "display_name": "Python 2",
   "language": "python",
   "name": "python2"
  },
  "language_info": {
   "codemirror_mode": {
    "name": "ipython",
    "version": 2
   },
   "file_extension": ".py",
   "mimetype": "text/x-python",
   "name": "python",
   "nbconvert_exporter": "python",
   "pygments_lexer": "ipython2",
   "version": "2.7.11"
  }
 },
 "nbformat": 4,
 "nbformat_minor": 0
}
