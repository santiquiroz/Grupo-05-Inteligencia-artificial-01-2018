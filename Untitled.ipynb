{
 "cells": [
  {
   "cell_type": "code",
   "execution_count": 57,
   "metadata": {
    "collapsed": false
   },
   "outputs": [],
   "source": [
    "#importamos las libreias a usar\n",
    "import numpy as np\n",
    "import math\n",
    "import matplotlib.pyplot as plt\n",
    "import graphlab\n",
    "# easy_install -U scikit-fuzzy #instalar por consola\n",
    "import skfuzzy as fuzzy\n",
    "from skfuzzy import control as ctrl"
   ]
  },
  {
   "cell_type": "code",
   "execution_count": 59,
   "metadata": {
    "collapsed": false
   },
   "outputs": [
    {
     "data": {
      "text/html": [
       "<pre>Finished parsing file C:\\Users\\D A Santana\\Documents\\01_Univer\\2018-1\\03 Inteligencia\\proyectofinal\\red_matlab_ne\\file.csv</pre>"
      ],
      "text/plain": [
       "Finished parsing file C:\\Users\\D A Santana\\Documents\\01_Univer\\2018-1\\03 Inteligencia\\proyectofinal\\red_matlab_ne\\file.csv"
      ]
     },
     "metadata": {},
     "output_type": "display_data"
    },
    {
     "data": {
      "text/html": [
       "<pre>Parsing completed. Parsed 100 lines in 0.120054 secs.</pre>"
      ],
      "text/plain": [
       "Parsing completed. Parsed 100 lines in 0.120054 secs."
      ]
     },
     "metadata": {},
     "output_type": "display_data"
    },
    {
     "name": "stdout",
     "output_type": "stream",
     "text": [
      "------------------------------------------------------\n",
      "Inferred types from first 100 line(s) of file as \n",
      "column_type_hints=[float,float,float,float,float]\n",
      "If parsing fails due to incorrect types, you can correct\n",
      "the inferred type list above and pass it to read_csv in\n",
      "the column_type_hints argument\n",
      "------------------------------------------------------\n"
     ]
    },
    {
     "data": {
      "text/html": [
       "<pre>Finished parsing file C:\\Users\\D A Santana\\Documents\\01_Univer\\2018-1\\03 Inteligencia\\proyectofinal\\red_matlab_ne\\file.csv</pre>"
      ],
      "text/plain": [
       "Finished parsing file C:\\Users\\D A Santana\\Documents\\01_Univer\\2018-1\\03 Inteligencia\\proyectofinal\\red_matlab_ne\\file.csv"
      ]
     },
     "metadata": {},
     "output_type": "display_data"
    },
    {
     "data": {
      "text/html": [
       "<pre>Parsing completed. Parsed 50000 lines in 0.112172 secs.</pre>"
      ],
      "text/plain": [
       "Parsing completed. Parsed 50000 lines in 0.112172 secs."
      ]
     },
     "metadata": {},
     "output_type": "display_data"
    },
    {
     "data": {
      "text/html": [
       "<div style=\"max-height:1000px;max-width:1500px;overflow:auto;\"><table frame=\"box\" rules=\"cols\">\n",
       "    <tr>\n",
       "        <th style=\"padding-left: 1em; padding-right: 1em; text-align: center\">FlujoRx</th>\n",
       "        <th style=\"padding-left: 1em; padding-right: 1em; text-align: center\">FlujoCh</th>\n",
       "        <th style=\"padding-left: 1em; padding-right: 1em; text-align: center\">Concent</th>\n",
       "        <th style=\"padding-left: 1em; padding-right: 1em; text-align: center\">Tempera</th>\n",
       "        <th style=\"padding-left: 1em; padding-right: 1em; text-align: center\">Volumen</th>\n",
       "    </tr>\n",
       "    <tr>\n",
       "        <td style=\"padding-left: 1em; padding-right: 1em; text-align: center; vertical-align: top\">80.16</td>\n",
       "        <td style=\"padding-left: 1em; padding-right: 1em; text-align: center; vertical-align: top\">104.75</td>\n",
       "        <td style=\"padding-left: 1em; padding-right: 1em; text-align: center; vertical-align: top\">1.0</td>\n",
       "        <td style=\"padding-left: 1em; padding-right: 1em; text-align: center; vertical-align: top\">273.15</td>\n",
       "        <td style=\"padding-left: 1em; padding-right: 1em; text-align: center; vertical-align: top\">0.1</td>\n",
       "    </tr>\n",
       "    <tr>\n",
       "        <td style=\"padding-left: 1em; padding-right: 1em; text-align: center; vertical-align: top\">83.468</td>\n",
       "        <td style=\"padding-left: 1em; padding-right: 1em; text-align: center; vertical-align: top\">106.81</td>\n",
       "        <td style=\"padding-left: 1em; padding-right: 1em; text-align: center; vertical-align: top\">0.99994</td>\n",
       "        <td style=\"padding-left: 1em; padding-right: 1em; text-align: center; vertical-align: top\">281.12</td>\n",
       "        <td style=\"padding-left: 1em; padding-right: 1em; text-align: center; vertical-align: top\">0.10498</td>\n",
       "    </tr>\n",
       "    <tr>\n",
       "        <td style=\"padding-left: 1em; padding-right: 1em; text-align: center; vertical-align: top\">83.129</td>\n",
       "        <td style=\"padding-left: 1em; padding-right: 1em; text-align: center; vertical-align: top\">104.11</td>\n",
       "        <td style=\"padding-left: 1em; padding-right: 1em; text-align: center; vertical-align: top\">0.99987</td>\n",
       "        <td style=\"padding-left: 1em; padding-right: 1em; text-align: center; vertical-align: top\">287.85</td>\n",
       "        <td style=\"padding-left: 1em; padding-right: 1em; text-align: center; vertical-align: top\">0.10998</td>\n",
       "    </tr>\n",
       "    <tr>\n",
       "        <td style=\"padding-left: 1em; padding-right: 1em; text-align: center; vertical-align: top\">82.207</td>\n",
       "        <td style=\"padding-left: 1em; padding-right: 1em; text-align: center; vertical-align: top\">103.81</td>\n",
       "        <td style=\"padding-left: 1em; padding-right: 1em; text-align: center; vertical-align: top\">0.99989</td>\n",
       "        <td style=\"padding-left: 1em; padding-right: 1em; text-align: center; vertical-align: top\">293.53</td>\n",
       "        <td style=\"padding-left: 1em; padding-right: 1em; text-align: center; vertical-align: top\">0.11505</td>\n",
       "    </tr>\n",
       "    <tr>\n",
       "        <td style=\"padding-left: 1em; padding-right: 1em; text-align: center; vertical-align: top\">84.865</td>\n",
       "        <td style=\"padding-left: 1em; padding-right: 1em; text-align: center; vertical-align: top\">104.66</td>\n",
       "        <td style=\"padding-left: 1em; padding-right: 1em; text-align: center; vertical-align: top\">0.99993</td>\n",
       "        <td style=\"padding-left: 1em; padding-right: 1em; text-align: center; vertical-align: top\">298.55</td>\n",
       "        <td style=\"padding-left: 1em; padding-right: 1em; text-align: center; vertical-align: top\">0.12019</td>\n",
       "    </tr>\n",
       "    <tr>\n",
       "        <td style=\"padding-left: 1em; padding-right: 1em; text-align: center; vertical-align: top\">80.703</td>\n",
       "        <td style=\"padding-left: 1em; padding-right: 1em; text-align: center; vertical-align: top\">106.06</td>\n",
       "        <td style=\"padding-left: 1em; padding-right: 1em; text-align: center; vertical-align: top\">0.99989</td>\n",
       "        <td style=\"padding-left: 1em; padding-right: 1em; text-align: center; vertical-align: top\">304.24</td>\n",
       "        <td style=\"padding-left: 1em; padding-right: 1em; text-align: center; vertical-align: top\">0.12674</td>\n",
       "    </tr>\n",
       "    <tr>\n",
       "        <td style=\"padding-left: 1em; padding-right: 1em; text-align: center; vertical-align: top\">81.827</td>\n",
       "        <td style=\"padding-left: 1em; padding-right: 1em; text-align: center; vertical-align: top\">106.51</td>\n",
       "        <td style=\"padding-left: 1em; padding-right: 1em; text-align: center; vertical-align: top\">0.99993</td>\n",
       "        <td style=\"padding-left: 1em; padding-right: 1em; text-align: center; vertical-align: top\">308.96</td>\n",
       "        <td style=\"padding-left: 1em; padding-right: 1em; text-align: center; vertical-align: top\">0.13308</td>\n",
       "    </tr>\n",
       "    <tr>\n",
       "        <td style=\"padding-left: 1em; padding-right: 1em; text-align: center; vertical-align: top\">80.74</td>\n",
       "        <td style=\"padding-left: 1em; padding-right: 1em; text-align: center; vertical-align: top\">106.56</td>\n",
       "        <td style=\"padding-left: 1em; padding-right: 1em; text-align: center; vertical-align: top\">1.0001</td>\n",
       "        <td style=\"padding-left: 1em; padding-right: 1em; text-align: center; vertical-align: top\">312.91</td>\n",
       "        <td style=\"padding-left: 1em; padding-right: 1em; text-align: center; vertical-align: top\">0.13918</td>\n",
       "    </tr>\n",
       "    <tr>\n",
       "        <td style=\"padding-left: 1em; padding-right: 1em; text-align: center; vertical-align: top\">83.209</td>\n",
       "        <td style=\"padding-left: 1em; padding-right: 1em; text-align: center; vertical-align: top\">105.53</td>\n",
       "        <td style=\"padding-left: 1em; padding-right: 1em; text-align: center; vertical-align: top\">1.0001</td>\n",
       "        <td style=\"padding-left: 1em; padding-right: 1em; text-align: center; vertical-align: top\">316.32</td>\n",
       "        <td style=\"padding-left: 1em; padding-right: 1em; text-align: center; vertical-align: top\">0.14539</td>\n",
       "    </tr>\n",
       "    <tr>\n",
       "        <td style=\"padding-left: 1em; padding-right: 1em; text-align: center; vertical-align: top\">80.743</td>\n",
       "        <td style=\"padding-left: 1em; padding-right: 1em; text-align: center; vertical-align: top\">102.52</td>\n",
       "        <td style=\"padding-left: 1em; padding-right: 1em; text-align: center; vertical-align: top\">1.0</td>\n",
       "        <td style=\"padding-left: 1em; padding-right: 1em; text-align: center; vertical-align: top\">319.48</td>\n",
       "        <td style=\"padding-left: 1em; padding-right: 1em; text-align: center; vertical-align: top\">0.15219</td>\n",
       "    </tr>\n",
       "</table>\n",
       "[50000 rows x 5 columns]<br/>Note: Only the head of the SFrame is printed.<br/>You can use print_rows(num_rows=m, num_columns=n) to print more rows and columns.\n",
       "</div>"
      ],
      "text/plain": [
       "Columns:\n",
       "\tFlujoRx\tfloat\n",
       "\tFlujoCh\tfloat\n",
       "\tConcent\tfloat\n",
       "\tTempera\tfloat\n",
       "\tVolumen\tfloat\n",
       "\n",
       "Rows: 50000\n",
       "\n",
       "Data:\n",
       "+---------+---------+---------+---------+---------+\n",
       "| FlujoRx | FlujoCh | Concent | Tempera | Volumen |\n",
       "+---------+---------+---------+---------+---------+\n",
       "|  80.16  |  104.75 |   1.0   |  273.15 |   0.1   |\n",
       "|  83.468 |  106.81 | 0.99994 |  281.12 | 0.10498 |\n",
       "|  83.129 |  104.11 | 0.99987 |  287.85 | 0.10998 |\n",
       "|  82.207 |  103.81 | 0.99989 |  293.53 | 0.11505 |\n",
       "|  84.865 |  104.66 | 0.99993 |  298.55 | 0.12019 |\n",
       "|  80.703 |  106.06 | 0.99989 |  304.24 | 0.12674 |\n",
       "|  81.827 |  106.51 | 0.99993 |  308.96 | 0.13308 |\n",
       "|  80.74  |  106.56 |  1.0001 |  312.91 | 0.13918 |\n",
       "|  83.209 |  105.53 |  1.0001 |  316.32 | 0.14539 |\n",
       "|  80.743 |  102.52 |   1.0   |  319.48 | 0.15219 |\n",
       "+---------+---------+---------+---------+---------+\n",
       "[50000 rows x 5 columns]\n",
       "Note: Only the head of the SFrame is printed.\n",
       "You can use print_rows(num_rows=m, num_columns=n) to print more rows and columns."
      ]
     },
     "execution_count": 59,
     "metadata": {},
     "output_type": "execute_result"
    }
   ],
   "source": [
    "#cargamos el archivo en la misma carpeta\n",
    "data = graphlab.SFrame.read_csv('file.csv')\n",
    "#longitud total\n",
    "len (data)\n",
    "data"
   ]
  },
  {
   "cell_type": "code",
   "execution_count": 77,
   "metadata": {
    "collapsed": false
   },
   "outputs": [
    {
     "data": {
      "text/html": [
       "<div style=\"max-height:1000px;max-width:1500px;overflow:auto;\"><table frame=\"box\" rules=\"cols\">\n",
       "    <tr>\n",
       "        <th style=\"padding-left: 1em; padding-right: 1em; text-align: center\">Concent</th>\n",
       "        <th style=\"padding-left: 1em; padding-right: 1em; text-align: center\">FlujoCh</th>\n",
       "        <th style=\"padding-left: 1em; padding-right: 1em; text-align: center\">FlujoRx</th>\n",
       "    </tr>\n",
       "    <tr>\n",
       "        <td style=\"padding-left: 1em; padding-right: 1em; text-align: center; vertical-align: top\">1.0</td>\n",
       "        <td style=\"padding-left: 1em; padding-right: 1em; text-align: center; vertical-align: top\">104.75</td>\n",
       "        <td style=\"padding-left: 1em; padding-right: 1em; text-align: center; vertical-align: top\">80.16</td>\n",
       "    </tr>\n",
       "    <tr>\n",
       "        <td style=\"padding-left: 1em; padding-right: 1em; text-align: center; vertical-align: top\">0.99994</td>\n",
       "        <td style=\"padding-left: 1em; padding-right: 1em; text-align: center; vertical-align: top\">106.81</td>\n",
       "        <td style=\"padding-left: 1em; padding-right: 1em; text-align: center; vertical-align: top\">83.468</td>\n",
       "    </tr>\n",
       "    <tr>\n",
       "        <td style=\"padding-left: 1em; padding-right: 1em; text-align: center; vertical-align: top\">0.99987</td>\n",
       "        <td style=\"padding-left: 1em; padding-right: 1em; text-align: center; vertical-align: top\">104.11</td>\n",
       "        <td style=\"padding-left: 1em; padding-right: 1em; text-align: center; vertical-align: top\">83.129</td>\n",
       "    </tr>\n",
       "    <tr>\n",
       "        <td style=\"padding-left: 1em; padding-right: 1em; text-align: center; vertical-align: top\">0.99989</td>\n",
       "        <td style=\"padding-left: 1em; padding-right: 1em; text-align: center; vertical-align: top\">103.81</td>\n",
       "        <td style=\"padding-left: 1em; padding-right: 1em; text-align: center; vertical-align: top\">82.207</td>\n",
       "    </tr>\n",
       "    <tr>\n",
       "        <td style=\"padding-left: 1em; padding-right: 1em; text-align: center; vertical-align: top\">0.99993</td>\n",
       "        <td style=\"padding-left: 1em; padding-right: 1em; text-align: center; vertical-align: top\">104.66</td>\n",
       "        <td style=\"padding-left: 1em; padding-right: 1em; text-align: center; vertical-align: top\">84.865</td>\n",
       "    </tr>\n",
       "    <tr>\n",
       "        <td style=\"padding-left: 1em; padding-right: 1em; text-align: center; vertical-align: top\">0.99989</td>\n",
       "        <td style=\"padding-left: 1em; padding-right: 1em; text-align: center; vertical-align: top\">106.06</td>\n",
       "        <td style=\"padding-left: 1em; padding-right: 1em; text-align: center; vertical-align: top\">80.703</td>\n",
       "    </tr>\n",
       "    <tr>\n",
       "        <td style=\"padding-left: 1em; padding-right: 1em; text-align: center; vertical-align: top\">0.99993</td>\n",
       "        <td style=\"padding-left: 1em; padding-right: 1em; text-align: center; vertical-align: top\">106.51</td>\n",
       "        <td style=\"padding-left: 1em; padding-right: 1em; text-align: center; vertical-align: top\">81.827</td>\n",
       "    </tr>\n",
       "    <tr>\n",
       "        <td style=\"padding-left: 1em; padding-right: 1em; text-align: center; vertical-align: top\">1.0001</td>\n",
       "        <td style=\"padding-left: 1em; padding-right: 1em; text-align: center; vertical-align: top\">106.56</td>\n",
       "        <td style=\"padding-left: 1em; padding-right: 1em; text-align: center; vertical-align: top\">80.74</td>\n",
       "    </tr>\n",
       "    <tr>\n",
       "        <td style=\"padding-left: 1em; padding-right: 1em; text-align: center; vertical-align: top\">1.0001</td>\n",
       "        <td style=\"padding-left: 1em; padding-right: 1em; text-align: center; vertical-align: top\">105.53</td>\n",
       "        <td style=\"padding-left: 1em; padding-right: 1em; text-align: center; vertical-align: top\">83.209</td>\n",
       "    </tr>\n",
       "    <tr>\n",
       "        <td style=\"padding-left: 1em; padding-right: 1em; text-align: center; vertical-align: top\">1.0</td>\n",
       "        <td style=\"padding-left: 1em; padding-right: 1em; text-align: center; vertical-align: top\">102.52</td>\n",
       "        <td style=\"padding-left: 1em; padding-right: 1em; text-align: center; vertical-align: top\">80.743</td>\n",
       "    </tr>\n",
       "</table>\n",
       "[50000 rows x 3 columns]<br/>Note: Only the head of the SFrame is printed.<br/>You can use print_rows(num_rows=m, num_columns=n) to print more rows and columns.\n",
       "</div>"
      ],
      "text/plain": [
       "Columns:\n",
       "\tConcent\tfloat\n",
       "\tFlujoCh\tfloat\n",
       "\tFlujoRx\tfloat\n",
       "\n",
       "Rows: 50000\n",
       "\n",
       "Data:\n",
       "+---------+---------+---------+\n",
       "| Concent | FlujoCh | FlujoRx |\n",
       "+---------+---------+---------+\n",
       "|   1.0   |  104.75 |  80.16  |\n",
       "| 0.99994 |  106.81 |  83.468 |\n",
       "| 0.99987 |  104.11 |  83.129 |\n",
       "| 0.99989 |  103.81 |  82.207 |\n",
       "| 0.99993 |  104.66 |  84.865 |\n",
       "| 0.99989 |  106.06 |  80.703 |\n",
       "| 0.99993 |  106.51 |  81.827 |\n",
       "|  1.0001 |  106.56 |  80.74  |\n",
       "|  1.0001 |  105.53 |  83.209 |\n",
       "|   1.0   |  102.52 |  80.743 |\n",
       "+---------+---------+---------+\n",
       "[50000 rows x 3 columns]\n",
       "Note: Only the head of the SFrame is printed.\n",
       "You can use print_rows(num_rows=m, num_columns=n) to print more rows and columns."
      ]
     },
     "execution_count": 77,
     "metadata": {},
     "output_type": "execute_result"
    }
   ],
   "source": [
    "#creacion de la tabla de relacion Variables entrada Vs salida Concentracion \n",
    "entvsC = graphlab.SFrame({'Concent':data.select_column('Concent'),'FlujoCh':data.select_column('FlujoCh'),\n",
    "                          'FlujoRx':data.select_column('FlujoRx')})\n",
    "entvsC"
   ]
  },
  {
   "cell_type": "code",
   "execution_count": 78,
   "metadata": {
    "collapsed": false
   },
   "outputs": [
    {
     "data": {
      "text/html": [
       "<div style=\"max-height:1000px;max-width:1500px;overflow:auto;\"><table frame=\"box\" rules=\"cols\">\n",
       "    <tr>\n",
       "        <th style=\"padding-left: 1em; padding-right: 1em; text-align: center\">FlujoCh</th>\n",
       "        <th style=\"padding-left: 1em; padding-right: 1em; text-align: center\">FlujoRx</th>\n",
       "        <th style=\"padding-left: 1em; padding-right: 1em; text-align: center\">Tempera</th>\n",
       "    </tr>\n",
       "    <tr>\n",
       "        <td style=\"padding-left: 1em; padding-right: 1em; text-align: center; vertical-align: top\">104.75</td>\n",
       "        <td style=\"padding-left: 1em; padding-right: 1em; text-align: center; vertical-align: top\">80.16</td>\n",
       "        <td style=\"padding-left: 1em; padding-right: 1em; text-align: center; vertical-align: top\">273.15</td>\n",
       "    </tr>\n",
       "    <tr>\n",
       "        <td style=\"padding-left: 1em; padding-right: 1em; text-align: center; vertical-align: top\">106.81</td>\n",
       "        <td style=\"padding-left: 1em; padding-right: 1em; text-align: center; vertical-align: top\">83.468</td>\n",
       "        <td style=\"padding-left: 1em; padding-right: 1em; text-align: center; vertical-align: top\">281.12</td>\n",
       "    </tr>\n",
       "    <tr>\n",
       "        <td style=\"padding-left: 1em; padding-right: 1em; text-align: center; vertical-align: top\">104.11</td>\n",
       "        <td style=\"padding-left: 1em; padding-right: 1em; text-align: center; vertical-align: top\">83.129</td>\n",
       "        <td style=\"padding-left: 1em; padding-right: 1em; text-align: center; vertical-align: top\">287.85</td>\n",
       "    </tr>\n",
       "    <tr>\n",
       "        <td style=\"padding-left: 1em; padding-right: 1em; text-align: center; vertical-align: top\">103.81</td>\n",
       "        <td style=\"padding-left: 1em; padding-right: 1em; text-align: center; vertical-align: top\">82.207</td>\n",
       "        <td style=\"padding-left: 1em; padding-right: 1em; text-align: center; vertical-align: top\">293.53</td>\n",
       "    </tr>\n",
       "    <tr>\n",
       "        <td style=\"padding-left: 1em; padding-right: 1em; text-align: center; vertical-align: top\">104.66</td>\n",
       "        <td style=\"padding-left: 1em; padding-right: 1em; text-align: center; vertical-align: top\">84.865</td>\n",
       "        <td style=\"padding-left: 1em; padding-right: 1em; text-align: center; vertical-align: top\">298.55</td>\n",
       "    </tr>\n",
       "    <tr>\n",
       "        <td style=\"padding-left: 1em; padding-right: 1em; text-align: center; vertical-align: top\">106.06</td>\n",
       "        <td style=\"padding-left: 1em; padding-right: 1em; text-align: center; vertical-align: top\">80.703</td>\n",
       "        <td style=\"padding-left: 1em; padding-right: 1em; text-align: center; vertical-align: top\">304.24</td>\n",
       "    </tr>\n",
       "    <tr>\n",
       "        <td style=\"padding-left: 1em; padding-right: 1em; text-align: center; vertical-align: top\">106.51</td>\n",
       "        <td style=\"padding-left: 1em; padding-right: 1em; text-align: center; vertical-align: top\">81.827</td>\n",
       "        <td style=\"padding-left: 1em; padding-right: 1em; text-align: center; vertical-align: top\">308.96</td>\n",
       "    </tr>\n",
       "    <tr>\n",
       "        <td style=\"padding-left: 1em; padding-right: 1em; text-align: center; vertical-align: top\">106.56</td>\n",
       "        <td style=\"padding-left: 1em; padding-right: 1em; text-align: center; vertical-align: top\">80.74</td>\n",
       "        <td style=\"padding-left: 1em; padding-right: 1em; text-align: center; vertical-align: top\">312.91</td>\n",
       "    </tr>\n",
       "    <tr>\n",
       "        <td style=\"padding-left: 1em; padding-right: 1em; text-align: center; vertical-align: top\">105.53</td>\n",
       "        <td style=\"padding-left: 1em; padding-right: 1em; text-align: center; vertical-align: top\">83.209</td>\n",
       "        <td style=\"padding-left: 1em; padding-right: 1em; text-align: center; vertical-align: top\">316.32</td>\n",
       "    </tr>\n",
       "    <tr>\n",
       "        <td style=\"padding-left: 1em; padding-right: 1em; text-align: center; vertical-align: top\">102.52</td>\n",
       "        <td style=\"padding-left: 1em; padding-right: 1em; text-align: center; vertical-align: top\">80.743</td>\n",
       "        <td style=\"padding-left: 1em; padding-right: 1em; text-align: center; vertical-align: top\">319.48</td>\n",
       "    </tr>\n",
       "</table>\n",
       "[50000 rows x 3 columns]<br/>Note: Only the head of the SFrame is printed.<br/>You can use print_rows(num_rows=m, num_columns=n) to print more rows and columns.\n",
       "</div>"
      ],
      "text/plain": [
       "Columns:\n",
       "\tFlujoCh\tfloat\n",
       "\tFlujoRx\tfloat\n",
       "\tTempera\tfloat\n",
       "\n",
       "Rows: 50000\n",
       "\n",
       "Data:\n",
       "+---------+---------+---------+\n",
       "| FlujoCh | FlujoRx | Tempera |\n",
       "+---------+---------+---------+\n",
       "|  104.75 |  80.16  |  273.15 |\n",
       "|  106.81 |  83.468 |  281.12 |\n",
       "|  104.11 |  83.129 |  287.85 |\n",
       "|  103.81 |  82.207 |  293.53 |\n",
       "|  104.66 |  84.865 |  298.55 |\n",
       "|  106.06 |  80.703 |  304.24 |\n",
       "|  106.51 |  81.827 |  308.96 |\n",
       "|  106.56 |  80.74  |  312.91 |\n",
       "|  105.53 |  83.209 |  316.32 |\n",
       "|  102.52 |  80.743 |  319.48 |\n",
       "+---------+---------+---------+\n",
       "[50000 rows x 3 columns]\n",
       "Note: Only the head of the SFrame is printed.\n",
       "You can use print_rows(num_rows=m, num_columns=n) to print more rows and columns."
      ]
     },
     "execution_count": 78,
     "metadata": {},
     "output_type": "execute_result"
    }
   ],
   "source": [
    "#creacion de la tabla de relacion Variables entrada Vs salida Temp \n",
    "entvsT = graphlab.SFrame({'Tempera':data.select_column('Tempera'),'FlujoCh':data.select_column('FlujoCh'),\n",
    "                          'FlujoRx':data.select_column('FlujoRx')})\n",
    "entvsT"
   ]
  },
  {
   "cell_type": "code",
   "execution_count": 79,
   "metadata": {
    "collapsed": false
   },
   "outputs": [
    {
     "data": {
      "text/html": [
       "<div style=\"max-height:1000px;max-width:1500px;overflow:auto;\"><table frame=\"box\" rules=\"cols\">\n",
       "    <tr>\n",
       "        <th style=\"padding-left: 1em; padding-right: 1em; text-align: center\">FlujoCh</th>\n",
       "        <th style=\"padding-left: 1em; padding-right: 1em; text-align: center\">FlujoRx</th>\n",
       "        <th style=\"padding-left: 1em; padding-right: 1em; text-align: center\">Volumen</th>\n",
       "    </tr>\n",
       "    <tr>\n",
       "        <td style=\"padding-left: 1em; padding-right: 1em; text-align: center; vertical-align: top\">104.75</td>\n",
       "        <td style=\"padding-left: 1em; padding-right: 1em; text-align: center; vertical-align: top\">80.16</td>\n",
       "        <td style=\"padding-left: 1em; padding-right: 1em; text-align: center; vertical-align: top\">0.1</td>\n",
       "    </tr>\n",
       "    <tr>\n",
       "        <td style=\"padding-left: 1em; padding-right: 1em; text-align: center; vertical-align: top\">106.81</td>\n",
       "        <td style=\"padding-left: 1em; padding-right: 1em; text-align: center; vertical-align: top\">83.468</td>\n",
       "        <td style=\"padding-left: 1em; padding-right: 1em; text-align: center; vertical-align: top\">0.10498</td>\n",
       "    </tr>\n",
       "    <tr>\n",
       "        <td style=\"padding-left: 1em; padding-right: 1em; text-align: center; vertical-align: top\">104.11</td>\n",
       "        <td style=\"padding-left: 1em; padding-right: 1em; text-align: center; vertical-align: top\">83.129</td>\n",
       "        <td style=\"padding-left: 1em; padding-right: 1em; text-align: center; vertical-align: top\">0.10998</td>\n",
       "    </tr>\n",
       "    <tr>\n",
       "        <td style=\"padding-left: 1em; padding-right: 1em; text-align: center; vertical-align: top\">103.81</td>\n",
       "        <td style=\"padding-left: 1em; padding-right: 1em; text-align: center; vertical-align: top\">82.207</td>\n",
       "        <td style=\"padding-left: 1em; padding-right: 1em; text-align: center; vertical-align: top\">0.11505</td>\n",
       "    </tr>\n",
       "    <tr>\n",
       "        <td style=\"padding-left: 1em; padding-right: 1em; text-align: center; vertical-align: top\">104.66</td>\n",
       "        <td style=\"padding-left: 1em; padding-right: 1em; text-align: center; vertical-align: top\">84.865</td>\n",
       "        <td style=\"padding-left: 1em; padding-right: 1em; text-align: center; vertical-align: top\">0.12019</td>\n",
       "    </tr>\n",
       "    <tr>\n",
       "        <td style=\"padding-left: 1em; padding-right: 1em; text-align: center; vertical-align: top\">106.06</td>\n",
       "        <td style=\"padding-left: 1em; padding-right: 1em; text-align: center; vertical-align: top\">80.703</td>\n",
       "        <td style=\"padding-left: 1em; padding-right: 1em; text-align: center; vertical-align: top\">0.12674</td>\n",
       "    </tr>\n",
       "    <tr>\n",
       "        <td style=\"padding-left: 1em; padding-right: 1em; text-align: center; vertical-align: top\">106.51</td>\n",
       "        <td style=\"padding-left: 1em; padding-right: 1em; text-align: center; vertical-align: top\">81.827</td>\n",
       "        <td style=\"padding-left: 1em; padding-right: 1em; text-align: center; vertical-align: top\">0.13308</td>\n",
       "    </tr>\n",
       "    <tr>\n",
       "        <td style=\"padding-left: 1em; padding-right: 1em; text-align: center; vertical-align: top\">106.56</td>\n",
       "        <td style=\"padding-left: 1em; padding-right: 1em; text-align: center; vertical-align: top\">80.74</td>\n",
       "        <td style=\"padding-left: 1em; padding-right: 1em; text-align: center; vertical-align: top\">0.13918</td>\n",
       "    </tr>\n",
       "    <tr>\n",
       "        <td style=\"padding-left: 1em; padding-right: 1em; text-align: center; vertical-align: top\">105.53</td>\n",
       "        <td style=\"padding-left: 1em; padding-right: 1em; text-align: center; vertical-align: top\">83.209</td>\n",
       "        <td style=\"padding-left: 1em; padding-right: 1em; text-align: center; vertical-align: top\">0.14539</td>\n",
       "    </tr>\n",
       "    <tr>\n",
       "        <td style=\"padding-left: 1em; padding-right: 1em; text-align: center; vertical-align: top\">102.52</td>\n",
       "        <td style=\"padding-left: 1em; padding-right: 1em; text-align: center; vertical-align: top\">80.743</td>\n",
       "        <td style=\"padding-left: 1em; padding-right: 1em; text-align: center; vertical-align: top\">0.15219</td>\n",
       "    </tr>\n",
       "</table>\n",
       "[50000 rows x 3 columns]<br/>Note: Only the head of the SFrame is printed.<br/>You can use print_rows(num_rows=m, num_columns=n) to print more rows and columns.\n",
       "</div>"
      ],
      "text/plain": [
       "Columns:\n",
       "\tFlujoCh\tfloat\n",
       "\tFlujoRx\tfloat\n",
       "\tVolumen\tfloat\n",
       "\n",
       "Rows: 50000\n",
       "\n",
       "Data:\n",
       "+---------+---------+---------+\n",
       "| FlujoCh | FlujoRx | Volumen |\n",
       "+---------+---------+---------+\n",
       "|  104.75 |  80.16  |   0.1   |\n",
       "|  106.81 |  83.468 | 0.10498 |\n",
       "|  104.11 |  83.129 | 0.10998 |\n",
       "|  103.81 |  82.207 | 0.11505 |\n",
       "|  104.66 |  84.865 | 0.12019 |\n",
       "|  106.06 |  80.703 | 0.12674 |\n",
       "|  106.51 |  81.827 | 0.13308 |\n",
       "|  106.56 |  80.74  | 0.13918 |\n",
       "|  105.53 |  83.209 | 0.14539 |\n",
       "|  102.52 |  80.743 | 0.15219 |\n",
       "+---------+---------+---------+\n",
       "[50000 rows x 3 columns]\n",
       "Note: Only the head of the SFrame is printed.\n",
       "You can use print_rows(num_rows=m, num_columns=n) to print more rows and columns."
      ]
     },
     "execution_count": 79,
     "metadata": {},
     "output_type": "execute_result"
    }
   ],
   "source": [
    "#creacion de la tabla de relacion Variables entrada Vs salida Temp \n",
    "entvsV = graphlab.SFrame({'Volumen':data.select_column('Volumen'),'FlujoCh':data.select_column('FlujoCh'),\n",
    "                          'FlujoRx':data.select_column('FlujoRx')})\n",
    "entvsV"
   ]
  },
  {
   "cell_type": "code",
   "execution_count": 80,
   "metadata": {
    "collapsed": true
   },
   "outputs": [],
   "source": [
    "#Division en Entrenamento y Validation para cada net\n",
    "training_dataC, validation_dataC = entvsC.random_split(0.8) #DB concentracion\n",
    "training_dataT, validation_dataT = entvsT.random_split(0.8) #DB temperatura\n",
    "training_dataV, validation_dataV = entvsV.random_split(0.8) #DB volumen"
   ]
  },
  {
   "cell_type": "code",
   "execution_count": 86,
   "metadata": {
    "collapsed": false
   },
   "outputs": [
    {
     "data": {
      "text/html": [
       "<div style=\"max-height:1000px;max-width:1500px;overflow:auto;\"><table frame=\"box\" rules=\"cols\">\n",
       "    <tr>\n",
       "        <th style=\"padding-left: 1em; padding-right: 1em; text-align: center\">FlujoCh</th>\n",
       "        <th style=\"padding-left: 1em; padding-right: 1em; text-align: center\">FlujoRx</th>\n",
       "        <th style=\"padding-left: 1em; padding-right: 1em; text-align: center\">Tempera</th>\n",
       "    </tr>\n",
       "    <tr>\n",
       "        <td style=\"padding-left: 1em; padding-right: 1em; text-align: center; vertical-align: top\">104.75</td>\n",
       "        <td style=\"padding-left: 1em; padding-right: 1em; text-align: center; vertical-align: top\">80.16</td>\n",
       "        <td style=\"padding-left: 1em; padding-right: 1em; text-align: center; vertical-align: top\">273.15</td>\n",
       "    </tr>\n",
       "    <tr>\n",
       "        <td style=\"padding-left: 1em; padding-right: 1em; text-align: center; vertical-align: top\">106.81</td>\n",
       "        <td style=\"padding-left: 1em; padding-right: 1em; text-align: center; vertical-align: top\">83.468</td>\n",
       "        <td style=\"padding-left: 1em; padding-right: 1em; text-align: center; vertical-align: top\">281.12</td>\n",
       "    </tr>\n",
       "    <tr>\n",
       "        <td style=\"padding-left: 1em; padding-right: 1em; text-align: center; vertical-align: top\">104.11</td>\n",
       "        <td style=\"padding-left: 1em; padding-right: 1em; text-align: center; vertical-align: top\">83.129</td>\n",
       "        <td style=\"padding-left: 1em; padding-right: 1em; text-align: center; vertical-align: top\">287.85</td>\n",
       "    </tr>\n",
       "    <tr>\n",
       "        <td style=\"padding-left: 1em; padding-right: 1em; text-align: center; vertical-align: top\">103.81</td>\n",
       "        <td style=\"padding-left: 1em; padding-right: 1em; text-align: center; vertical-align: top\">82.207</td>\n",
       "        <td style=\"padding-left: 1em; padding-right: 1em; text-align: center; vertical-align: top\">293.53</td>\n",
       "    </tr>\n",
       "    <tr>\n",
       "        <td style=\"padding-left: 1em; padding-right: 1em; text-align: center; vertical-align: top\">104.66</td>\n",
       "        <td style=\"padding-left: 1em; padding-right: 1em; text-align: center; vertical-align: top\">84.865</td>\n",
       "        <td style=\"padding-left: 1em; padding-right: 1em; text-align: center; vertical-align: top\">298.55</td>\n",
       "    </tr>\n",
       "    <tr>\n",
       "        <td style=\"padding-left: 1em; padding-right: 1em; text-align: center; vertical-align: top\">106.06</td>\n",
       "        <td style=\"padding-left: 1em; padding-right: 1em; text-align: center; vertical-align: top\">80.703</td>\n",
       "        <td style=\"padding-left: 1em; padding-right: 1em; text-align: center; vertical-align: top\">304.24</td>\n",
       "    </tr>\n",
       "    <tr>\n",
       "        <td style=\"padding-left: 1em; padding-right: 1em; text-align: center; vertical-align: top\">106.51</td>\n",
       "        <td style=\"padding-left: 1em; padding-right: 1em; text-align: center; vertical-align: top\">81.827</td>\n",
       "        <td style=\"padding-left: 1em; padding-right: 1em; text-align: center; vertical-align: top\">308.96</td>\n",
       "    </tr>\n",
       "    <tr>\n",
       "        <td style=\"padding-left: 1em; padding-right: 1em; text-align: center; vertical-align: top\">106.56</td>\n",
       "        <td style=\"padding-left: 1em; padding-right: 1em; text-align: center; vertical-align: top\">80.74</td>\n",
       "        <td style=\"padding-left: 1em; padding-right: 1em; text-align: center; vertical-align: top\">312.91</td>\n",
       "    </tr>\n",
       "    <tr>\n",
       "        <td style=\"padding-left: 1em; padding-right: 1em; text-align: center; vertical-align: top\">105.53</td>\n",
       "        <td style=\"padding-left: 1em; padding-right: 1em; text-align: center; vertical-align: top\">83.209</td>\n",
       "        <td style=\"padding-left: 1em; padding-right: 1em; text-align: center; vertical-align: top\">316.32</td>\n",
       "    </tr>\n",
       "    <tr>\n",
       "        <td style=\"padding-left: 1em; padding-right: 1em; text-align: center; vertical-align: top\">102.52</td>\n",
       "        <td style=\"padding-left: 1em; padding-right: 1em; text-align: center; vertical-align: top\">80.743</td>\n",
       "        <td style=\"padding-left: 1em; padding-right: 1em; text-align: center; vertical-align: top\">319.48</td>\n",
       "    </tr>\n",
       "</table>\n",
       "[39888 rows x 3 columns]<br/>Note: Only the head of the SFrame is printed.<br/>You can use print_rows(num_rows=m, num_columns=n) to print more rows and columns.\n",
       "</div>"
      ],
      "text/plain": [
       "Columns:\n",
       "\tFlujoCh\tfloat\n",
       "\tFlujoRx\tfloat\n",
       "\tTempera\tfloat\n",
       "\n",
       "Rows: 39888\n",
       "\n",
       "Data:\n",
       "+---------+---------+---------+\n",
       "| FlujoCh | FlujoRx | Tempera |\n",
       "+---------+---------+---------+\n",
       "|  104.75 |  80.16  |  273.15 |\n",
       "|  106.81 |  83.468 |  281.12 |\n",
       "|  104.11 |  83.129 |  287.85 |\n",
       "|  103.81 |  82.207 |  293.53 |\n",
       "|  104.66 |  84.865 |  298.55 |\n",
       "|  106.06 |  80.703 |  304.24 |\n",
       "|  106.51 |  81.827 |  308.96 |\n",
       "|  106.56 |  80.74  |  312.91 |\n",
       "|  105.53 |  83.209 |  316.32 |\n",
       "|  102.52 |  80.743 |  319.48 |\n",
       "+---------+---------+---------+\n",
       "[39888 rows x 3 columns]\n",
       "Note: Only the head of the SFrame is printed.\n",
       "You can use print_rows(num_rows=m, num_columns=n) to print more rows and columns."
      ]
     },
     "execution_count": 86,
     "metadata": {},
     "output_type": "execute_result"
    }
   ],
   "source": [
    "#Comprobacion longitud Entrenamiento 80%\n",
    "len(training_dataC)\n",
    "training_dataC"
   ]
  },
  {
   "cell_type": "code",
   "execution_count": 84,
   "metadata": {
    "collapsed": false
   },
   "outputs": [
    {
     "data": {
      "text/html": [
       "<div style=\"max-height:1000px;max-width:1500px;overflow:auto;\"><table frame=\"box\" rules=\"cols\">\n",
       "    <tr>\n",
       "        <th style=\"padding-left: 1em; padding-right: 1em; text-align: center\">Concent</th>\n",
       "        <th style=\"padding-left: 1em; padding-right: 1em; text-align: center\">FlujoCh</th>\n",
       "        <th style=\"padding-left: 1em; padding-right: 1em; text-align: center\">FlujoRx</th>\n",
       "    </tr>\n",
       "    <tr>\n",
       "        <td style=\"padding-left: 1em; padding-right: 1em; text-align: center; vertical-align: top\">0.99987</td>\n",
       "        <td style=\"padding-left: 1em; padding-right: 1em; text-align: center; vertical-align: top\">104.11</td>\n",
       "        <td style=\"padding-left: 1em; padding-right: 1em; text-align: center; vertical-align: top\">83.129</td>\n",
       "    </tr>\n",
       "    <tr>\n",
       "        <td style=\"padding-left: 1em; padding-right: 1em; text-align: center; vertical-align: top\">0.99989</td>\n",
       "        <td style=\"padding-left: 1em; padding-right: 1em; text-align: center; vertical-align: top\">103.81</td>\n",
       "        <td style=\"padding-left: 1em; padding-right: 1em; text-align: center; vertical-align: top\">82.207</td>\n",
       "    </tr>\n",
       "    <tr>\n",
       "        <td style=\"padding-left: 1em; padding-right: 1em; text-align: center; vertical-align: top\">0.99993</td>\n",
       "        <td style=\"padding-left: 1em; padding-right: 1em; text-align: center; vertical-align: top\">106.51</td>\n",
       "        <td style=\"padding-left: 1em; padding-right: 1em; text-align: center; vertical-align: top\">81.827</td>\n",
       "    </tr>\n",
       "    <tr>\n",
       "        <td style=\"padding-left: 1em; padding-right: 1em; text-align: center; vertical-align: top\">1.0</td>\n",
       "        <td style=\"padding-left: 1em; padding-right: 1em; text-align: center; vertical-align: top\">102.52</td>\n",
       "        <td style=\"padding-left: 1em; padding-right: 1em; text-align: center; vertical-align: top\">80.743</td>\n",
       "    </tr>\n",
       "    <tr>\n",
       "        <td style=\"padding-left: 1em; padding-right: 1em; text-align: center; vertical-align: top\">1.0</td>\n",
       "        <td style=\"padding-left: 1em; padding-right: 1em; text-align: center; vertical-align: top\">107.21</td>\n",
       "        <td style=\"padding-left: 1em; padding-right: 1em; text-align: center; vertical-align: top\">80.343</td>\n",
       "    </tr>\n",
       "    <tr>\n",
       "        <td style=\"padding-left: 1em; padding-right: 1em; text-align: center; vertical-align: top\">0.99989</td>\n",
       "        <td style=\"padding-left: 1em; padding-right: 1em; text-align: center; vertical-align: top\">106.36</td>\n",
       "        <td style=\"padding-left: 1em; padding-right: 1em; text-align: center; vertical-align: top\">83.516</td>\n",
       "    </tr>\n",
       "    <tr>\n",
       "        <td style=\"padding-left: 1em; padding-right: 1em; text-align: center; vertical-align: top\">1.0001</td>\n",
       "        <td style=\"padding-left: 1em; padding-right: 1em; text-align: center; vertical-align: top\">106.85</td>\n",
       "        <td style=\"padding-left: 1em; padding-right: 1em; text-align: center; vertical-align: top\">83.532</td>\n",
       "    </tr>\n",
       "    <tr>\n",
       "        <td style=\"padding-left: 1em; padding-right: 1em; text-align: center; vertical-align: top\">0.99982</td>\n",
       "        <td style=\"padding-left: 1em; padding-right: 1em; text-align: center; vertical-align: top\">102.58</td>\n",
       "        <td style=\"padding-left: 1em; padding-right: 1em; text-align: center; vertical-align: top\">79.294</td>\n",
       "    </tr>\n",
       "    <tr>\n",
       "        <td style=\"padding-left: 1em; padding-right: 1em; text-align: center; vertical-align: top\">1.0001</td>\n",
       "        <td style=\"padding-left: 1em; padding-right: 1em; text-align: center; vertical-align: top\">103.11</td>\n",
       "        <td style=\"padding-left: 1em; padding-right: 1em; text-align: center; vertical-align: top\">84.515</td>\n",
       "    </tr>\n",
       "    <tr>\n",
       "        <td style=\"padding-left: 1em; padding-right: 1em; text-align: center; vertical-align: top\">0.99962</td>\n",
       "        <td style=\"padding-left: 1em; padding-right: 1em; text-align: center; vertical-align: top\">102.65</td>\n",
       "        <td style=\"padding-left: 1em; padding-right: 1em; text-align: center; vertical-align: top\">79.415</td>\n",
       "    </tr>\n",
       "</table>\n",
       "[9916 rows x 3 columns]<br/>Note: Only the head of the SFrame is printed.<br/>You can use print_rows(num_rows=m, num_columns=n) to print more rows and columns.\n",
       "</div>"
      ],
      "text/plain": [
       "Columns:\n",
       "\tConcent\tfloat\n",
       "\tFlujoCh\tfloat\n",
       "\tFlujoRx\tfloat\n",
       "\n",
       "Rows: 9916\n",
       "\n",
       "Data:\n",
       "+---------+---------+---------+\n",
       "| Concent | FlujoCh | FlujoRx |\n",
       "+---------+---------+---------+\n",
       "| 0.99987 |  104.11 |  83.129 |\n",
       "| 0.99989 |  103.81 |  82.207 |\n",
       "| 0.99993 |  106.51 |  81.827 |\n",
       "|   1.0   |  102.52 |  80.743 |\n",
       "|   1.0   |  107.21 |  80.343 |\n",
       "| 0.99989 |  106.36 |  83.516 |\n",
       "|  1.0001 |  106.85 |  83.532 |\n",
       "| 0.99982 |  102.58 |  79.294 |\n",
       "|  1.0001 |  103.11 |  84.515 |\n",
       "| 0.99962 |  102.65 |  79.415 |\n",
       "+---------+---------+---------+\n",
       "[9916 rows x 3 columns]\n",
       "Note: Only the head of the SFrame is printed.\n",
       "You can use print_rows(num_rows=m, num_columns=n) to print more rows and columns."
      ]
     },
     "execution_count": 84,
     "metadata": {},
     "output_type": "execute_result"
    }
   ],
   "source": [
    "#Comprobacion longitud Validacion 20%\n",
    "len(validation_dataC)\n",
    "validation_dataC"
   ]
  },
  {
   "cell_type": "code",
   "execution_count": 87,
   "metadata": {
    "collapsed": false
   },
   "outputs": [
    {
     "data": {
      "application/javascript": [
       "$(\"head\").append($(\"<link/>\").attr({\n",
       "  rel:  \"stylesheet\",\n",
       "  type: \"text/css\",\n",
       "  href: \"//cdnjs.cloudflare.com/ajax/libs/font-awesome/4.1.0/css/font-awesome.min.css\"\n",
       "}));\n",
       "$(\"head\").append($(\"<link/>\").attr({\n",
       "  rel:  \"stylesheet\",\n",
       "  type: \"text/css\",\n",
       "  href: \"https://static.turi.com/products/graphlab-create/2.1/canvas/css/canvas.css\"\n",
       "}));\n",
       "\n",
       "            (function(){\n",
       "\n",
       "                var e = null;\n",
       "                if (typeof element == 'undefined') {\n",
       "                    var scripts = document.getElementsByTagName('script');\n",
       "                    var thisScriptTag = scripts[scripts.length-1];\n",
       "                    var parentDiv = thisScriptTag.parentNode;\n",
       "                    e = document.createElement('div');\n",
       "                    parentDiv.appendChild(e);\n",
       "                } else {\n",
       "                    e = element[0];\n",
       "                }\n",
       "\n",
       "                if (typeof requirejs !== 'undefined') {\n",
       "                    // disable load timeout; ipython_app.js is large and can take a while to load.\n",
       "                    requirejs.config({waitSeconds: 0});\n",
       "                }\n",
       "\n",
       "                require(['https://static.turi.com/products/graphlab-create/2.1/canvas/js/ipython_app.js'], function(IPythonApp){\n",
       "                    var app = new IPythonApp();\n",
       "                    app.attachView('sarray','Numeric', {\"ipython\": true, \"sketch\": {\"std\": 0.0016671497253342472, \"complete\": true, \"min\": 0.99452, \"max\": 1.0003, \"quantile\": [0.99452, 0.99499, 0.99517, 0.99521, 0.99523, 0.99526, 0.99528, 0.9953, 0.99531, 0.99532, 0.99536, 0.99539, 0.99543, 0.99544, 0.99546, 0.99546, 0.99547, 0.99548, 0.99551, 0.99552, 0.99553, 0.99554, 0.99555, 0.99556, 0.99557, 0.9956, 0.99561, 0.99563, 0.99564, 0.99567, 0.99568, 0.99571, 0.99571, 0.99573, 0.99576, 0.99576, 0.99578, 0.99581, 0.99584, 0.99585, 0.99587, 0.99589, 0.99592, 0.99593, 0.99596, 0.99598, 0.99599, 0.99603, 0.99606, 0.99611, 0.99615, 0.99622, 0.99624, 0.99633, 0.9964, 0.99644, 0.99648, 0.99653, 0.99658, 0.99668, 0.99675, 0.99682, 0.99692, 0.9971, 0.99722, 0.99727, 0.99737, 0.99745, 0.9975, 0.99777, 0.99807, 0.99819, 0.99829, 0.99843, 0.99852, 0.99858, 0.99863, 0.99866, 0.9987, 0.99875, 0.99885, 0.99889, 0.99907, 0.99933, 0.99944, 0.99948, 0.99951, 0.99957, 0.9996, 0.99972, 0.99982, 0.99988, 0.99989, 0.99993, 0.99994, 0.99998, 1.0, 1.0001, 1.0001, 1.0001, 1.0003], \"median\": 0.99615, \"numeric\": true, \"num_unique\": 261, \"num_undefined\": 0, \"var\": 2.779388206682056e-06, \"progress\": 1.0, \"size\": 40084, \"frequent_items\": {\"1.0\": {\"frequency\": 633, \"value\": 1.0}, \"0.99561\": {\"frequency\": 153, \"value\": 0.99561}, \"0.99722\": {\"frequency\": 84, \"value\": 0.99722}, \"0.99596\": {\"frequency\": 239, \"value\": 0.99596}, \"0.99947\": {\"frequency\": 80, \"value\": 0.99947}, \"0.99681\": {\"frequency\": 77, \"value\": 0.99681}, \"0.99666\": {\"frequency\": 83, \"value\": 0.99666}, \"0.99719\": {\"frequency\": 79, \"value\": 0.99719}, \"0.99543\": {\"frequency\": 161, \"value\": 0.99543}, \"0.99859\": {\"frequency\": 166, \"value\": 0.99859}, \"0.99736\": {\"frequency\": 88, \"value\": 0.99736}, \"0.9952\": {\"frequency\": 80, \"value\": 0.9952}, \"0.99648\": {\"frequency\": 85, \"value\": 0.99648}, \"0.99683\": {\"frequency\": 87, \"value\": 0.99683}, \"0.99637\": {\"frequency\": 86, \"value\": 0.99637}, \"0.9956\": {\"frequency\": 320, \"value\": 0.9956}, \"0.99595\": {\"frequency\": 85, \"value\": 0.99595}, \"0.99833\": {\"frequency\": 159, \"value\": 0.99833}, \"0.99946\": {\"frequency\": 231, \"value\": 0.99946}, \"0.99476\": {\"frequency\": 82, \"value\": 0.99476}, \"0.99823\": {\"frequency\": 81, \"value\": 0.99823}, \"0.99594\": {\"frequency\": 153, \"value\": 0.99594}, \"0.99542\": {\"frequency\": 150, \"value\": 0.99542}, \"0.99858\": {\"frequency\": 80, \"value\": 0.99858}, \"0.99577\": {\"frequency\": 228, \"value\": 0.99577}, \"0.99612\": {\"frequency\": 79, \"value\": 0.99612}, \"0.99647\": {\"frequency\": 81, \"value\": 0.99647}, \"0.9971\": {\"frequency\": 75, \"value\": 0.9971}, \"0.99682\": {\"frequency\": 173, \"value\": 0.99682}, \"0.99998\": {\"frequency\": 243, \"value\": 0.99998}, \"0.99875\": {\"frequency\": 83, \"value\": 0.99875}, \"0.99827\": {\"frequency\": 79, \"value\": 0.99827}, \"0.99752\": {\"frequency\": 83, \"value\": 0.99752}, \"0.99549\": {\"frequency\": 245, \"value\": 0.99549}, \"0.99664\": {\"frequency\": 78, \"value\": 0.99664}, \"0.9998\": {\"frequency\": 79, \"value\": 0.9998}, \"0.99982\": {\"frequency\": 80, \"value\": 0.99982}, \"1.0003\": {\"frequency\": 157, \"value\": 1.0003}, \"0.99576\": {\"frequency\": 565, \"value\": 0.99576}, \"0.99614\": {\"frequency\": 77, \"value\": 0.99614}, \"0.99611\": {\"frequency\": 242, \"value\": 0.99611}, \"0.99862\": {\"frequency\": 78, \"value\": 0.99862}, \"0.99646\": {\"frequency\": 84, \"value\": 0.99646}, \"0.99962\": {\"frequency\": 161, \"value\": 0.99962}, \"0.99523\": {\"frequency\": 172, \"value\": 0.99523}, \"0.99997\": {\"frequency\": 80, \"value\": 0.99997}, \"0.99558\": {\"frequency\": 163, \"value\": 0.99558}, \"0.99593\": {\"frequency\": 153, \"value\": 0.99593}, \"0.99615\": {\"frequency\": 161, \"value\": 0.99615}, \"0.99628\": {\"frequency\": 86, \"value\": 0.99628}, \"0.99944\": {\"frequency\": 77, \"value\": 0.99944}, \"0.99581\": {\"frequency\": 172, \"value\": 0.99581}, \"0.9954\": {\"frequency\": 157, \"value\": 0.9954}, \"0.99891\": {\"frequency\": 82, \"value\": 0.99891}, \"0.99935\": {\"frequency\": 77, \"value\": 0.99935}, \"0.9961\": {\"frequency\": 85, \"value\": 0.9961}, \"0.99721\": {\"frequency\": 86, \"value\": 0.99721}, \"0.99645\": {\"frequency\": 89, \"value\": 0.99645}, \"0.99578\": {\"frequency\": 327, \"value\": 0.99578}, \"0.99996\": {\"frequency\": 77, \"value\": 0.99996}, \"0.99557\": {\"frequency\": 401, \"value\": 0.99557}, \"0.9975\": {\"frequency\": 248, \"value\": 0.9975}, \"0.99908\": {\"frequency\": 78, \"value\": 0.99908}, \"0.99627\": {\"frequency\": 86, \"value\": 0.99627}, \"0.99644\": {\"frequency\": 232, \"value\": 0.99644}, \"0.99855\": {\"frequency\": 241, \"value\": 0.99855}, \"0.99556\": {\"frequency\": 405, \"value\": 0.99556}, \"0.99574\": {\"frequency\": 76, \"value\": 0.99574}, \"0.99609\": {\"frequency\": 74, \"value\": 0.99609}, \"0.99802\": {\"frequency\": 87, \"value\": 0.99802}, \"0.99452\": {\"frequency\": 80, \"value\": 0.99452}, \"0.99848\": {\"frequency\": 82, \"value\": 0.99848}, \"0.99521\": {\"frequency\": 82, \"value\": 0.99521}, \"0.99704\": {\"frequency\": 81, \"value\": 0.99704}, \"0.99872\": {\"frequency\": 152, \"value\": 0.99872}, \"1.0001\": {\"frequency\": 971, \"value\": 1.0001}, \"0.99727\": {\"frequency\": 82, \"value\": 0.99727}, \"0.99907\": {\"frequency\": 155, \"value\": 0.99907}, \"0.99601\": {\"frequency\": 158, \"value\": 0.99601}, \"0.99468\": {\"frequency\": 79, \"value\": 0.99468}, \"0.99625\": {\"frequency\": 77, \"value\": 0.99625}, \"0.99977\": {\"frequency\": 168, \"value\": 0.99977}, \"0.99696\": {\"frequency\": 75, \"value\": 0.99696}, \"0.99731\": {\"frequency\": 89, \"value\": 0.99731}, \"0.99889\": {\"frequency\": 84, \"value\": 0.99889}, \"0.99961\": {\"frequency\": 89, \"value\": 0.99961}, \"0.99608\": {\"frequency\": 76, \"value\": 0.99608}, \"0.99525\": {\"frequency\": 157, \"value\": 0.99525}, \"0.99643\": {\"frequency\": 82, \"value\": 0.99643}, \"0.99642\": {\"frequency\": 166, \"value\": 0.99642}, \"0.99994\": {\"frequency\": 159, \"value\": 0.99994}, \"0.99555\": {\"frequency\": 246, \"value\": 0.99555}, \"0.99871\": {\"frequency\": 82, \"value\": 0.99871}, \"0.9959\": {\"frequency\": 81, \"value\": 0.9959}, \"0.99941\": {\"frequency\": 81, \"value\": 0.99941}, \"0.99759\": {\"frequency\": 86, \"value\": 0.99759}, \"0.99635\": {\"frequency\": 78, \"value\": 0.99635}, \"0.99537\": {\"frequency\": 78, \"value\": 0.99537}, \"0.99572\": {\"frequency\": 242, \"value\": 0.99572}, \"0.99888\": {\"frequency\": 152, \"value\": 0.99888}, \"0.99835\": {\"frequency\": 81, \"value\": 0.99835}, \"0.99563\": {\"frequency\": 83, \"value\": 0.99563}, \"0.99607\": {\"frequency\": 76, \"value\": 0.99607}, \"0.99587\": {\"frequency\": 321, \"value\": 0.99587}, \"0.99958\": {\"frequency\": 167, \"value\": 0.99958}, \"0.99519\": {\"frequency\": 159, \"value\": 0.99519}, \"0.99993\": {\"frequency\": 390, \"value\": 0.99993}, \"0.99554\": {\"frequency\": 324, \"value\": 0.99554}, \"0.9987\": {\"frequency\": 159, \"value\": 0.9987}, \"0.99589\": {\"frequency\": 256, \"value\": 0.99589}, \"0.99674\": {\"frequency\": 156, \"value\": 0.99674}, \"0.99624\": {\"frequency\": 319, \"value\": 0.99624}, \"0.99536\": {\"frequency\": 73, \"value\": 0.99536}, \"0.99852\": {\"frequency\": 158, \"value\": 0.99852}, \"0.99592\": {\"frequency\": 387, \"value\": 0.99592}, \"0.99729\": {\"frequency\": 86, \"value\": 0.99729}, \"0.99606\": {\"frequency\": 165, \"value\": 0.99606}, \"0.99799\": {\"frequency\": 82, \"value\": 0.99799}, \"0.99957\": {\"frequency\": 249, \"value\": 0.99957}, \"0.99676\": {\"frequency\": 83, \"value\": 0.99676}, \"0.99735\": {\"frequency\": 83, \"value\": 0.99735}, \"0.99869\": {\"frequency\": 82, \"value\": 0.99869}, \"0.99905\": {\"frequency\": 80, \"value\": 0.99905}, \"0.99588\": {\"frequency\": 234, \"value\": 0.99588}, \"0.99566\": {\"frequency\": 81, \"value\": 0.99566}, \"0.99623\": {\"frequency\": 165, \"value\": 0.99623}, \"0.99658\": {\"frequency\": 79, \"value\": 0.99658}, \"0.99974\": {\"frequency\": 74, \"value\": 0.99974}, \"0.99665\": {\"frequency\": 80, \"value\": 0.99665}, \"0.99693\": {\"frequency\": 81, \"value\": 0.99693}, \"0.99886\": {\"frequency\": 84, \"value\": 0.99886}, \"0.99605\": {\"frequency\": 229, \"value\": 0.99605}, \"0.99933\": {\"frequency\": 83, \"value\": 0.99933}, \"0.9964\": {\"frequency\": 79, \"value\": 0.9964}, \"0.99517\": {\"frequency\": 78, \"value\": 0.99517}, \"0.99675\": {\"frequency\": 82, \"value\": 0.99675}, \"0.99868\": {\"frequency\": 83, \"value\": 0.99868}, \"0.99745\": {\"frequency\": 150, \"value\": 0.99745}, \"0.99622\": {\"frequency\": 81, \"value\": 0.99622}, \"0.99938\": {\"frequency\": 82, \"value\": 0.99938}, \"0.99499\": {\"frequency\": 86, \"value\": 0.99499}, \"0.99657\": {\"frequency\": 165, \"value\": 0.99657}, \"0.99692\": {\"frequency\": 156, \"value\": 0.99692}, \"0.99885\": {\"frequency\": 149, \"value\": 0.99885}, \"0.99604\": {\"frequency\": 84, \"value\": 0.99604}, \"0.99518\": {\"frequency\": 81, \"value\": 0.99518}, \"0.99955\": {\"frequency\": 76, \"value\": 0.99955}, \"0.99814\": {\"frequency\": 168, \"value\": 0.99814}, \"0.99832\": {\"frequency\": 76, \"value\": 0.99832}, \"0.99551\": {\"frequency\": 401, \"value\": 0.99551}, \"1.0002\": {\"frequency\": 157, \"value\": 1.0002}, \"0.99495\": {\"frequency\": 77, \"value\": 0.99495}, \"0.99552\": {\"frequency\": 324, \"value\": 0.99552}, \"0.99937\": {\"frequency\": 79, \"value\": 0.99937}, \"0.99972\": {\"frequency\": 75, \"value\": 0.99972}, \"0.99991\": {\"frequency\": 76, \"value\": 0.99991}, \"0.99533\": {\"frequency\": 79, \"value\": 0.99533}, \"0.99726\": {\"frequency\": 171, \"value\": 0.99726}, \"0.99603\": {\"frequency\": 76, \"value\": 0.99603}, \"0.99571\": {\"frequency\": 473, \"value\": 0.99571}, \"0.99569\": {\"frequency\": 151, \"value\": 0.99569}, \"0.99989\": {\"frequency\": 401, \"value\": 0.99989}, \"0.99866\": {\"frequency\": 245, \"value\": 0.99866}, \"0.99575\": {\"frequency\": 76, \"value\": 0.99575}, \"0.99539\": {\"frequency\": 240, \"value\": 0.99539}, \"0.99585\": {\"frequency\": 317, \"value\": 0.99585}, \"0.99901\": {\"frequency\": 72, \"value\": 0.99901}, \"0.9962\": {\"frequency\": 76, \"value\": 0.9962}, \"0.99586\": {\"frequency\": 75, \"value\": 0.99586}, \"0.99815\": {\"frequency\": 78, \"value\": 0.99815}, \"0.99532\": {\"frequency\": 397, \"value\": 0.99532}, \"0.99567\": {\"frequency\": 331, \"value\": 0.99567}, \"0.99633\": {\"frequency\": 81, \"value\": 0.99633}, \"0.9996\": {\"frequency\": 162, \"value\": 0.9996}, \"0.99524\": {\"frequency\": 235, \"value\": 0.99524}, \"0.99953\": {\"frequency\": 158, \"value\": 0.99953}, \"0.99988\": {\"frequency\": 234, \"value\": 0.99988}, \"0.99562\": {\"frequency\": 312, \"value\": 0.99562}, \"0.99707\": {\"frequency\": 88, \"value\": 0.99707}, \"0.99865\": {\"frequency\": 159, \"value\": 0.99865}, \"0.99584\": {\"frequency\": 160, \"value\": 0.99584}, \"0.99777\": {\"frequency\": 86, \"value\": 0.99777}, \"0.99984\": {\"frequency\": 79, \"value\": 0.99984}, \"0.99531\": {\"frequency\": 232, \"value\": 0.99531}, \"0.99847\": {\"frequency\": 162, \"value\": 0.99847}, \"0.99559\": {\"frequency\": 167, \"value\": 0.99559}, \"0.99746\": {\"frequency\": 80, \"value\": 0.99746}, \"0.99724\": {\"frequency\": 83, \"value\": 0.99724}, \"0.99677\": {\"frequency\": 81, \"value\": 0.99677}, \"0.99867\": {\"frequency\": 83, \"value\": 0.99867}, \"0.99917\": {\"frequency\": 87, \"value\": 0.99917}, \"0.99723\": {\"frequency\": 80, \"value\": 0.99723}, \"0.99714\": {\"frequency\": 81, \"value\": 0.99714}, \"0.99671\": {\"frequency\": 78, \"value\": 0.99671}, \"0.99987\": {\"frequency\": 159, \"value\": 0.99987}, \"0.99548\": {\"frequency\": 401, \"value\": 0.99548}, \"0.99819\": {\"frequency\": 161, \"value\": 0.99819}, \"0.99583\": {\"frequency\": 232, \"value\": 0.99583}, \"0.996\": {\"frequency\": 157, \"value\": 0.996}, \"0.99653\": {\"frequency\": 255, \"value\": 0.99653}, \"0.99553\": {\"frequency\": 417, \"value\": 0.99553}, \"0.9953\": {\"frequency\": 254, \"value\": 0.9953}, \"0.99591\": {\"frequency\": 157, \"value\": 0.99591}, \"0.99881\": {\"frequency\": 80, \"value\": 0.99881}, \"0.99749\": {\"frequency\": 164, \"value\": 0.99749}, \"0.9955\": {\"frequency\": 76, \"value\": 0.9955}, \"0.99793\": {\"frequency\": 82, \"value\": 0.99793}, \"0.99951\": {\"frequency\": 245, \"value\": 0.99951}, \"0.99828\": {\"frequency\": 78, \"value\": 0.99828}, \"0.99547\": {\"frequency\": 415, \"value\": 0.99547}, \"0.99829\": {\"frequency\": 83, \"value\": 0.99829}, \"0.9974\": {\"frequency\": 80, \"value\": 0.9974}, \"0.99617\": {\"frequency\": 80, \"value\": 0.99617}, \"0.99863\": {\"frequency\": 85, \"value\": 0.99863}, \"0.99652\": {\"frequency\": 83, \"value\": 0.99652}, \"0.99826\": {\"frequency\": 81, \"value\": 0.99826}, \"0.99529\": {\"frequency\": 322, \"value\": 0.99529}, \"0.99564\": {\"frequency\": 472, \"value\": 0.99564}, \"0.99544\": {\"frequency\": 398, \"value\": 0.99544}, \"0.99599\": {\"frequency\": 303, \"value\": 0.99599}, \"0.99678\": {\"frequency\": 81, \"value\": 0.99678}, \"0.9951\": {\"frequency\": 79, \"value\": 0.9951}, \"0.99634\": {\"frequency\": 149, \"value\": 0.99634}, \"0.9995\": {\"frequency\": 90, \"value\": 0.9995}, \"0.99511\": {\"frequency\": 159, \"value\": 0.99511}, \"0.99985\": {\"frequency\": 80, \"value\": 0.99985}, \"0.99546\": {\"frequency\": 555, \"value\": 0.99546}, \"0.99739\": {\"frequency\": 231, \"value\": 0.99739}, \"0.99661\": {\"frequency\": 87, \"value\": 0.99661}, \"0.99497\": {\"frequency\": 74, \"value\": 0.99497}, \"0.99651\": {\"frequency\": 78, \"value\": 0.99651}, \"0.99528\": {\"frequency\": 314, \"value\": 0.99528}, \"0.99538\": {\"frequency\": 79, \"value\": 0.99538}, \"0.99879\": {\"frequency\": 76, \"value\": 0.99879}, \"0.9999\": {\"frequency\": 79, \"value\": 0.9999}, \"0.99598\": {\"frequency\": 251, \"value\": 0.99598}, \"0.99619\": {\"frequency\": 79, \"value\": 0.99619}, \"0.99949\": {\"frequency\": 85, \"value\": 0.99949}, \"0.99668\": {\"frequency\": 160, \"value\": 0.99668}, \"0.99656\": {\"frequency\": 74, \"value\": 0.99656}, \"0.99545\": {\"frequency\": 160, \"value\": 0.99545}, \"0.99535\": {\"frequency\": 236, \"value\": 0.99535}, \"0.9958\": {\"frequency\": 84, \"value\": 0.9958}, \"0.99573\": {\"frequency\": 237, \"value\": 0.99573}, \"0.99568\": {\"frequency\": 329, \"value\": 0.99568}, \"0.99808\": {\"frequency\": 79, \"value\": 0.99808}, \"0.9969\": {\"frequency\": 78, \"value\": 0.9969}, \"0.99843\": {\"frequency\": 85, \"value\": 0.99843}, \"0.9972\": {\"frequency\": 72, \"value\": 0.9972}, \"0.99597\": {\"frequency\": 80, \"value\": 0.99597}, \"0.9957\": {\"frequency\": 156, \"value\": 0.9957}, \"0.99948\": {\"frequency\": 156, \"value\": 0.99948}, \"0.9988\": {\"frequency\": 159, \"value\": 0.9988}, \"0.99904\": {\"frequency\": 85, \"value\": 0.99904}, \"0.9986\": {\"frequency\": 79, \"value\": 0.9986}, \"0.99579\": {\"frequency\": 78, \"value\": 0.99579}, \"0.99737\": {\"frequency\": 80, \"value\": 0.99737}, \"0.9993\": {\"frequency\": 86, \"value\": 0.9993}, \"0.99873\": {\"frequency\": 83, \"value\": 0.99873}, \"0.99807\": {\"frequency\": 84, \"value\": 0.99807}, \"0.99522\": {\"frequency\": 237, \"value\": 0.99522}, \"0.99526\": {\"frequency\": 147, \"value\": 0.99526}}, \"mean\": 0.9969646459934126}, \"selected_variable\": {\"name\": [\"<SArray>\"], \"dtype\": \"float\", \"view_component\": \"Numeric\", \"view_file\": \"sarray\", \"descriptives\": {\"rows\": 40084}, \"type\": \"SArray\", \"view_components\": [\"Numeric\", \"Categorical\"]}, \"histogram\": {\"progress\": 1.0, \"histogram\": {\"max\": 1.0003693599999997, \"bins\": [318, 5156, 12012, 4467, 2925, 1955, 897, 1539, 3211, 1046, 2901, 3657], \"min\": 0.9944711200000047}, \"min\": 0.99452, \"complete\": 1, \"max\": 1.0003}}, e);\n",
       "                });\n",
       "            })();\n",
       "        "
      ]
     },
     "metadata": {},
     "output_type": "display_data"
    }
   ],
   "source": [
    "#Aprendizaje de Flujos de Entrada al Reactor vs Concentracion de Salida\n",
    "graphlab.canvas.set_target('ipynb')\n",
    "training_dataC['Concent'].show()"
   ]
  },
  {
   "cell_type": "code",
   "execution_count": 89,
   "metadata": {
    "collapsed": false
   },
   "outputs": [
    {
     "data": {
      "application/javascript": [
       "$(\"head\").append($(\"<link/>\").attr({\n",
       "  rel:  \"stylesheet\",\n",
       "  type: \"text/css\",\n",
       "  href: \"//cdnjs.cloudflare.com/ajax/libs/font-awesome/4.1.0/css/font-awesome.min.css\"\n",
       "}));\n",
       "$(\"head\").append($(\"<link/>\").attr({\n",
       "  rel:  \"stylesheet\",\n",
       "  type: \"text/css\",\n",
       "  href: \"https://static.turi.com/products/graphlab-create/2.1/canvas/css/canvas.css\"\n",
       "}));\n",
       "\n",
       "            (function(){\n",
       "\n",
       "                var e = null;\n",
       "                if (typeof element == 'undefined') {\n",
       "                    var scripts = document.getElementsByTagName('script');\n",
       "                    var thisScriptTag = scripts[scripts.length-1];\n",
       "                    var parentDiv = thisScriptTag.parentNode;\n",
       "                    e = document.createElement('div');\n",
       "                    parentDiv.appendChild(e);\n",
       "                } else {\n",
       "                    e = element[0];\n",
       "                }\n",
       "\n",
       "                if (typeof requirejs !== 'undefined') {\n",
       "                    // disable load timeout; ipython_app.js is large and can take a while to load.\n",
       "                    requirejs.config({waitSeconds: 0});\n",
       "                }\n",
       "\n",
       "                require(['https://static.turi.com/products/graphlab-create/2.1/canvas/js/ipython_app.js'], function(IPythonApp){\n",
       "                    var app = new IPythonApp();\n",
       "                    app.attachView('sarray','Numeric', {\"ipython\": true, \"sketch\": {\"std\": 7.858463517201739, \"complete\": true, \"min\": 273.15, \"max\": 351.05, \"quantile\": [273.15, 304.24, 319.48, 330.8, 339.28, 344.35, 346.11, 346.6, 347.53, 348.16, 348.48, 348.56, 348.69, 348.75, 348.81, 348.83, 348.86, 348.93, 348.97, 349.01, 349.03, 349.07, 349.11, 349.15, 349.19, 349.23, 349.27, 349.31, 349.32, 349.35, 349.36, 349.37, 349.38, 349.4, 349.41, 349.43, 349.45, 349.46, 349.48, 349.5, 349.52, 349.54, 349.55, 349.56, 349.57, 349.59, 349.6, 349.61, 349.63, 349.65, 349.66, 349.67, 349.69, 349.7, 349.71, 349.72, 349.73, 349.74, 349.75, 349.76, 349.78, 349.79, 349.81, 349.83, 349.85, 349.86, 349.87, 349.9, 349.91, 349.93, 349.94, 349.95, 349.96, 349.99, 350.0, 350.01, 350.02, 350.03, 350.04, 350.06, 350.08, 350.09, 350.1, 350.11, 350.13, 350.15, 350.17, 350.21, 350.22, 350.24, 350.25, 350.29, 350.31, 350.33, 350.35, 350.38, 350.43, 350.49, 350.54, 350.82, 351.05], \"median\": 349.66, \"numeric\": true, \"num_unique\": 223, \"num_undefined\": 0, \"var\": 61.75544885119073, \"progress\": 1.0, \"size\": 39888, \"frequent_items\": {\"350.25\": {\"frequency\": 483, \"value\": 350.25}, \"349.75\": {\"frequency\": 398, \"value\": 349.75}, \"287.85\": {\"frequency\": 81, \"value\": 287.85}, \"349.5\": {\"frequency\": 230, \"value\": 349.5}, \"350.38\": {\"frequency\": 81, \"value\": 350.38}, \"349.93\": {\"frequency\": 154, \"value\": 349.93}, \"349.97\": {\"frequency\": 242, \"value\": 349.97}, \"349.21\": {\"frequency\": 73, \"value\": 349.21}, \"324.87\": {\"frequency\": 81, \"value\": 324.87}, \"349.02\": {\"frequency\": 152, \"value\": 349.02}, \"349.76\": {\"frequency\": 479, \"value\": 349.76}, \"349.28\": {\"frequency\": 81, \"value\": 349.28}, \"345.4\": {\"frequency\": 77, \"value\": 345.4}, \"349.34\": {\"frequency\": 158, \"value\": 349.34}, \"347.74\": {\"frequency\": 80, \"value\": 347.74}, \"350.47\": {\"frequency\": 84, \"value\": 350.47}, \"348.81\": {\"frequency\": 162, \"value\": 348.81}, \"350.02\": {\"frequency\": 543, \"value\": 350.02}, \"348.74\": {\"frequency\": 80, \"value\": 348.74}, \"348.54\": {\"frequency\": 82, \"value\": 348.54}, \"350.91\": {\"frequency\": 157, \"value\": 350.91}, \"350.14\": {\"frequency\": 82, \"value\": 350.14}, \"349.79\": {\"frequency\": 398, \"value\": 349.79}, \"349.53\": {\"frequency\": 163, \"value\": 349.53}, \"347.53\": {\"frequency\": 81, \"value\": 347.53}, \"349.88\": {\"frequency\": 89, \"value\": 349.88}, \"349.61\": {\"frequency\": 462, \"value\": 349.61}, \"350.17\": {\"frequency\": 236, \"value\": 350.17}, \"348.18\": {\"frequency\": 81, \"value\": 348.18}, \"350.23\": {\"frequency\": 154, \"value\": 350.23}, \"344.35\": {\"frequency\": 84, \"value\": 344.35}, \"350.36\": {\"frequency\": 80, \"value\": 350.36}, \"350.16\": {\"frequency\": 233, \"value\": 350.16}, \"350.3\": {\"frequency\": 244, \"value\": 350.3}, \"349.08\": {\"frequency\": 166, \"value\": 349.08}, \"349.62\": {\"frequency\": 82, \"value\": 349.62}, \"348.73\": {\"frequency\": 164, \"value\": 348.73}, \"349.78\": {\"frequency\": 151, \"value\": 349.78}, \"349.29\": {\"frequency\": 81, \"value\": 349.29}, \"349.84\": {\"frequency\": 238, \"value\": 349.84}, \"350.07\": {\"frequency\": 168, \"value\": 350.07}, \"351.05\": {\"frequency\": 78, \"value\": 351.05}, \"348.85\": {\"frequency\": 80, \"value\": 348.85}, \"350.1\": {\"frequency\": 394, \"value\": 350.1}, \"298.55\": {\"frequency\": 80, \"value\": 298.55}, \"349.8\": {\"frequency\": 322, \"value\": 349.8}, \"350.03\": {\"frequency\": 408, \"value\": 350.03}, \"350.15\": {\"frequency\": 240, \"value\": 350.15}, \"350.12\": {\"frequency\": 239, \"value\": 350.12}, \"349.47\": {\"frequency\": 80, \"value\": 349.47}, \"349.24\": {\"frequency\": 74, \"value\": 349.24}, \"348.62\": {\"frequency\": 83, \"value\": 348.62}, \"312.91\": {\"frequency\": 84, \"value\": 312.91}, \"349.95\": {\"frequency\": 399, \"value\": 349.95}, \"330.8\": {\"frequency\": 82, \"value\": 330.8}, \"349.57\": {\"frequency\": 409, \"value\": 349.57}, \"349.14\": {\"frequency\": 76, \"value\": 349.14}, \"346.34\": {\"frequency\": 79, \"value\": 346.34}, \"350.21\": {\"frequency\": 311, \"value\": 350.21}, \"338.34\": {\"frequency\": 75, \"value\": 338.34}, \"348.83\": {\"frequency\": 321, \"value\": 348.83}, \"348.93\": {\"frequency\": 164, \"value\": 348.93}, \"349.66\": {\"frequency\": 480, \"value\": 349.66}, \"349.46\": {\"frequency\": 489, \"value\": 349.46}, \"349.1\": {\"frequency\": 87, \"value\": 349.1}, \"327.05\": {\"frequency\": 76, \"value\": 327.05}, \"350.34\": {\"frequency\": 79, \"value\": 350.34}, \"350.43\": {\"frequency\": 149, \"value\": 350.43}, \"350.33\": {\"frequency\": 245, \"value\": 350.33}, \"349.82\": {\"frequency\": 166, \"value\": 349.82}, \"348.77\": {\"frequency\": 163, \"value\": 348.77}, \"349.18\": {\"frequency\": 83, \"value\": 349.18}, \"319.48\": {\"frequency\": 77, \"value\": 319.48}, \"351.01\": {\"frequency\": 77, \"value\": 351.01}, \"349.06\": {\"frequency\": 79, \"value\": 349.06}, \"339.28\": {\"frequency\": 72, \"value\": 339.28}, \"348.45\": {\"frequency\": 78, \"value\": 348.45}, \"350.06\": {\"frequency\": 398, \"value\": 350.06}, \"348.7\": {\"frequency\": 88, \"value\": 348.7}, \"349.35\": {\"frequency\": 488, \"value\": 349.35}, \"348.95\": {\"frequency\": 168, \"value\": 348.95}, \"349.41\": {\"frequency\": 388, \"value\": 349.41}, \"329.02\": {\"frequency\": 81, \"value\": 329.02}, \"349.22\": {\"frequency\": 79, \"value\": 349.22}, \"349.83\": {\"frequency\": 239, \"value\": 349.83}, \"350.32\": {\"frequency\": 315, \"value\": 350.32}, \"349.68\": {\"frequency\": 244, \"value\": 349.68}, \"349.25\": {\"frequency\": 75, \"value\": 349.25}, \"349.72\": {\"frequency\": 557, \"value\": 349.72}, \"348.46\": {\"frequency\": 86, \"value\": 348.46}, \"349.12\": {\"frequency\": 86, \"value\": 349.12}, \"337.18\": {\"frequency\": 74, \"value\": 337.18}, \"304.24\": {\"frequency\": 81, \"value\": 304.24}, \"349.69\": {\"frequency\": 247, \"value\": 349.69}, \"349.48\": {\"frequency\": 236, \"value\": 349.48}, \"349.49\": {\"frequency\": 79, \"value\": 349.49}, \"350.13\": {\"frequency\": 242, \"value\": 350.13}, \"347.73\": {\"frequency\": 157, \"value\": 347.73}, \"349.67\": {\"frequency\": 312, \"value\": 349.67}, \"349.91\": {\"frequency\": 242, \"value\": 349.91}, \"349.85\": {\"frequency\": 317, \"value\": 349.85}, \"333.97\": {\"frequency\": 77, \"value\": 333.97}, \"349.42\": {\"frequency\": 169, \"value\": 349.42}, \"349.56\": {\"frequency\": 246, \"value\": 349.56}, \"349.26\": {\"frequency\": 161, \"value\": 349.26}, \"350.09\": {\"frequency\": 233, \"value\": 350.09}, \"350.04\": {\"frequency\": 249, \"value\": 350.04}, \"342.89\": {\"frequency\": 82, \"value\": 342.89}, \"350.5\": {\"frequency\": 229, \"value\": 350.5}, \"349.39\": {\"frequency\": 315, \"value\": 349.39}, \"346.89\": {\"frequency\": 74, \"value\": 346.89}, \"349.74\": {\"frequency\": 479, \"value\": 349.74}, \"349.43\": {\"frequency\": 167, \"value\": 349.43}, \"350.53\": {\"frequency\": 81, \"value\": 350.53}, \"349.65\": {\"frequency\": 231, \"value\": 349.65}, \"349.87\": {\"frequency\": 155, \"value\": 349.87}, \"348.91\": {\"frequency\": 236, \"value\": 348.91}, \"349.81\": {\"frequency\": 84, \"value\": 349.81}, \"350.22\": {\"frequency\": 81, \"value\": 350.22}, \"348.68\": {\"frequency\": 80, \"value\": 348.68}, \"345.8\": {\"frequency\": 76, \"value\": 345.8}, \"350.29\": {\"frequency\": 166, \"value\": 350.29}, \"322.3\": {\"frequency\": 80, \"value\": 322.3}, \"349.7\": {\"frequency\": 561, \"value\": 349.7}, \"349.64\": {\"frequency\": 158, \"value\": 349.64}, \"349.99\": {\"frequency\": 317, \"value\": 349.99}, \"308.96\": {\"frequency\": 84, \"value\": 308.96}, \"348.75\": {\"frequency\": 76, \"value\": 348.75}, \"348.41\": {\"frequency\": 79, \"value\": 348.41}, \"350.41\": {\"frequency\": 248, \"value\": 350.41}, \"350.35\": {\"frequency\": 317, \"value\": 350.35}, \"350.82\": {\"frequency\": 82, \"value\": 350.82}, \"350.54\": {\"frequency\": 76, \"value\": 350.54}, \"343.67\": {\"frequency\": 82, \"value\": 343.67}, \"349.94\": {\"frequency\": 321, \"value\": 349.94}, \"349.89\": {\"frequency\": 166, \"value\": 349.89}, \"347.84\": {\"frequency\": 87, \"value\": 347.84}, \"349.59\": {\"frequency\": 393, \"value\": 349.59}, \"349.54\": {\"frequency\": 322, \"value\": 349.54}, \"349.0\": {\"frequency\": 82, \"value\": 349.0}, \"350.0\": {\"frequency\": 401, \"value\": 350.0}, \"350.08\": {\"frequency\": 234, \"value\": 350.08}, \"348.82\": {\"frequency\": 238, \"value\": 348.82}, \"350.37\": {\"frequency\": 74, \"value\": 350.37}, \"340.68\": {\"frequency\": 83, \"value\": 340.68}, \"350.31\": {\"frequency\": 77, \"value\": 350.31}, \"349.01\": {\"frequency\": 326, \"value\": 349.01}, \"348.55\": {\"frequency\": 83, \"value\": 348.55}, \"346.11\": {\"frequency\": 81, \"value\": 346.11}, \"348.16\": {\"frequency\": 84, \"value\": 348.16}, \"349.19\": {\"frequency\": 150, \"value\": 349.19}, \"350.2\": {\"frequency\": 158, \"value\": 350.2}, \"350.18\": {\"frequency\": 161, \"value\": 350.18}, \"350.49\": {\"frequency\": 160, \"value\": 350.49}, \"316.32\": {\"frequency\": 78, \"value\": 316.32}, \"348.76\": {\"frequency\": 76, \"value\": 348.76}, \"350.05\": {\"frequency\": 85, \"value\": 350.05}, \"350.62\": {\"frequency\": 82, \"value\": 350.62}, \"349.63\": {\"frequency\": 235, \"value\": 349.63}, \"349.45\": {\"frequency\": 310, \"value\": 349.45}, \"293.53\": {\"frequency\": 80, \"value\": 293.53}, \"348.86\": {\"frequency\": 154, \"value\": 348.86}, \"349.6\": {\"frequency\": 148, \"value\": 349.6}, \"348.69\": {\"frequency\": 83, \"value\": 348.69}, \"349.52\": {\"frequency\": 322, \"value\": 349.52}, \"349.96\": {\"frequency\": 465, \"value\": 349.96}, \"349.4\": {\"frequency\": 153, \"value\": 349.4}, \"349.15\": {\"frequency\": 164, \"value\": 349.15}, \"348.67\": {\"frequency\": 77, \"value\": 348.67}, \"348.78\": {\"frequency\": 80, \"value\": 348.78}, \"346.56\": {\"frequency\": 85, \"value\": 346.56}, \"348.98\": {\"frequency\": 81, \"value\": 348.98}, \"350.75\": {\"frequency\": 83, \"value\": 350.75}, \"349.11\": {\"frequency\": 234, \"value\": 349.11}, \"349.05\": {\"frequency\": 83, \"value\": 349.05}, \"349.32\": {\"frequency\": 247, \"value\": 349.32}, \"349.92\": {\"frequency\": 332, \"value\": 349.92}, \"349.04\": {\"frequency\": 80, \"value\": 349.04}, \"335.71\": {\"frequency\": 79, \"value\": 335.71}, \"349.27\": {\"frequency\": 157, \"value\": 349.27}, \"349.86\": {\"frequency\": 481, \"value\": 349.86}, \"332.46\": {\"frequency\": 78, \"value\": 332.46}, \"350.26\": {\"frequency\": 238, \"value\": 350.26}, \"349.37\": {\"frequency\": 398, \"value\": 349.37}, \"348.48\": {\"frequency\": 73, \"value\": 348.48}, \"348.97\": {\"frequency\": 87, \"value\": 348.97}, \"348.53\": {\"frequency\": 86, \"value\": 348.53}, \"346.6\": {\"frequency\": 76, \"value\": 346.6}, \"350.11\": {\"frequency\": 396, \"value\": 350.11}, \"350.28\": {\"frequency\": 79, \"value\": 350.28}, \"349.17\": {\"frequency\": 80, \"value\": 349.17}, \"341.94\": {\"frequency\": 81, \"value\": 341.94}, \"349.23\": {\"frequency\": 161, \"value\": 349.23}, \"348.64\": {\"frequency\": 73, \"value\": 348.64}, \"349.16\": {\"frequency\": 83, \"value\": 349.16}, \"347.23\": {\"frequency\": 79, \"value\": 347.23}, \"281.12\": {\"frequency\": 81, \"value\": 281.12}, \"349.51\": {\"frequency\": 167, \"value\": 349.51}, \"349.31\": {\"frequency\": 326, \"value\": 349.31}, \"349.71\": {\"frequency\": 239, \"value\": 349.71}, \"350.01\": {\"frequency\": 236, \"value\": 350.01}, \"344.9\": {\"frequency\": 77, \"value\": 344.9}, \"349.36\": {\"frequency\": 155, \"value\": 349.36}, \"346.87\": {\"frequency\": 83, \"value\": 346.87}, \"349.13\": {\"frequency\": 81, \"value\": 349.13}, \"349.07\": {\"frequency\": 154, \"value\": 349.07}, \"346.44\": {\"frequency\": 82, \"value\": 346.44}, \"350.58\": {\"frequency\": 173, \"value\": 350.58}, \"349.58\": {\"frequency\": 152, \"value\": 349.58}, \"349.73\": {\"frequency\": 148, \"value\": 349.73}, \"349.55\": {\"frequency\": 469, \"value\": 349.55}, \"349.38\": {\"frequency\": 398, \"value\": 349.38}, \"348.56\": {\"frequency\": 170, \"value\": 348.56}, \"348.96\": {\"frequency\": 80, \"value\": 348.96}, \"350.44\": {\"frequency\": 160, \"value\": 350.44}, \"350.24\": {\"frequency\": 236, \"value\": 350.24}, \"347.2\": {\"frequency\": 89, \"value\": 347.2}, \"349.03\": {\"frequency\": 157, \"value\": 349.03}, \"273.15\": {\"frequency\": 84, \"value\": 273.15}, \"349.44\": {\"frequency\": 152, \"value\": 349.44}, \"349.9\": {\"frequency\": 229, \"value\": 349.9}, \"345.67\": {\"frequency\": 87, \"value\": 345.67}, \"349.77\": {\"frequency\": 157, \"value\": 349.77}}, \"mean\": 348.0941799538708}, \"selected_variable\": {\"name\": [\"<SArray>\"], \"dtype\": \"float\", \"view_component\": \"Numeric\", \"view_file\": \"sarray\", \"descriptives\": {\"rows\": 39888}, \"type\": \"SArray\", \"view_components\": [\"Numeric\", \"Categorical\"]}, \"histogram\": {\"progress\": 1.0, \"histogram\": {\"max\": 351.8617200000002, \"bins\": [84, 81, 81, 160, 81, 84, 162, 238, 239, 383, 561, 37734], \"min\": 272.28923999999995}, \"min\": 273.15, \"complete\": 1, \"max\": 351.05}}, e);\n",
       "                });\n",
       "            })();\n",
       "        "
      ]
     },
     "metadata": {},
     "output_type": "display_data"
    }
   ],
   "source": [
    "#Aprendizaje de Flujos de Entrada al Reactor vs Temperatura de Salida\n",
    "graphlab.canvas.set_target('ipynb')\n",
    "training_dataT['Tempera'].show()"
   ]
  },
  {
   "cell_type": "code",
   "execution_count": 90,
   "metadata": {
    "collapsed": false
   },
   "outputs": [
    {
     "data": {
      "application/javascript": [
       "$(\"head\").append($(\"<link/>\").attr({\n",
       "  rel:  \"stylesheet\",\n",
       "  type: \"text/css\",\n",
       "  href: \"//cdnjs.cloudflare.com/ajax/libs/font-awesome/4.1.0/css/font-awesome.min.css\"\n",
       "}));\n",
       "$(\"head\").append($(\"<link/>\").attr({\n",
       "  rel:  \"stylesheet\",\n",
       "  type: \"text/css\",\n",
       "  href: \"https://static.turi.com/products/graphlab-create/2.1/canvas/css/canvas.css\"\n",
       "}));\n",
       "\n",
       "            (function(){\n",
       "\n",
       "                var e = null;\n",
       "                if (typeof element == 'undefined') {\n",
       "                    var scripts = document.getElementsByTagName('script');\n",
       "                    var thisScriptTag = scripts[scripts.length-1];\n",
       "                    var parentDiv = thisScriptTag.parentNode;\n",
       "                    e = document.createElement('div');\n",
       "                    parentDiv.appendChild(e);\n",
       "                } else {\n",
       "                    e = element[0];\n",
       "                }\n",
       "\n",
       "                if (typeof requirejs !== 'undefined') {\n",
       "                    // disable load timeout; ipython_app.js is large and can take a while to load.\n",
       "                    requirejs.config({waitSeconds: 0});\n",
       "                }\n",
       "\n",
       "                require(['https://static.turi.com/products/graphlab-create/2.1/canvas/js/ipython_app.js'], function(IPythonApp){\n",
       "                    var app = new IPythonApp();\n",
       "                    app.attachView('sarray','Numeric', {\"ipython\": true, \"sketch\": {\"std\": 5.150622708618461, \"complete\": true, \"min\": 0.1, \"max\": 14.161, \"quantile\": [0.1, 0.12674, 0.15913, 0.19645, 0.24239, 0.31342, 0.38438, 0.45971, 0.54435, 0.63882, 0.74221, 0.86619, 1.0147, 1.243, 1.5121, 1.787, 2.0826, 2.5271, 3.0894, 3.584, 4.0046, 4.3685, 4.7247, 5.0318, 5.3322, 5.6589, 5.9728, 6.4245, 7.0051, 7.8091, 8.5332, 9.2049, 9.7373, 10.235, 10.473, 10.815, 11.162, 11.499, 11.914, 12.239, 12.586, 12.871, 13.08, 13.243, 13.401, 13.45, 13.511, 13.576, 13.628, 13.666, 13.683, 13.71, 13.726, 13.739, 13.752, 13.758, 13.762, 13.766, 13.772, 13.785, 13.8, 13.81, 13.813, 13.819, 13.826, 13.831, 13.836, 13.851, 13.863, 13.865, 13.873, 13.884, 13.888, 13.895, 13.906, 13.911, 13.921, 13.924, 13.927, 13.929, 13.935, 13.946, 13.949, 13.952, 13.958, 13.964, 13.967, 13.971, 13.977, 13.981, 13.986, 13.993, 13.998, 14.003, 14.007, 14.015, 14.028, 14.037, 14.07, 14.128, 14.161], \"median\": 13.683, \"numeric\": true, \"num_unique\": 423, \"num_undefined\": 0, \"var\": 26.528914286536175, \"progress\": 1.0, \"size\": 39905, \"frequent_items\": {\"11.375\": {\"frequency\": 82, \"value\": 11.375}, \"13.75\": {\"frequency\": 81, \"value\": 13.75}, \"8.9445\": {\"frequency\": 78, \"value\": 8.9445}, \"13.875\": {\"frequency\": 76, \"value\": 13.875}, \"14.139\": {\"frequency\": 79, \"value\": 14.139}, \"14.0\": {\"frequency\": 82, \"value\": 14.0}, \"1.243\": {\"frequency\": 81, \"value\": 1.243}, \"13.757\": {\"frequency\": 82, \"value\": 13.757}, \"0.5107\": {\"frequency\": 74, \"value\": 0.5107}, \"13.72\": {\"frequency\": 78, \"value\": 13.72}, \"0.19645\": {\"frequency\": 76, \"value\": 0.19645}, \"13.889\": {\"frequency\": 82, \"value\": 13.889}, \"4.6059\": {\"frequency\": 81, \"value\": 4.6059}, \"9.9758\": {\"frequency\": 81, \"value\": 9.9758}, \"13.977\": {\"frequency\": 154, \"value\": 13.977}, \"0.21396\": {\"frequency\": 89, \"value\": 0.21396}, \"4.4422\": {\"frequency\": 80, \"value\": 4.4422}, \"13.64\": {\"frequency\": 78, \"value\": 13.64}, \"3.4759\": {\"frequency\": 83, \"value\": 3.4759}, \"14.022\": {\"frequency\": 72, \"value\": 14.022}, \"13.734\": {\"frequency\": 84, \"value\": 13.734}, \"14.154\": {\"frequency\": 77, \"value\": 14.154}, \"0.86619\": {\"frequency\": 74, \"value\": 0.86619}, \"14.161\": {\"frequency\": 82, \"value\": 14.161}, \"13.418\": {\"frequency\": 78, \"value\": 13.418}, \"0.95344\": {\"frequency\": 74, \"value\": 0.95344}, \"13.927\": {\"frequency\": 86, \"value\": 13.927}, \"13.08\": {\"frequency\": 78, \"value\": 13.08}, \"10.704\": {\"frequency\": 84, \"value\": 10.704}, \"4.8634\": {\"frequency\": 83, \"value\": 4.8634}, \"13.998\": {\"frequency\": 172, \"value\": 13.998}, \"7.4954\": {\"frequency\": 88, \"value\": 7.4954}, \"1.6091\": {\"frequency\": 84, \"value\": 1.6091}, \"6.7552\": {\"frequency\": 73, \"value\": 6.7552}, \"6.8809\": {\"frequency\": 81, \"value\": 6.8809}, \"5.1575\": {\"frequency\": 77, \"value\": 5.1575}, \"9.2049\": {\"frequency\": 77, \"value\": 9.2049}, \"10.287\": {\"frequency\": 80, \"value\": 10.287}, \"0.49295\": {\"frequency\": 74, \"value\": 0.49295}, \"13.662\": {\"frequency\": 83, \"value\": 13.662}, \"10.044\": {\"frequency\": 81, \"value\": 10.044}, \"11.578\": {\"frequency\": 80, \"value\": 11.578}, \"13.551\": {\"frequency\": 84, \"value\": 13.551}, \"12.968\": {\"frequency\": 73, \"value\": 12.968}, \"13.933\": {\"frequency\": 160, \"value\": 13.933}, \"8.815\": {\"frequency\": 85, \"value\": 8.815}, \"5.9728\": {\"frequency\": 76, \"value\": 5.9728}, \"13.572\": {\"frequency\": 74, \"value\": 13.572}, \"0.54435\": {\"frequency\": 78, \"value\": 0.54435}, \"0.34038\": {\"frequency\": 84, \"value\": 0.34038}, \"13.725\": {\"frequency\": 79, \"value\": 13.725}, \"10.401\": {\"frequency\": 78, \"value\": 10.401}, \"6.2396\": {\"frequency\": 72, \"value\": 6.2396}, \"0.58367\": {\"frequency\": 80, \"value\": 0.58367}, \"7.8091\": {\"frequency\": 72, \"value\": 7.8091}, \"9.063\": {\"frequency\": 84, \"value\": 9.063}, \"13.813\": {\"frequency\": 80, \"value\": 13.813}, \"9.8323\": {\"frequency\": 84, \"value\": 9.8323}, \"13.91\": {\"frequency\": 237, \"value\": 13.91}, \"13.604\": {\"frequency\": 77, \"value\": 13.604}, \"11.82\": {\"frequency\": 77, \"value\": 11.82}, \"5.3322\": {\"frequency\": 82, \"value\": 5.3322}, \"5.0892\": {\"frequency\": 76, \"value\": 5.0892}, \"14.007\": {\"frequency\": 171, \"value\": 14.007}, \"13.941\": {\"frequency\": 80, \"value\": 13.941}, \"13.823\": {\"frequency\": 81, \"value\": 13.823}, \"0.31342\": {\"frequency\": 85, \"value\": 0.31342}, \"11.08\": {\"frequency\": 82, \"value\": 11.08}, \"13.712\": {\"frequency\": 85, \"value\": 13.712}, \"13.827\": {\"frequency\": 84, \"value\": 13.827}, \"13.969\": {\"frequency\": 160, \"value\": 13.969}, \"13.964\": {\"frequency\": 152, \"value\": 13.964}, \"13.834\": {\"frequency\": 82, \"value\": 13.834}, \"13.686\": {\"frequency\": 85, \"value\": 13.686}, \"0.67651\": {\"frequency\": 88, \"value\": 0.67651}, \"10.922\": {\"frequency\": 82, \"value\": 10.922}, \"13.628\": {\"frequency\": 80, \"value\": 13.628}, \"13.841\": {\"frequency\": 83, \"value\": 13.841}, \"1.4608\": {\"frequency\": 79, \"value\": 1.4608}, \"13.429\": {\"frequency\": 80, \"value\": 13.429}, \"13.47\": {\"frequency\": 77, \"value\": 13.47}, \"13.852\": {\"frequency\": 86, \"value\": 13.852}, \"2.2475\": {\"frequency\": 81, \"value\": 2.2475}, \"0.56466\": {\"frequency\": 80, \"value\": 0.56466}, \"0.52744\": {\"frequency\": 80, \"value\": 0.52744}, \"13.866\": {\"frequency\": 82, \"value\": 13.866}, \"0.18861\": {\"frequency\": 80, \"value\": 0.18861}, \"13.873\": {\"frequency\": 83, \"value\": 13.873}, \"13.893\": {\"frequency\": 237, \"value\": 13.893}, \"0.71932\": {\"frequency\": 78, \"value\": 0.71932}, \"0.76514\": {\"frequency\": 79, \"value\": 0.76514}, \"13.825\": {\"frequency\": 163, \"value\": 13.825}, \"9.4654\": {\"frequency\": 78, \"value\": 9.4654}, \"11.242\": {\"frequency\": 68, \"value\": 11.242}, \"12.169\": {\"frequency\": 78, \"value\": 12.169}, \"13.999\": {\"frequency\": 85, \"value\": 13.999}, \"13.756\": {\"frequency\": 155, \"value\": 13.756}, \"13.888\": {\"frequency\": 232, \"value\": 13.888}, \"13.895\": {\"frequency\": 81, \"value\": 13.895}, \"13.777\": {\"frequency\": 79, \"value\": 13.777}, \"0.13308\": {\"frequency\": 80, \"value\": 0.13308}, \"13.57\": {\"frequency\": 153, \"value\": 13.57}, \"5.5296\": {\"frequency\": 77, \"value\": 5.5296}, \"0.16626\": {\"frequency\": 80, \"value\": 0.16626}, \"4.1651\": {\"frequency\": 79, \"value\": 4.1651}, \"14.14\": {\"frequency\": 82, \"value\": 14.14}, \"13.83\": {\"frequency\": 151, \"value\": 13.83}, \"13.887\": {\"frequency\": 78, \"value\": 13.887}, \"3.1861\": {\"frequency\": 84, \"value\": 3.1861}, \"13.279\": {\"frequency\": 78, \"value\": 13.279}, \"13.772\": {\"frequency\": 81, \"value\": 13.772}, \"10.646\": {\"frequency\": 82, \"value\": 10.646}, \"14.028\": {\"frequency\": 78, \"value\": 14.028}, \"13.785\": {\"frequency\": 80, \"value\": 13.785}, \"14.042\": {\"frequency\": 71, \"value\": 14.042}, \"13.596\": {\"frequency\": 77, \"value\": 13.596}, \"13.674\": {\"frequency\": 169, \"value\": 13.674}, \"13.904\": {\"frequency\": 72, \"value\": 13.904}, \"13.806\": {\"frequency\": 81, \"value\": 13.806}, \"13.867\": {\"frequency\": 89, \"value\": 13.867}, \"13.911\": {\"frequency\": 80, \"value\": 13.911}, \"0.29985\": {\"frequency\": 82, \"value\": 0.29985}, \"11.162\": {\"frequency\": 82, \"value\": 11.162}, \"13.627\": {\"frequency\": 77, \"value\": 13.627}, \"11.499\": {\"frequency\": 80, \"value\": 11.499}, \"1.1855\": {\"frequency\": 80, \"value\": 1.1855}, \"13.793\": {\"frequency\": 160, \"value\": 13.793}, \"13.453\": {\"frequency\": 79, \"value\": 13.453}, \"12.622\": {\"frequency\": 79, \"value\": 12.622}, \"0.25648\": {\"frequency\": 77, \"value\": 0.25648}, \"14.006\": {\"frequency\": 78, \"value\": 14.006}, \"12.685\": {\"frequency\": 80, \"value\": 12.685}, \"0.1\": {\"frequency\": 77, \"value\": 0.1}, \"13.432\": {\"frequency\": 72, \"value\": 13.432}, \"13.814\": {\"frequency\": 321, \"value\": 13.814}, \"13.946\": {\"frequency\": 151, \"value\": 13.946}, \"14.009\": {\"frequency\": 82, \"value\": 14.009}, \"13.763\": {\"frequency\": 157, \"value\": 13.763}, \"13.828\": {\"frequency\": 72, \"value\": 13.828}, \"5.7153\": {\"frequency\": 73, \"value\": 5.7153}, \"4.9168\": {\"frequency\": 78, \"value\": 4.9168}, \"12.851\": {\"frequency\": 78, \"value\": 12.851}, \"2.0279\": {\"frequency\": 75, \"value\": 2.0279}, \"3.6873\": {\"frequency\": 78, \"value\": 3.6873}, \"0.6957\": {\"frequency\": 74, \"value\": 0.6957}, \"13.954\": {\"frequency\": 159, \"value\": 13.954}, \"13.983\": {\"frequency\": 80, \"value\": 13.983}, \"0.60142\": {\"frequency\": 83, \"value\": 0.60142}, \"2.4127\": {\"frequency\": 72, \"value\": 2.4127}, \"0.92248\": {\"frequency\": 76, \"value\": 0.92248}, \"11.652\": {\"frequency\": 78, \"value\": 11.652}, \"13.676\": {\"frequency\": 79, \"value\": 13.676}, \"5.4609\": {\"frequency\": 81, \"value\": 5.4609}, \"13.74\": {\"frequency\": 83, \"value\": 13.74}, \"0.12674\": {\"frequency\": 83, \"value\": 0.12674}, \"0.98431\": {\"frequency\": 81, \"value\": 0.98431}, \"13.454\": {\"frequency\": 77, \"value\": 13.454}, \"2.0826\": {\"frequency\": 78, \"value\": 2.0826}, \"12.586\": {\"frequency\": 75, \"value\": 12.586}, \"0.24239\": {\"frequency\": 73, \"value\": 0.24239}, \"13.968\": {\"frequency\": 82, \"value\": 13.968}, \"13.85\": {\"frequency\": 75, \"value\": 13.85}, \"12.122\": {\"frequency\": 80, \"value\": 12.122}, \"13.857\": {\"frequency\": 83, \"value\": 13.857}, \"13.71\": {\"frequency\": 74, \"value\": 13.71}, \"0.32677\": {\"frequency\": 82, \"value\": 0.32677}, \"0.17326\": {\"frequency\": 78, \"value\": 0.17326}, \"14.004\": {\"frequency\": 71, \"value\": 14.004}, \"3.584\": {\"frequency\": 81, \"value\": 3.584}, \"12.239\": {\"frequency\": 85, \"value\": 12.239}, \"5.3961\": {\"frequency\": 87, \"value\": 5.3961}, \"13.511\": {\"frequency\": 79, \"value\": 13.511}, \"4.7247\": {\"frequency\": 81, \"value\": 4.7247}, \"13.155\": {\"frequency\": 77, \"value\": 13.155}, \"9.5884\": {\"frequency\": 78, \"value\": 9.5884}, \"14.012\": {\"frequency\": 156, \"value\": 14.012}, \"0.4445\": {\"frequency\": 79, \"value\": 0.4445}, \"13.726\": {\"frequency\": 163, \"value\": 13.726}, \"11.733\": {\"frequency\": 81, \"value\": 11.733}, \"13.99\": {\"frequency\": 83, \"value\": 13.99}, \"0.61981\": {\"frequency\": 85, \"value\": 0.61981}, \"13.45\": {\"frequency\": 84, \"value\": 13.45}, \"13.872\": {\"frequency\": 83, \"value\": 13.872}, \"13.879\": {\"frequency\": 77, \"value\": 13.879}, \"13.211\": {\"frequency\": 75, \"value\": 13.211}, \"14.011\": {\"frequency\": 78, \"value\": 14.011}, \"3.8479\": {\"frequency\": 75, \"value\": 3.8479}, \"13.944\": {\"frequency\": 85, \"value\": 13.944}, \"13.988\": {\"frequency\": 81, \"value\": 13.988}, \"4.9731\": {\"frequency\": 78, \"value\": 4.9731}, \"2.6442\": {\"frequency\": 83, \"value\": 2.6442}, \"13.935\": {\"frequency\": 159, \"value\": 13.935}, \"12.201\": {\"frequency\": 90, \"value\": 12.201}, \"4.7954\": {\"frequency\": 83, \"value\": 4.7954}, \"13.87\": {\"frequency\": 82, \"value\": 13.87}, \"1.0591\": {\"frequency\": 84, \"value\": 1.0591}, \"14.032\": {\"frequency\": 73, \"value\": 14.032}, \"5.7702\": {\"frequency\": 75, \"value\": 5.7702}, \"14.005\": {\"frequency\": 76, \"value\": 14.005}, \"12.512\": {\"frequency\": 73, \"value\": 12.512}, \"13.769\": {\"frequency\": 83, \"value\": 13.769}, \"13.401\": {\"frequency\": 81, \"value\": 13.401}, \"14.033\": {\"frequency\": 80, \"value\": 14.033}, \"13.59\": {\"frequency\": 72, \"value\": 13.59}, \"13.864\": {\"frequency\": 76, \"value\": 13.864}, \"13.915\": {\"frequency\": 75, \"value\": 13.915}, \"0.22372\": {\"frequency\": 79, \"value\": 0.22372}, \"13.803\": {\"frequency\": 87, \"value\": 13.803}, \"13.836\": {\"frequency\": 318, \"value\": 13.836}, \"12.78\": {\"frequency\": 84, \"value\": 12.78}, \"2.9903\": {\"frequency\": 76, \"value\": 2.9903}, \"14.058\": {\"frequency\": 154, \"value\": 14.058}, \"1.5601\": {\"frequency\": 78, \"value\": 1.5601}, \"14.015\": {\"frequency\": 75, \"value\": 14.015}, \"13.979\": {\"frequency\": 82, \"value\": 13.979}, \"13.765\": {\"frequency\": 79, \"value\": 13.765}, \"12.284\": {\"frequency\": 83, \"value\": 12.284}, \"13.916\": {\"frequency\": 162, \"value\": 13.916}, \"11.423\": {\"frequency\": 76, \"value\": 11.423}, \"13.68\": {\"frequency\": 80, \"value\": 13.68}, \"0.13918\": {\"frequency\": 77, \"value\": 0.13918}, \"13.937\": {\"frequency\": 81, \"value\": 13.937}, \"14.037\": {\"frequency\": 159, \"value\": 14.037}, \"0.18083\": {\"frequency\": 88, \"value\": 0.18083}, \"13.831\": {\"frequency\": 78, \"value\": 13.831}, \"0.45971\": {\"frequency\": 78, \"value\": 0.45971}, \"0.20409\": {\"frequency\": 70, \"value\": 0.20409}, \"13.419\": {\"frequency\": 79, \"value\": 13.419}, \"13.819\": {\"frequency\": 167, \"value\": 13.819}, \"10.763\": {\"frequency\": 82, \"value\": 10.763}, \"13.926\": {\"frequency\": 80, \"value\": 13.926}, \"12.938\": {\"frequency\": 77, \"value\": 12.938}, \"13.985\": {\"frequency\": 166, \"value\": 13.985}, \"13.695\": {\"frequency\": 87, \"value\": 13.695}, \"13.952\": {\"frequency\": 81, \"value\": 13.952}, \"13.959\": {\"frequency\": 161, \"value\": 13.959}, \"0.81494\": {\"frequency\": 80, \"value\": 0.81494}, \"13.966\": {\"frequency\": 76, \"value\": 13.966}, \"13.683\": {\"frequency\": 82, \"value\": 13.683}, \"1.0147\": {\"frequency\": 89, \"value\": 1.0147}, \"1.4062\": {\"frequency\": 83, \"value\": 1.4062}, \"0.38438\": {\"frequency\": 83, \"value\": 0.38438}, \"10.815\": {\"frequency\": 81, \"value\": 10.815}, \"3.0894\": {\"frequency\": 77, \"value\": 3.0894}, \"13.845\": {\"frequency\": 82, \"value\": 13.845}, \"11.914\": {\"frequency\": 75, \"value\": 11.914}, \"0.12019\": {\"frequency\": 79, \"value\": 0.12019}, \"13.947\": {\"frequency\": 82, \"value\": 13.947}, \"0.42923\": {\"frequency\": 83, \"value\": 0.42923}, \"1.1028\": {\"frequency\": 80, \"value\": 1.1028}, \"0.74221\": {\"frequency\": 75, \"value\": 0.74221}, \"14.035\": {\"frequency\": 82, \"value\": 14.035}, \"12.335\": {\"frequency\": 82, \"value\": 12.335}, \"13.967\": {\"frequency\": 231, \"value\": 13.967}, \"1.9711\": {\"frequency\": 81, \"value\": 1.9711}, \"6.4245\": {\"frequency\": 78, \"value\": 6.4245}, \"13.883\": {\"frequency\": 75, \"value\": 13.883}, \"13.981\": {\"frequency\": 164, \"value\": 13.981}, \"13.865\": {\"frequency\": 322, \"value\": 13.865}, \"13.863\": {\"frequency\": 162, \"value\": 13.863}, \"13.995\": {\"frequency\": 82, \"value\": 13.995}, \"0.63882\": {\"frequency\": 76, \"value\": 0.63882}, \"10.565\": {\"frequency\": 78, \"value\": 10.565}, \"8.2716\": {\"frequency\": 84, \"value\": 8.2716}, \"13.924\": {\"frequency\": 319, \"value\": 13.924}, \"7.6519\": {\"frequency\": 80, \"value\": 7.6519}, \"5.6589\": {\"frequency\": 81, \"value\": 5.6589}, \"2.3312\": {\"frequency\": 78, \"value\": 2.3312}, \"13.431\": {\"frequency\": 78, \"value\": 13.431}, \"0.15913\": {\"frequency\": 77, \"value\": 0.15913}, \"0.11505\": {\"frequency\": 76, \"value\": 0.11505}, \"2.5271\": {\"frequency\": 72, \"value\": 2.5271}, \"13.739\": {\"frequency\": 163, \"value\": 13.739}, \"12.871\": {\"frequency\": 78, \"value\": 12.871}, \"9.9167\": {\"frequency\": 78, \"value\": 9.9167}, \"13.647\": {\"frequency\": 84, \"value\": 13.647}, \"14.003\": {\"frequency\": 75, \"value\": 14.003}, \"0.14539\": {\"frequency\": 67, \"value\": 0.14539}, \"13.76\": {\"frequency\": 161, \"value\": 13.76}, \"14.017\": {\"frequency\": 80, \"value\": 14.017}, \"1.6698\": {\"frequency\": 82, \"value\": 1.6698}, \"13.899\": {\"frequency\": 157, \"value\": 13.899}, \"7.9523\": {\"frequency\": 83, \"value\": 7.9523}, \"13.989\": {\"frequency\": 165, \"value\": 13.989}, \"13.923\": {\"frequency\": 78, \"value\": 13.923}, \"0.15219\": {\"frequency\": 80, \"value\": 0.15219}, \"4.2296\": {\"frequency\": 84, \"value\": 4.2296}, \"7.1699\": {\"frequency\": 85, \"value\": 7.1699}, \"1.5121\": {\"frequency\": 84, \"value\": 1.5121}, \"0.10998\": {\"frequency\": 80, \"value\": 0.10998}, \"14.128\": {\"frequency\": 73, \"value\": 14.128}, \"12.9\": {\"frequency\": 83, \"value\": 12.9}, \"13.907\": {\"frequency\": 83, \"value\": 13.907}, \"12.414\": {\"frequency\": 78, \"value\": 12.414}, \"9.7373\": {\"frequency\": 79, \"value\": 9.7373}, \"13.921\": {\"frequency\": 78, \"value\": 13.921}, \"4.0883\": {\"frequency\": 85, \"value\": 4.0883}, \"13.348\": {\"frequency\": 82, \"value\": 13.348}, \"0.41375\": {\"frequency\": 76, \"value\": 0.41375}, \"9.6675\": {\"frequency\": 77, \"value\": 9.6675}, \"6.1324\": {\"frequency\": 79, \"value\": 6.1324}, \"12.024\": {\"frequency\": 85, \"value\": 12.024}, \"6.5102\": {\"frequency\": 82, \"value\": 6.5102}, \"0.28531\": {\"frequency\": 77, \"value\": 0.28531}, \"13.922\": {\"frequency\": 78, \"value\": 13.922}, \"13.929\": {\"frequency\": 317, \"value\": 13.929}, \"13.811\": {\"frequency\": 255, \"value\": 13.811}, \"13.253\": {\"frequency\": 78, \"value\": 13.253}, \"14.072\": {\"frequency\": 72, \"value\": 14.072}, \"11.318\": {\"frequency\": 86, \"value\": 11.318}, \"3.7684\": {\"frequency\": 86, \"value\": 3.7684}, \"13.95\": {\"frequency\": 83, \"value\": 13.95}, \"4.2973\": {\"frequency\": 82, \"value\": 4.2973}, \"13.758\": {\"frequency\": 163, \"value\": 13.758}, \"13.832\": {\"frequency\": 76, \"value\": 13.832}, \"13.761\": {\"frequency\": 79, \"value\": 13.761}, \"7.0051\": {\"frequency\": 86, \"value\": 7.0051}, \"14.089\": {\"frequency\": 83, \"value\": 14.089}, \"2.1637\": {\"frequency\": 75, \"value\": 2.1637}, \"3.2829\": {\"frequency\": 78, \"value\": 3.2829}, \"13.779\": {\"frequency\": 81, \"value\": 13.779}, \"14.07\": {\"frequency\": 83, \"value\": 14.07}, \"14.069\": {\"frequency\": 90, \"value\": 14.069}, \"13.576\": {\"frequency\": 75, \"value\": 13.576}, \"13.958\": {\"frequency\": 162, \"value\": 13.958}, \"13.965\": {\"frequency\": 79, \"value\": 13.965}, \"6.3374\": {\"frequency\": 82, \"value\": 6.3374}, \"14.104\": {\"frequency\": 78, \"value\": 14.104}, \"13.728\": {\"frequency\": 76, \"value\": 13.728}, \"5.2212\": {\"frequency\": 83, \"value\": 5.2212}, \"1.8469\": {\"frequency\": 73, \"value\": 1.8469}, \"13.235\": {\"frequency\": 79, \"value\": 13.235}, \"0.36929\": {\"frequency\": 79, \"value\": 0.36929}, \"1.9104\": {\"frequency\": 83, \"value\": 1.9104}, \"10.473\": {\"frequency\": 87, \"value\": 10.473}, \"13.98\": {\"frequency\": 249, \"value\": 13.98}, \"4.3685\": {\"frequency\": 84, \"value\": 4.3685}, \"13.744\": {\"frequency\": 81, \"value\": 13.744}, \"1.2977\": {\"frequency\": 79, \"value\": 1.2977}, \"3.3784\": {\"frequency\": 72, \"value\": 3.3784}, \"0.47488\": {\"frequency\": 73, \"value\": 0.47488}, \"9.3401\": {\"frequency\": 76, \"value\": 9.3401}, \"8.5332\": {\"frequency\": 85, \"value\": 8.5332}, \"14.114\": {\"frequency\": 85, \"value\": 14.114}, \"13.8\": {\"frequency\": 84, \"value\": 13.8}, \"13.691\": {\"frequency\": 84, \"value\": 13.691}, \"13.127\": {\"frequency\": 78, \"value\": 13.127}, \"13.759\": {\"frequency\": 76, \"value\": 13.759}, \"13.766\": {\"frequency\": 324, \"value\": 13.766}, \"13.773\": {\"frequency\": 84, \"value\": 13.773}, \"1.1442\": {\"frequency\": 79, \"value\": 1.1442}, \"4.5255\": {\"frequency\": 76, \"value\": 4.5255}, \"5.0318\": {\"frequency\": 77, \"value\": 5.0318}, \"2.8923\": {\"frequency\": 80, \"value\": 2.8923}, \"13.258\": {\"frequency\": 79, \"value\": 13.258}, \"13.752\": {\"frequency\": 81, \"value\": 13.752}, \"13.953\": {\"frequency\": 81, \"value\": 13.953}, \"13.851\": {\"frequency\": 76, \"value\": 13.851}, \"0.27068\": {\"frequency\": 77, \"value\": 0.27068}, \"13.666\": {\"frequency\": 77, \"value\": 13.666}, \"13.925\": {\"frequency\": 164, \"value\": 13.925}, \"13.906\": {\"frequency\": 159, \"value\": 13.906}, \"10.993\": {\"frequency\": 84, \"value\": 10.993}, \"13.913\": {\"frequency\": 75, \"value\": 13.913}, \"7.335\": {\"frequency\": 79, \"value\": 7.335}, \"13.802\": {\"frequency\": 158, \"value\": 13.802}, \"13.934\": {\"frequency\": 171, \"value\": 13.934}, \"14.021\": {\"frequency\": 76, \"value\": 14.021}, \"1.351\": {\"frequency\": 83, \"value\": 1.351}, \"4.6643\": {\"frequency\": 79, \"value\": 4.6643}, \"2.7714\": {\"frequency\": 81, \"value\": 2.7714}, \"0.89175\": {\"frequency\": 82, \"value\": 0.89175}, \"8.1122\": {\"frequency\": 76, \"value\": 8.1122}, \"13.812\": {\"frequency\": 78, \"value\": 13.812}, \"0.65755\": {\"frequency\": 81, \"value\": 0.65755}, \"14.019\": {\"frequency\": 83, \"value\": 14.019}, \"8.4084\": {\"frequency\": 77, \"value\": 8.4084}, \"8.6654\": {\"frequency\": 76, \"value\": 8.6654}, \"0.10498\": {\"frequency\": 79, \"value\": 0.10498}, \"5.8987\": {\"frequency\": 88, \"value\": 5.8987}, \"13.928\": {\"frequency\": 81, \"value\": 13.928}, \"0.35414\": {\"frequency\": 80, \"value\": 0.35414}, \"13.81\": {\"frequency\": 77, \"value\": 13.81}, \"13.532\": {\"frequency\": 73, \"value\": 13.532}, \"13.949\": {\"frequency\": 326, \"value\": 13.949}, \"14.081\": {\"frequency\": 71, \"value\": 14.081}, \"13.963\": {\"frequency\": 153, \"value\": 13.963}, \"0.39908\": {\"frequency\": 75, \"value\": 0.39908}, \"13.789\": {\"frequency\": 79, \"value\": 13.789}, \"13.747\": {\"frequency\": 84, \"value\": 13.747}, \"13.976\": {\"frequency\": 80, \"value\": 13.976}, \"4.0046\": {\"frequency\": 80, \"value\": 4.0046}, \"1.787\": {\"frequency\": 80, \"value\": 1.787}, \"5.8269\": {\"frequency\": 81, \"value\": 5.8269}, \"0.78814\": {\"frequency\": 83, \"value\": 0.78814}, \"5.2749\": {\"frequency\": 85, \"value\": 5.2749}, \"13.884\": {\"frequency\": 165, \"value\": 13.884}, \"5.5972\": {\"frequency\": 76, \"value\": 5.5972}, \"13.877\": {\"frequency\": 80, \"value\": 13.877}, \"1.729\": {\"frequency\": 81, \"value\": 1.729}, \"13.826\": {\"frequency\": 81, \"value\": 13.826}, \"10.339\": {\"frequency\": 81, \"value\": 10.339}, \"13.016\": {\"frequency\": 81, \"value\": 13.016}, \"13.971\": {\"frequency\": 86, \"value\": 13.971}, \"13.853\": {\"frequency\": 75, \"value\": 13.853}, \"0.84097\": {\"frequency\": 79, \"value\": 0.84097}, \"10.235\": {\"frequency\": 80, \"value\": 10.235}, \"13.951\": {\"frequency\": 143, \"value\": 13.951}, \"14.002\": {\"frequency\": 82, \"value\": 14.002}, \"10.148\": {\"frequency\": 81, \"value\": 10.148}, \"13.633\": {\"frequency\": 82, \"value\": 13.633}, \"13.724\": {\"frequency\": 78, \"value\": 13.724}, \"6.6325\": {\"frequency\": 74, \"value\": 6.6325}, \"10.861\": {\"frequency\": 84, \"value\": 10.861}, \"6.0521\": {\"frequency\": 81, \"value\": 6.0521}, \"13.78\": {\"frequency\": 83, \"value\": 13.78}, \"13.974\": {\"frequency\": 170, \"value\": 13.974}, \"13.787\": {\"frequency\": 86, \"value\": 13.787}, \"13.993\": {\"frequency\": 264, \"value\": 13.993}, \"3.9256\": {\"frequency\": 74, \"value\": 3.9256}, \"0.23306\": {\"frequency\": 81, \"value\": 0.23306}, \"13.986\": {\"frequency\": 75, \"value\": 13.986}, \"13.762\": {\"frequency\": 160, \"value\": 13.762}, \"13.243\": {\"frequency\": 76, \"value\": 13.243}}, \"mean\": 10.186694454830219}, \"selected_variable\": {\"name\": [\"<SArray>\"], \"dtype\": \"float\", \"view_component\": \"Numeric\", \"view_file\": \"sarray\", \"descriptives\": {\"rows\": 39905}, \"type\": \"SArray\", \"view_components\": [\"Numeric\", \"Categorical\"]}, \"histogram\": {\"progress\": 1.0, \"histogram\": {\"max\": 14.298886679999992, \"bins\": [4986, 1677, 858, 1285, 1521, 864, 647, 716, 1289, 1285, 1675, 23102], \"min\": -0.054971880000000084}, \"min\": 0.1, \"complete\": 1, \"max\": 14.161}}, e);\n",
       "                });\n",
       "            })();\n",
       "        "
      ]
     },
     "metadata": {},
     "output_type": "display_data"
    }
   ],
   "source": [
    "#Aprendizaje de Flujos de Entrada al Reactor vs Volumen de Salida\n",
    "graphlab.canvas.set_target('ipynb')\n",
    "training_dataV['Volumen'].show()"
   ]
  },
  {
   "cell_type": "code",
   "execution_count": null,
   "metadata": {
    "collapsed": true
   },
   "outputs": [],
   "source": []
  },
  {
   "cell_type": "code",
   "execution_count": 92,
   "metadata": {
    "collapsed": false
   },
   "outputs": [
    {
     "name": "stdout",
     "output_type": "stream",
     "text": [
      "layers Red del Flujo del Reactor vs Concentracion\n",
      "_______________________________________________\n",
      "layer[0]: FullConnectionLayer\n",
      "  init_sigma = 0.01\n",
      "  init_random = gaussian\n",
      "  init_bias = 0\n",
      "  num_hidden_units = 10\n",
      "layer[1]: SigmoidLayer\n",
      "layer[2]: FullConnectionLayer\n",
      "  init_sigma = 0.01\n",
      "  init_random = gaussian\n",
      "  init_bias = 0\n",
      "  num_hidden_units = 262\n",
      "layer[3]: SoftmaxLayer\n"
     ]
    }
   ],
   "source": [
    "#Entrenamiento de la red 1 con los valores de entrada del Flujo Reactor\n",
    "netC = graphlab.deeplearning.create(training_dataC, target ='Concent')\n",
    "print \"layers Red del Flujo del Reactor vs Concentracion\"\n",
    "print \"_______________________________________________\"\n",
    "print netC.layers"
   ]
  },
  {
   "cell_type": "code",
   "execution_count": 93,
   "metadata": {
    "collapsed": false
   },
   "outputs": [
    {
     "name": "stdout",
     "output_type": "stream",
     "text": [
      "layers Red del Flujo del Reactor vs Temperatura\n",
      "_______________________________________________\n",
      "layer[0]: FullConnectionLayer\n",
      "  init_sigma = 0.01\n",
      "  init_random = gaussian\n",
      "  init_bias = 0\n",
      "  num_hidden_units = 10\n",
      "layer[1]: SigmoidLayer\n",
      "layer[2]: FullConnectionLayer\n",
      "  init_sigma = 0.01\n",
      "  init_random = gaussian\n",
      "  init_bias = 0\n",
      "  num_hidden_units = 223\n",
      "layer[3]: SoftmaxLayer\n"
     ]
    }
   ],
   "source": [
    "#Entrenamiento de la red 2 con los valores de entrada del Flujo Reactor\n",
    "netT = graphlab.deeplearning.create(training_dataT, target ='Tempera')\n",
    "print \"layers Red del Flujo del Reactor vs Temperatura\"\n",
    "print \"_______________________________________________\"\n",
    "print netT.layers"
   ]
  },
  {
   "cell_type": "code",
   "execution_count": 95,
   "metadata": {
    "collapsed": false
   },
   "outputs": [
    {
     "name": "stdout",
     "output_type": "stream",
     "text": [
      "layers Red del Flujo del Reactor vs Volumen\n",
      "_______________________________________________\n",
      "layer[0]: FullConnectionLayer\n",
      "  init_sigma = 0.01\n",
      "  init_random = gaussian\n",
      "  init_bias = 0\n",
      "  num_hidden_units = 10\n",
      "layer[1]: SigmoidLayer\n",
      "layer[2]: FullConnectionLayer\n",
      "  init_sigma = 0.01\n",
      "  init_random = gaussian\n",
      "  init_bias = 0\n",
      "  num_hidden_units = 424\n",
      "layer[3]: SoftmaxLayer\n"
     ]
    }
   ],
   "source": [
    "#Entrenamiento de la red 3 con los valores de entrada del Flujo Reactor\n",
    "netV = graphlab.deeplearning.create(training_dataV, target ='Volumen')\n",
    "print \"layers Red del Flujo del Reactor vs Volumen\"\n",
    "print \"_______________________________________________\"\n",
    "print netV.layers"
   ]
  },
  {
   "cell_type": "code",
   "execution_count": 97,
   "metadata": {
    "collapsed": false
   },
   "outputs": [
    {
     "name": "stderr",
     "output_type": "stream",
     "text": [
      "[ERROR] graphlab.toolkits._main: Toolkit error: Column type of target 'Volumen' must be int or str.\n",
      "\n"
     ]
    },
    {
     "name": "stdout",
     "output_type": "stream",
     "text": [
      "Using network:\n",
      "\n",
      "### network layers ###\n",
      "layer[0]: FullConnectionLayer\n",
      "  init_sigma = 0.01\n",
      "  init_random = gaussian\n",
      "  init_bias = 0\n",
      "  num_hidden_units = 10\n",
      "layer[1]: SigmoidLayer\n",
      "layer[2]: FullConnectionLayer\n",
      "  init_sigma = 0.01\n",
      "  init_random = gaussian\n",
      "  init_bias = 0\n",
      "  num_hidden_units = 424\n",
      "layer[3]: SoftmaxLayer\n",
      "### end network layers ###\n",
      "\n",
      "### network parameters ###\n",
      "learning_rate = 0.001\n",
      "metric = accuracy,recall@2\n",
      "momentum = 0.9\n",
      "### end network parameters ###\n",
      "\n"
     ]
    },
    {
     "ename": "ToolkitError",
     "evalue": "Column type of target 'Volumen' must be int or str.\n",
     "output_type": "error",
     "traceback": [
      "\u001b[1;31m---------------------------------------------------------------------------\u001b[0m",
      "\u001b[1;31mToolkitError\u001b[0m                              Traceback (most recent call last)",
      "\u001b[1;32m<ipython-input-97-923dbc4c5987>\u001b[0m in \u001b[0;36m<module>\u001b[1;34m()\u001b[0m\n\u001b[0;32m      1\u001b[0m modelV = graphlab.neuralnet_classifier.create(training_dataV, target ='Volumen', network = netV, validation_set = validation_dataV, \n\u001b[1;32m----> 2\u001b[1;33m                                          metric = ['accuracy','recall@2'], max_iterations = 3)\n\u001b[0m",
      "\u001b[1;32mC:\\Users\\D A Santana\\Anaconda2\\envs\\gl-env\\lib\\site-packages\\graphlab\\toolkits\\classifier\\neuralnet_classifier.pyc\u001b[0m in \u001b[0;36mcreate\u001b[1;34m(dataset, target, features, max_iterations, network, validation_set, verbose, class_weights, **kwargs)\u001b[0m\n\u001b[0;32m    971\u001b[0m                        \u001b[0mmax_iterations\u001b[0m\u001b[1;33m=\u001b[0m\u001b[0mmax_iterations\u001b[0m\u001b[1;33m,\u001b[0m\u001b[1;33m\u001b[0m\u001b[0m\n\u001b[0;32m    972\u001b[0m                        \u001b[0mclass_weights\u001b[0m\u001b[1;33m=\u001b[0m\u001b[0mclass_weights\u001b[0m\u001b[1;33m,\u001b[0m\u001b[1;33m\u001b[0m\u001b[0m\n\u001b[1;32m--> 973\u001b[1;33m                        **(_network.params))\n\u001b[0m\u001b[0;32m    974\u001b[0m \u001b[1;33m\u001b[0m\u001b[0m\n\u001b[0;32m    975\u001b[0m     \u001b[1;32mreturn\u001b[0m \u001b[0mNeuralNetClassifier\u001b[0m\u001b[1;33m(\u001b[0m\u001b[0mmodel\u001b[0m\u001b[1;33m.\u001b[0m\u001b[0m__proxy__\u001b[0m\u001b[1;33m)\u001b[0m\u001b[1;33m\u001b[0m\u001b[0m\n",
      "\u001b[1;32mC:\\Users\\D A Santana\\Anaconda2\\envs\\gl-env\\lib\\site-packages\\graphlab\\toolkits\\_supervised_learning.pyc\u001b[0m in \u001b[0;36mcreate\u001b[1;34m(dataset, target, model_name, features, validation_set, verbose, distributed, **kwargs)\u001b[0m\n\u001b[0;32m    434\u001b[0m \u001b[1;33m\u001b[0m\u001b[0m\n\u001b[0;32m    435\u001b[0m     ret = _graphlab.toolkits._main.run(\"supervised_learning_train\",\n\u001b[1;32m--> 436\u001b[1;33m                                        options, verbose)\n\u001b[0m\u001b[0;32m    437\u001b[0m     \u001b[0mmodel\u001b[0m \u001b[1;33m=\u001b[0m \u001b[0mSupervisedLearningModel\u001b[0m\u001b[1;33m(\u001b[0m\u001b[0mret\u001b[0m\u001b[1;33m[\u001b[0m\u001b[1;34m'model'\u001b[0m\u001b[1;33m]\u001b[0m\u001b[1;33m,\u001b[0m \u001b[0mmodel_name\u001b[0m\u001b[1;33m)\u001b[0m\u001b[1;33m\u001b[0m\u001b[0m\n\u001b[0;32m    438\u001b[0m \u001b[1;33m\u001b[0m\u001b[0m\n",
      "\u001b[1;32mC:\\Users\\D A Santana\\Anaconda2\\envs\\gl-env\\lib\\site-packages\\graphlab\\toolkits\\_main.pyc\u001b[0m in \u001b[0;36mrun\u001b[1;34m(toolkit_name, options, verbose, show_progress)\u001b[0m\n\u001b[0;32m     87\u001b[0m         \u001b[0m_get_metric_tracker\u001b[0m\u001b[1;33m(\u001b[0m\u001b[1;33m)\u001b[0m\u001b[1;33m.\u001b[0m\u001b[0mtrack\u001b[0m\u001b[1;33m(\u001b[0m\u001b[0mmetric_name\u001b[0m\u001b[1;33m,\u001b[0m \u001b[0mvalue\u001b[0m\u001b[1;33m=\u001b[0m\u001b[1;36m1\u001b[0m\u001b[1;33m,\u001b[0m \u001b[0mproperties\u001b[0m\u001b[1;33m=\u001b[0m\u001b[0mtrack_props\u001b[0m\u001b[1;33m,\u001b[0m \u001b[0msend_sys_info\u001b[0m\u001b[1;33m=\u001b[0m\u001b[0mFalse\u001b[0m\u001b[1;33m)\u001b[0m\u001b[1;33m\u001b[0m\u001b[0m\n\u001b[0;32m     88\u001b[0m \u001b[1;33m\u001b[0m\u001b[0m\n\u001b[1;32m---> 89\u001b[1;33m         \u001b[1;32mraise\u001b[0m \u001b[0mToolkitError\u001b[0m\u001b[1;33m(\u001b[0m\u001b[0mstr\u001b[0m\u001b[1;33m(\u001b[0m\u001b[0mmessage\u001b[0m\u001b[1;33m)\u001b[0m\u001b[1;33m)\u001b[0m\u001b[1;33m\u001b[0m\u001b[0m\n\u001b[0m",
      "\u001b[1;31mToolkitError\u001b[0m: Column type of target 'Volumen' must be int or str.\n"
     ]
    }
   ],
   "source": [
    "modelV = graphlab.neuralnet_classifier.create(training_dataV, target ='Volumen', network = netV, validation_set = validation_dataV, \n",
    "                                         metric = ['accuracy','recall@2'], max_iterations = 3)"
   ]
  },
  {
   "cell_type": "code",
   "execution_count": 40,
   "metadata": {
    "collapsed": false
   },
   "outputs": [
    {
     "name": "stdout",
     "output_type": "stream",
     "text": [
      "layers del Flujo de la Chaqueta\n",
      "_______________________________________________\n",
      "layer[0]: FullConnectionLayer\n",
      "  init_sigma = 0.01\n",
      "  init_random = gaussian\n",
      "  init_bias = 0\n",
      "  num_hidden_units = 10\n",
      "layer[1]: SigmoidLayer\n",
      "layer[2]: FullConnectionLayer\n",
      "  init_sigma = 0.01\n",
      "  init_random = gaussian\n",
      "  init_bias = 0\n",
      "  num_hidden_units = 601\n",
      "layer[3]: SoftmaxLayer\n"
     ]
    }
   ],
   "source": [
    "#Entrenamiento de la red 2 con los valores de entrada del Flujo Chaqueta\n",
    "net2 = graphlab.deeplearning.create(training_data, target ='FlujoCh')\n",
    "print \"layers del Flujo de la Chaqueta\"\n",
    "print \"_______________________________________________\"\n",
    "print net2.layers"
   ]
  },
  {
   "cell_type": "code",
   "execution_count": null,
   "metadata": {
    "collapsed": true
   },
   "outputs": [],
   "source": [
    "pred = m.classify(test_data)\n",
    "pred\n"
   ]
  }
 ],
 "metadata": {
  "kernelspec": {
   "display_name": "Python 2",
   "language": "python",
   "name": "python2"
  },
  "language_info": {
   "codemirror_mode": {
    "name": "ipython",
    "version": 2
   },
   "file_extension": ".py",
   "mimetype": "text/x-python",
   "name": "python",
   "nbconvert_exporter": "python",
   "pygments_lexer": "ipython2",
   "version": "2.7.11"
  }
 },
 "nbformat": 4,
 "nbformat_minor": 0
}
