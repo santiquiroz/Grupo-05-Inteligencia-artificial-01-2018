{
 "cells": [
  {
   "cell_type": "code",
   "execution_count": 23,
   "metadata": {
    "collapsed": false
   },
   "outputs": [],
   "source": [
    "#graphlab.get_dependencies()\n",
    "# DASC\n",
    "#Kernel > Restart\n",
    "\n",
    "\n",
    "#importamos las libreias a usar\n",
    "import numpy as np\n",
    "import math\n",
    "import matplotlib.pyplot as plt\n",
    "import graphlab\n",
    "# easy_install -U scikit-fuzzy #instalar por consola\n",
    "import skfuzzy as fuzz\n",
    "from skfuzzy import control as ctrl\n",
    "import sys\n",
    "\n",
    "#puntos de operacion C=0.9951, T=350.4, V=13.89, FlCh=105, FlRx=82"
   ]
  },
  {
   "cell_type": "code",
   "execution_count": 3,
   "metadata": {
    "collapsed": false
   },
   "outputs": [
    {
     "data": {
      "text/html": [
       "<pre>Finished parsing file C:\\Users\\D A Santana\\Documents\\01_Univer\\2018-1\\03 Inteligencia\\proyectofinal\\red_matlab_ne\\file.csv</pre>"
      ],
      "text/plain": [
       "Finished parsing file C:\\Users\\D A Santana\\Documents\\01_Univer\\2018-1\\03 Inteligencia\\proyectofinal\\red_matlab_ne\\file.csv"
      ]
     },
     "metadata": {},
     "output_type": "display_data"
    },
    {
     "data": {
      "text/html": [
       "<pre>Parsing completed. Parsed 100 lines in 0.148112 secs.</pre>"
      ],
      "text/plain": [
       "Parsing completed. Parsed 100 lines in 0.148112 secs."
      ]
     },
     "metadata": {},
     "output_type": "display_data"
    },
    {
     "name": "stdout",
     "output_type": "stream",
     "text": [
      "------------------------------------------------------\n",
      "Inferred types from first 100 line(s) of file as \n",
      "column_type_hints=[float,float,float,float,float]\n",
      "If parsing fails due to incorrect types, you can correct\n",
      "the inferred type list above and pass it to read_csv in\n",
      "the column_type_hints argument\n",
      "------------------------------------------------------\n"
     ]
    },
    {
     "data": {
      "text/html": [
       "<pre>Finished parsing file C:\\Users\\D A Santana\\Documents\\01_Univer\\2018-1\\03 Inteligencia\\proyectofinal\\red_matlab_ne\\file.csv</pre>"
      ],
      "text/plain": [
       "Finished parsing file C:\\Users\\D A Santana\\Documents\\01_Univer\\2018-1\\03 Inteligencia\\proyectofinal\\red_matlab_ne\\file.csv"
      ]
     },
     "metadata": {},
     "output_type": "display_data"
    },
    {
     "data": {
      "text/html": [
       "<pre>Parsing completed. Parsed 50000 lines in 0.144493 secs.</pre>"
      ],
      "text/plain": [
       "Parsing completed. Parsed 50000 lines in 0.144493 secs."
      ]
     },
     "metadata": {},
     "output_type": "display_data"
    },
    {
     "data": {
      "text/html": [
       "<div style=\"max-height:1000px;max-width:1500px;overflow:auto;\"><table frame=\"box\" rules=\"cols\">\n",
       "    <tr>\n",
       "        <th style=\"padding-left: 1em; padding-right: 1em; text-align: center\">FlujoRx</th>\n",
       "        <th style=\"padding-left: 1em; padding-right: 1em; text-align: center\">FlujoCh</th>\n",
       "        <th style=\"padding-left: 1em; padding-right: 1em; text-align: center\">Concent</th>\n",
       "        <th style=\"padding-left: 1em; padding-right: 1em; text-align: center\">Tempera</th>\n",
       "        <th style=\"padding-left: 1em; padding-right: 1em; text-align: center\">Volumen</th>\n",
       "    </tr>\n",
       "    <tr>\n",
       "        <td style=\"padding-left: 1em; padding-right: 1em; text-align: center; vertical-align: top\">80.16</td>\n",
       "        <td style=\"padding-left: 1em; padding-right: 1em; text-align: center; vertical-align: top\">104.75</td>\n",
       "        <td style=\"padding-left: 1em; padding-right: 1em; text-align: center; vertical-align: top\">1.0</td>\n",
       "        <td style=\"padding-left: 1em; padding-right: 1em; text-align: center; vertical-align: top\">273.15</td>\n",
       "        <td style=\"padding-left: 1em; padding-right: 1em; text-align: center; vertical-align: top\">0.1</td>\n",
       "    </tr>\n",
       "    <tr>\n",
       "        <td style=\"padding-left: 1em; padding-right: 1em; text-align: center; vertical-align: top\">83.468</td>\n",
       "        <td style=\"padding-left: 1em; padding-right: 1em; text-align: center; vertical-align: top\">106.81</td>\n",
       "        <td style=\"padding-left: 1em; padding-right: 1em; text-align: center; vertical-align: top\">0.99994</td>\n",
       "        <td style=\"padding-left: 1em; padding-right: 1em; text-align: center; vertical-align: top\">281.12</td>\n",
       "        <td style=\"padding-left: 1em; padding-right: 1em; text-align: center; vertical-align: top\">0.10498</td>\n",
       "    </tr>\n",
       "    <tr>\n",
       "        <td style=\"padding-left: 1em; padding-right: 1em; text-align: center; vertical-align: top\">83.129</td>\n",
       "        <td style=\"padding-left: 1em; padding-right: 1em; text-align: center; vertical-align: top\">104.11</td>\n",
       "        <td style=\"padding-left: 1em; padding-right: 1em; text-align: center; vertical-align: top\">0.99987</td>\n",
       "        <td style=\"padding-left: 1em; padding-right: 1em; text-align: center; vertical-align: top\">287.85</td>\n",
       "        <td style=\"padding-left: 1em; padding-right: 1em; text-align: center; vertical-align: top\">0.10998</td>\n",
       "    </tr>\n",
       "    <tr>\n",
       "        <td style=\"padding-left: 1em; padding-right: 1em; text-align: center; vertical-align: top\">82.207</td>\n",
       "        <td style=\"padding-left: 1em; padding-right: 1em; text-align: center; vertical-align: top\">103.81</td>\n",
       "        <td style=\"padding-left: 1em; padding-right: 1em; text-align: center; vertical-align: top\">0.99989</td>\n",
       "        <td style=\"padding-left: 1em; padding-right: 1em; text-align: center; vertical-align: top\">293.53</td>\n",
       "        <td style=\"padding-left: 1em; padding-right: 1em; text-align: center; vertical-align: top\">0.11505</td>\n",
       "    </tr>\n",
       "    <tr>\n",
       "        <td style=\"padding-left: 1em; padding-right: 1em; text-align: center; vertical-align: top\">84.865</td>\n",
       "        <td style=\"padding-left: 1em; padding-right: 1em; text-align: center; vertical-align: top\">104.66</td>\n",
       "        <td style=\"padding-left: 1em; padding-right: 1em; text-align: center; vertical-align: top\">0.99993</td>\n",
       "        <td style=\"padding-left: 1em; padding-right: 1em; text-align: center; vertical-align: top\">298.55</td>\n",
       "        <td style=\"padding-left: 1em; padding-right: 1em; text-align: center; vertical-align: top\">0.12019</td>\n",
       "    </tr>\n",
       "    <tr>\n",
       "        <td style=\"padding-left: 1em; padding-right: 1em; text-align: center; vertical-align: top\">80.703</td>\n",
       "        <td style=\"padding-left: 1em; padding-right: 1em; text-align: center; vertical-align: top\">106.06</td>\n",
       "        <td style=\"padding-left: 1em; padding-right: 1em; text-align: center; vertical-align: top\">0.99989</td>\n",
       "        <td style=\"padding-left: 1em; padding-right: 1em; text-align: center; vertical-align: top\">304.24</td>\n",
       "        <td style=\"padding-left: 1em; padding-right: 1em; text-align: center; vertical-align: top\">0.12674</td>\n",
       "    </tr>\n",
       "    <tr>\n",
       "        <td style=\"padding-left: 1em; padding-right: 1em; text-align: center; vertical-align: top\">81.827</td>\n",
       "        <td style=\"padding-left: 1em; padding-right: 1em; text-align: center; vertical-align: top\">106.51</td>\n",
       "        <td style=\"padding-left: 1em; padding-right: 1em; text-align: center; vertical-align: top\">0.99993</td>\n",
       "        <td style=\"padding-left: 1em; padding-right: 1em; text-align: center; vertical-align: top\">308.96</td>\n",
       "        <td style=\"padding-left: 1em; padding-right: 1em; text-align: center; vertical-align: top\">0.13308</td>\n",
       "    </tr>\n",
       "    <tr>\n",
       "        <td style=\"padding-left: 1em; padding-right: 1em; text-align: center; vertical-align: top\">80.74</td>\n",
       "        <td style=\"padding-left: 1em; padding-right: 1em; text-align: center; vertical-align: top\">106.56</td>\n",
       "        <td style=\"padding-left: 1em; padding-right: 1em; text-align: center; vertical-align: top\">1.0001</td>\n",
       "        <td style=\"padding-left: 1em; padding-right: 1em; text-align: center; vertical-align: top\">312.91</td>\n",
       "        <td style=\"padding-left: 1em; padding-right: 1em; text-align: center; vertical-align: top\">0.13918</td>\n",
       "    </tr>\n",
       "    <tr>\n",
       "        <td style=\"padding-left: 1em; padding-right: 1em; text-align: center; vertical-align: top\">83.209</td>\n",
       "        <td style=\"padding-left: 1em; padding-right: 1em; text-align: center; vertical-align: top\">105.53</td>\n",
       "        <td style=\"padding-left: 1em; padding-right: 1em; text-align: center; vertical-align: top\">1.0001</td>\n",
       "        <td style=\"padding-left: 1em; padding-right: 1em; text-align: center; vertical-align: top\">316.32</td>\n",
       "        <td style=\"padding-left: 1em; padding-right: 1em; text-align: center; vertical-align: top\">0.14539</td>\n",
       "    </tr>\n",
       "    <tr>\n",
       "        <td style=\"padding-left: 1em; padding-right: 1em; text-align: center; vertical-align: top\">80.743</td>\n",
       "        <td style=\"padding-left: 1em; padding-right: 1em; text-align: center; vertical-align: top\">102.52</td>\n",
       "        <td style=\"padding-left: 1em; padding-right: 1em; text-align: center; vertical-align: top\">1.0</td>\n",
       "        <td style=\"padding-left: 1em; padding-right: 1em; text-align: center; vertical-align: top\">319.48</td>\n",
       "        <td style=\"padding-left: 1em; padding-right: 1em; text-align: center; vertical-align: top\">0.15219</td>\n",
       "    </tr>\n",
       "</table>\n",
       "[50000 rows x 5 columns]<br/>Note: Only the head of the SFrame is printed.<br/>You can use print_rows(num_rows=m, num_columns=n) to print more rows and columns.\n",
       "</div>"
      ],
      "text/plain": [
       "Columns:\n",
       "\tFlujoRx\tfloat\n",
       "\tFlujoCh\tfloat\n",
       "\tConcent\tfloat\n",
       "\tTempera\tfloat\n",
       "\tVolumen\tfloat\n",
       "\n",
       "Rows: 50000\n",
       "\n",
       "Data:\n",
       "+---------+---------+---------+---------+---------+\n",
       "| FlujoRx | FlujoCh | Concent | Tempera | Volumen |\n",
       "+---------+---------+---------+---------+---------+\n",
       "|  80.16  |  104.75 |   1.0   |  273.15 |   0.1   |\n",
       "|  83.468 |  106.81 | 0.99994 |  281.12 | 0.10498 |\n",
       "|  83.129 |  104.11 | 0.99987 |  287.85 | 0.10998 |\n",
       "|  82.207 |  103.81 | 0.99989 |  293.53 | 0.11505 |\n",
       "|  84.865 |  104.66 | 0.99993 |  298.55 | 0.12019 |\n",
       "|  80.703 |  106.06 | 0.99989 |  304.24 | 0.12674 |\n",
       "|  81.827 |  106.51 | 0.99993 |  308.96 | 0.13308 |\n",
       "|  80.74  |  106.56 |  1.0001 |  312.91 | 0.13918 |\n",
       "|  83.209 |  105.53 |  1.0001 |  316.32 | 0.14539 |\n",
       "|  80.743 |  102.52 |   1.0   |  319.48 | 0.15219 |\n",
       "+---------+---------+---------+---------+---------+\n",
       "[50000 rows x 5 columns]\n",
       "Note: Only the head of the SFrame is printed.\n",
       "You can use print_rows(num_rows=m, num_columns=n) to print more rows and columns."
      ]
     },
     "execution_count": 3,
     "metadata": {},
     "output_type": "execute_result"
    }
   ],
   "source": [
    "#cargamos el archivo en la misma carpeta\n",
    "data = graphlab.SFrame.read_csv('file.csv')\n",
    "\n",
    "#longitud total\n",
    "len (data)\n",
    "data"
   ]
  },
  {
   "cell_type": "code",
   "execution_count": 4,
   "metadata": {
    "collapsed": false
   },
   "outputs": [
    {
     "data": {
      "text/html": [
       "<div style=\"max-height:1000px;max-width:1500px;overflow:auto;\"><table frame=\"box\" rules=\"cols\">\n",
       "    <tr>\n",
       "        <th style=\"padding-left: 1em; padding-right: 1em; text-align: center\">Concent</th>\n",
       "        <th style=\"padding-left: 1em; padding-right: 1em; text-align: center\">FlujoCh</th>\n",
       "        <th style=\"padding-left: 1em; padding-right: 1em; text-align: center\">FlujoRx</th>\n",
       "    </tr>\n",
       "    <tr>\n",
       "        <td style=\"padding-left: 1em; padding-right: 1em; text-align: center; vertical-align: top\">1.0</td>\n",
       "        <td style=\"padding-left: 1em; padding-right: 1em; text-align: center; vertical-align: top\">104.75</td>\n",
       "        <td style=\"padding-left: 1em; padding-right: 1em; text-align: center; vertical-align: top\">80.16</td>\n",
       "    </tr>\n",
       "    <tr>\n",
       "        <td style=\"padding-left: 1em; padding-right: 1em; text-align: center; vertical-align: top\">0.99994</td>\n",
       "        <td style=\"padding-left: 1em; padding-right: 1em; text-align: center; vertical-align: top\">106.81</td>\n",
       "        <td style=\"padding-left: 1em; padding-right: 1em; text-align: center; vertical-align: top\">83.468</td>\n",
       "    </tr>\n",
       "    <tr>\n",
       "        <td style=\"padding-left: 1em; padding-right: 1em; text-align: center; vertical-align: top\">0.99987</td>\n",
       "        <td style=\"padding-left: 1em; padding-right: 1em; text-align: center; vertical-align: top\">104.11</td>\n",
       "        <td style=\"padding-left: 1em; padding-right: 1em; text-align: center; vertical-align: top\">83.129</td>\n",
       "    </tr>\n",
       "    <tr>\n",
       "        <td style=\"padding-left: 1em; padding-right: 1em; text-align: center; vertical-align: top\">0.99989</td>\n",
       "        <td style=\"padding-left: 1em; padding-right: 1em; text-align: center; vertical-align: top\">103.81</td>\n",
       "        <td style=\"padding-left: 1em; padding-right: 1em; text-align: center; vertical-align: top\">82.207</td>\n",
       "    </tr>\n",
       "    <tr>\n",
       "        <td style=\"padding-left: 1em; padding-right: 1em; text-align: center; vertical-align: top\">0.99993</td>\n",
       "        <td style=\"padding-left: 1em; padding-right: 1em; text-align: center; vertical-align: top\">104.66</td>\n",
       "        <td style=\"padding-left: 1em; padding-right: 1em; text-align: center; vertical-align: top\">84.865</td>\n",
       "    </tr>\n",
       "    <tr>\n",
       "        <td style=\"padding-left: 1em; padding-right: 1em; text-align: center; vertical-align: top\">0.99989</td>\n",
       "        <td style=\"padding-left: 1em; padding-right: 1em; text-align: center; vertical-align: top\">106.06</td>\n",
       "        <td style=\"padding-left: 1em; padding-right: 1em; text-align: center; vertical-align: top\">80.703</td>\n",
       "    </tr>\n",
       "    <tr>\n",
       "        <td style=\"padding-left: 1em; padding-right: 1em; text-align: center; vertical-align: top\">0.99993</td>\n",
       "        <td style=\"padding-left: 1em; padding-right: 1em; text-align: center; vertical-align: top\">106.51</td>\n",
       "        <td style=\"padding-left: 1em; padding-right: 1em; text-align: center; vertical-align: top\">81.827</td>\n",
       "    </tr>\n",
       "    <tr>\n",
       "        <td style=\"padding-left: 1em; padding-right: 1em; text-align: center; vertical-align: top\">1.0001</td>\n",
       "        <td style=\"padding-left: 1em; padding-right: 1em; text-align: center; vertical-align: top\">106.56</td>\n",
       "        <td style=\"padding-left: 1em; padding-right: 1em; text-align: center; vertical-align: top\">80.74</td>\n",
       "    </tr>\n",
       "    <tr>\n",
       "        <td style=\"padding-left: 1em; padding-right: 1em; text-align: center; vertical-align: top\">1.0001</td>\n",
       "        <td style=\"padding-left: 1em; padding-right: 1em; text-align: center; vertical-align: top\">105.53</td>\n",
       "        <td style=\"padding-left: 1em; padding-right: 1em; text-align: center; vertical-align: top\">83.209</td>\n",
       "    </tr>\n",
       "    <tr>\n",
       "        <td style=\"padding-left: 1em; padding-right: 1em; text-align: center; vertical-align: top\">1.0</td>\n",
       "        <td style=\"padding-left: 1em; padding-right: 1em; text-align: center; vertical-align: top\">102.52</td>\n",
       "        <td style=\"padding-left: 1em; padding-right: 1em; text-align: center; vertical-align: top\">80.743</td>\n",
       "    </tr>\n",
       "</table>\n",
       "[50000 rows x 3 columns]<br/>Note: Only the head of the SFrame is printed.<br/>You can use print_rows(num_rows=m, num_columns=n) to print more rows and columns.\n",
       "</div>"
      ],
      "text/plain": [
       "Columns:\n",
       "\tConcent\tfloat\n",
       "\tFlujoCh\tfloat\n",
       "\tFlujoRx\tfloat\n",
       "\n",
       "Rows: 50000\n",
       "\n",
       "Data:\n",
       "+---------+---------+---------+\n",
       "| Concent | FlujoCh | FlujoRx |\n",
       "+---------+---------+---------+\n",
       "|   1.0   |  104.75 |  80.16  |\n",
       "| 0.99994 |  106.81 |  83.468 |\n",
       "| 0.99987 |  104.11 |  83.129 |\n",
       "| 0.99989 |  103.81 |  82.207 |\n",
       "| 0.99993 |  104.66 |  84.865 |\n",
       "| 0.99989 |  106.06 |  80.703 |\n",
       "| 0.99993 |  106.51 |  81.827 |\n",
       "|  1.0001 |  106.56 |  80.74  |\n",
       "|  1.0001 |  105.53 |  83.209 |\n",
       "|   1.0   |  102.52 |  80.743 |\n",
       "+---------+---------+---------+\n",
       "[50000 rows x 3 columns]\n",
       "Note: Only the head of the SFrame is printed.\n",
       "You can use print_rows(num_rows=m, num_columns=n) to print more rows and columns."
      ]
     },
     "execution_count": 4,
     "metadata": {},
     "output_type": "execute_result"
    }
   ],
   "source": [
    "#creacion de la tabla de relacion Variables entrada Vs salida Concentracion \n",
    "entvsC = graphlab.SFrame({'Concent':data.select_column('Concent'),'FlujoCh':data.select_column('FlujoCh'),\n",
    "                          'FlujoRx':data.select_column('FlujoRx')})\n",
    "\n",
    "entvsC"
   ]
  },
  {
   "cell_type": "code",
   "execution_count": 5,
   "metadata": {
    "collapsed": false
   },
   "outputs": [
    {
     "data": {
      "text/html": [
       "<div style=\"max-height:1000px;max-width:1500px;overflow:auto;\"><table frame=\"box\" rules=\"cols\">\n",
       "    <tr>\n",
       "        <th style=\"padding-left: 1em; padding-right: 1em; text-align: center\">FlujoCh</th>\n",
       "        <th style=\"padding-left: 1em; padding-right: 1em; text-align: center\">FlujoRx</th>\n",
       "        <th style=\"padding-left: 1em; padding-right: 1em; text-align: center\">Volumen</th>\n",
       "    </tr>\n",
       "    <tr>\n",
       "        <td style=\"padding-left: 1em; padding-right: 1em; text-align: center; vertical-align: top\">104.75</td>\n",
       "        <td style=\"padding-left: 1em; padding-right: 1em; text-align: center; vertical-align: top\">80.16</td>\n",
       "        <td style=\"padding-left: 1em; padding-right: 1em; text-align: center; vertical-align: top\">0.1</td>\n",
       "    </tr>\n",
       "    <tr>\n",
       "        <td style=\"padding-left: 1em; padding-right: 1em; text-align: center; vertical-align: top\">106.81</td>\n",
       "        <td style=\"padding-left: 1em; padding-right: 1em; text-align: center; vertical-align: top\">83.468</td>\n",
       "        <td style=\"padding-left: 1em; padding-right: 1em; text-align: center; vertical-align: top\">0.10498</td>\n",
       "    </tr>\n",
       "    <tr>\n",
       "        <td style=\"padding-left: 1em; padding-right: 1em; text-align: center; vertical-align: top\">104.11</td>\n",
       "        <td style=\"padding-left: 1em; padding-right: 1em; text-align: center; vertical-align: top\">83.129</td>\n",
       "        <td style=\"padding-left: 1em; padding-right: 1em; text-align: center; vertical-align: top\">0.10998</td>\n",
       "    </tr>\n",
       "    <tr>\n",
       "        <td style=\"padding-left: 1em; padding-right: 1em; text-align: center; vertical-align: top\">103.81</td>\n",
       "        <td style=\"padding-left: 1em; padding-right: 1em; text-align: center; vertical-align: top\">82.207</td>\n",
       "        <td style=\"padding-left: 1em; padding-right: 1em; text-align: center; vertical-align: top\">0.11505</td>\n",
       "    </tr>\n",
       "    <tr>\n",
       "        <td style=\"padding-left: 1em; padding-right: 1em; text-align: center; vertical-align: top\">104.66</td>\n",
       "        <td style=\"padding-left: 1em; padding-right: 1em; text-align: center; vertical-align: top\">84.865</td>\n",
       "        <td style=\"padding-left: 1em; padding-right: 1em; text-align: center; vertical-align: top\">0.12019</td>\n",
       "    </tr>\n",
       "    <tr>\n",
       "        <td style=\"padding-left: 1em; padding-right: 1em; text-align: center; vertical-align: top\">106.06</td>\n",
       "        <td style=\"padding-left: 1em; padding-right: 1em; text-align: center; vertical-align: top\">80.703</td>\n",
       "        <td style=\"padding-left: 1em; padding-right: 1em; text-align: center; vertical-align: top\">0.12674</td>\n",
       "    </tr>\n",
       "    <tr>\n",
       "        <td style=\"padding-left: 1em; padding-right: 1em; text-align: center; vertical-align: top\">106.51</td>\n",
       "        <td style=\"padding-left: 1em; padding-right: 1em; text-align: center; vertical-align: top\">81.827</td>\n",
       "        <td style=\"padding-left: 1em; padding-right: 1em; text-align: center; vertical-align: top\">0.13308</td>\n",
       "    </tr>\n",
       "    <tr>\n",
       "        <td style=\"padding-left: 1em; padding-right: 1em; text-align: center; vertical-align: top\">106.56</td>\n",
       "        <td style=\"padding-left: 1em; padding-right: 1em; text-align: center; vertical-align: top\">80.74</td>\n",
       "        <td style=\"padding-left: 1em; padding-right: 1em; text-align: center; vertical-align: top\">0.13918</td>\n",
       "    </tr>\n",
       "    <tr>\n",
       "        <td style=\"padding-left: 1em; padding-right: 1em; text-align: center; vertical-align: top\">105.53</td>\n",
       "        <td style=\"padding-left: 1em; padding-right: 1em; text-align: center; vertical-align: top\">83.209</td>\n",
       "        <td style=\"padding-left: 1em; padding-right: 1em; text-align: center; vertical-align: top\">0.14539</td>\n",
       "    </tr>\n",
       "    <tr>\n",
       "        <td style=\"padding-left: 1em; padding-right: 1em; text-align: center; vertical-align: top\">102.52</td>\n",
       "        <td style=\"padding-left: 1em; padding-right: 1em; text-align: center; vertical-align: top\">80.743</td>\n",
       "        <td style=\"padding-left: 1em; padding-right: 1em; text-align: center; vertical-align: top\">0.15219</td>\n",
       "    </tr>\n",
       "</table>\n",
       "[50000 rows x 3 columns]<br/>Note: Only the head of the SFrame is printed.<br/>You can use print_rows(num_rows=m, num_columns=n) to print more rows and columns.\n",
       "</div>"
      ],
      "text/plain": [
       "Columns:\n",
       "\tFlujoCh\tfloat\n",
       "\tFlujoRx\tfloat\n",
       "\tVolumen\tfloat\n",
       "\n",
       "Rows: 50000\n",
       "\n",
       "Data:\n",
       "+---------+---------+---------+\n",
       "| FlujoCh | FlujoRx | Volumen |\n",
       "+---------+---------+---------+\n",
       "|  104.75 |  80.16  |   0.1   |\n",
       "|  106.81 |  83.468 | 0.10498 |\n",
       "|  104.11 |  83.129 | 0.10998 |\n",
       "|  103.81 |  82.207 | 0.11505 |\n",
       "|  104.66 |  84.865 | 0.12019 |\n",
       "|  106.06 |  80.703 | 0.12674 |\n",
       "|  106.51 |  81.827 | 0.13308 |\n",
       "|  106.56 |  80.74  | 0.13918 |\n",
       "|  105.53 |  83.209 | 0.14539 |\n",
       "|  102.52 |  80.743 | 0.15219 |\n",
       "+---------+---------+---------+\n",
       "[50000 rows x 3 columns]\n",
       "Note: Only the head of the SFrame is printed.\n",
       "You can use print_rows(num_rows=m, num_columns=n) to print more rows and columns."
      ]
     },
     "execution_count": 5,
     "metadata": {},
     "output_type": "execute_result"
    }
   ],
   "source": [
    "#creacion de la tabla de relacion Variables entrada Vs salida Volumen \n",
    "entvsV = graphlab.SFrame({'Volumen':data.select_column('Volumen'),'FlujoCh':data.select_column('FlujoCh'),\n",
    "                          'FlujoRx':data.select_column('FlujoRx')})\n",
    "entvsV"
   ]
  },
  {
   "cell_type": "code",
   "execution_count": 6,
   "metadata": {
    "collapsed": false
   },
   "outputs": [
    {
     "data": {
      "text/html": [
       "<div style=\"max-height:1000px;max-width:1500px;overflow:auto;\"><table frame=\"box\" rules=\"cols\">\n",
       "    <tr>\n",
       "        <th style=\"padding-left: 1em; padding-right: 1em; text-align: center\">FlujoCh</th>\n",
       "        <th style=\"padding-left: 1em; padding-right: 1em; text-align: center\">FlujoRx</th>\n",
       "        <th style=\"padding-left: 1em; padding-right: 1em; text-align: center\">TCalificacion</th>\n",
       "        <th style=\"padding-left: 1em; padding-right: 1em; text-align: center\">Tempera</th>\n",
       "    </tr>\n",
       "    <tr>\n",
       "        <td style=\"padding-left: 1em; padding-right: 1em; text-align: center; vertical-align: top\">104.75</td>\n",
       "        <td style=\"padding-left: 1em; padding-right: 1em; text-align: center; vertical-align: top\">80.16</td>\n",
       "        <td style=\"padding-left: 1em; padding-right: 1em; text-align: center; vertical-align: top\">-1</td>\n",
       "        <td style=\"padding-left: 1em; padding-right: 1em; text-align: center; vertical-align: top\">273.15</td>\n",
       "    </tr>\n",
       "    <tr>\n",
       "        <td style=\"padding-left: 1em; padding-right: 1em; text-align: center; vertical-align: top\">106.81</td>\n",
       "        <td style=\"padding-left: 1em; padding-right: 1em; text-align: center; vertical-align: top\">83.468</td>\n",
       "        <td style=\"padding-left: 1em; padding-right: 1em; text-align: center; vertical-align: top\">-1</td>\n",
       "        <td style=\"padding-left: 1em; padding-right: 1em; text-align: center; vertical-align: top\">281.12</td>\n",
       "    </tr>\n",
       "    <tr>\n",
       "        <td style=\"padding-left: 1em; padding-right: 1em; text-align: center; vertical-align: top\">104.11</td>\n",
       "        <td style=\"padding-left: 1em; padding-right: 1em; text-align: center; vertical-align: top\">83.129</td>\n",
       "        <td style=\"padding-left: 1em; padding-right: 1em; text-align: center; vertical-align: top\">-1</td>\n",
       "        <td style=\"padding-left: 1em; padding-right: 1em; text-align: center; vertical-align: top\">287.85</td>\n",
       "    </tr>\n",
       "    <tr>\n",
       "        <td style=\"padding-left: 1em; padding-right: 1em; text-align: center; vertical-align: top\">103.81</td>\n",
       "        <td style=\"padding-left: 1em; padding-right: 1em; text-align: center; vertical-align: top\">82.207</td>\n",
       "        <td style=\"padding-left: 1em; padding-right: 1em; text-align: center; vertical-align: top\">-1</td>\n",
       "        <td style=\"padding-left: 1em; padding-right: 1em; text-align: center; vertical-align: top\">293.53</td>\n",
       "    </tr>\n",
       "    <tr>\n",
       "        <td style=\"padding-left: 1em; padding-right: 1em; text-align: center; vertical-align: top\">104.66</td>\n",
       "        <td style=\"padding-left: 1em; padding-right: 1em; text-align: center; vertical-align: top\">84.865</td>\n",
       "        <td style=\"padding-left: 1em; padding-right: 1em; text-align: center; vertical-align: top\">-1</td>\n",
       "        <td style=\"padding-left: 1em; padding-right: 1em; text-align: center; vertical-align: top\">298.55</td>\n",
       "    </tr>\n",
       "    <tr>\n",
       "        <td style=\"padding-left: 1em; padding-right: 1em; text-align: center; vertical-align: top\">106.06</td>\n",
       "        <td style=\"padding-left: 1em; padding-right: 1em; text-align: center; vertical-align: top\">80.703</td>\n",
       "        <td style=\"padding-left: 1em; padding-right: 1em; text-align: center; vertical-align: top\">-1</td>\n",
       "        <td style=\"padding-left: 1em; padding-right: 1em; text-align: center; vertical-align: top\">304.24</td>\n",
       "    </tr>\n",
       "    <tr>\n",
       "        <td style=\"padding-left: 1em; padding-right: 1em; text-align: center; vertical-align: top\">106.51</td>\n",
       "        <td style=\"padding-left: 1em; padding-right: 1em; text-align: center; vertical-align: top\">81.827</td>\n",
       "        <td style=\"padding-left: 1em; padding-right: 1em; text-align: center; vertical-align: top\">-1</td>\n",
       "        <td style=\"padding-left: 1em; padding-right: 1em; text-align: center; vertical-align: top\">308.96</td>\n",
       "    </tr>\n",
       "    <tr>\n",
       "        <td style=\"padding-left: 1em; padding-right: 1em; text-align: center; vertical-align: top\">106.56</td>\n",
       "        <td style=\"padding-left: 1em; padding-right: 1em; text-align: center; vertical-align: top\">80.74</td>\n",
       "        <td style=\"padding-left: 1em; padding-right: 1em; text-align: center; vertical-align: top\">-1</td>\n",
       "        <td style=\"padding-left: 1em; padding-right: 1em; text-align: center; vertical-align: top\">312.91</td>\n",
       "    </tr>\n",
       "    <tr>\n",
       "        <td style=\"padding-left: 1em; padding-right: 1em; text-align: center; vertical-align: top\">105.53</td>\n",
       "        <td style=\"padding-left: 1em; padding-right: 1em; text-align: center; vertical-align: top\">83.209</td>\n",
       "        <td style=\"padding-left: 1em; padding-right: 1em; text-align: center; vertical-align: top\">-1</td>\n",
       "        <td style=\"padding-left: 1em; padding-right: 1em; text-align: center; vertical-align: top\">316.32</td>\n",
       "    </tr>\n",
       "    <tr>\n",
       "        <td style=\"padding-left: 1em; padding-right: 1em; text-align: center; vertical-align: top\">102.52</td>\n",
       "        <td style=\"padding-left: 1em; padding-right: 1em; text-align: center; vertical-align: top\">80.743</td>\n",
       "        <td style=\"padding-left: 1em; padding-right: 1em; text-align: center; vertical-align: top\">-1</td>\n",
       "        <td style=\"padding-left: 1em; padding-right: 1em; text-align: center; vertical-align: top\">319.48</td>\n",
       "    </tr>\n",
       "</table>\n",
       "[50000 rows x 4 columns]<br/>Note: Only the head of the SFrame is printed.<br/>You can use print_rows(num_rows=m, num_columns=n) to print more rows and columns.\n",
       "</div>"
      ],
      "text/plain": [
       "Columns:\n",
       "\tFlujoCh\tfloat\n",
       "\tFlujoRx\tfloat\n",
       "\tTCalificacion\tint\n",
       "\tTempera\tstr\n",
       "\n",
       "Rows: 50000\n",
       "\n",
       "Data:\n",
       "+---------+---------+---------------+---------+\n",
       "| FlujoCh | FlujoRx | TCalificacion | Tempera |\n",
       "+---------+---------+---------------+---------+\n",
       "|  104.75 |  80.16  |       -1      |  273.15 |\n",
       "|  106.81 |  83.468 |       -1      |  281.12 |\n",
       "|  104.11 |  83.129 |       -1      |  287.85 |\n",
       "|  103.81 |  82.207 |       -1      |  293.53 |\n",
       "|  104.66 |  84.865 |       -1      |  298.55 |\n",
       "|  106.06 |  80.703 |       -1      |  304.24 |\n",
       "|  106.51 |  81.827 |       -1      |  308.96 |\n",
       "|  106.56 |  80.74  |       -1      |  312.91 |\n",
       "|  105.53 |  83.209 |       -1      |  316.32 |\n",
       "|  102.52 |  80.743 |       -1      |  319.48 |\n",
       "+---------+---------+---------------+---------+\n",
       "[50000 rows x 4 columns]\n",
       "Note: Only the head of the SFrame is printed.\n",
       "You can use print_rows(num_rows=m, num_columns=n) to print more rows and columns."
      ]
     },
     "execution_count": 6,
     "metadata": {},
     "output_type": "execute_result"
    }
   ],
   "source": [
    "#creacion de la tabla de relacion Variables entrada Vs salida Temp \n",
    "entvsT = graphlab.SFrame({'Tempera':data.select_column('Tempera'),'FlujoCh':data.select_column('FlujoCh'),\n",
    "                          'FlujoRx':data.select_column('FlujoRx'),'TCalificacion':data.select_column('Concent')})\n",
    "\n",
    "#Creacion tabla Clasificadora\n",
    "#Temp = rango, +1\n",
    "#Temp =fuera rango,-1\n",
    "entvsT['TCalificacion'] = entvsT['Tempera'].apply(lambda x: +1 if x in range(345,355) else -1)\n",
    "\n",
    "#\n",
    "#entvsT['Tempera'] = entvsT['Tempera'].astype(int)\n",
    "entvsT['Tempera'] = entvsT['Tempera'].astype(str)\n",
    "\n",
    "entvsT"
   ]
  },
  {
   "cell_type": "code",
   "execution_count": 7,
   "metadata": {
    "collapsed": true
   },
   "outputs": [],
   "source": [
    "#Division en Entrenamento y Validation para cada net\n",
    "training_dataC, validation_dataC = entvsC.random_split(0.8) #DB concentracion\n",
    "training_dataT, validation_dataT = entvsT.random_split(0.8) #DB temperatura\n",
    "training_dataV, validation_dataV = entvsV.random_split(0.8) #DB volumen"
   ]
  },
  {
   "cell_type": "code",
   "execution_count": 8,
   "metadata": {
    "collapsed": false
   },
   "outputs": [
    {
     "data": {
      "text/html": [
       "<div style=\"max-height:1000px;max-width:1500px;overflow:auto;\"><table frame=\"box\" rules=\"cols\">\n",
       "    <tr>\n",
       "        <th style=\"padding-left: 1em; padding-right: 1em; text-align: center\">FlujoCh</th>\n",
       "        <th style=\"padding-left: 1em; padding-right: 1em; text-align: center\">FlujoRx</th>\n",
       "        <th style=\"padding-left: 1em; padding-right: 1em; text-align: center\">TCalificacion</th>\n",
       "        <th style=\"padding-left: 1em; padding-right: 1em; text-align: center\">Tempera</th>\n",
       "    </tr>\n",
       "    <tr>\n",
       "        <td style=\"padding-left: 1em; padding-right: 1em; text-align: center; vertical-align: top\">104.75</td>\n",
       "        <td style=\"padding-left: 1em; padding-right: 1em; text-align: center; vertical-align: top\">80.16</td>\n",
       "        <td style=\"padding-left: 1em; padding-right: 1em; text-align: center; vertical-align: top\">-1</td>\n",
       "        <td style=\"padding-left: 1em; padding-right: 1em; text-align: center; vertical-align: top\">273.15</td>\n",
       "    </tr>\n",
       "    <tr>\n",
       "        <td style=\"padding-left: 1em; padding-right: 1em; text-align: center; vertical-align: top\">106.81</td>\n",
       "        <td style=\"padding-left: 1em; padding-right: 1em; text-align: center; vertical-align: top\">83.468</td>\n",
       "        <td style=\"padding-left: 1em; padding-right: 1em; text-align: center; vertical-align: top\">-1</td>\n",
       "        <td style=\"padding-left: 1em; padding-right: 1em; text-align: center; vertical-align: top\">281.12</td>\n",
       "    </tr>\n",
       "    <tr>\n",
       "        <td style=\"padding-left: 1em; padding-right: 1em; text-align: center; vertical-align: top\">104.11</td>\n",
       "        <td style=\"padding-left: 1em; padding-right: 1em; text-align: center; vertical-align: top\">83.129</td>\n",
       "        <td style=\"padding-left: 1em; padding-right: 1em; text-align: center; vertical-align: top\">-1</td>\n",
       "        <td style=\"padding-left: 1em; padding-right: 1em; text-align: center; vertical-align: top\">287.85</td>\n",
       "    </tr>\n",
       "    <tr>\n",
       "        <td style=\"padding-left: 1em; padding-right: 1em; text-align: center; vertical-align: top\">103.81</td>\n",
       "        <td style=\"padding-left: 1em; padding-right: 1em; text-align: center; vertical-align: top\">82.207</td>\n",
       "        <td style=\"padding-left: 1em; padding-right: 1em; text-align: center; vertical-align: top\">-1</td>\n",
       "        <td style=\"padding-left: 1em; padding-right: 1em; text-align: center; vertical-align: top\">293.53</td>\n",
       "    </tr>\n",
       "    <tr>\n",
       "        <td style=\"padding-left: 1em; padding-right: 1em; text-align: center; vertical-align: top\">106.06</td>\n",
       "        <td style=\"padding-left: 1em; padding-right: 1em; text-align: center; vertical-align: top\">80.703</td>\n",
       "        <td style=\"padding-left: 1em; padding-right: 1em; text-align: center; vertical-align: top\">-1</td>\n",
       "        <td style=\"padding-left: 1em; padding-right: 1em; text-align: center; vertical-align: top\">304.24</td>\n",
       "    </tr>\n",
       "    <tr>\n",
       "        <td style=\"padding-left: 1em; padding-right: 1em; text-align: center; vertical-align: top\">106.51</td>\n",
       "        <td style=\"padding-left: 1em; padding-right: 1em; text-align: center; vertical-align: top\">81.827</td>\n",
       "        <td style=\"padding-left: 1em; padding-right: 1em; text-align: center; vertical-align: top\">-1</td>\n",
       "        <td style=\"padding-left: 1em; padding-right: 1em; text-align: center; vertical-align: top\">308.96</td>\n",
       "    </tr>\n",
       "    <tr>\n",
       "        <td style=\"padding-left: 1em; padding-right: 1em; text-align: center; vertical-align: top\">106.56</td>\n",
       "        <td style=\"padding-left: 1em; padding-right: 1em; text-align: center; vertical-align: top\">80.74</td>\n",
       "        <td style=\"padding-left: 1em; padding-right: 1em; text-align: center; vertical-align: top\">-1</td>\n",
       "        <td style=\"padding-left: 1em; padding-right: 1em; text-align: center; vertical-align: top\">312.91</td>\n",
       "    </tr>\n",
       "    <tr>\n",
       "        <td style=\"padding-left: 1em; padding-right: 1em; text-align: center; vertical-align: top\">102.52</td>\n",
       "        <td style=\"padding-left: 1em; padding-right: 1em; text-align: center; vertical-align: top\">80.743</td>\n",
       "        <td style=\"padding-left: 1em; padding-right: 1em; text-align: center; vertical-align: top\">-1</td>\n",
       "        <td style=\"padding-left: 1em; padding-right: 1em; text-align: center; vertical-align: top\">319.48</td>\n",
       "    </tr>\n",
       "    <tr>\n",
       "        <td style=\"padding-left: 1em; padding-right: 1em; text-align: center; vertical-align: top\">102.2</td>\n",
       "        <td style=\"padding-left: 1em; padding-right: 1em; text-align: center; vertical-align: top\">80.212</td>\n",
       "        <td style=\"padding-left: 1em; padding-right: 1em; text-align: center; vertical-align: top\">-1</td>\n",
       "        <td style=\"padding-left: 1em; padding-right: 1em; text-align: center; vertical-align: top\">324.87</td>\n",
       "    </tr>\n",
       "    <tr>\n",
       "        <td style=\"padding-left: 1em; padding-right: 1em; text-align: center; vertical-align: top\">102.72</td>\n",
       "        <td style=\"padding-left: 1em; padding-right: 1em; text-align: center; vertical-align: top\">83.993</td>\n",
       "        <td style=\"padding-left: 1em; padding-right: 1em; text-align: center; vertical-align: top\">-1</td>\n",
       "        <td style=\"padding-left: 1em; padding-right: 1em; text-align: center; vertical-align: top\">327.05</td>\n",
       "    </tr>\n",
       "</table>\n",
       "[39892 rows x 4 columns]<br/>Note: Only the head of the SFrame is printed.<br/>You can use print_rows(num_rows=m, num_columns=n) to print more rows and columns.\n",
       "</div>"
      ],
      "text/plain": [
       "Columns:\n",
       "\tFlujoCh\tfloat\n",
       "\tFlujoRx\tfloat\n",
       "\tTCalificacion\tint\n",
       "\tTempera\tstr\n",
       "\n",
       "Rows: 39892\n",
       "\n",
       "Data:\n",
       "+---------+---------+---------------+---------+\n",
       "| FlujoCh | FlujoRx | TCalificacion | Tempera |\n",
       "+---------+---------+---------------+---------+\n",
       "|  104.75 |  80.16  |       -1      |  273.15 |\n",
       "|  106.81 |  83.468 |       -1      |  281.12 |\n",
       "|  104.11 |  83.129 |       -1      |  287.85 |\n",
       "|  103.81 |  82.207 |       -1      |  293.53 |\n",
       "|  106.06 |  80.703 |       -1      |  304.24 |\n",
       "|  106.51 |  81.827 |       -1      |  308.96 |\n",
       "|  106.56 |  80.74  |       -1      |  312.91 |\n",
       "|  102.52 |  80.743 |       -1      |  319.48 |\n",
       "|  102.2  |  80.212 |       -1      |  324.87 |\n",
       "|  102.72 |  83.993 |       -1      |  327.05 |\n",
       "+---------+---------+---------------+---------+\n",
       "[39892 rows x 4 columns]\n",
       "Note: Only the head of the SFrame is printed.\n",
       "You can use print_rows(num_rows=m, num_columns=n) to print more rows and columns."
      ]
     },
     "execution_count": 8,
     "metadata": {},
     "output_type": "execute_result"
    }
   ],
   "source": [
    "#Comprobacion longitud Entrenamiento 80%\n",
    "len(training_dataT)\n",
    "training_dataT"
   ]
  },
  {
   "cell_type": "code",
   "execution_count": 9,
   "metadata": {
    "collapsed": false
   },
   "outputs": [
    {
     "data": {
      "text/html": [
       "<div style=\"max-height:1000px;max-width:1500px;overflow:auto;\"><table frame=\"box\" rules=\"cols\">\n",
       "    <tr>\n",
       "        <th style=\"padding-left: 1em; padding-right: 1em; text-align: center\">FlujoCh</th>\n",
       "        <th style=\"padding-left: 1em; padding-right: 1em; text-align: center\">FlujoRx</th>\n",
       "        <th style=\"padding-left: 1em; padding-right: 1em; text-align: center\">TCalificacion</th>\n",
       "        <th style=\"padding-left: 1em; padding-right: 1em; text-align: center\">Tempera</th>\n",
       "    </tr>\n",
       "    <tr>\n",
       "        <td style=\"padding-left: 1em; padding-right: 1em; text-align: center; vertical-align: top\">104.66</td>\n",
       "        <td style=\"padding-left: 1em; padding-right: 1em; text-align: center; vertical-align: top\">84.865</td>\n",
       "        <td style=\"padding-left: 1em; padding-right: 1em; text-align: center; vertical-align: top\">-1</td>\n",
       "        <td style=\"padding-left: 1em; padding-right: 1em; text-align: center; vertical-align: top\">298.55</td>\n",
       "    </tr>\n",
       "    <tr>\n",
       "        <td style=\"padding-left: 1em; padding-right: 1em; text-align: center; vertical-align: top\">105.53</td>\n",
       "        <td style=\"padding-left: 1em; padding-right: 1em; text-align: center; vertical-align: top\">83.209</td>\n",
       "        <td style=\"padding-left: 1em; padding-right: 1em; text-align: center; vertical-align: top\">-1</td>\n",
       "        <td style=\"padding-left: 1em; padding-right: 1em; text-align: center; vertical-align: top\">316.32</td>\n",
       "    </tr>\n",
       "    <tr>\n",
       "        <td style=\"padding-left: 1em; padding-right: 1em; text-align: center; vertical-align: top\">107.21</td>\n",
       "        <td style=\"padding-left: 1em; padding-right: 1em; text-align: center; vertical-align: top\">80.343</td>\n",
       "        <td style=\"padding-left: 1em; padding-right: 1em; text-align: center; vertical-align: top\">-1</td>\n",
       "        <td style=\"padding-left: 1em; padding-right: 1em; text-align: center; vertical-align: top\">322.3</td>\n",
       "    </tr>\n",
       "    <tr>\n",
       "        <td style=\"padding-left: 1em; padding-right: 1em; text-align: center; vertical-align: top\">104.2</td>\n",
       "        <td style=\"padding-left: 1em; padding-right: 1em; text-align: center; vertical-align: top\">81.641</td>\n",
       "        <td style=\"padding-left: 1em; padding-right: 1em; text-align: center; vertical-align: top\">-1</td>\n",
       "        <td style=\"padding-left: 1em; padding-right: 1em; text-align: center; vertical-align: top\">330.8</td>\n",
       "    </tr>\n",
       "    <tr>\n",
       "        <td style=\"padding-left: 1em; padding-right: 1em; text-align: center; vertical-align: top\">106.99</td>\n",
       "        <td style=\"padding-left: 1em; padding-right: 1em; text-align: center; vertical-align: top\">80.224</td>\n",
       "        <td style=\"padding-left: 1em; padding-right: 1em; text-align: center; vertical-align: top\">-1</td>\n",
       "        <td style=\"padding-left: 1em; padding-right: 1em; text-align: center; vertical-align: top\">332.46</td>\n",
       "    </tr>\n",
       "    <tr>\n",
       "        <td style=\"padding-left: 1em; padding-right: 1em; text-align: center; vertical-align: top\">106.07</td>\n",
       "        <td style=\"padding-left: 1em; padding-right: 1em; text-align: center; vertical-align: top\">82.7</td>\n",
       "        <td style=\"padding-left: 1em; padding-right: 1em; text-align: center; vertical-align: top\">-1</td>\n",
       "        <td style=\"padding-left: 1em; padding-right: 1em; text-align: center; vertical-align: top\">337.18</td>\n",
       "    </tr>\n",
       "    <tr>\n",
       "        <td style=\"padding-left: 1em; padding-right: 1em; text-align: center; vertical-align: top\">102.09</td>\n",
       "        <td style=\"padding-left: 1em; padding-right: 1em; text-align: center; vertical-align: top\">84.921</td>\n",
       "        <td style=\"padding-left: 1em; padding-right: 1em; text-align: center; vertical-align: top\">-1</td>\n",
       "        <td style=\"padding-left: 1em; padding-right: 1em; text-align: center; vertical-align: top\">338.34</td>\n",
       "    </tr>\n",
       "    <tr>\n",
       "        <td style=\"padding-left: 1em; padding-right: 1em; text-align: center; vertical-align: top\">107.68</td>\n",
       "        <td style=\"padding-left: 1em; padding-right: 1em; text-align: center; vertical-align: top\">80.029</td>\n",
       "        <td style=\"padding-left: 1em; padding-right: 1em; text-align: center; vertical-align: top\">-1</td>\n",
       "        <td style=\"padding-left: 1em; padding-right: 1em; text-align: center; vertical-align: top\">341.94</td>\n",
       "    </tr>\n",
       "    <tr>\n",
       "        <td style=\"padding-left: 1em; padding-right: 1em; text-align: center; vertical-align: top\">107.34</td>\n",
       "        <td style=\"padding-left: 1em; padding-right: 1em; text-align: center; vertical-align: top\">81.704</td>\n",
       "        <td style=\"padding-left: 1em; padding-right: 1em; text-align: center; vertical-align: top\">-1</td>\n",
       "        <td style=\"padding-left: 1em; padding-right: 1em; text-align: center; vertical-align: top\">346.34</td>\n",
       "    </tr>\n",
       "    <tr>\n",
       "        <td style=\"padding-left: 1em; padding-right: 1em; text-align: center; vertical-align: top\">105.43</td>\n",
       "        <td style=\"padding-left: 1em; padding-right: 1em; text-align: center; vertical-align: top\">83.304</td>\n",
       "        <td style=\"padding-left: 1em; padding-right: 1em; text-align: center; vertical-align: top\">-1</td>\n",
       "        <td style=\"padding-left: 1em; padding-right: 1em; text-align: center; vertical-align: top\">346.6</td>\n",
       "    </tr>\n",
       "</table>\n",
       "[10108 rows x 4 columns]<br/>Note: Only the head of the SFrame is printed.<br/>You can use print_rows(num_rows=m, num_columns=n) to print more rows and columns.\n",
       "</div>"
      ],
      "text/plain": [
       "Columns:\n",
       "\tFlujoCh\tfloat\n",
       "\tFlujoRx\tfloat\n",
       "\tTCalificacion\tint\n",
       "\tTempera\tstr\n",
       "\n",
       "Rows: 10108\n",
       "\n",
       "Data:\n",
       "+---------+---------+---------------+---------+\n",
       "| FlujoCh | FlujoRx | TCalificacion | Tempera |\n",
       "+---------+---------+---------------+---------+\n",
       "|  104.66 |  84.865 |       -1      |  298.55 |\n",
       "|  105.53 |  83.209 |       -1      |  316.32 |\n",
       "|  107.21 |  80.343 |       -1      |  322.3  |\n",
       "|  104.2  |  81.641 |       -1      |  330.8  |\n",
       "|  106.99 |  80.224 |       -1      |  332.46 |\n",
       "|  106.07 |   82.7  |       -1      |  337.18 |\n",
       "|  102.09 |  84.921 |       -1      |  338.34 |\n",
       "|  107.68 |  80.029 |       -1      |  341.94 |\n",
       "|  107.34 |  81.704 |       -1      |  346.34 |\n",
       "|  105.43 |  83.304 |       -1      |  346.6  |\n",
       "+---------+---------+---------------+---------+\n",
       "[10108 rows x 4 columns]\n",
       "Note: Only the head of the SFrame is printed.\n",
       "You can use print_rows(num_rows=m, num_columns=n) to print more rows and columns."
      ]
     },
     "execution_count": 9,
     "metadata": {},
     "output_type": "execute_result"
    }
   ],
   "source": [
    "#Comprobacion longitud Validacion 20%\n",
    "len(validation_dataT)\n",
    "validation_dataT"
   ]
  },
  {
   "cell_type": "code",
   "execution_count": 10,
   "metadata": {
    "collapsed": false,
    "scrolled": false
   },
   "outputs": [
    {
     "data": {
      "application/javascript": [
       "$(\"head\").append($(\"<link/>\").attr({\n",
       "  rel:  \"stylesheet\",\n",
       "  type: \"text/css\",\n",
       "  href: \"//cdnjs.cloudflare.com/ajax/libs/font-awesome/4.1.0/css/font-awesome.min.css\"\n",
       "}));\n",
       "$(\"head\").append($(\"<link/>\").attr({\n",
       "  rel:  \"stylesheet\",\n",
       "  type: \"text/css\",\n",
       "  href: \"https://static.turi.com/products/graphlab-create/2.1/canvas/css/canvas.css\"\n",
       "}));\n",
       "\n",
       "            (function(){\n",
       "\n",
       "                var e = null;\n",
       "                if (typeof element == 'undefined') {\n",
       "                    var scripts = document.getElementsByTagName('script');\n",
       "                    var thisScriptTag = scripts[scripts.length-1];\n",
       "                    var parentDiv = thisScriptTag.parentNode;\n",
       "                    e = document.createElement('div');\n",
       "                    parentDiv.appendChild(e);\n",
       "                } else {\n",
       "                    e = element[0];\n",
       "                }\n",
       "\n",
       "                if (typeof requirejs !== 'undefined') {\n",
       "                    // disable load timeout; ipython_app.js is large and can take a while to load.\n",
       "                    requirejs.config({waitSeconds: 0});\n",
       "                }\n",
       "\n",
       "                require(['https://static.turi.com/products/graphlab-create/2.1/canvas/js/ipython_app.js'], function(IPythonApp){\n",
       "                    var app = new IPythonApp();\n",
       "                    app.attachView('sarray','Categorical', {\"ipython\": true, \"sketch\": {\"complete\": true, \"numeric\": false, \"num_unique\": 222, \"num_undefined\": 0, \"progress\": 1.0, \"frequent_items\": {\"349.75\": {\"frequency\": 396, \"value\": \"349.75\"}, \"346.6\": {\"frequency\": 82, \"value\": \"346.6\"}, \"312.91\": {\"frequency\": 83, \"value\": \"312.91\"}, \"349.02\": {\"frequency\": 174, \"value\": \"349.02\"}, \"349.03\": {\"frequency\": 171, \"value\": \"349.03\"}, \"349.01\": {\"frequency\": 311, \"value\": \"349.01\"}, \"308.96\": {\"frequency\": 75, \"value\": \"308.96\"}, \"349.07\": {\"frequency\": 157, \"value\": \"349.07\"}, \"349.04\": {\"frequency\": 86, \"value\": \"349.04\"}, \"349.05\": {\"frequency\": 83, \"value\": \"349.05\"}, \"348.74\": {\"frequency\": 82, \"value\": \"348.74\"}, \"344.9\": {\"frequency\": 78, \"value\": \"344.9\"}, \"349.08\": {\"frequency\": 159, \"value\": \"349.08\"}, \"348.77\": {\"frequency\": 165, \"value\": \"348.77\"}, \"348.73\": {\"frequency\": 156, \"value\": \"348.73\"}, \"330.8\": {\"frequency\": 86, \"value\": \"330.8\"}, \"293.53\": {\"frequency\": 85, \"value\": \"293.53\"}, \"273.15\": {\"frequency\": 79, \"value\": \"273.15\"}, \"349.89\": {\"frequency\": 162, \"value\": \"349.89\"}, \"349.82\": {\"frequency\": 157, \"value\": \"349.82\"}, \"349.83\": {\"frequency\": 235, \"value\": \"349.83\"}, \"350.91\": {\"frequency\": 160, \"value\": \"350.91\"}, \"349.81\": {\"frequency\": 80, \"value\": \"349.81\"}, \"349.86\": {\"frequency\": 451, \"value\": \"349.86\"}, \"349\": {\"frequency\": 79, \"value\": \"349\"}, \"349.84\": {\"frequency\": 239, \"value\": \"349.84\"}, \"349.85\": {\"frequency\": 314, \"value\": \"349.85\"}, \"349.52\": {\"frequency\": 324, \"value\": \"349.52\"}, \"316.32\": {\"frequency\": 78, \"value\": \"316.32\"}, \"332.46\": {\"frequency\": 77, \"value\": \"332.46\"}, \"349.11\": {\"frequency\": 240, \"value\": \"349.11\"}, \"329.02\": {\"frequency\": 80, \"value\": \"329.02\"}, \"348.68\": {\"frequency\": 80, \"value\": \"348.68\"}, \"349.15\": {\"frequency\": 156, \"value\": \"349.15\"}, \"349.14\": {\"frequency\": 81, \"value\": \"349.14\"}, \"349.17\": {\"frequency\": 70, \"value\": \"349.17\"}, \"349.16\": {\"frequency\": 83, \"value\": \"349.16\"}, \"347.53\": {\"frequency\": 79, \"value\": \"347.53\"}, \"349.18\": {\"frequency\": 81, \"value\": \"349.18\"}, \"351.05\": {\"frequency\": 83, \"value\": \"351.05\"}, \"348.67\": {\"frequency\": 83, \"value\": \"348.67\"}, \"351.01\": {\"frequency\": 83, \"value\": \"351.01\"}, \"348.64\": {\"frequency\": 74, \"value\": \"348.64\"}, \"319.48\": {\"frequency\": 77, \"value\": \"319.48\"}, \"345.67\": {\"frequency\": 77, \"value\": \"345.67\"}, \"349.99\": {\"frequency\": 316, \"value\": \"349.99\"}, \"349.91\": {\"frequency\": 232, \"value\": \"349.91\"}, \"348.78\": {\"frequency\": 86, \"value\": \"348.78\"}, \"349.93\": {\"frequency\": 145, \"value\": \"349.93\"}, \"349.92\": {\"frequency\": 313, \"value\": \"349.92\"}, \"349.95\": {\"frequency\": 396, \"value\": \"349.95\"}, \"349.94\": {\"frequency\": 315, \"value\": \"349.94\"}, \"349.97\": {\"frequency\": 240, \"value\": \"349.97\"}, \"349.96\": {\"frequency\": 485, \"value\": \"349.96\"}, \"298.55\": {\"frequency\": 87, \"value\": \"298.55\"}, \"327.05\": {\"frequency\": 79, \"value\": \"327.05\"}, \"350.41\": {\"frequency\": 247, \"value\": \"350.41\"}, \"350.43\": {\"frequency\": 167, \"value\": \"350.43\"}, \"350.44\": {\"frequency\": 159, \"value\": \"350.44\"}, \"349.29\": {\"frequency\": 77, \"value\": \"349.29\"}, \"350.47\": {\"frequency\": 76, \"value\": \"350.47\"}, \"349.24\": {\"frequency\": 79, \"value\": \"349.24\"}, \"350.49\": {\"frequency\": 156, \"value\": \"350.49\"}, \"349.26\": {\"frequency\": 163, \"value\": \"349.26\"}, \"349.27\": {\"frequency\": 161, \"value\": \"349.27\"}, \"349.21\": {\"frequency\": 75, \"value\": \"349.21\"}, \"349.22\": {\"frequency\": 76, \"value\": \"349.22\"}, \"349.23\": {\"frequency\": 157, \"value\": \"349.23\"}, \"341.94\": {\"frequency\": 81, \"value\": \"341.94\"}, \"348.18\": {\"frequency\": 85, \"value\": \"348.18\"}, \"348.16\": {\"frequency\": 85, \"value\": \"348.16\"}, \"287.85\": {\"frequency\": 80, \"value\": \"287.85\"}, \"347.23\": {\"frequency\": 80, \"value\": \"347.23\"}, \"348.96\": {\"frequency\": 85, \"value\": \"348.96\"}, \"348.97\": {\"frequency\": 84, \"value\": \"348.97\"}, \"348.95\": {\"frequency\": 156, \"value\": \"348.95\"}, \"337.18\": {\"frequency\": 81, \"value\": \"337.18\"}, \"348.93\": {\"frequency\": 150, \"value\": \"348.93\"}, \"346.56\": {\"frequency\": 86, \"value\": \"346.56\"}, \"348.91\": {\"frequency\": 252, \"value\": \"348.91\"}, \"340.68\": {\"frequency\": 77, \"value\": \"340.68\"}, \"348.98\": {\"frequency\": 81, \"value\": \"348.98\"}, \"349.88\": {\"frequency\": 75, \"value\": \"349.88\"}, \"343.67\": {\"frequency\": 74, \"value\": \"343.67\"}, \"349.39\": {\"frequency\": 320, \"value\": \"349.39\"}, \"349.38\": {\"frequency\": 392, \"value\": \"349.38\"}, \"350.58\": {\"frequency\": 152, \"value\": \"350.58\"}, \"349.32\": {\"frequency\": 252, \"value\": \"349.32\"}, \"349.31\": {\"frequency\": 318, \"value\": \"349.31\"}, \"350.54\": {\"frequency\": 83, \"value\": \"350.54\"}, \"349.37\": {\"frequency\": 392, \"value\": \"349.37\"}, \"349.36\": {\"frequency\": 158, \"value\": \"349.36\"}, \"349.35\": {\"frequency\": 480, \"value\": \"349.35\"}, \"349.34\": {\"frequency\": 159, \"value\": \"349.34\"}, \"349.77\": {\"frequency\": 158, \"value\": \"349.77\"}, \"338.34\": {\"frequency\": 75, \"value\": \"338.34\"}, \"346.89\": {\"frequency\": 80, \"value\": \"346.89\"}, \"281.12\": {\"frequency\": 88, \"value\": \"281.12\"}, \"348.86\": {\"frequency\": 158, \"value\": \"348.86\"}, \"348.81\": {\"frequency\": 151, \"value\": \"348.81\"}, \"348.83\": {\"frequency\": 328, \"value\": \"348.83\"}, \"348.82\": {\"frequency\": 243, \"value\": \"348.82\"}, \"349.73\": {\"frequency\": 163, \"value\": \"349.73\"}, \"346.44\": {\"frequency\": 84, \"value\": \"346.44\"}, \"347.74\": {\"frequency\": 77, \"value\": \"347.74\"}, \"349.9\": {\"frequency\": 248, \"value\": \"349.9\"}, \"349.8\": {\"frequency\": 322, \"value\": \"349.8\"}, \"348.62\": {\"frequency\": 77, \"value\": \"348.62\"}, \"349.1\": {\"frequency\": 84, \"value\": \"349.1\"}, \"348.46\": {\"frequency\": 80, \"value\": \"348.46\"}, \"349.5\": {\"frequency\": 238, \"value\": \"349.5\"}, \"349.4\": {\"frequency\": 170, \"value\": \"349.4\"}, \"349.7\": {\"frequency\": 547, \"value\": \"349.7\"}, \"349.6\": {\"frequency\": 164, \"value\": \"349.6\"}, \"350.28\": {\"frequency\": 77, \"value\": \"350.28\"}, \"350.29\": {\"frequency\": 166, \"value\": \"350.29\"}, \"350.22\": {\"frequency\": 75, \"value\": \"350.22\"}, \"350.23\": {\"frequency\": 170, \"value\": \"350.23\"}, \"350.21\": {\"frequency\": 307, \"value\": \"350.21\"}, \"350.26\": {\"frequency\": 248, \"value\": \"350.26\"}, \"350.24\": {\"frequency\": 224, \"value\": \"350.24\"}, \"350.25\": {\"frequency\": 478, \"value\": \"350.25\"}, \"349.13\": {\"frequency\": 81, \"value\": \"349.13\"}, \"349.48\": {\"frequency\": 233, \"value\": \"349.48\"}, \"349.49\": {\"frequency\": 80, \"value\": \"349.49\"}, \"349.46\": {\"frequency\": 481, \"value\": \"349.46\"}, \"349.47\": {\"frequency\": 79, \"value\": \"349.47\"}, \"349.44\": {\"frequency\": 154, \"value\": \"349.44\"}, \"349.45\": {\"frequency\": 310, \"value\": \"349.45\"}, \"349.42\": {\"frequency\": 158, \"value\": \"349.42\"}, \"349.43\": {\"frequency\": 166, \"value\": \"349.43\"}, \"349.41\": {\"frequency\": 406, \"value\": \"349.41\"}, \"347.84\": {\"frequency\": 77, \"value\": \"347.84\"}, \"346.34\": {\"frequency\": 79, \"value\": \"346.34\"}, \"350.09\": {\"frequency\": 239, \"value\": \"350.09\"}, \"350.38\": {\"frequency\": 80, \"value\": \"350.38\"}, \"350.31\": {\"frequency\": 79, \"value\": \"350.31\"}, \"350.33\": {\"frequency\": 249, \"value\": \"350.33\"}, \"350.32\": {\"frequency\": 315, \"value\": \"350.32\"}, \"350.35\": {\"frequency\": 322, \"value\": \"350.35\"}, \"350.34\": {\"frequency\": 82, \"value\": \"350.34\"}, \"350.37\": {\"frequency\": 77, \"value\": \"350.37\"}, \"350.36\": {\"frequency\": 79, \"value\": \"350.36\"}, \"350.3\": {\"frequency\": 233, \"value\": \"350.3\"}, \"350.2\": {\"frequency\": 154, \"value\": \"350.2\"}, \"350.1\": {\"frequency\": 407, \"value\": \"350.1\"}, \"350.62\": {\"frequency\": 87, \"value\": \"350.62\"}, \"349.59\": {\"frequency\": 387, \"value\": \"349.59\"}, \"349.58\": {\"frequency\": 155, \"value\": \"349.58\"}, \"350.5\": {\"frequency\": 230, \"value\": \"350.5\"}, \"349.55\": {\"frequency\": 479, \"value\": \"349.55\"}, \"349.54\": {\"frequency\": 326, \"value\": \"349.54\"}, \"349.57\": {\"frequency\": 394, \"value\": \"349.57\"}, \"349.56\": {\"frequency\": 246, \"value\": \"349.56\"}, \"349.51\": {\"frequency\": 158, \"value\": \"349.51\"}, \"349.53\": {\"frequency\": 160, \"value\": \"349.53\"}, \"349.87\": {\"frequency\": 161, \"value\": \"349.87\"}, \"304.24\": {\"frequency\": 83, \"value\": \"304.24\"}, \"348.75\": {\"frequency\": 86, \"value\": \"348.75\"}, \"339.28\": {\"frequency\": 90, \"value\": \"339.28\"}, \"349.28\": {\"frequency\": 80, \"value\": \"349.28\"}, \"342.89\": {\"frequency\": 77, \"value\": \"342.89\"}, \"350.04\": {\"frequency\": 243, \"value\": \"350.04\"}, \"350.05\": {\"frequency\": 76, \"value\": \"350.05\"}, \"350.06\": {\"frequency\": 394, \"value\": \"350.06\"}, \"350.07\": {\"frequency\": 161, \"value\": \"350.07\"}, \"350.53\": {\"frequency\": 75, \"value\": \"350.53\"}, \"350.01\": {\"frequency\": 227, \"value\": \"350.01\"}, \"350.02\": {\"frequency\": 569, \"value\": \"350.02\"}, \"350.03\": {\"frequency\": 381, \"value\": \"350.03\"}, \"349.25\": {\"frequency\": 77, \"value\": \"349.25\"}, \"348.7\": {\"frequency\": 80, \"value\": \"348.7\"}, \"350.08\": {\"frequency\": 224, \"value\": \"350.08\"}, \"347.2\": {\"frequency\": 79, \"value\": \"347.2\"}, \"348.53\": {\"frequency\": 73, \"value\": \"348.53\"}, \"348.76\": {\"frequency\": 81, \"value\": \"348.76\"}, \"322.3\": {\"frequency\": 77, \"value\": \"322.3\"}, \"348.56\": {\"frequency\": 155, \"value\": \"348.56\"}, \"345.8\": {\"frequency\": 82, \"value\": \"345.8\"}, \"348.54\": {\"frequency\": 76, \"value\": \"348.54\"}, \"348.55\": {\"frequency\": 83, \"value\": \"348.55\"}, \"345.4\": {\"frequency\": 85, \"value\": \"345.4\"}, \"349.68\": {\"frequency\": 237, \"value\": \"349.68\"}, \"349.69\": {\"frequency\": 247, \"value\": \"349.69\"}, \"346.11\": {\"frequency\": 77, \"value\": \"346.11\"}, \"349.61\": {\"frequency\": 485, \"value\": \"349.61\"}, \"349.62\": {\"frequency\": 72, \"value\": \"349.62\"}, \"349.63\": {\"frequency\": 244, \"value\": \"349.63\"}, \"349.64\": {\"frequency\": 162, \"value\": \"349.64\"}, \"349.65\": {\"frequency\": 236, \"value\": \"349.65\"}, \"349.66\": {\"frequency\": 490, \"value\": \"349.66\"}, \"349.67\": {\"frequency\": 333, \"value\": \"349.67\"}, \"348.85\": {\"frequency\": 80, \"value\": \"348.85\"}, \"350.13\": {\"frequency\": 243, \"value\": \"350.13\"}, \"350.12\": {\"frequency\": 242, \"value\": \"350.12\"}, \"350.11\": {\"frequency\": 402, \"value\": \"350.11\"}, \"350.17\": {\"frequency\": 241, \"value\": \"350.17\"}, \"350.16\": {\"frequency\": 239, \"value\": \"350.16\"}, \"350.15\": {\"frequency\": 243, \"value\": \"350.15\"}, \"350.14\": {\"frequency\": 78, \"value\": \"350.14\"}, \"350.18\": {\"frequency\": 163, \"value\": \"350.18\"}, \"349.06\": {\"frequency\": 84, \"value\": \"349.06\"}, \"348.41\": {\"frequency\": 87, \"value\": \"348.41\"}, \"349.76\": {\"frequency\": 478, \"value\": \"349.76\"}, \"347.73\": {\"frequency\": 166, \"value\": \"347.73\"}, \"349.74\": {\"frequency\": 470, \"value\": \"349.74\"}, \"348.45\": {\"frequency\": 71, \"value\": \"348.45\"}, \"349.72\": {\"frequency\": 559, \"value\": \"349.72\"}, \"349.71\": {\"frequency\": 246, \"value\": \"349.71\"}, \"333.97\": {\"frequency\": 80, \"value\": \"333.97\"}, \"349.19\": {\"frequency\": 154, \"value\": \"349.19\"}, \"348.48\": {\"frequency\": 78, \"value\": \"348.48\"}, \"346.87\": {\"frequency\": 76, \"value\": \"346.87\"}, \"349.79\": {\"frequency\": 379, \"value\": \"349.79\"}, \"349.78\": {\"frequency\": 169, \"value\": \"349.78\"}, \"350.75\": {\"frequency\": 80, \"value\": \"350.75\"}, \"348.69\": {\"frequency\": 86, \"value\": \"348.69\"}, \"324.87\": {\"frequency\": 75, \"value\": \"324.87\"}, \"344.35\": {\"frequency\": 86, \"value\": \"344.35\"}, \"349.12\": {\"frequency\": 78, \"value\": \"349.12\"}, \"350\": {\"frequency\": 418, \"value\": \"350\"}, \"335.71\": {\"frequency\": 82, \"value\": \"335.71\"}, \"350.82\": {\"frequency\": 83, \"value\": \"350.82\"}}, \"size\": 39892}, \"selected_variable\": {\"name\": [\"<SArray>\"], \"dtype\": \"str\", \"view_component\": \"Categorical\", \"view_file\": \"sarray\", \"descriptives\": {\"rows\": 39892}, \"type\": \"SArray\", \"view_components\": [\"Categorical\"]}, \"histogram\": null}, e);\n",
       "                });\n",
       "            })();\n",
       "        "
      ]
     },
     "metadata": {},
     "output_type": "display_data"
    }
   ],
   "source": [
    "#Aprendizaje de Flujos de Entrada al Reactor vs Temperatura de Salida\n",
    "graphlab.canvas.set_target('ipynb')\n",
    "training_dataT['Tempera'].show()"
   ]
  },
  {
   "cell_type": "code",
   "execution_count": 11,
   "metadata": {
    "collapsed": false
   },
   "outputs": [
    {
     "name": "stdout",
     "output_type": "stream",
     "text": [
      "layers Red del Flujo del Reactor vs Temperatura\n",
      "_______________________________________________\n",
      "layer[0]: FullConnectionLayer\n",
      "  init_sigma = 0.01\n",
      "  init_random = gaussian\n",
      "  init_bias = 0\n",
      "  num_hidden_units = 10\n",
      "layer[1]: SigmoidLayer\n",
      "layer[2]: FullConnectionLayer\n",
      "  init_sigma = 0.01\n",
      "  init_random = gaussian\n",
      "  init_bias = 0\n",
      "  num_hidden_units = 223\n",
      "layer[3]: SoftmaxLayer\n",
      "_______________________________________________\n",
      "Parametros de la Red\n",
      "{'learning_rate': 0.001, 'momentum': 0.9}\n"
     ]
    }
   ],
   "source": [
    "netT = graphlab.deeplearning.create(training_dataT, target ='Tempera')\n",
    "print \"layers Red del Flujo del Reactor vs Temperatura\"\n",
    "print \"_______________________________________________\"\n",
    "print netT.layers\n",
    "print \"_______________________________________________\"\n",
    "print \"Parametros de la Red\"\n",
    "print netT.params"
   ]
  },
  {
   "cell_type": "code",
   "execution_count": 12,
   "metadata": {
    "collapsed": false
   },
   "outputs": [
    {
     "name": "stdout",
     "output_type": "stream",
     "text": [
      "Using network:\n",
      "\n",
      "### network layers ###\n",
      "layer[0]: FullConnectionLayer\n",
      "  init_sigma = 0.01\n",
      "  init_random = gaussian\n",
      "  init_bias = 0\n",
      "  num_hidden_units = 10\n",
      "layer[1]: SigmoidLayer\n",
      "layer[2]: FullConnectionLayer\n",
      "  init_sigma = 0.01\n",
      "  init_random = gaussian\n",
      "  init_bias = 0\n",
      "  num_hidden_units = 223\n",
      "layer[3]: SoftmaxLayer\n",
      "### end network layers ###\n",
      "\n",
      "### network parameters ###\n",
      "learning_rate = 0.001\n",
      "metric = accuracy,recall@2\n",
      "momentum = 0.9\n",
      "### end network parameters ###\n",
      "\n"
     ]
    },
    {
     "data": {
      "text/html": [
       "<pre>Creating neuralnet using cpu</pre>"
      ],
      "text/plain": [
       "Creating neuralnet using cpu"
      ]
     },
     "metadata": {},
     "output_type": "display_data"
    },
    {
     "data": {
      "text/html": [
       "<pre>Training with batch size = 100</pre>"
      ],
      "text/plain": [
       "Training with batch size = 100"
      ]
     },
     "metadata": {},
     "output_type": "display_data"
    },
    {
     "data": {
      "text/html": [
       "<pre>+-----------+----------+--------------+-------------------+---------------------+-------------------+---------------------+-----------------+</pre>"
      ],
      "text/plain": [
       "+-----------+----------+--------------+-------------------+---------------------+-------------------+---------------------+-----------------+"
      ]
     },
     "metadata": {},
     "output_type": "display_data"
    },
    {
     "data": {
      "text/html": [
       "<pre>| Iteration | Examples | Elapsed Time | Training-accuracy | Validation-accuracy | Training-recall@2 | Validation-recall@2 | Examples/second |</pre>"
      ],
      "text/plain": [
       "| Iteration | Examples | Elapsed Time | Training-accuracy | Validation-accuracy | Training-recall@2 | Validation-recall@2 | Examples/second |"
      ]
     },
     "metadata": {},
     "output_type": "display_data"
    },
    {
     "data": {
      "text/html": [
       "<pre>+-----------+----------+--------------+-------------------+---------------------+-------------------+---------------------+-----------------+</pre>"
      ],
      "text/plain": [
       "+-----------+----------+--------------+-------------------+---------------------+-------------------+---------------------+-----------------+"
      ]
     },
     "metadata": {},
     "output_type": "display_data"
    },
    {
     "data": {
      "text/html": [
       "<pre>| 1         | 39900    | 4.729831     | 0.010852          | 0.012960            | 0.021955          | 0.026909            | 8435.865234     |</pre>"
      ],
      "text/plain": [
       "| 1         | 39900    | 4.729831     | 0.010852          | 0.012960            | 0.021955          | 0.026909            | 8435.865234     |"
      ]
     },
     "metadata": {},
     "output_type": "display_data"
    },
    {
     "data": {
      "text/html": [
       "<pre>| 2         | 39900    | 9.250837     | 0.014261          | 0.012960            | 0.028271          | 0.026909            | 8825.966797     |</pre>"
      ],
      "text/plain": [
       "| 2         | 39900    | 9.250837     | 0.014261          | 0.012960            | 0.028271          | 0.026909            | 8825.966797     |"
      ]
     },
     "metadata": {},
     "output_type": "display_data"
    },
    {
     "data": {
      "text/html": [
       "<pre>| 3         | 39900    | 13.759912    | 0.014261          | 0.012960            | 0.028271          | 0.026909            | 8849.232422     |</pre>"
      ],
      "text/plain": [
       "| 3         | 39900    | 13.759912    | 0.014261          | 0.012960            | 0.028271          | 0.026909            | 8849.232422     |"
      ]
     },
     "metadata": {},
     "output_type": "display_data"
    },
    {
     "data": {
      "text/html": [
       "<pre>| 4         | 39900    | 18.334220    | 0.014261          | 0.012960            | 0.028271          | 0.026909            | 8723.066406     |</pre>"
      ],
      "text/plain": [
       "| 4         | 39900    | 18.334220    | 0.014261          | 0.012960            | 0.028271          | 0.026909            | 8723.066406     |"
      ]
     },
     "metadata": {},
     "output_type": "display_data"
    },
    {
     "data": {
      "text/html": [
       "<pre>| 5         | 39900    | 22.784370    | 0.014261          | 0.012960            | 0.028271          | 0.026909            | 8966.594727     |</pre>"
      ],
      "text/plain": [
       "| 5         | 39900    | 22.784370    | 0.014261          | 0.012960            | 0.028271          | 0.026909            | 8966.594727     |"
      ]
     },
     "metadata": {},
     "output_type": "display_data"
    },
    {
     "data": {
      "text/html": [
       "<pre>| 6         | 39900    | 27.249124    | 0.014261          | 0.012960            | 0.028271          | 0.026909            | 8937.094727     |</pre>"
      ],
      "text/plain": [
       "| 6         | 39900    | 27.249124    | 0.014261          | 0.012960            | 0.028271          | 0.026909            | 8937.094727     |"
      ]
     },
     "metadata": {},
     "output_type": "display_data"
    },
    {
     "data": {
      "text/html": [
       "<pre>| 7         | 39900    | 31.767657    | 0.014261          | 0.012960            | 0.028271          | 0.026909            | 8830.708008     |</pre>"
      ],
      "text/plain": [
       "| 7         | 39900    | 31.767657    | 0.014261          | 0.012960            | 0.028271          | 0.026909            | 8830.708008     |"
      ]
     },
     "metadata": {},
     "output_type": "display_data"
    },
    {
     "data": {
      "text/html": [
       "<pre>| 8         | 39900    | 36.446872    | 0.014261          | 0.012960            | 0.028271          | 0.026909            | 8527.488281     |</pre>"
      ],
      "text/plain": [
       "| 8         | 39900    | 36.446872    | 0.014261          | 0.012960            | 0.028271          | 0.026909            | 8527.488281     |"
      ]
     },
     "metadata": {},
     "output_type": "display_data"
    },
    {
     "data": {
      "text/html": [
       "<pre>| 9         | 39900    | 40.936655    | 0.014261          | 0.012960            | 0.028271          | 0.026909            | 8887.286133     |</pre>"
      ],
      "text/plain": [
       "| 9         | 39900    | 40.936655    | 0.014261          | 0.012960            | 0.028271          | 0.026909            | 8887.286133     |"
      ]
     },
     "metadata": {},
     "output_type": "display_data"
    },
    {
     "data": {
      "text/html": [
       "<pre>| 10        | 39900    | 45.375074    | 0.014261          | 0.012960            | 0.028271          | 0.026909            | 8990.135742     |</pre>"
      ],
      "text/plain": [
       "| 10        | 39900    | 45.375074    | 0.014261          | 0.012960            | 0.028271          | 0.026909            | 8990.135742     |"
      ]
     },
     "metadata": {},
     "output_type": "display_data"
    },
    {
     "data": {
      "text/html": [
       "<pre>+-----------+----------+--------------+-------------------+---------------------+-------------------+---------------------+-----------------+</pre>"
      ],
      "text/plain": [
       "+-----------+----------+--------------+-------------------+---------------------+-------------------+---------------------+-----------------+"
      ]
     },
     "metadata": {},
     "output_type": "display_data"
    }
   ],
   "source": [
    "modelT = graphlab.neuralnet_classifier.create(training_dataT, target = 'Tempera', network = netT, validation_set = validation_dataT, \n",
    "                                         metric = ['accuracy','recall@2'])#, max_iterations = 3)"
   ]
  },
  {
   "cell_type": "code",
   "execution_count": 13,
   "metadata": {
    "collapsed": false
   },
   "outputs": [
    {
     "data": {
      "text/html": [
       "<div style=\"max-height:1000px;max-width:1500px;overflow:auto;\"><table frame=\"box\" rules=\"cols\">\n",
       "    <tr>\n",
       "        <th style=\"padding-left: 1em; padding-right: 1em; text-align: center\">FlujoCh</th>\n",
       "        <th style=\"padding-left: 1em; padding-right: 1em; text-align: center\">FlujoRx</th>\n",
       "        <th style=\"padding-left: 1em; padding-right: 1em; text-align: center\">TCalificacion</th>\n",
       "        <th style=\"padding-left: 1em; padding-right: 1em; text-align: center\">Tempera</th>\n",
       "    </tr>\n",
       "    <tr>\n",
       "        <td style=\"padding-left: 1em; padding-right: 1em; text-align: center; vertical-align: top\">107</td>\n",
       "        <td style=\"padding-left: 1em; padding-right: 1em; text-align: center; vertical-align: top\">82</td>\n",
       "        <td style=\"padding-left: 1em; padding-right: 1em; text-align: center; vertical-align: top\">1</td>\n",
       "        <td style=\"padding-left: 1em; padding-right: 1em; text-align: center; vertical-align: top\">351</td>\n",
       "    </tr>\n",
       "    <tr>\n",
       "        <td style=\"padding-left: 1em; padding-right: 1em; text-align: center; vertical-align: top\">106</td>\n",
       "        <td style=\"padding-left: 1em; padding-right: 1em; text-align: center; vertical-align: top\">81</td>\n",
       "        <td style=\"padding-left: 1em; padding-right: 1em; text-align: center; vertical-align: top\">1</td>\n",
       "        <td style=\"padding-left: 1em; padding-right: 1em; text-align: center; vertical-align: top\">353</td>\n",
       "    </tr>\n",
       "    <tr>\n",
       "        <td style=\"padding-left: 1em; padding-right: 1em; text-align: center; vertical-align: top\">107</td>\n",
       "        <td style=\"padding-left: 1em; padding-right: 1em; text-align: center; vertical-align: top\">83</td>\n",
       "        <td style=\"padding-left: 1em; padding-right: 1em; text-align: center; vertical-align: top\">1</td>\n",
       "        <td style=\"padding-left: 1em; padding-right: 1em; text-align: center; vertical-align: top\">352</td>\n",
       "    </tr>\n",
       "    <tr>\n",
       "        <td style=\"padding-left: 1em; padding-right: 1em; text-align: center; vertical-align: top\">106</td>\n",
       "        <td style=\"padding-left: 1em; padding-right: 1em; text-align: center; vertical-align: top\">80</td>\n",
       "        <td style=\"padding-left: 1em; padding-right: 1em; text-align: center; vertical-align: top\">1</td>\n",
       "        <td style=\"padding-left: 1em; padding-right: 1em; text-align: center; vertical-align: top\">346</td>\n",
       "    </tr>\n",
       "    <tr>\n",
       "        <td style=\"padding-left: 1em; padding-right: 1em; text-align: center; vertical-align: top\">105</td>\n",
       "        <td style=\"padding-left: 1em; padding-right: 1em; text-align: center; vertical-align: top\">83</td>\n",
       "        <td style=\"padding-left: 1em; padding-right: 1em; text-align: center; vertical-align: top\">1</td>\n",
       "        <td style=\"padding-left: 1em; padding-right: 1em; text-align: center; vertical-align: top\">351</td>\n",
       "    </tr>\n",
       "    <tr>\n",
       "        <td style=\"padding-left: 1em; padding-right: 1em; text-align: center; vertical-align: top\">103</td>\n",
       "        <td style=\"padding-left: 1em; padding-right: 1em; text-align: center; vertical-align: top\">84</td>\n",
       "        <td style=\"padding-left: 1em; padding-right: 1em; text-align: center; vertical-align: top\">1</td>\n",
       "        <td style=\"padding-left: 1em; padding-right: 1em; text-align: center; vertical-align: top\">348</td>\n",
       "    </tr>\n",
       "    <tr>\n",
       "        <td style=\"padding-left: 1em; padding-right: 1em; text-align: center; vertical-align: top\">107</td>\n",
       "        <td style=\"padding-left: 1em; padding-right: 1em; text-align: center; vertical-align: top\">84</td>\n",
       "        <td style=\"padding-left: 1em; padding-right: 1em; text-align: center; vertical-align: top\">1</td>\n",
       "        <td style=\"padding-left: 1em; padding-right: 1em; text-align: center; vertical-align: top\">349</td>\n",
       "    </tr>\n",
       "    <tr>\n",
       "        <td style=\"padding-left: 1em; padding-right: 1em; text-align: center; vertical-align: top\">106</td>\n",
       "        <td style=\"padding-left: 1em; padding-right: 1em; text-align: center; vertical-align: top\">81</td>\n",
       "        <td style=\"padding-left: 1em; padding-right: 1em; text-align: center; vertical-align: top\">1</td>\n",
       "        <td style=\"padding-left: 1em; padding-right: 1em; text-align: center; vertical-align: top\">348</td>\n",
       "    </tr>\n",
       "    <tr>\n",
       "        <td style=\"padding-left: 1em; padding-right: 1em; text-align: center; vertical-align: top\">105</td>\n",
       "        <td style=\"padding-left: 1em; padding-right: 1em; text-align: center; vertical-align: top\">81</td>\n",
       "        <td style=\"padding-left: 1em; padding-right: 1em; text-align: center; vertical-align: top\">1</td>\n",
       "        <td style=\"padding-left: 1em; padding-right: 1em; text-align: center; vertical-align: top\">346</td>\n",
       "    </tr>\n",
       "    <tr>\n",
       "        <td style=\"padding-left: 1em; padding-right: 1em; text-align: center; vertical-align: top\">103</td>\n",
       "        <td style=\"padding-left: 1em; padding-right: 1em; text-align: center; vertical-align: top\">84</td>\n",
       "        <td style=\"padding-left: 1em; padding-right: 1em; text-align: center; vertical-align: top\">1</td>\n",
       "        <td style=\"padding-left: 1em; padding-right: 1em; text-align: center; vertical-align: top\">350</td>\n",
       "    </tr>\n",
       "</table>\n",
       "[1000 rows x 4 columns]<br/>Note: Only the head of the SFrame is printed.<br/>You can use print_rows(num_rows=m, num_columns=n) to print more rows and columns.\n",
       "</div>"
      ],
      "text/plain": [
       "Columns:\n",
       "\tFlujoCh\tint\n",
       "\tFlujoRx\tint\n",
       "\tTCalificacion\tint\n",
       "\tTempera\tstr\n",
       "\n",
       "Rows: 1000\n",
       "\n",
       "Data:\n",
       "+---------+---------+---------------+---------+\n",
       "| FlujoCh | FlujoRx | TCalificacion | Tempera |\n",
       "+---------+---------+---------------+---------+\n",
       "|   107   |    82   |       1       |   351   |\n",
       "|   106   |    81   |       1       |   353   |\n",
       "|   107   |    83   |       1       |   352   |\n",
       "|   106   |    80   |       1       |   346   |\n",
       "|   105   |    83   |       1       |   351   |\n",
       "|   103   |    84   |       1       |   348   |\n",
       "|   107   |    84   |       1       |   349   |\n",
       "|   106   |    81   |       1       |   348   |\n",
       "|   105   |    81   |       1       |   346   |\n",
       "|   103   |    84   |       1       |   350   |\n",
       "+---------+---------+---------------+---------+\n",
       "[1000 rows x 4 columns]\n",
       "Note: Only the head of the SFrame is printed.\n",
       "You can use print_rows(num_rows=m, num_columns=n) to print more rows and columns."
      ]
     },
     "execution_count": 13,
     "metadata": {},
     "output_type": "execute_result"
    }
   ],
   "source": [
    "#Construccion valores de prueba \n",
    "test_dataT=[]\n",
    "test_dataCh=[]\n",
    "test_dataRx=[]\n",
    "test_dataCl=[]\n",
    "from random import randrange\n",
    "for k in range(1000): \n",
    "    test_dataT.append(randrange(345,355))\n",
    "    test_dataCh.append(randrange(103,108))\n",
    "    test_dataRx.append(randrange(79,85))\n",
    "    test_dataCl.append('0')\n",
    "    \n",
    "\n",
    "test_data = graphlab.SFrame({'Tempera':test_dataT,\n",
    "                             'FlujoCh':test_dataCh,\n",
    "                             'FlujoRx':test_dataRx,\n",
    "                             'TCalificacion':test_dataCl})\n",
    "\n",
    "test_data['TCalificacion'] = test_data['Tempera'].apply(lambda x: +1 if x in range(345,355) else -1)\n",
    "\n",
    "test_data['Tempera'] = test_data['Tempera'].astype(str)\n",
    "test_data"
   ]
  },
  {
   "cell_type": "code",
   "execution_count": 14,
   "metadata": {
    "collapsed": false
   },
   "outputs": [
    {
     "data": {
      "text/plain": [
       "<bound method SArray.show of dtype: str\n",
       "Rows: 39892\n",
       "['273.15', '281.12', '287.85', '293.53', '304.24', '308.96', '312.91', '319.48', '324.87', '327.05', '329.02', '333.97', '335.71', '339.28', '340.68', '342.89', '343.67', '344.35', '344.9', '345.4', '345.8', '346.11', '346.44', '346.89', '347.2', '347.53', '347.73', '347.73', '347.84', '348.45', '348.54', '348.48', '348.55', '348.68', '348.73', '348.78', '348.82', '348.93', '349.11', '349.23', '349.31', '349.86', '349.86', '350.02', '350.24', '350.35', '350.44', '350.33', '350.32', '350.25', '350.17', '350.06', '350.25', '350.25', '350.07', '350', '350', '349.95', '349.95', '350.01', '349.96', '349.89', '350.18', '350.26', '350.43', '350.41', '350.3', '350.37', '350.26', '350.15', '350.17', '350.21', '350.16', '350.05', '350.01', '349.94', '350.02', '349.92', '349.99', '349.85', '349.74', '349.79', '349.86', '349.94', '349.91', '349.78', '349.76', '349.85', '349.96', '350.11', '350.15', '350.11', '350.14', '350.31', '350.3', '350.25', '350.24', '350.23', '350.11', '350.2', ... ]>"
      ]
     },
     "execution_count": 14,
     "metadata": {},
     "output_type": "execute_result"
    }
   ],
   "source": [
    "#Valores a calificar en la red de entrenamiento objetivo 350, rango(345,355)=1\n",
    "training_dataT['Tempera'].show"
   ]
  },
  {
   "cell_type": "code",
   "execution_count": 15,
   "metadata": {
    "collapsed": false
   },
   "outputs": [
    {
     "data": {
      "application/javascript": [
       "$(\"head\").append($(\"<link/>\").attr({\n",
       "  rel:  \"stylesheet\",\n",
       "  type: \"text/css\",\n",
       "  href: \"//cdnjs.cloudflare.com/ajax/libs/font-awesome/4.1.0/css/font-awesome.min.css\"\n",
       "}));\n",
       "$(\"head\").append($(\"<link/>\").attr({\n",
       "  rel:  \"stylesheet\",\n",
       "  type: \"text/css\",\n",
       "  href: \"https://static.turi.com/products/graphlab-create/2.1/canvas/css/canvas.css\"\n",
       "}));\n",
       "\n",
       "            (function(){\n",
       "\n",
       "                var e = null;\n",
       "                if (typeof element == 'undefined') {\n",
       "                    var scripts = document.getElementsByTagName('script');\n",
       "                    var thisScriptTag = scripts[scripts.length-1];\n",
       "                    var parentDiv = thisScriptTag.parentNode;\n",
       "                    e = document.createElement('div');\n",
       "                    parentDiv.appendChild(e);\n",
       "                } else {\n",
       "                    e = element[0];\n",
       "                }\n",
       "\n",
       "                if (typeof requirejs !== 'undefined') {\n",
       "                    // disable load timeout; ipython_app.js is large and can take a while to load.\n",
       "                    requirejs.config({waitSeconds: 0});\n",
       "                }\n",
       "\n",
       "                require(['https://static.turi.com/products/graphlab-create/2.1/canvas/js/ipython_app.js'], function(IPythonApp){\n",
       "                    var app = new IPythonApp();\n",
       "                    app.attachView('sarray','Categorical', {\"ipython\": true, \"sketch\": {\"complete\": true, \"numeric\": false, \"num_unique\": 222, \"num_undefined\": 0, \"progress\": 1.0, \"frequent_items\": {\"349.75\": {\"frequency\": 396, \"value\": \"349.75\"}, \"346.6\": {\"frequency\": 82, \"value\": \"346.6\"}, \"312.91\": {\"frequency\": 83, \"value\": \"312.91\"}, \"349.02\": {\"frequency\": 174, \"value\": \"349.02\"}, \"349.03\": {\"frequency\": 171, \"value\": \"349.03\"}, \"349.01\": {\"frequency\": 311, \"value\": \"349.01\"}, \"308.96\": {\"frequency\": 75, \"value\": \"308.96\"}, \"349.07\": {\"frequency\": 157, \"value\": \"349.07\"}, \"349.04\": {\"frequency\": 86, \"value\": \"349.04\"}, \"349.05\": {\"frequency\": 83, \"value\": \"349.05\"}, \"348.74\": {\"frequency\": 82, \"value\": \"348.74\"}, \"344.9\": {\"frequency\": 78, \"value\": \"344.9\"}, \"349.08\": {\"frequency\": 159, \"value\": \"349.08\"}, \"348.77\": {\"frequency\": 165, \"value\": \"348.77\"}, \"348.73\": {\"frequency\": 156, \"value\": \"348.73\"}, \"330.8\": {\"frequency\": 86, \"value\": \"330.8\"}, \"293.53\": {\"frequency\": 85, \"value\": \"293.53\"}, \"273.15\": {\"frequency\": 79, \"value\": \"273.15\"}, \"349.89\": {\"frequency\": 162, \"value\": \"349.89\"}, \"349.82\": {\"frequency\": 157, \"value\": \"349.82\"}, \"349.83\": {\"frequency\": 235, \"value\": \"349.83\"}, \"350.91\": {\"frequency\": 160, \"value\": \"350.91\"}, \"349.81\": {\"frequency\": 80, \"value\": \"349.81\"}, \"349.86\": {\"frequency\": 451, \"value\": \"349.86\"}, \"349\": {\"frequency\": 79, \"value\": \"349\"}, \"349.84\": {\"frequency\": 239, \"value\": \"349.84\"}, \"349.85\": {\"frequency\": 314, \"value\": \"349.85\"}, \"349.52\": {\"frequency\": 324, \"value\": \"349.52\"}, \"316.32\": {\"frequency\": 78, \"value\": \"316.32\"}, \"332.46\": {\"frequency\": 77, \"value\": \"332.46\"}, \"349.11\": {\"frequency\": 240, \"value\": \"349.11\"}, \"329.02\": {\"frequency\": 80, \"value\": \"329.02\"}, \"348.68\": {\"frequency\": 80, \"value\": \"348.68\"}, \"349.15\": {\"frequency\": 156, \"value\": \"349.15\"}, \"349.14\": {\"frequency\": 81, \"value\": \"349.14\"}, \"349.17\": {\"frequency\": 70, \"value\": \"349.17\"}, \"349.16\": {\"frequency\": 83, \"value\": \"349.16\"}, \"347.53\": {\"frequency\": 79, \"value\": \"347.53\"}, \"349.18\": {\"frequency\": 81, \"value\": \"349.18\"}, \"351.05\": {\"frequency\": 83, \"value\": \"351.05\"}, \"348.67\": {\"frequency\": 83, \"value\": \"348.67\"}, \"351.01\": {\"frequency\": 83, \"value\": \"351.01\"}, \"348.64\": {\"frequency\": 74, \"value\": \"348.64\"}, \"319.48\": {\"frequency\": 77, \"value\": \"319.48\"}, \"345.67\": {\"frequency\": 77, \"value\": \"345.67\"}, \"349.99\": {\"frequency\": 316, \"value\": \"349.99\"}, \"349.91\": {\"frequency\": 232, \"value\": \"349.91\"}, \"348.78\": {\"frequency\": 86, \"value\": \"348.78\"}, \"349.93\": {\"frequency\": 145, \"value\": \"349.93\"}, \"349.92\": {\"frequency\": 313, \"value\": \"349.92\"}, \"349.95\": {\"frequency\": 396, \"value\": \"349.95\"}, \"349.94\": {\"frequency\": 315, \"value\": \"349.94\"}, \"349.97\": {\"frequency\": 240, \"value\": \"349.97\"}, \"349.96\": {\"frequency\": 485, \"value\": \"349.96\"}, \"298.55\": {\"frequency\": 87, \"value\": \"298.55\"}, \"327.05\": {\"frequency\": 79, \"value\": \"327.05\"}, \"350.41\": {\"frequency\": 247, \"value\": \"350.41\"}, \"350.43\": {\"frequency\": 167, \"value\": \"350.43\"}, \"350.44\": {\"frequency\": 159, \"value\": \"350.44\"}, \"349.29\": {\"frequency\": 77, \"value\": \"349.29\"}, \"350.47\": {\"frequency\": 76, \"value\": \"350.47\"}, \"349.24\": {\"frequency\": 79, \"value\": \"349.24\"}, \"350.49\": {\"frequency\": 156, \"value\": \"350.49\"}, \"349.26\": {\"frequency\": 163, \"value\": \"349.26\"}, \"349.27\": {\"frequency\": 161, \"value\": \"349.27\"}, \"349.21\": {\"frequency\": 75, \"value\": \"349.21\"}, \"349.22\": {\"frequency\": 76, \"value\": \"349.22\"}, \"349.23\": {\"frequency\": 157, \"value\": \"349.23\"}, \"341.94\": {\"frequency\": 81, \"value\": \"341.94\"}, \"348.18\": {\"frequency\": 85, \"value\": \"348.18\"}, \"348.16\": {\"frequency\": 85, \"value\": \"348.16\"}, \"287.85\": {\"frequency\": 80, \"value\": \"287.85\"}, \"347.23\": {\"frequency\": 80, \"value\": \"347.23\"}, \"348.96\": {\"frequency\": 85, \"value\": \"348.96\"}, \"348.97\": {\"frequency\": 84, \"value\": \"348.97\"}, \"348.95\": {\"frequency\": 156, \"value\": \"348.95\"}, \"337.18\": {\"frequency\": 81, \"value\": \"337.18\"}, \"348.93\": {\"frequency\": 150, \"value\": \"348.93\"}, \"346.56\": {\"frequency\": 86, \"value\": \"346.56\"}, \"348.91\": {\"frequency\": 252, \"value\": \"348.91\"}, \"340.68\": {\"frequency\": 77, \"value\": \"340.68\"}, \"348.98\": {\"frequency\": 81, \"value\": \"348.98\"}, \"349.88\": {\"frequency\": 75, \"value\": \"349.88\"}, \"343.67\": {\"frequency\": 74, \"value\": \"343.67\"}, \"349.39\": {\"frequency\": 320, \"value\": \"349.39\"}, \"349.38\": {\"frequency\": 392, \"value\": \"349.38\"}, \"350.58\": {\"frequency\": 152, \"value\": \"350.58\"}, \"349.32\": {\"frequency\": 252, \"value\": \"349.32\"}, \"349.31\": {\"frequency\": 318, \"value\": \"349.31\"}, \"350.54\": {\"frequency\": 83, \"value\": \"350.54\"}, \"349.37\": {\"frequency\": 392, \"value\": \"349.37\"}, \"349.36\": {\"frequency\": 158, \"value\": \"349.36\"}, \"349.35\": {\"frequency\": 480, \"value\": \"349.35\"}, \"349.34\": {\"frequency\": 159, \"value\": \"349.34\"}, \"349.77\": {\"frequency\": 158, \"value\": \"349.77\"}, \"338.34\": {\"frequency\": 75, \"value\": \"338.34\"}, \"346.89\": {\"frequency\": 80, \"value\": \"346.89\"}, \"281.12\": {\"frequency\": 88, \"value\": \"281.12\"}, \"348.86\": {\"frequency\": 158, \"value\": \"348.86\"}, \"348.81\": {\"frequency\": 151, \"value\": \"348.81\"}, \"348.83\": {\"frequency\": 328, \"value\": \"348.83\"}, \"348.82\": {\"frequency\": 243, \"value\": \"348.82\"}, \"349.73\": {\"frequency\": 163, \"value\": \"349.73\"}, \"346.44\": {\"frequency\": 84, \"value\": \"346.44\"}, \"347.74\": {\"frequency\": 77, \"value\": \"347.74\"}, \"349.9\": {\"frequency\": 248, \"value\": \"349.9\"}, \"349.8\": {\"frequency\": 322, \"value\": \"349.8\"}, \"348.62\": {\"frequency\": 77, \"value\": \"348.62\"}, \"349.1\": {\"frequency\": 84, \"value\": \"349.1\"}, \"348.46\": {\"frequency\": 80, \"value\": \"348.46\"}, \"349.5\": {\"frequency\": 238, \"value\": \"349.5\"}, \"349.4\": {\"frequency\": 170, \"value\": \"349.4\"}, \"349.7\": {\"frequency\": 547, \"value\": \"349.7\"}, \"349.6\": {\"frequency\": 164, \"value\": \"349.6\"}, \"350.28\": {\"frequency\": 77, \"value\": \"350.28\"}, \"350.29\": {\"frequency\": 166, \"value\": \"350.29\"}, \"350.22\": {\"frequency\": 75, \"value\": \"350.22\"}, \"350.23\": {\"frequency\": 170, \"value\": \"350.23\"}, \"350.21\": {\"frequency\": 307, \"value\": \"350.21\"}, \"350.26\": {\"frequency\": 248, \"value\": \"350.26\"}, \"350.24\": {\"frequency\": 224, \"value\": \"350.24\"}, \"350.25\": {\"frequency\": 478, \"value\": \"350.25\"}, \"349.13\": {\"frequency\": 81, \"value\": \"349.13\"}, \"349.48\": {\"frequency\": 233, \"value\": \"349.48\"}, \"349.49\": {\"frequency\": 80, \"value\": \"349.49\"}, \"349.46\": {\"frequency\": 481, \"value\": \"349.46\"}, \"349.47\": {\"frequency\": 79, \"value\": \"349.47\"}, \"349.44\": {\"frequency\": 154, \"value\": \"349.44\"}, \"349.45\": {\"frequency\": 310, \"value\": \"349.45\"}, \"349.42\": {\"frequency\": 158, \"value\": \"349.42\"}, \"349.43\": {\"frequency\": 166, \"value\": \"349.43\"}, \"349.41\": {\"frequency\": 406, \"value\": \"349.41\"}, \"347.84\": {\"frequency\": 77, \"value\": \"347.84\"}, \"346.34\": {\"frequency\": 79, \"value\": \"346.34\"}, \"350.09\": {\"frequency\": 239, \"value\": \"350.09\"}, \"350.38\": {\"frequency\": 80, \"value\": \"350.38\"}, \"350.31\": {\"frequency\": 79, \"value\": \"350.31\"}, \"350.33\": {\"frequency\": 249, \"value\": \"350.33\"}, \"350.32\": {\"frequency\": 315, \"value\": \"350.32\"}, \"350.35\": {\"frequency\": 322, \"value\": \"350.35\"}, \"350.34\": {\"frequency\": 82, \"value\": \"350.34\"}, \"350.37\": {\"frequency\": 77, \"value\": \"350.37\"}, \"350.36\": {\"frequency\": 79, \"value\": \"350.36\"}, \"350.3\": {\"frequency\": 233, \"value\": \"350.3\"}, \"350.2\": {\"frequency\": 154, \"value\": \"350.2\"}, \"350.1\": {\"frequency\": 407, \"value\": \"350.1\"}, \"350.62\": {\"frequency\": 87, \"value\": \"350.62\"}, \"349.59\": {\"frequency\": 387, \"value\": \"349.59\"}, \"349.58\": {\"frequency\": 155, \"value\": \"349.58\"}, \"350.5\": {\"frequency\": 230, \"value\": \"350.5\"}, \"349.55\": {\"frequency\": 479, \"value\": \"349.55\"}, \"349.54\": {\"frequency\": 326, \"value\": \"349.54\"}, \"349.57\": {\"frequency\": 394, \"value\": \"349.57\"}, \"349.56\": {\"frequency\": 246, \"value\": \"349.56\"}, \"349.51\": {\"frequency\": 158, \"value\": \"349.51\"}, \"349.53\": {\"frequency\": 160, \"value\": \"349.53\"}, \"349.87\": {\"frequency\": 161, \"value\": \"349.87\"}, \"304.24\": {\"frequency\": 83, \"value\": \"304.24\"}, \"348.75\": {\"frequency\": 86, \"value\": \"348.75\"}, \"339.28\": {\"frequency\": 90, \"value\": \"339.28\"}, \"349.28\": {\"frequency\": 80, \"value\": \"349.28\"}, \"342.89\": {\"frequency\": 77, \"value\": \"342.89\"}, \"350.04\": {\"frequency\": 243, \"value\": \"350.04\"}, \"350.05\": {\"frequency\": 76, \"value\": \"350.05\"}, \"350.06\": {\"frequency\": 394, \"value\": \"350.06\"}, \"350.07\": {\"frequency\": 161, \"value\": \"350.07\"}, \"350.53\": {\"frequency\": 75, \"value\": \"350.53\"}, \"350.01\": {\"frequency\": 227, \"value\": \"350.01\"}, \"350.02\": {\"frequency\": 569, \"value\": \"350.02\"}, \"350.03\": {\"frequency\": 381, \"value\": \"350.03\"}, \"349.25\": {\"frequency\": 77, \"value\": \"349.25\"}, \"348.7\": {\"frequency\": 80, \"value\": \"348.7\"}, \"350.08\": {\"frequency\": 224, \"value\": \"350.08\"}, \"347.2\": {\"frequency\": 79, \"value\": \"347.2\"}, \"348.53\": {\"frequency\": 73, \"value\": \"348.53\"}, \"348.76\": {\"frequency\": 81, \"value\": \"348.76\"}, \"322.3\": {\"frequency\": 77, \"value\": \"322.3\"}, \"348.56\": {\"frequency\": 155, \"value\": \"348.56\"}, \"345.8\": {\"frequency\": 82, \"value\": \"345.8\"}, \"348.54\": {\"frequency\": 76, \"value\": \"348.54\"}, \"348.55\": {\"frequency\": 83, \"value\": \"348.55\"}, \"345.4\": {\"frequency\": 85, \"value\": \"345.4\"}, \"349.68\": {\"frequency\": 237, \"value\": \"349.68\"}, \"349.69\": {\"frequency\": 247, \"value\": \"349.69\"}, \"346.11\": {\"frequency\": 77, \"value\": \"346.11\"}, \"349.61\": {\"frequency\": 485, \"value\": \"349.61\"}, \"349.62\": {\"frequency\": 72, \"value\": \"349.62\"}, \"349.63\": {\"frequency\": 244, \"value\": \"349.63\"}, \"349.64\": {\"frequency\": 162, \"value\": \"349.64\"}, \"349.65\": {\"frequency\": 236, \"value\": \"349.65\"}, \"349.66\": {\"frequency\": 490, \"value\": \"349.66\"}, \"349.67\": {\"frequency\": 333, \"value\": \"349.67\"}, \"348.85\": {\"frequency\": 80, \"value\": \"348.85\"}, \"350.13\": {\"frequency\": 243, \"value\": \"350.13\"}, \"350.12\": {\"frequency\": 242, \"value\": \"350.12\"}, \"350.11\": {\"frequency\": 402, \"value\": \"350.11\"}, \"350.17\": {\"frequency\": 241, \"value\": \"350.17\"}, \"350.16\": {\"frequency\": 239, \"value\": \"350.16\"}, \"350.15\": {\"frequency\": 243, \"value\": \"350.15\"}, \"350.14\": {\"frequency\": 78, \"value\": \"350.14\"}, \"350.18\": {\"frequency\": 163, \"value\": \"350.18\"}, \"349.06\": {\"frequency\": 84, \"value\": \"349.06\"}, \"348.41\": {\"frequency\": 87, \"value\": \"348.41\"}, \"349.76\": {\"frequency\": 478, \"value\": \"349.76\"}, \"347.73\": {\"frequency\": 166, \"value\": \"347.73\"}, \"349.74\": {\"frequency\": 470, \"value\": \"349.74\"}, \"348.45\": {\"frequency\": 71, \"value\": \"348.45\"}, \"349.72\": {\"frequency\": 559, \"value\": \"349.72\"}, \"349.71\": {\"frequency\": 246, \"value\": \"349.71\"}, \"333.97\": {\"frequency\": 80, \"value\": \"333.97\"}, \"349.19\": {\"frequency\": 154, \"value\": \"349.19\"}, \"348.48\": {\"frequency\": 78, \"value\": \"348.48\"}, \"346.87\": {\"frequency\": 76, \"value\": \"346.87\"}, \"349.79\": {\"frequency\": 379, \"value\": \"349.79\"}, \"349.78\": {\"frequency\": 169, \"value\": \"349.78\"}, \"350.75\": {\"frequency\": 80, \"value\": \"350.75\"}, \"348.69\": {\"frequency\": 86, \"value\": \"348.69\"}, \"324.87\": {\"frequency\": 75, \"value\": \"324.87\"}, \"344.35\": {\"frequency\": 86, \"value\": \"344.35\"}, \"349.12\": {\"frequency\": 78, \"value\": \"349.12\"}, \"350\": {\"frequency\": 418, \"value\": \"350\"}, \"335.71\": {\"frequency\": 82, \"value\": \"335.71\"}, \"350.82\": {\"frequency\": 83, \"value\": \"350.82\"}}, \"size\": 39892}, \"selected_variable\": {\"name\": [\"<SArray>\"], \"dtype\": \"str\", \"view_component\": \"Categorical\", \"view_file\": \"sarray\", \"descriptives\": {\"rows\": 39892}, \"type\": \"SArray\", \"view_components\": [\"Categorical\"]}, \"histogram\": null}, e);\n",
       "                });\n",
       "            })();\n",
       "        "
      ]
     },
     "metadata": {},
     "output_type": "display_data"
    }
   ],
   "source": [
    "#Mostramos la frecuencia de recurrencia de cada dato\n",
    "training_dataT['Tempera'].show(view = 'Categorical')"
   ]
  },
  {
   "cell_type": "code",
   "execution_count": 16,
   "metadata": {
    "collapsed": false
   },
   "outputs": [
    {
     "data": {
      "application/javascript": [
       "$(\"head\").append($(\"<link/>\").attr({\n",
       "  rel:  \"stylesheet\",\n",
       "  type: \"text/css\",\n",
       "  href: \"//cdnjs.cloudflare.com/ajax/libs/font-awesome/4.1.0/css/font-awesome.min.css\"\n",
       "}));\n",
       "$(\"head\").append($(\"<link/>\").attr({\n",
       "  rel:  \"stylesheet\",\n",
       "  type: \"text/css\",\n",
       "  href: \"https://static.turi.com/products/graphlab-create/2.1/canvas/css/canvas.css\"\n",
       "}));\n",
       "\n",
       "            (function(){\n",
       "\n",
       "                var e = null;\n",
       "                if (typeof element == 'undefined') {\n",
       "                    var scripts = document.getElementsByTagName('script');\n",
       "                    var thisScriptTag = scripts[scripts.length-1];\n",
       "                    var parentDiv = thisScriptTag.parentNode;\n",
       "                    e = document.createElement('div');\n",
       "                    parentDiv.appendChild(e);\n",
       "                } else {\n",
       "                    e = element[0];\n",
       "                }\n",
       "\n",
       "                if (typeof requirejs !== 'undefined') {\n",
       "                    // disable load timeout; ipython_app.js is large and can take a while to load.\n",
       "                    requirejs.config({waitSeconds: 0});\n",
       "                }\n",
       "\n",
       "                require(['https://static.turi.com/products/graphlab-create/2.1/canvas/js/ipython_app.js'], function(IPythonApp){\n",
       "                    var app = new IPythonApp();\n",
       "                    app.attachView('sarray','Categorical', {\"ipython\": true, \"sketch\": {\"std\": 0.22184157098793042, \"complete\": true, \"min\": -1.0, \"max\": 1.0, \"quantile\": [-1.0, -1.0, -1.0, -1.0, -1.0, -1.0, -1.0, -1.0, -1.0, -1.0, -1.0, -1.0, -1.0, -1.0, -1.0, -1.0, -1.0, -1.0, -1.0, -1.0, -1.0, -1.0, -1.0, -1.0, -1.0, -1.0, -1.0, -1.0, -1.0, -1.0, -1.0, -1.0, -1.0, -1.0, -1.0, -1.0, -1.0, -1.0, -1.0, -1.0, -1.0, -1.0, -1.0, -1.0, -1.0, -1.0, -1.0, -1.0, -1.0, -1.0, -1.0, -1.0, -1.0, -1.0, -1.0, -1.0, -1.0, -1.0, -1.0, -1.0, -1.0, -1.0, -1.0, -1.0, -1.0, -1.0, -1.0, -1.0, -1.0, -1.0, -1.0, -1.0, -1.0, -1.0, -1.0, -1.0, -1.0, -1.0, -1.0, -1.0, -1.0, -1.0, -1.0, -1.0, -1.0, -1.0, -1.0, -1.0, -1.0, -1.0, -1.0, -1.0, -1.0, -1.0, -1.0, -1.0, -1.0, -1.0, -1.0, 1.0, 1.0], \"median\": -1.0, \"numeric\": true, \"num_unique\": 2, \"num_undefined\": 0, \"var\": 0.04921368261839297, \"progress\": 1.0, \"size\": 39892, \"frequent_items\": {\"1\": {\"frequency\": 497, \"value\": 1}, \"-1\": {\"frequency\": 39395, \"value\": -1}}, \"mean\": -0.9750827233530539}, \"selected_variable\": {\"name\": [\"<SArray>\"], \"dtype\": \"int\", \"view_component\": \"Categorical\", \"view_file\": \"sarray\", \"descriptives\": {\"rows\": 39892}, \"type\": \"SArray\", \"view_components\": [\"Numeric\", \"Categorical\"]}, \"histogram\": {\"progress\": 1.0, \"histogram\": {\"max\": 1.0171599999999872, \"bins\": [39395, 0, 0, 0, 0, 0, 0, 0, 0, 0, 0, 497], \"min\": -1.0103599999999995}, \"min\": -1, \"complete\": 1, \"max\": 1}}, e);\n",
       "                });\n",
       "            })();\n",
       "        "
      ]
     },
     "metadata": {},
     "output_type": "display_data"
    }
   ],
   "source": [
    "#valores validos luego de la clasificacion\n",
    "training_dataT['TCalificacion'].show(view = 'Categorical')"
   ]
  },
  {
   "cell_type": "code",
   "execution_count": 17,
   "metadata": {
    "collapsed": false
   },
   "outputs": [
    {
     "name": "stdout",
     "output_type": "stream",
     "text": [
      "Valores_Clasificados: 497\n",
      "Valores_Rechazados: 39395\n"
     ]
    }
   ],
   "source": [
    "#creacion de la tabla de clasificacion\n",
    "Valores_Clasificados =training_dataT[training_dataT['TCalificacion']== +1]\n",
    "Valores_Rechazados   =training_dataT[training_dataT['TCalificacion']== -1]\n",
    "print \"Valores_Clasificados: %s\" % len(Valores_Clasificados)\n",
    "print \"Valores_Rechazados: %s\" % len(Valores_Rechazados)"
   ]
  },
  {
   "cell_type": "code",
   "execution_count": 18,
   "metadata": {
    "collapsed": false
   },
   "outputs": [
    {
     "data": {
      "text/html": [
       "<div style=\"max-height:1000px;max-width:1500px;overflow:auto;\"><table frame=\"box\" rules=\"cols\">\n",
       "    <tr>\n",
       "        <th style=\"padding-left: 1em; padding-right: 1em; text-align: center\">FlujoCh</th>\n",
       "        <th style=\"padding-left: 1em; padding-right: 1em; text-align: center\">FlujoRx</th>\n",
       "        <th style=\"padding-left: 1em; padding-right: 1em; text-align: center\">TCalificacion</th>\n",
       "        <th style=\"padding-left: 1em; padding-right: 1em; text-align: center\">Tempera</th>\n",
       "    </tr>\n",
       "    <tr>\n",
       "        <td style=\"padding-left: 1em; padding-right: 1em; text-align: center; vertical-align: top\">103.19</td>\n",
       "        <td style=\"padding-left: 1em; padding-right: 1em; text-align: center; vertical-align: top\">80.964</td>\n",
       "        <td style=\"padding-left: 1em; padding-right: 1em; text-align: center; vertical-align: top\">1</td>\n",
       "        <td style=\"padding-left: 1em; padding-right: 1em; text-align: center; vertical-align: top\">350</td>\n",
       "    </tr>\n",
       "    <tr>\n",
       "        <td style=\"padding-left: 1em; padding-right: 1em; text-align: center; vertical-align: top\">105.25</td>\n",
       "        <td style=\"padding-left: 1em; padding-right: 1em; text-align: center; vertical-align: top\">80.616</td>\n",
       "        <td style=\"padding-left: 1em; padding-right: 1em; text-align: center; vertical-align: top\">1</td>\n",
       "        <td style=\"padding-left: 1em; padding-right: 1em; text-align: center; vertical-align: top\">350</td>\n",
       "    </tr>\n",
       "    <tr>\n",
       "        <td style=\"padding-left: 1em; padding-right: 1em; text-align: center; vertical-align: top\">107.52</td>\n",
       "        <td style=\"padding-left: 1em; padding-right: 1em; text-align: center; vertical-align: top\">84.94</td>\n",
       "        <td style=\"padding-left: 1em; padding-right: 1em; text-align: center; vertical-align: top\">1</td>\n",
       "        <td style=\"padding-left: 1em; padding-right: 1em; text-align: center; vertical-align: top\">350</td>\n",
       "    </tr>\n",
       "    <tr>\n",
       "        <td style=\"padding-left: 1em; padding-right: 1em; text-align: center; vertical-align: top\">103.47</td>\n",
       "        <td style=\"padding-left: 1em; padding-right: 1em; text-align: center; vertical-align: top\">82.316</td>\n",
       "        <td style=\"padding-left: 1em; padding-right: 1em; text-align: center; vertical-align: top\">1</td>\n",
       "        <td style=\"padding-left: 1em; padding-right: 1em; text-align: center; vertical-align: top\">350</td>\n",
       "    </tr>\n",
       "    <tr>\n",
       "        <td style=\"padding-left: 1em; padding-right: 1em; text-align: center; vertical-align: top\">103.8</td>\n",
       "        <td style=\"padding-left: 1em; padding-right: 1em; text-align: center; vertical-align: top\">84.503</td>\n",
       "        <td style=\"padding-left: 1em; padding-right: 1em; text-align: center; vertical-align: top\">1</td>\n",
       "        <td style=\"padding-left: 1em; padding-right: 1em; text-align: center; vertical-align: top\">350</td>\n",
       "    </tr>\n",
       "    <tr>\n",
       "        <td style=\"padding-left: 1em; padding-right: 1em; text-align: center; vertical-align: top\">105.39</td>\n",
       "        <td style=\"padding-left: 1em; padding-right: 1em; text-align: center; vertical-align: top\">79.191</td>\n",
       "        <td style=\"padding-left: 1em; padding-right: 1em; text-align: center; vertical-align: top\">1</td>\n",
       "        <td style=\"padding-left: 1em; padding-right: 1em; text-align: center; vertical-align: top\">349</td>\n",
       "    </tr>\n",
       "    <tr>\n",
       "        <td style=\"padding-left: 1em; padding-right: 1em; text-align: center; vertical-align: top\">107.77</td>\n",
       "        <td style=\"padding-left: 1em; padding-right: 1em; text-align: center; vertical-align: top\">82.101</td>\n",
       "        <td style=\"padding-left: 1em; padding-right: 1em; text-align: center; vertical-align: top\">1</td>\n",
       "        <td style=\"padding-left: 1em; padding-right: 1em; text-align: center; vertical-align: top\">350</td>\n",
       "    </tr>\n",
       "    <tr>\n",
       "        <td style=\"padding-left: 1em; padding-right: 1em; text-align: center; vertical-align: top\">103.34</td>\n",
       "        <td style=\"padding-left: 1em; padding-right: 1em; text-align: center; vertical-align: top\">84.051</td>\n",
       "        <td style=\"padding-left: 1em; padding-right: 1em; text-align: center; vertical-align: top\">1</td>\n",
       "        <td style=\"padding-left: 1em; padding-right: 1em; text-align: center; vertical-align: top\">350</td>\n",
       "    </tr>\n",
       "    <tr>\n",
       "        <td style=\"padding-left: 1em; padding-right: 1em; text-align: center; vertical-align: top\">103.93</td>\n",
       "        <td style=\"padding-left: 1em; padding-right: 1em; text-align: center; vertical-align: top\">80.83</td>\n",
       "        <td style=\"padding-left: 1em; padding-right: 1em; text-align: center; vertical-align: top\">1</td>\n",
       "        <td style=\"padding-left: 1em; padding-right: 1em; text-align: center; vertical-align: top\">350</td>\n",
       "    </tr>\n",
       "    <tr>\n",
       "        <td style=\"padding-left: 1em; padding-right: 1em; text-align: center; vertical-align: top\">107.11</td>\n",
       "        <td style=\"padding-left: 1em; padding-right: 1em; text-align: center; vertical-align: top\">83.932</td>\n",
       "        <td style=\"padding-left: 1em; padding-right: 1em; text-align: center; vertical-align: top\">1</td>\n",
       "        <td style=\"padding-left: 1em; padding-right: 1em; text-align: center; vertical-align: top\">350</td>\n",
       "    </tr>\n",
       "</table>\n",
       "[497 rows x 4 columns]<br/>Note: Only the head of the SFrame is printed.<br/>You can use print_rows(num_rows=m, num_columns=n) to print more rows and columns.\n",
       "</div>"
      ],
      "text/plain": [
       "Columns:\n",
       "\tFlujoCh\tfloat\n",
       "\tFlujoRx\tfloat\n",
       "\tTCalificacion\tint\n",
       "\tTempera\tstr\n",
       "\n",
       "Rows: 497\n",
       "\n",
       "Data:\n",
       "+---------+---------+---------------+---------+\n",
       "| FlujoCh | FlujoRx | TCalificacion | Tempera |\n",
       "+---------+---------+---------------+---------+\n",
       "|  103.19 |  80.964 |       1       |   350   |\n",
       "|  105.25 |  80.616 |       1       |   350   |\n",
       "|  107.52 |  84.94  |       1       |   350   |\n",
       "|  103.47 |  82.316 |       1       |   350   |\n",
       "|  103.8  |  84.503 |       1       |   350   |\n",
       "|  105.39 |  79.191 |       1       |   349   |\n",
       "|  107.77 |  82.101 |       1       |   350   |\n",
       "|  103.34 |  84.051 |       1       |   350   |\n",
       "|  103.93 |  80.83  |       1       |   350   |\n",
       "|  107.11 |  83.932 |       1       |   350   |\n",
       "+---------+---------+---------------+---------+\n",
       "[497 rows x 4 columns]\n",
       "Note: Only the head of the SFrame is printed.\n",
       "You can use print_rows(num_rows=m, num_columns=n) to print more rows and columns."
      ]
     },
     "execution_count": 18,
     "metadata": {},
     "output_type": "execute_result"
    }
   ],
   "source": [
    "#visualizacion de la tabla\n",
    "Valores_Clasificados"
   ]
  },
  {
   "cell_type": "code",
   "execution_count": 33,
   "metadata": {
    "collapsed": false,
    "scrolled": true
   },
   "outputs": [
    {
     "name": "stdout",
     "output_type": "stream",
     "text": [
      "+---------+---------+---------------+---------+\n",
      "| FlujoCh | FlujoRx | TCalificacion | Tempera |\n",
      "+---------+---------+---------------+---------+\n",
      "|  103.19 |  80.964 |       1       |   350   |\n",
      "|  105.25 |  80.616 |       1       |   350   |\n",
      "|  107.52 |  84.94  |       1       |   350   |\n",
      "|  103.47 |  82.316 |       1       |   350   |\n",
      "|  103.8  |  84.503 |       1       |   350   |\n",
      "|  105.39 |  79.191 |       1       |   349   |\n",
      "|  107.77 |  82.101 |       1       |   350   |\n",
      "|  103.34 |  84.051 |       1       |   350   |\n",
      "|  103.93 |  80.83  |       1       |   350   |\n",
      "|  107.11 |  83.932 |       1       |   350   |\n",
      "+---------+---------+---------------+---------+\n",
      "[497 rows x 4 columns]\n",
      "Note: Only the head of the SFrame is printed.\n",
      "You can use print_rows(num_rows=m, num_columns=n) to print more rows and columns.\n",
      "-------------------------------\n",
      "caudal Entrada, caudal chaqueta\n",
      "[79.48, 106.82]\n"
     ]
    }
   ],
   "source": [
    "#ramdom de los valores clasificados\n",
    "from random import choice\n",
    "print(choice([Valores_Clasificados]))\n",
    "\n",
    "# valores aleatoreos de Flujo Ch y Flujo en el reactor, para una temperatura Valida entrada fuzzy\n",
    "n  =Valores_Clasificados['FlujoCh']\n",
    "m  =Valores_Clasificados['FlujoRx']\n",
    "ce =choice(m)\n",
    "cch=choice(n)\n",
    "print('-------------------------------')\n",
    "print('caudal Entrada, caudal chaqueta')\n",
    "print[ce,cch] #flujo Rx, #flujo Ch\n"
   ]
  },
  {
   "cell_type": "code",
   "execution_count": 35,
   "metadata": {
    "collapsed": false,
    "scrolled": true
   },
   "outputs": [
    {
     "name": "stdout",
     "output_type": "stream",
     "text": [
      "61.0552316342\n",
      "0.638204179057\n"
     ]
    }
   ],
   "source": [
    "#llamamos la funcion fuzzy\n",
    "\n",
    "# Definicion de los dominios a trabajar         \n",
    "# functions\n",
    "elements = sys.argv\n",
    "\n",
    "#caudalE=85\n",
    "#CaudalCh=105\n",
    "\n",
    "#de str a numero\n",
    "cch=float(cch)\n",
    "ce =float(ce)\n",
    "\n",
    "\n",
    "caudalE = ctrl.Antecedent(np.arange(0, 160, 1), 'caudalE')\n",
    "caudalCh = ctrl.Antecedent(np.arange(0, 200, 1), 'caudalCh')\n",
    "temperatura = ctrl.Consequent(np.arange(0, 700, 1), 'temperatura')\n",
    "volumen = ctrl.Consequent(np.arange(0, 120, 1), 'volumen')\n",
    "concentracion = ctrl.Consequent(np.arange(0, 1.5, 1), 'concentracion')\n",
    "\n",
    "# Definicion de los conjuntos difusos \n",
    "caudalE['Bajo']  = fuzz.trapmf(caudalE.universe,[0, 0, 77, 97])\n",
    "caudalE['Ideal'] = fuzz.gaussmf(caudalE.universe,5 , 82)\n",
    "caudalE['Alto']  = fuzz.trapmf(caudalE.universe,[67, 87, 160, 160])\n",
    "\n",
    "caudalCh['Bajo']  = fuzz.trapmf(caudalCh.universe,[0, 0, 100, 120])\n",
    "caudalCh['Ideal'] = fuzz.gaussmf(caudalCh.universe, 5, 105)\n",
    "caudalCh['Alto']  = fuzz.trapmf(caudalCh.universe,[90, 110, 200, 200])\n",
    "\n",
    "temperatura['MuyBajo']    = fuzz.trapmf(temperatura.universe,[0, 0, 60, 120])\n",
    "temperatura['MedioBajo']  = fuzz.trapmf(temperatura.universe,[30, 90, 190, 250])\n",
    "temperatura['LigeroBajo'] = fuzz.trapmf(temperatura.universe,[160, 220, 320, 380])\n",
    "temperatura['Ideal']      = fuzz.trimf(temperatura.universe,[300, 350, 400])\n",
    "temperatura['LigeroAlto'] = fuzz.trapmf(temperatura.universe,[320, 380, 480, 540])\n",
    "temperatura['MedioAlto']  = fuzz.trapmf(temperatura.universe,[450, 510, 610, 670])\n",
    "temperatura['MuyAlto']    = fuzz.trapmf(temperatura.universe,[580, 640, 700, 700])\n",
    "\n",
    "volumen['Bajo']  = fuzz.trapmf(volumen.universe,[0, 0, 10.89, 20.89])\n",
    "volumen['Ideal'] = fuzz.trimf(volumen.universe,[10.89, 13.89, 16.89])\n",
    "volumen['Alto']  = fuzz.trapmf(volumen.universe,[13.89, 16.89, 120, 120])\n",
    "\n",
    "concentracion['Ideal'] = fuzz.smf(concentracion.universe,0.92, 0.9951)\n",
    "\n",
    "\n",
    "\n",
    "#Reglas Temperatura\n",
    "rule1 = ctrl.Rule(caudalCh['Bajo'] & caudalE['Bajo'], temperatura['MuyBajo'])\n",
    "rule2 = ctrl.Rule(caudalCh['Ideal'] & caudalE['Bajo'] | caudalCh['Bajo'] & caudalE['Ideal'], temperatura['MedioBajo'])\n",
    "rule3 = ctrl.Rule(caudalCh['Alto'] & caudalE['Bajo'], temperatura['LigeroBajo'])\n",
    "rule4 = ctrl.Rule(caudalCh['Ideal'] & caudalE['Ideal'], temperatura['Ideal'])\n",
    "rule5 = ctrl.Rule(caudalCh['Bajo'] & caudalE['Alto'], temperatura['LigeroAlto'])\n",
    "rule6 = ctrl.Rule(caudalCh['Alto'] & caudalE['Ideal'] | caudalCh['Ideal'] & caudalE['Alto'], temperatura['MedioAlto'])\n",
    "rule7 = ctrl.Rule(caudalCh['Alto'] & caudalE['Alto'], temperatura['MuyAlto'])\n",
    "#Reglas Volumen\n",
    "rule8 = ctrl.Rule(caudalCh['Bajo'] & caudalE['Bajo'], volumen['Bajo'])\n",
    "rule9 = ctrl.Rule(caudalCh['Bajo'] & caudalE['Ideal'] | caudalCh['Ideal'] & caudalE['Bajo'] , volumen['Ideal'])\n",
    "rule10 = ctrl.Rule(caudalCh['Alto'] & caudalE['Bajo'] | caudalCh['Alto'] & caudalE['Ideal'] \n",
    "| caudalCh['Alto'] & caudalE['Alto'] | caudalCh['Ideal'] & caudalE['Ideal'] \n",
    "| caudalCh['Ideal'] & caudalE['Alto'] | caudalCh['Bajo'] & caudalE['Alto'] , volumen['Alto'])\n",
    "\n",
    "#Reglas Concentracion \n",
    "rule12 = ctrl.Rule(caudalCh['Ideal'] & caudalE['Ideal'] | caudalCh['Ideal'] & caudalE['Alto'] \n",
    "|caudalCh['Alto'] & caudalE['Ideal'] | caudalCh['Alto'] & caudalE['Alto'], concentracion['Ideal'])\n",
    "\n",
    "#controlador Temperatura\n",
    "tempe_ctrl = ctrl.ControlSystem([rule1, rule2, rule3, rule4, rule5, rule6, rule7])\n",
    "tempe = ctrl.ControlSystemSimulation(tempe_ctrl)\n",
    "\n",
    "#Controlador Volumen\n",
    "vol_ctrl = ctrl.ControlSystem([rule8, rule9, rule10])\n",
    "vol = ctrl.ControlSystemSimulation(vol_ctrl)\n",
    "\n",
    "#Controlador Concentracion\n",
    "conc_ctrl = ctrl.ControlSystem(rule12)\n",
    "conc = ctrl.ControlSystemSimulation(conc_ctrl)\n",
    "\n",
    "# Pass inputs to the ControlSystem using Antecedent labels with Pythonic API\n",
    "# Note: if you like passing many inputs all at once, use .inputs(dict_of_data)\n",
    "\n",
    "caudal1 = elements[1]\n",
    "caudal2 = elements[2]\n",
    "\n",
    "vol.input['caudalE']  = ce #int(caudal1)\n",
    "vol.input['caudalCh'] = cch #int(caudal2)\n",
    "vol.compute()\n",
    "\n",
    "conc.input['caudalE']  = ce #int(caudal1)\n",
    "conc.input['caudalCh'] = cch #int(caudal2)\n",
    "conc.compute()\n",
    "\n",
    "\n",
    "# Crunch the numbers\n",
    "print(vol.output['volumen'])\n",
    "volumen.view(sim=tempe)\n",
    "\n",
    "print(conc.output['concentracion'])\n",
    "concentracion.view(sim=tempe)\n",
    "plt.show()\n"
   ]
  },
  {
   "cell_type": "code",
   "execution_count": null,
   "metadata": {
    "collapsed": true
   },
   "outputs": [],
   "source": []
  }
 ],
 "metadata": {
  "kernelspec": {
   "display_name": "Python 2",
   "language": "python",
   "name": "python2"
  },
  "language_info": {
   "codemirror_mode": {
    "name": "ipython",
    "version": 2
   },
   "file_extension": ".py",
   "mimetype": "text/x-python",
   "name": "python",
   "nbconvert_exporter": "python",
   "pygments_lexer": "ipython2",
   "version": "2.7.11"
  }
 },
 "nbformat": 4,
 "nbformat_minor": 0
}
