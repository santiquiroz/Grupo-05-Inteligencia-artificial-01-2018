{
 "cells": [
  {
   "cell_type": "code",
   "execution_count": 7,
   "metadata": {
    "collapsed": false
   },
   "outputs": [
    {
     "name": "stdout",
     "output_type": "stream",
     "text": [
      "\n",
      "By running this function, you agree to the following licenses.\n",
      "\n",
      "* libstdc++: https://gcc.gnu.org/onlinedocs/libstdc++/manual/license.html\n",
      "* xz: http://git.tukaani.org/?p=xz.git;a=blob;f=COPYING\n",
      "    \n",
      "Downloading xz.\n",
      "Extracting xz.\n",
      "Downloading gcc-libs.\n",
      "Extracting gcc-libs.\n",
      "Copying gcc-libs into the installation directory.\n"
     ]
    }
   ],
   "source": [
    "#graphlab.get_dependencies()\n",
    "#Kernel > Restart\n",
    "\n",
    "\n",
    "#importamos las libreias a usar\n",
    "import numpy as np\n",
    "import math\n",
    "import matplotlib.pyplot as plt\n",
    "import graphlab\n",
    "# easy_install -U scikit-fuzzy #instalar por consola\n",
    "import skfuzzy as fuzzy\n",
    "\n",
    "from skfuzzy import control as ctrl\n",
    "#puntos de operacion C=0.9951, T=350.4, V=13.89, FlCh=105, FlRx=82"
   ]
  },
  {
   "cell_type": "code",
   "execution_count": 3,
   "metadata": {
    "collapsed": false
   },
   "outputs": [
    {
     "data": {
      "text/html": [
       "<pre>Finished parsing file C:\\Users\\D A Santana\\Documents\\01_Univer\\2018-1\\03 Inteligencia\\proyectofinal\\red_matlab_ne\\file.csv</pre>"
      ],
      "text/plain": [
       "Finished parsing file C:\\Users\\D A Santana\\Documents\\01_Univer\\2018-1\\03 Inteligencia\\proyectofinal\\red_matlab_ne\\file.csv"
      ]
     },
     "metadata": {},
     "output_type": "display_data"
    },
    {
     "data": {
      "text/html": [
       "<pre>Parsing completed. Parsed 100 lines in 0.135036 secs.</pre>"
      ],
      "text/plain": [
       "Parsing completed. Parsed 100 lines in 0.135036 secs."
      ]
     },
     "metadata": {},
     "output_type": "display_data"
    },
    {
     "name": "stdout",
     "output_type": "stream",
     "text": [
      "------------------------------------------------------\n",
      "Inferred types from first 100 line(s) of file as \n",
      "column_type_hints=[float,float,float,float,float]\n",
      "If parsing fails due to incorrect types, you can correct\n",
      "the inferred type list above and pass it to read_csv in\n",
      "the column_type_hints argument\n",
      "------------------------------------------------------\n"
     ]
    },
    {
     "data": {
      "text/html": [
       "<pre>Finished parsing file C:\\Users\\D A Santana\\Documents\\01_Univer\\2018-1\\03 Inteligencia\\proyectofinal\\red_matlab_ne\\file.csv</pre>"
      ],
      "text/plain": [
       "Finished parsing file C:\\Users\\D A Santana\\Documents\\01_Univer\\2018-1\\03 Inteligencia\\proyectofinal\\red_matlab_ne\\file.csv"
      ]
     },
     "metadata": {},
     "output_type": "display_data"
    },
    {
     "data": {
      "text/html": [
       "<pre>Parsing completed. Parsed 50000 lines in 0.163109 secs.</pre>"
      ],
      "text/plain": [
       "Parsing completed. Parsed 50000 lines in 0.163109 secs."
      ]
     },
     "metadata": {},
     "output_type": "display_data"
    },
    {
     "data": {
      "text/html": [
       "<div style=\"max-height:1000px;max-width:1500px;overflow:auto;\"><table frame=\"box\" rules=\"cols\">\n",
       "    <tr>\n",
       "        <th style=\"padding-left: 1em; padding-right: 1em; text-align: center\">FlujoRx</th>\n",
       "        <th style=\"padding-left: 1em; padding-right: 1em; text-align: center\">FlujoCh</th>\n",
       "        <th style=\"padding-left: 1em; padding-right: 1em; text-align: center\">Concent</th>\n",
       "        <th style=\"padding-left: 1em; padding-right: 1em; text-align: center\">Tempera</th>\n",
       "        <th style=\"padding-left: 1em; padding-right: 1em; text-align: center\">Volumen</th>\n",
       "    </tr>\n",
       "    <tr>\n",
       "        <td style=\"padding-left: 1em; padding-right: 1em; text-align: center; vertical-align: top\">80.16</td>\n",
       "        <td style=\"padding-left: 1em; padding-right: 1em; text-align: center; vertical-align: top\">104.75</td>\n",
       "        <td style=\"padding-left: 1em; padding-right: 1em; text-align: center; vertical-align: top\">1.0</td>\n",
       "        <td style=\"padding-left: 1em; padding-right: 1em; text-align: center; vertical-align: top\">273.15</td>\n",
       "        <td style=\"padding-left: 1em; padding-right: 1em; text-align: center; vertical-align: top\">0.1</td>\n",
       "    </tr>\n",
       "    <tr>\n",
       "        <td style=\"padding-left: 1em; padding-right: 1em; text-align: center; vertical-align: top\">83.468</td>\n",
       "        <td style=\"padding-left: 1em; padding-right: 1em; text-align: center; vertical-align: top\">106.81</td>\n",
       "        <td style=\"padding-left: 1em; padding-right: 1em; text-align: center; vertical-align: top\">0.99994</td>\n",
       "        <td style=\"padding-left: 1em; padding-right: 1em; text-align: center; vertical-align: top\">281.12</td>\n",
       "        <td style=\"padding-left: 1em; padding-right: 1em; text-align: center; vertical-align: top\">0.10498</td>\n",
       "    </tr>\n",
       "    <tr>\n",
       "        <td style=\"padding-left: 1em; padding-right: 1em; text-align: center; vertical-align: top\">83.129</td>\n",
       "        <td style=\"padding-left: 1em; padding-right: 1em; text-align: center; vertical-align: top\">104.11</td>\n",
       "        <td style=\"padding-left: 1em; padding-right: 1em; text-align: center; vertical-align: top\">0.99987</td>\n",
       "        <td style=\"padding-left: 1em; padding-right: 1em; text-align: center; vertical-align: top\">287.85</td>\n",
       "        <td style=\"padding-left: 1em; padding-right: 1em; text-align: center; vertical-align: top\">0.10998</td>\n",
       "    </tr>\n",
       "    <tr>\n",
       "        <td style=\"padding-left: 1em; padding-right: 1em; text-align: center; vertical-align: top\">82.207</td>\n",
       "        <td style=\"padding-left: 1em; padding-right: 1em; text-align: center; vertical-align: top\">103.81</td>\n",
       "        <td style=\"padding-left: 1em; padding-right: 1em; text-align: center; vertical-align: top\">0.99989</td>\n",
       "        <td style=\"padding-left: 1em; padding-right: 1em; text-align: center; vertical-align: top\">293.53</td>\n",
       "        <td style=\"padding-left: 1em; padding-right: 1em; text-align: center; vertical-align: top\">0.11505</td>\n",
       "    </tr>\n",
       "    <tr>\n",
       "        <td style=\"padding-left: 1em; padding-right: 1em; text-align: center; vertical-align: top\">84.865</td>\n",
       "        <td style=\"padding-left: 1em; padding-right: 1em; text-align: center; vertical-align: top\">104.66</td>\n",
       "        <td style=\"padding-left: 1em; padding-right: 1em; text-align: center; vertical-align: top\">0.99993</td>\n",
       "        <td style=\"padding-left: 1em; padding-right: 1em; text-align: center; vertical-align: top\">298.55</td>\n",
       "        <td style=\"padding-left: 1em; padding-right: 1em; text-align: center; vertical-align: top\">0.12019</td>\n",
       "    </tr>\n",
       "    <tr>\n",
       "        <td style=\"padding-left: 1em; padding-right: 1em; text-align: center; vertical-align: top\">80.703</td>\n",
       "        <td style=\"padding-left: 1em; padding-right: 1em; text-align: center; vertical-align: top\">106.06</td>\n",
       "        <td style=\"padding-left: 1em; padding-right: 1em; text-align: center; vertical-align: top\">0.99989</td>\n",
       "        <td style=\"padding-left: 1em; padding-right: 1em; text-align: center; vertical-align: top\">304.24</td>\n",
       "        <td style=\"padding-left: 1em; padding-right: 1em; text-align: center; vertical-align: top\">0.12674</td>\n",
       "    </tr>\n",
       "    <tr>\n",
       "        <td style=\"padding-left: 1em; padding-right: 1em; text-align: center; vertical-align: top\">81.827</td>\n",
       "        <td style=\"padding-left: 1em; padding-right: 1em; text-align: center; vertical-align: top\">106.51</td>\n",
       "        <td style=\"padding-left: 1em; padding-right: 1em; text-align: center; vertical-align: top\">0.99993</td>\n",
       "        <td style=\"padding-left: 1em; padding-right: 1em; text-align: center; vertical-align: top\">308.96</td>\n",
       "        <td style=\"padding-left: 1em; padding-right: 1em; text-align: center; vertical-align: top\">0.13308</td>\n",
       "    </tr>\n",
       "    <tr>\n",
       "        <td style=\"padding-left: 1em; padding-right: 1em; text-align: center; vertical-align: top\">80.74</td>\n",
       "        <td style=\"padding-left: 1em; padding-right: 1em; text-align: center; vertical-align: top\">106.56</td>\n",
       "        <td style=\"padding-left: 1em; padding-right: 1em; text-align: center; vertical-align: top\">1.0001</td>\n",
       "        <td style=\"padding-left: 1em; padding-right: 1em; text-align: center; vertical-align: top\">312.91</td>\n",
       "        <td style=\"padding-left: 1em; padding-right: 1em; text-align: center; vertical-align: top\">0.13918</td>\n",
       "    </tr>\n",
       "    <tr>\n",
       "        <td style=\"padding-left: 1em; padding-right: 1em; text-align: center; vertical-align: top\">83.209</td>\n",
       "        <td style=\"padding-left: 1em; padding-right: 1em; text-align: center; vertical-align: top\">105.53</td>\n",
       "        <td style=\"padding-left: 1em; padding-right: 1em; text-align: center; vertical-align: top\">1.0001</td>\n",
       "        <td style=\"padding-left: 1em; padding-right: 1em; text-align: center; vertical-align: top\">316.32</td>\n",
       "        <td style=\"padding-left: 1em; padding-right: 1em; text-align: center; vertical-align: top\">0.14539</td>\n",
       "    </tr>\n",
       "    <tr>\n",
       "        <td style=\"padding-left: 1em; padding-right: 1em; text-align: center; vertical-align: top\">80.743</td>\n",
       "        <td style=\"padding-left: 1em; padding-right: 1em; text-align: center; vertical-align: top\">102.52</td>\n",
       "        <td style=\"padding-left: 1em; padding-right: 1em; text-align: center; vertical-align: top\">1.0</td>\n",
       "        <td style=\"padding-left: 1em; padding-right: 1em; text-align: center; vertical-align: top\">319.48</td>\n",
       "        <td style=\"padding-left: 1em; padding-right: 1em; text-align: center; vertical-align: top\">0.15219</td>\n",
       "    </tr>\n",
       "</table>\n",
       "[50000 rows x 5 columns]<br/>Note: Only the head of the SFrame is printed.<br/>You can use print_rows(num_rows=m, num_columns=n) to print more rows and columns.\n",
       "</div>"
      ],
      "text/plain": [
       "Columns:\n",
       "\tFlujoRx\tfloat\n",
       "\tFlujoCh\tfloat\n",
       "\tConcent\tfloat\n",
       "\tTempera\tfloat\n",
       "\tVolumen\tfloat\n",
       "\n",
       "Rows: 50000\n",
       "\n",
       "Data:\n",
       "+---------+---------+---------+---------+---------+\n",
       "| FlujoRx | FlujoCh | Concent | Tempera | Volumen |\n",
       "+---------+---------+---------+---------+---------+\n",
       "|  80.16  |  104.75 |   1.0   |  273.15 |   0.1   |\n",
       "|  83.468 |  106.81 | 0.99994 |  281.12 | 0.10498 |\n",
       "|  83.129 |  104.11 | 0.99987 |  287.85 | 0.10998 |\n",
       "|  82.207 |  103.81 | 0.99989 |  293.53 | 0.11505 |\n",
       "|  84.865 |  104.66 | 0.99993 |  298.55 | 0.12019 |\n",
       "|  80.703 |  106.06 | 0.99989 |  304.24 | 0.12674 |\n",
       "|  81.827 |  106.51 | 0.99993 |  308.96 | 0.13308 |\n",
       "|  80.74  |  106.56 |  1.0001 |  312.91 | 0.13918 |\n",
       "|  83.209 |  105.53 |  1.0001 |  316.32 | 0.14539 |\n",
       "|  80.743 |  102.52 |   1.0   |  319.48 | 0.15219 |\n",
       "+---------+---------+---------+---------+---------+\n",
       "[50000 rows x 5 columns]\n",
       "Note: Only the head of the SFrame is printed.\n",
       "You can use print_rows(num_rows=m, num_columns=n) to print more rows and columns."
      ]
     },
     "execution_count": 3,
     "metadata": {},
     "output_type": "execute_result"
    }
   ],
   "source": [
    "#cargamos el archivo en la misma carpeta\n",
    "data = graphlab.SFrame.read_csv('file.csv')\n",
    "#longitud total\n",
    "len (data)\n",
    "data"
   ]
  },
  {
   "cell_type": "code",
   "execution_count": 4,
   "metadata": {
    "collapsed": false
   },
   "outputs": [
    {
     "data": {
      "text/html": [
       "<div style=\"max-height:1000px;max-width:1500px;overflow:auto;\"><table frame=\"box\" rules=\"cols\">\n",
       "    <tr>\n",
       "        <th style=\"padding-left: 1em; padding-right: 1em; text-align: center\">Concent</th>\n",
       "        <th style=\"padding-left: 1em; padding-right: 1em; text-align: center\">FlujoCh</th>\n",
       "        <th style=\"padding-left: 1em; padding-right: 1em; text-align: center\">FlujoRx</th>\n",
       "    </tr>\n",
       "    <tr>\n",
       "        <td style=\"padding-left: 1em; padding-right: 1em; text-align: center; vertical-align: top\">1.0</td>\n",
       "        <td style=\"padding-left: 1em; padding-right: 1em; text-align: center; vertical-align: top\">104.75</td>\n",
       "        <td style=\"padding-left: 1em; padding-right: 1em; text-align: center; vertical-align: top\">80.16</td>\n",
       "    </tr>\n",
       "    <tr>\n",
       "        <td style=\"padding-left: 1em; padding-right: 1em; text-align: center; vertical-align: top\">0.99994</td>\n",
       "        <td style=\"padding-left: 1em; padding-right: 1em; text-align: center; vertical-align: top\">106.81</td>\n",
       "        <td style=\"padding-left: 1em; padding-right: 1em; text-align: center; vertical-align: top\">83.468</td>\n",
       "    </tr>\n",
       "    <tr>\n",
       "        <td style=\"padding-left: 1em; padding-right: 1em; text-align: center; vertical-align: top\">0.99987</td>\n",
       "        <td style=\"padding-left: 1em; padding-right: 1em; text-align: center; vertical-align: top\">104.11</td>\n",
       "        <td style=\"padding-left: 1em; padding-right: 1em; text-align: center; vertical-align: top\">83.129</td>\n",
       "    </tr>\n",
       "    <tr>\n",
       "        <td style=\"padding-left: 1em; padding-right: 1em; text-align: center; vertical-align: top\">0.99989</td>\n",
       "        <td style=\"padding-left: 1em; padding-right: 1em; text-align: center; vertical-align: top\">103.81</td>\n",
       "        <td style=\"padding-left: 1em; padding-right: 1em; text-align: center; vertical-align: top\">82.207</td>\n",
       "    </tr>\n",
       "    <tr>\n",
       "        <td style=\"padding-left: 1em; padding-right: 1em; text-align: center; vertical-align: top\">0.99993</td>\n",
       "        <td style=\"padding-left: 1em; padding-right: 1em; text-align: center; vertical-align: top\">104.66</td>\n",
       "        <td style=\"padding-left: 1em; padding-right: 1em; text-align: center; vertical-align: top\">84.865</td>\n",
       "    </tr>\n",
       "    <tr>\n",
       "        <td style=\"padding-left: 1em; padding-right: 1em; text-align: center; vertical-align: top\">0.99989</td>\n",
       "        <td style=\"padding-left: 1em; padding-right: 1em; text-align: center; vertical-align: top\">106.06</td>\n",
       "        <td style=\"padding-left: 1em; padding-right: 1em; text-align: center; vertical-align: top\">80.703</td>\n",
       "    </tr>\n",
       "    <tr>\n",
       "        <td style=\"padding-left: 1em; padding-right: 1em; text-align: center; vertical-align: top\">0.99993</td>\n",
       "        <td style=\"padding-left: 1em; padding-right: 1em; text-align: center; vertical-align: top\">106.51</td>\n",
       "        <td style=\"padding-left: 1em; padding-right: 1em; text-align: center; vertical-align: top\">81.827</td>\n",
       "    </tr>\n",
       "    <tr>\n",
       "        <td style=\"padding-left: 1em; padding-right: 1em; text-align: center; vertical-align: top\">1.0001</td>\n",
       "        <td style=\"padding-left: 1em; padding-right: 1em; text-align: center; vertical-align: top\">106.56</td>\n",
       "        <td style=\"padding-left: 1em; padding-right: 1em; text-align: center; vertical-align: top\">80.74</td>\n",
       "    </tr>\n",
       "    <tr>\n",
       "        <td style=\"padding-left: 1em; padding-right: 1em; text-align: center; vertical-align: top\">1.0001</td>\n",
       "        <td style=\"padding-left: 1em; padding-right: 1em; text-align: center; vertical-align: top\">105.53</td>\n",
       "        <td style=\"padding-left: 1em; padding-right: 1em; text-align: center; vertical-align: top\">83.209</td>\n",
       "    </tr>\n",
       "    <tr>\n",
       "        <td style=\"padding-left: 1em; padding-right: 1em; text-align: center; vertical-align: top\">1.0</td>\n",
       "        <td style=\"padding-left: 1em; padding-right: 1em; text-align: center; vertical-align: top\">102.52</td>\n",
       "        <td style=\"padding-left: 1em; padding-right: 1em; text-align: center; vertical-align: top\">80.743</td>\n",
       "    </tr>\n",
       "</table>\n",
       "[50000 rows x 3 columns]<br/>Note: Only the head of the SFrame is printed.<br/>You can use print_rows(num_rows=m, num_columns=n) to print more rows and columns.\n",
       "</div>"
      ],
      "text/plain": [
       "Columns:\n",
       "\tConcent\tfloat\n",
       "\tFlujoCh\tfloat\n",
       "\tFlujoRx\tfloat\n",
       "\n",
       "Rows: 50000\n",
       "\n",
       "Data:\n",
       "+---------+---------+---------+\n",
       "| Concent | FlujoCh | FlujoRx |\n",
       "+---------+---------+---------+\n",
       "|   1.0   |  104.75 |  80.16  |\n",
       "| 0.99994 |  106.81 |  83.468 |\n",
       "| 0.99987 |  104.11 |  83.129 |\n",
       "| 0.99989 |  103.81 |  82.207 |\n",
       "| 0.99993 |  104.66 |  84.865 |\n",
       "| 0.99989 |  106.06 |  80.703 |\n",
       "| 0.99993 |  106.51 |  81.827 |\n",
       "|  1.0001 |  106.56 |  80.74  |\n",
       "|  1.0001 |  105.53 |  83.209 |\n",
       "|   1.0   |  102.52 |  80.743 |\n",
       "+---------+---------+---------+\n",
       "[50000 rows x 3 columns]\n",
       "Note: Only the head of the SFrame is printed.\n",
       "You can use print_rows(num_rows=m, num_columns=n) to print more rows and columns."
      ]
     },
     "execution_count": 4,
     "metadata": {},
     "output_type": "execute_result"
    }
   ],
   "source": [
    "#creacion de la tabla de relacion Variables entrada Vs salida Concentracion \n",
    "entvsC = graphlab.SFrame({'Concent':data.select_column('Concent'),'FlujoCh':data.select_column('FlujoCh'),\n",
    "                          'FlujoRx':data.select_column('FlujoRx')})\n",
    "entvsC"
   ]
  },
  {
   "cell_type": "code",
   "execution_count": 5,
   "metadata": {
    "collapsed": false
   },
   "outputs": [
    {
     "data": {
      "text/html": [
       "<div style=\"max-height:1000px;max-width:1500px;overflow:auto;\"><table frame=\"box\" rules=\"cols\">\n",
       "    <tr>\n",
       "        <th style=\"padding-left: 1em; padding-right: 1em; text-align: center\">FlujoCh</th>\n",
       "        <th style=\"padding-left: 1em; padding-right: 1em; text-align: center\">FlujoRx</th>\n",
       "        <th style=\"padding-left: 1em; padding-right: 1em; text-align: center\">Volumen</th>\n",
       "    </tr>\n",
       "    <tr>\n",
       "        <td style=\"padding-left: 1em; padding-right: 1em; text-align: center; vertical-align: top\">104.75</td>\n",
       "        <td style=\"padding-left: 1em; padding-right: 1em; text-align: center; vertical-align: top\">80.16</td>\n",
       "        <td style=\"padding-left: 1em; padding-right: 1em; text-align: center; vertical-align: top\">0.1</td>\n",
       "    </tr>\n",
       "    <tr>\n",
       "        <td style=\"padding-left: 1em; padding-right: 1em; text-align: center; vertical-align: top\">106.81</td>\n",
       "        <td style=\"padding-left: 1em; padding-right: 1em; text-align: center; vertical-align: top\">83.468</td>\n",
       "        <td style=\"padding-left: 1em; padding-right: 1em; text-align: center; vertical-align: top\">0.10498</td>\n",
       "    </tr>\n",
       "    <tr>\n",
       "        <td style=\"padding-left: 1em; padding-right: 1em; text-align: center; vertical-align: top\">104.11</td>\n",
       "        <td style=\"padding-left: 1em; padding-right: 1em; text-align: center; vertical-align: top\">83.129</td>\n",
       "        <td style=\"padding-left: 1em; padding-right: 1em; text-align: center; vertical-align: top\">0.10998</td>\n",
       "    </tr>\n",
       "    <tr>\n",
       "        <td style=\"padding-left: 1em; padding-right: 1em; text-align: center; vertical-align: top\">103.81</td>\n",
       "        <td style=\"padding-left: 1em; padding-right: 1em; text-align: center; vertical-align: top\">82.207</td>\n",
       "        <td style=\"padding-left: 1em; padding-right: 1em; text-align: center; vertical-align: top\">0.11505</td>\n",
       "    </tr>\n",
       "    <tr>\n",
       "        <td style=\"padding-left: 1em; padding-right: 1em; text-align: center; vertical-align: top\">104.66</td>\n",
       "        <td style=\"padding-left: 1em; padding-right: 1em; text-align: center; vertical-align: top\">84.865</td>\n",
       "        <td style=\"padding-left: 1em; padding-right: 1em; text-align: center; vertical-align: top\">0.12019</td>\n",
       "    </tr>\n",
       "    <tr>\n",
       "        <td style=\"padding-left: 1em; padding-right: 1em; text-align: center; vertical-align: top\">106.06</td>\n",
       "        <td style=\"padding-left: 1em; padding-right: 1em; text-align: center; vertical-align: top\">80.703</td>\n",
       "        <td style=\"padding-left: 1em; padding-right: 1em; text-align: center; vertical-align: top\">0.12674</td>\n",
       "    </tr>\n",
       "    <tr>\n",
       "        <td style=\"padding-left: 1em; padding-right: 1em; text-align: center; vertical-align: top\">106.51</td>\n",
       "        <td style=\"padding-left: 1em; padding-right: 1em; text-align: center; vertical-align: top\">81.827</td>\n",
       "        <td style=\"padding-left: 1em; padding-right: 1em; text-align: center; vertical-align: top\">0.13308</td>\n",
       "    </tr>\n",
       "    <tr>\n",
       "        <td style=\"padding-left: 1em; padding-right: 1em; text-align: center; vertical-align: top\">106.56</td>\n",
       "        <td style=\"padding-left: 1em; padding-right: 1em; text-align: center; vertical-align: top\">80.74</td>\n",
       "        <td style=\"padding-left: 1em; padding-right: 1em; text-align: center; vertical-align: top\">0.13918</td>\n",
       "    </tr>\n",
       "    <tr>\n",
       "        <td style=\"padding-left: 1em; padding-right: 1em; text-align: center; vertical-align: top\">105.53</td>\n",
       "        <td style=\"padding-left: 1em; padding-right: 1em; text-align: center; vertical-align: top\">83.209</td>\n",
       "        <td style=\"padding-left: 1em; padding-right: 1em; text-align: center; vertical-align: top\">0.14539</td>\n",
       "    </tr>\n",
       "    <tr>\n",
       "        <td style=\"padding-left: 1em; padding-right: 1em; text-align: center; vertical-align: top\">102.52</td>\n",
       "        <td style=\"padding-left: 1em; padding-right: 1em; text-align: center; vertical-align: top\">80.743</td>\n",
       "        <td style=\"padding-left: 1em; padding-right: 1em; text-align: center; vertical-align: top\">0.15219</td>\n",
       "    </tr>\n",
       "</table>\n",
       "[50000 rows x 3 columns]<br/>Note: Only the head of the SFrame is printed.<br/>You can use print_rows(num_rows=m, num_columns=n) to print more rows and columns.\n",
       "</div>"
      ],
      "text/plain": [
       "Columns:\n",
       "\tFlujoCh\tfloat\n",
       "\tFlujoRx\tfloat\n",
       "\tVolumen\tfloat\n",
       "\n",
       "Rows: 50000\n",
       "\n",
       "Data:\n",
       "+---------+---------+---------+\n",
       "| FlujoCh | FlujoRx | Volumen |\n",
       "+---------+---------+---------+\n",
       "|  104.75 |  80.16  |   0.1   |\n",
       "|  106.81 |  83.468 | 0.10498 |\n",
       "|  104.11 |  83.129 | 0.10998 |\n",
       "|  103.81 |  82.207 | 0.11505 |\n",
       "|  104.66 |  84.865 | 0.12019 |\n",
       "|  106.06 |  80.703 | 0.12674 |\n",
       "|  106.51 |  81.827 | 0.13308 |\n",
       "|  106.56 |  80.74  | 0.13918 |\n",
       "|  105.53 |  83.209 | 0.14539 |\n",
       "|  102.52 |  80.743 | 0.15219 |\n",
       "+---------+---------+---------+\n",
       "[50000 rows x 3 columns]\n",
       "Note: Only the head of the SFrame is printed.\n",
       "You can use print_rows(num_rows=m, num_columns=n) to print more rows and columns."
      ]
     },
     "execution_count": 5,
     "metadata": {},
     "output_type": "execute_result"
    }
   ],
   "source": [
    "#creacion de la tabla de relacion Variables entrada Vs salida Volumen \n",
    "entvsV = graphlab.SFrame({'Volumen':data.select_column('Volumen'),'FlujoCh':data.select_column('FlujoCh'),\n",
    "                          'FlujoRx':data.select_column('FlujoRx')})\n",
    "entvsV"
   ]
  },
  {
   "cell_type": "code",
   "execution_count": 15,
   "metadata": {
    "collapsed": false
   },
   "outputs": [
    {
     "data": {
      "text/html": [
       "<div style=\"max-height:1000px;max-width:1500px;overflow:auto;\"><table frame=\"box\" rules=\"cols\">\n",
       "    <tr>\n",
       "        <th style=\"padding-left: 1em; padding-right: 1em; text-align: center\">FlujoCh</th>\n",
       "        <th style=\"padding-left: 1em; padding-right: 1em; text-align: center\">FlujoRx</th>\n",
       "        <th style=\"padding-left: 1em; padding-right: 1em; text-align: center\">TCalificacion</th>\n",
       "        <th style=\"padding-left: 1em; padding-right: 1em; text-align: center\">Tempera</th>\n",
       "    </tr>\n",
       "    <tr>\n",
       "        <td style=\"padding-left: 1em; padding-right: 1em; text-align: center; vertical-align: top\">104.75</td>\n",
       "        <td style=\"padding-left: 1em; padding-right: 1em; text-align: center; vertical-align: top\">80.16</td>\n",
       "        <td style=\"padding-left: 1em; padding-right: 1em; text-align: center; vertical-align: top\">-1</td>\n",
       "        <td style=\"padding-left: 1em; padding-right: 1em; text-align: center; vertical-align: top\">273.15</td>\n",
       "    </tr>\n",
       "    <tr>\n",
       "        <td style=\"padding-left: 1em; padding-right: 1em; text-align: center; vertical-align: top\">106.81</td>\n",
       "        <td style=\"padding-left: 1em; padding-right: 1em; text-align: center; vertical-align: top\">83.468</td>\n",
       "        <td style=\"padding-left: 1em; padding-right: 1em; text-align: center; vertical-align: top\">-1</td>\n",
       "        <td style=\"padding-left: 1em; padding-right: 1em; text-align: center; vertical-align: top\">281.12</td>\n",
       "    </tr>\n",
       "    <tr>\n",
       "        <td style=\"padding-left: 1em; padding-right: 1em; text-align: center; vertical-align: top\">104.11</td>\n",
       "        <td style=\"padding-left: 1em; padding-right: 1em; text-align: center; vertical-align: top\">83.129</td>\n",
       "        <td style=\"padding-left: 1em; padding-right: 1em; text-align: center; vertical-align: top\">-1</td>\n",
       "        <td style=\"padding-left: 1em; padding-right: 1em; text-align: center; vertical-align: top\">287.85</td>\n",
       "    </tr>\n",
       "    <tr>\n",
       "        <td style=\"padding-left: 1em; padding-right: 1em; text-align: center; vertical-align: top\">103.81</td>\n",
       "        <td style=\"padding-left: 1em; padding-right: 1em; text-align: center; vertical-align: top\">82.207</td>\n",
       "        <td style=\"padding-left: 1em; padding-right: 1em; text-align: center; vertical-align: top\">-1</td>\n",
       "        <td style=\"padding-left: 1em; padding-right: 1em; text-align: center; vertical-align: top\">293.53</td>\n",
       "    </tr>\n",
       "    <tr>\n",
       "        <td style=\"padding-left: 1em; padding-right: 1em; text-align: center; vertical-align: top\">104.66</td>\n",
       "        <td style=\"padding-left: 1em; padding-right: 1em; text-align: center; vertical-align: top\">84.865</td>\n",
       "        <td style=\"padding-left: 1em; padding-right: 1em; text-align: center; vertical-align: top\">-1</td>\n",
       "        <td style=\"padding-left: 1em; padding-right: 1em; text-align: center; vertical-align: top\">298.55</td>\n",
       "    </tr>\n",
       "    <tr>\n",
       "        <td style=\"padding-left: 1em; padding-right: 1em; text-align: center; vertical-align: top\">106.06</td>\n",
       "        <td style=\"padding-left: 1em; padding-right: 1em; text-align: center; vertical-align: top\">80.703</td>\n",
       "        <td style=\"padding-left: 1em; padding-right: 1em; text-align: center; vertical-align: top\">-1</td>\n",
       "        <td style=\"padding-left: 1em; padding-right: 1em; text-align: center; vertical-align: top\">304.24</td>\n",
       "    </tr>\n",
       "    <tr>\n",
       "        <td style=\"padding-left: 1em; padding-right: 1em; text-align: center; vertical-align: top\">106.51</td>\n",
       "        <td style=\"padding-left: 1em; padding-right: 1em; text-align: center; vertical-align: top\">81.827</td>\n",
       "        <td style=\"padding-left: 1em; padding-right: 1em; text-align: center; vertical-align: top\">-1</td>\n",
       "        <td style=\"padding-left: 1em; padding-right: 1em; text-align: center; vertical-align: top\">308.96</td>\n",
       "    </tr>\n",
       "    <tr>\n",
       "        <td style=\"padding-left: 1em; padding-right: 1em; text-align: center; vertical-align: top\">106.56</td>\n",
       "        <td style=\"padding-left: 1em; padding-right: 1em; text-align: center; vertical-align: top\">80.74</td>\n",
       "        <td style=\"padding-left: 1em; padding-right: 1em; text-align: center; vertical-align: top\">-1</td>\n",
       "        <td style=\"padding-left: 1em; padding-right: 1em; text-align: center; vertical-align: top\">312.91</td>\n",
       "    </tr>\n",
       "    <tr>\n",
       "        <td style=\"padding-left: 1em; padding-right: 1em; text-align: center; vertical-align: top\">105.53</td>\n",
       "        <td style=\"padding-left: 1em; padding-right: 1em; text-align: center; vertical-align: top\">83.209</td>\n",
       "        <td style=\"padding-left: 1em; padding-right: 1em; text-align: center; vertical-align: top\">-1</td>\n",
       "        <td style=\"padding-left: 1em; padding-right: 1em; text-align: center; vertical-align: top\">316.32</td>\n",
       "    </tr>\n",
       "    <tr>\n",
       "        <td style=\"padding-left: 1em; padding-right: 1em; text-align: center; vertical-align: top\">102.52</td>\n",
       "        <td style=\"padding-left: 1em; padding-right: 1em; text-align: center; vertical-align: top\">80.743</td>\n",
       "        <td style=\"padding-left: 1em; padding-right: 1em; text-align: center; vertical-align: top\">-1</td>\n",
       "        <td style=\"padding-left: 1em; padding-right: 1em; text-align: center; vertical-align: top\">319.48</td>\n",
       "    </tr>\n",
       "</table>\n",
       "[50000 rows x 4 columns]<br/>Note: Only the head of the SFrame is printed.<br/>You can use print_rows(num_rows=m, num_columns=n) to print more rows and columns.\n",
       "</div>"
      ],
      "text/plain": [
       "Columns:\n",
       "\tFlujoCh\tfloat\n",
       "\tFlujoRx\tfloat\n",
       "\tTCalificacion\tint\n",
       "\tTempera\tfloat\n",
       "\n",
       "Rows: 50000\n",
       "\n",
       "Data:\n",
       "+---------+---------+---------------+---------+\n",
       "| FlujoCh | FlujoRx | TCalificacion | Tempera |\n",
       "+---------+---------+---------------+---------+\n",
       "|  104.75 |  80.16  |       -1      |  273.15 |\n",
       "|  106.81 |  83.468 |       -1      |  281.12 |\n",
       "|  104.11 |  83.129 |       -1      |  287.85 |\n",
       "|  103.81 |  82.207 |       -1      |  293.53 |\n",
       "|  104.66 |  84.865 |       -1      |  298.55 |\n",
       "|  106.06 |  80.703 |       -1      |  304.24 |\n",
       "|  106.51 |  81.827 |       -1      |  308.96 |\n",
       "|  106.56 |  80.74  |       -1      |  312.91 |\n",
       "|  105.53 |  83.209 |       -1      |  316.32 |\n",
       "|  102.52 |  80.743 |       -1      |  319.48 |\n",
       "+---------+---------+---------------+---------+\n",
       "[50000 rows x 4 columns]\n",
       "Note: Only the head of the SFrame is printed.\n",
       "You can use print_rows(num_rows=m, num_columns=n) to print more rows and columns."
      ]
     },
     "execution_count": 15,
     "metadata": {},
     "output_type": "execute_result"
    }
   ],
   "source": [
    "#creacion de la tabla de relacion Variables entrada Vs salida Temp \n",
    "entvsT = graphlab.SFrame({'Tempera':data.select_column('Tempera'),'FlujoCh':data.select_column('FlujoCh'),\n",
    "                          'FlujoRx':data.select_column('FlujoRx'),'TCalificacion':data.select_column('Concent')})\n",
    "\n",
    "#Creacion tabla Clasificadora\n",
    "#Temp = rango, +1\n",
    "#Temp =fuera rango,-1\n",
    "entvsT['TCalificacion'] = entvsT['Tempera'].apply(lambda x: +1 if x in range(345,355) else -1)\n",
    "\n",
    "entvsT"
   ]
  },
  {
   "cell_type": "code",
   "execution_count": 16,
   "metadata": {
    "collapsed": true
   },
   "outputs": [],
   "source": [
    "#Division en Entrenamento y Validation para cada net\n",
    "training_dataC, validation_dataC = entvsC.random_split(0.8) #DB concentracion\n",
    "training_dataT, validation_dataT = entvsT.random_split(0.8) #DB temperatura\n",
    "training_dataV, validation_dataV = entvsV.random_split(0.8) #DB volumen"
   ]
  },
  {
   "cell_type": "code",
   "execution_count": 17,
   "metadata": {
    "collapsed": false
   },
   "outputs": [
    {
     "data": {
      "text/html": [
       "<div style=\"max-height:1000px;max-width:1500px;overflow:auto;\"><table frame=\"box\" rules=\"cols\">\n",
       "    <tr>\n",
       "        <th style=\"padding-left: 1em; padding-right: 1em; text-align: center\">FlujoCh</th>\n",
       "        <th style=\"padding-left: 1em; padding-right: 1em; text-align: center\">FlujoRx</th>\n",
       "        <th style=\"padding-left: 1em; padding-right: 1em; text-align: center\">TCalificacion</th>\n",
       "        <th style=\"padding-left: 1em; padding-right: 1em; text-align: center\">Tempera</th>\n",
       "    </tr>\n",
       "    <tr>\n",
       "        <td style=\"padding-left: 1em; padding-right: 1em; text-align: center; vertical-align: top\">104.75</td>\n",
       "        <td style=\"padding-left: 1em; padding-right: 1em; text-align: center; vertical-align: top\">80.16</td>\n",
       "        <td style=\"padding-left: 1em; padding-right: 1em; text-align: center; vertical-align: top\">-1</td>\n",
       "        <td style=\"padding-left: 1em; padding-right: 1em; text-align: center; vertical-align: top\">273.15</td>\n",
       "    </tr>\n",
       "    <tr>\n",
       "        <td style=\"padding-left: 1em; padding-right: 1em; text-align: center; vertical-align: top\">106.81</td>\n",
       "        <td style=\"padding-left: 1em; padding-right: 1em; text-align: center; vertical-align: top\">83.468</td>\n",
       "        <td style=\"padding-left: 1em; padding-right: 1em; text-align: center; vertical-align: top\">-1</td>\n",
       "        <td style=\"padding-left: 1em; padding-right: 1em; text-align: center; vertical-align: top\">281.12</td>\n",
       "    </tr>\n",
       "    <tr>\n",
       "        <td style=\"padding-left: 1em; padding-right: 1em; text-align: center; vertical-align: top\">104.11</td>\n",
       "        <td style=\"padding-left: 1em; padding-right: 1em; text-align: center; vertical-align: top\">83.129</td>\n",
       "        <td style=\"padding-left: 1em; padding-right: 1em; text-align: center; vertical-align: top\">-1</td>\n",
       "        <td style=\"padding-left: 1em; padding-right: 1em; text-align: center; vertical-align: top\">287.85</td>\n",
       "    </tr>\n",
       "    <tr>\n",
       "        <td style=\"padding-left: 1em; padding-right: 1em; text-align: center; vertical-align: top\">103.81</td>\n",
       "        <td style=\"padding-left: 1em; padding-right: 1em; text-align: center; vertical-align: top\">82.207</td>\n",
       "        <td style=\"padding-left: 1em; padding-right: 1em; text-align: center; vertical-align: top\">-1</td>\n",
       "        <td style=\"padding-left: 1em; padding-right: 1em; text-align: center; vertical-align: top\">293.53</td>\n",
       "    </tr>\n",
       "    <tr>\n",
       "        <td style=\"padding-left: 1em; padding-right: 1em; text-align: center; vertical-align: top\">104.66</td>\n",
       "        <td style=\"padding-left: 1em; padding-right: 1em; text-align: center; vertical-align: top\">84.865</td>\n",
       "        <td style=\"padding-left: 1em; padding-right: 1em; text-align: center; vertical-align: top\">-1</td>\n",
       "        <td style=\"padding-left: 1em; padding-right: 1em; text-align: center; vertical-align: top\">298.55</td>\n",
       "    </tr>\n",
       "    <tr>\n",
       "        <td style=\"padding-left: 1em; padding-right: 1em; text-align: center; vertical-align: top\">106.06</td>\n",
       "        <td style=\"padding-left: 1em; padding-right: 1em; text-align: center; vertical-align: top\">80.703</td>\n",
       "        <td style=\"padding-left: 1em; padding-right: 1em; text-align: center; vertical-align: top\">-1</td>\n",
       "        <td style=\"padding-left: 1em; padding-right: 1em; text-align: center; vertical-align: top\">304.24</td>\n",
       "    </tr>\n",
       "    <tr>\n",
       "        <td style=\"padding-left: 1em; padding-right: 1em; text-align: center; vertical-align: top\">106.51</td>\n",
       "        <td style=\"padding-left: 1em; padding-right: 1em; text-align: center; vertical-align: top\">81.827</td>\n",
       "        <td style=\"padding-left: 1em; padding-right: 1em; text-align: center; vertical-align: top\">-1</td>\n",
       "        <td style=\"padding-left: 1em; padding-right: 1em; text-align: center; vertical-align: top\">308.96</td>\n",
       "    </tr>\n",
       "    <tr>\n",
       "        <td style=\"padding-left: 1em; padding-right: 1em; text-align: center; vertical-align: top\">106.56</td>\n",
       "        <td style=\"padding-left: 1em; padding-right: 1em; text-align: center; vertical-align: top\">80.74</td>\n",
       "        <td style=\"padding-left: 1em; padding-right: 1em; text-align: center; vertical-align: top\">-1</td>\n",
       "        <td style=\"padding-left: 1em; padding-right: 1em; text-align: center; vertical-align: top\">312.91</td>\n",
       "    </tr>\n",
       "    <tr>\n",
       "        <td style=\"padding-left: 1em; padding-right: 1em; text-align: center; vertical-align: top\">105.53</td>\n",
       "        <td style=\"padding-left: 1em; padding-right: 1em; text-align: center; vertical-align: top\">83.209</td>\n",
       "        <td style=\"padding-left: 1em; padding-right: 1em; text-align: center; vertical-align: top\">-1</td>\n",
       "        <td style=\"padding-left: 1em; padding-right: 1em; text-align: center; vertical-align: top\">316.32</td>\n",
       "    </tr>\n",
       "    <tr>\n",
       "        <td style=\"padding-left: 1em; padding-right: 1em; text-align: center; vertical-align: top\">102.52</td>\n",
       "        <td style=\"padding-left: 1em; padding-right: 1em; text-align: center; vertical-align: top\">80.743</td>\n",
       "        <td style=\"padding-left: 1em; padding-right: 1em; text-align: center; vertical-align: top\">-1</td>\n",
       "        <td style=\"padding-left: 1em; padding-right: 1em; text-align: center; vertical-align: top\">319.48</td>\n",
       "    </tr>\n",
       "</table>\n",
       "[40020 rows x 4 columns]<br/>Note: Only the head of the SFrame is printed.<br/>You can use print_rows(num_rows=m, num_columns=n) to print more rows and columns.\n",
       "</div>"
      ],
      "text/plain": [
       "Columns:\n",
       "\tFlujoCh\tfloat\n",
       "\tFlujoRx\tfloat\n",
       "\tTCalificacion\tint\n",
       "\tTempera\tfloat\n",
       "\n",
       "Rows: 40020\n",
       "\n",
       "Data:\n",
       "+---------+---------+---------------+---------+\n",
       "| FlujoCh | FlujoRx | TCalificacion | Tempera |\n",
       "+---------+---------+---------------+---------+\n",
       "|  104.75 |  80.16  |       -1      |  273.15 |\n",
       "|  106.81 |  83.468 |       -1      |  281.12 |\n",
       "|  104.11 |  83.129 |       -1      |  287.85 |\n",
       "|  103.81 |  82.207 |       -1      |  293.53 |\n",
       "|  104.66 |  84.865 |       -1      |  298.55 |\n",
       "|  106.06 |  80.703 |       -1      |  304.24 |\n",
       "|  106.51 |  81.827 |       -1      |  308.96 |\n",
       "|  106.56 |  80.74  |       -1      |  312.91 |\n",
       "|  105.53 |  83.209 |       -1      |  316.32 |\n",
       "|  102.52 |  80.743 |       -1      |  319.48 |\n",
       "+---------+---------+---------------+---------+\n",
       "[40020 rows x 4 columns]\n",
       "Note: Only the head of the SFrame is printed.\n",
       "You can use print_rows(num_rows=m, num_columns=n) to print more rows and columns."
      ]
     },
     "execution_count": 17,
     "metadata": {},
     "output_type": "execute_result"
    }
   ],
   "source": [
    "#Comprobacion longitud Entrenamiento 80%\n",
    "len(training_dataT)\n",
    "training_dataT"
   ]
  },
  {
   "cell_type": "code",
   "execution_count": 19,
   "metadata": {
    "collapsed": false
   },
   "outputs": [
    {
     "data": {
      "text/html": [
       "<div style=\"max-height:1000px;max-width:1500px;overflow:auto;\"><table frame=\"box\" rules=\"cols\">\n",
       "    <tr>\n",
       "        <th style=\"padding-left: 1em; padding-right: 1em; text-align: center\">FlujoCh</th>\n",
       "        <th style=\"padding-left: 1em; padding-right: 1em; text-align: center\">FlujoRx</th>\n",
       "        <th style=\"padding-left: 1em; padding-right: 1em; text-align: center\">TCalificacion</th>\n",
       "        <th style=\"padding-left: 1em; padding-right: 1em; text-align: center\">Tempera</th>\n",
       "    </tr>\n",
       "    <tr>\n",
       "        <td style=\"padding-left: 1em; padding-right: 1em; text-align: center; vertical-align: top\">106.99</td>\n",
       "        <td style=\"padding-left: 1em; padding-right: 1em; text-align: center; vertical-align: top\">80.224</td>\n",
       "        <td style=\"padding-left: 1em; padding-right: 1em; text-align: center; vertical-align: top\">-1</td>\n",
       "        <td style=\"padding-left: 1em; padding-right: 1em; text-align: center; vertical-align: top\">332.46</td>\n",
       "    </tr>\n",
       "    <tr>\n",
       "        <td style=\"padding-left: 1em; padding-right: 1em; text-align: center; vertical-align: top\">106.07</td>\n",
       "        <td style=\"padding-left: 1em; padding-right: 1em; text-align: center; vertical-align: top\">82.7</td>\n",
       "        <td style=\"padding-left: 1em; padding-right: 1em; text-align: center; vertical-align: top\">-1</td>\n",
       "        <td style=\"padding-left: 1em; padding-right: 1em; text-align: center; vertical-align: top\">337.18</td>\n",
       "    </tr>\n",
       "    <tr>\n",
       "        <td style=\"padding-left: 1em; padding-right: 1em; text-align: center; vertical-align: top\">103.99</td>\n",
       "        <td style=\"padding-left: 1em; padding-right: 1em; text-align: center; vertical-align: top\">80.384</td>\n",
       "        <td style=\"padding-left: 1em; padding-right: 1em; text-align: center; vertical-align: top\">-1</td>\n",
       "        <td style=\"padding-left: 1em; padding-right: 1em; text-align: center; vertical-align: top\">339.28</td>\n",
       "    </tr>\n",
       "    <tr>\n",
       "        <td style=\"padding-left: 1em; padding-right: 1em; text-align: center; vertical-align: top\">102.58</td>\n",
       "        <td style=\"padding-left: 1em; padding-right: 1em; text-align: center; vertical-align: top\">79.294</td>\n",
       "        <td style=\"padding-left: 1em; padding-right: 1em; text-align: center; vertical-align: top\">-1</td>\n",
       "        <td style=\"padding-left: 1em; padding-right: 1em; text-align: center; vertical-align: top\">344.35</td>\n",
       "    </tr>\n",
       "    <tr>\n",
       "        <td style=\"padding-left: 1em; padding-right: 1em; text-align: center; vertical-align: top\">104.17</td>\n",
       "        <td style=\"padding-left: 1em; padding-right: 1em; text-align: center; vertical-align: top\">80.432</td>\n",
       "        <td style=\"padding-left: 1em; padding-right: 1em; text-align: center; vertical-align: top\">-1</td>\n",
       "        <td style=\"padding-left: 1em; padding-right: 1em; text-align: center; vertical-align: top\">346.11</td>\n",
       "    </tr>\n",
       "    <tr>\n",
       "        <td style=\"padding-left: 1em; padding-right: 1em; text-align: center; vertical-align: top\">107.97</td>\n",
       "        <td style=\"padding-left: 1em; padding-right: 1em; text-align: center; vertical-align: top\">83.692</td>\n",
       "        <td style=\"padding-left: 1em; padding-right: 1em; text-align: center; vertical-align: top\">-1</td>\n",
       "        <td style=\"padding-left: 1em; padding-right: 1em; text-align: center; vertical-align: top\">347.53</td>\n",
       "    </tr>\n",
       "    <tr>\n",
       "        <td style=\"padding-left: 1em; padding-right: 1em; text-align: center; vertical-align: top\">106.42</td>\n",
       "        <td style=\"padding-left: 1em; padding-right: 1em; text-align: center; vertical-align: top\">84.167</td>\n",
       "        <td style=\"padding-left: 1em; padding-right: 1em; text-align: center; vertical-align: top\">-1</td>\n",
       "        <td style=\"padding-left: 1em; padding-right: 1em; text-align: center; vertical-align: top\">347.73</td>\n",
       "    </tr>\n",
       "    <tr>\n",
       "        <td style=\"padding-left: 1em; padding-right: 1em; text-align: center; vertical-align: top\">107.63</td>\n",
       "        <td style=\"padding-left: 1em; padding-right: 1em; text-align: center; vertical-align: top\">81.191</td>\n",
       "        <td style=\"padding-left: 1em; padding-right: 1em; text-align: center; vertical-align: top\">-1</td>\n",
       "        <td style=\"padding-left: 1em; padding-right: 1em; text-align: center; vertical-align: top\">347.84</td>\n",
       "    </tr>\n",
       "    <tr>\n",
       "        <td style=\"padding-left: 1em; padding-right: 1em; text-align: center; vertical-align: top\">106.67</td>\n",
       "        <td style=\"padding-left: 1em; padding-right: 1em; text-align: center; vertical-align: top\">80.008</td>\n",
       "        <td style=\"padding-left: 1em; padding-right: 1em; text-align: center; vertical-align: top\">-1</td>\n",
       "        <td style=\"padding-left: 1em; padding-right: 1em; text-align: center; vertical-align: top\">348.48</td>\n",
       "    </tr>\n",
       "    <tr>\n",
       "        <td style=\"padding-left: 1em; padding-right: 1em; text-align: center; vertical-align: top\">105.64</td>\n",
       "        <td style=\"padding-left: 1em; padding-right: 1em; text-align: center; vertical-align: top\">84.659</td>\n",
       "        <td style=\"padding-left: 1em; padding-right: 1em; text-align: center; vertical-align: top\">-1</td>\n",
       "        <td style=\"padding-left: 1em; padding-right: 1em; text-align: center; vertical-align: top\">348.82</td>\n",
       "    </tr>\n",
       "</table>\n",
       "[9980 rows x 4 columns]<br/>Note: Only the head of the SFrame is printed.<br/>You can use print_rows(num_rows=m, num_columns=n) to print more rows and columns.\n",
       "</div>"
      ],
      "text/plain": [
       "Columns:\n",
       "\tFlujoCh\tfloat\n",
       "\tFlujoRx\tfloat\n",
       "\tTCalificacion\tint\n",
       "\tTempera\tfloat\n",
       "\n",
       "Rows: 9980\n",
       "\n",
       "Data:\n",
       "+---------+---------+---------------+---------+\n",
       "| FlujoCh | FlujoRx | TCalificacion | Tempera |\n",
       "+---------+---------+---------------+---------+\n",
       "|  106.99 |  80.224 |       -1      |  332.46 |\n",
       "|  106.07 |   82.7  |       -1      |  337.18 |\n",
       "|  103.99 |  80.384 |       -1      |  339.28 |\n",
       "|  102.58 |  79.294 |       -1      |  344.35 |\n",
       "|  104.17 |  80.432 |       -1      |  346.11 |\n",
       "|  107.97 |  83.692 |       -1      |  347.53 |\n",
       "|  106.42 |  84.167 |       -1      |  347.73 |\n",
       "|  107.63 |  81.191 |       -1      |  347.84 |\n",
       "|  106.67 |  80.008 |       -1      |  348.48 |\n",
       "|  105.64 |  84.659 |       -1      |  348.82 |\n",
       "+---------+---------+---------------+---------+\n",
       "[9980 rows x 4 columns]\n",
       "Note: Only the head of the SFrame is printed.\n",
       "You can use print_rows(num_rows=m, num_columns=n) to print more rows and columns."
      ]
     },
     "execution_count": 19,
     "metadata": {},
     "output_type": "execute_result"
    }
   ],
   "source": [
    "#Comprobacion longitud Validacion 20%\n",
    "len(validation_dataT)\n",
    "validation_dataT"
   ]
  },
  {
   "cell_type": "code",
   "execution_count": 20,
   "metadata": {
    "collapsed": false,
    "scrolled": false
   },
   "outputs": [
    {
     "data": {
      "application/javascript": [
       "$(\"head\").append($(\"<link/>\").attr({\n",
       "  rel:  \"stylesheet\",\n",
       "  type: \"text/css\",\n",
       "  href: \"//cdnjs.cloudflare.com/ajax/libs/font-awesome/4.1.0/css/font-awesome.min.css\"\n",
       "}));\n",
       "$(\"head\").append($(\"<link/>\").attr({\n",
       "  rel:  \"stylesheet\",\n",
       "  type: \"text/css\",\n",
       "  href: \"https://static.turi.com/products/graphlab-create/2.1/canvas/css/canvas.css\"\n",
       "}));\n",
       "\n",
       "            (function(){\n",
       "\n",
       "                var e = null;\n",
       "                if (typeof element == 'undefined') {\n",
       "                    var scripts = document.getElementsByTagName('script');\n",
       "                    var thisScriptTag = scripts[scripts.length-1];\n",
       "                    var parentDiv = thisScriptTag.parentNode;\n",
       "                    e = document.createElement('div');\n",
       "                    parentDiv.appendChild(e);\n",
       "                } else {\n",
       "                    e = element[0];\n",
       "                }\n",
       "\n",
       "                if (typeof requirejs !== 'undefined') {\n",
       "                    // disable load timeout; ipython_app.js is large and can take a while to load.\n",
       "                    requirejs.config({waitSeconds: 0});\n",
       "                }\n",
       "\n",
       "                require(['https://static.turi.com/products/graphlab-create/2.1/canvas/js/ipython_app.js'], function(IPythonApp){\n",
       "                    var app = new IPythonApp();\n",
       "                    app.attachView('sarray','Numeric', {\"ipython\": true, \"sketch\": {\"std\": 7.84123591755698, \"complete\": true, \"min\": 273.15, \"max\": 351.05, \"quantile\": [273.15, 304.24, 322.3, 332.46, 339.28, 343.67, 345.8, 346.6, 347.53, 348.16, 348.48, 348.56, 348.69, 348.75, 348.81, 348.83, 348.86, 348.93, 348.97, 349.01, 349.03, 349.07, 349.11, 349.15, 349.19, 349.23, 349.27, 349.31, 349.32, 349.35, 349.36, 349.38, 349.39, 349.4, 349.41, 349.43, 349.45, 349.46, 349.48, 349.5, 349.52, 349.54, 349.55, 349.56, 349.57, 349.59, 349.61, 349.61, 349.64, 349.66, 349.66, 349.67, 349.69, 349.7, 349.71, 349.72, 349.73, 349.74, 349.75, 349.76, 349.78, 349.79, 349.8, 349.83, 349.85, 349.86, 349.87, 349.9, 349.91, 349.93, 349.94, 349.95, 349.96, 349.99, 350.0, 350.01, 350.02, 350.03, 350.04, 350.06, 350.08, 350.09, 350.1, 350.11, 350.13, 350.15, 350.17, 350.2, 350.22, 350.24, 350.25, 350.28, 350.31, 350.33, 350.35, 350.38, 350.43, 350.49, 350.53, 350.82, 351.05], \"median\": 349.66, \"numeric\": true, \"num_unique\": 223, \"num_undefined\": 0, \"var\": 61.48498071478566, \"progress\": 1.0, \"size\": 40020, \"frequent_items\": {\"350.25\": {\"frequency\": 478, \"value\": 350.25}, \"349.75\": {\"frequency\": 418, \"value\": 349.75}, \"287.85\": {\"frequency\": 85, \"value\": 287.85}, \"349.5\": {\"frequency\": 238, \"value\": 349.5}, \"350.38\": {\"frequency\": 80, \"value\": 350.38}, \"349.93\": {\"frequency\": 158, \"value\": 349.93}, \"349.97\": {\"frequency\": 242, \"value\": 349.97}, \"349.21\": {\"frequency\": 76, \"value\": 349.21}, \"324.87\": {\"frequency\": 76, \"value\": 324.87}, \"348.77\": {\"frequency\": 160, \"value\": 348.77}, \"349.76\": {\"frequency\": 487, \"value\": 349.76}, \"349.28\": {\"frequency\": 83, \"value\": 349.28}, \"349.4\": {\"frequency\": 161, \"value\": 349.4}, \"349.34\": {\"frequency\": 155, \"value\": 349.34}, \"347.74\": {\"frequency\": 79, \"value\": 347.74}, \"349.92\": {\"frequency\": 329, \"value\": 349.92}, \"349.47\": {\"frequency\": 77, \"value\": 349.47}, \"349.02\": {\"frequency\": 158, \"value\": 349.02}, \"348.74\": {\"frequency\": 83, \"value\": 348.74}, \"348.54\": {\"frequency\": 76, \"value\": 348.54}, \"350.91\": {\"frequency\": 155, \"value\": 350.91}, \"349.46\": {\"frequency\": 473, \"value\": 349.46}, \"349.89\": {\"frequency\": 165, \"value\": 349.89}, \"349.79\": {\"frequency\": 387, \"value\": 349.79}, \"349.53\": {\"frequency\": 158, \"value\": 349.53}, \"347.53\": {\"frequency\": 79, \"value\": 347.53}, \"349.88\": {\"frequency\": 80, \"value\": 349.88}, \"349.61\": {\"frequency\": 494, \"value\": 349.61}, \"350.23\": {\"frequency\": 167, \"value\": 350.23}, \"344.35\": {\"frequency\": 79, \"value\": 344.35}, \"350.36\": {\"frequency\": 83, \"value\": 350.36}, \"350.16\": {\"frequency\": 241, \"value\": 350.16}, \"350.3\": {\"frequency\": 240, \"value\": 350.3}, \"349.83\": {\"frequency\": 238, \"value\": 349.83}, \"349.62\": {\"frequency\": 76, \"value\": 349.62}, \"349.78\": {\"frequency\": 159, \"value\": 349.78}, \"349.29\": {\"frequency\": 81, \"value\": 349.29}, \"350.15\": {\"frequency\": 238, \"value\": 350.15}, \"350.07\": {\"frequency\": 162, \"value\": 350.07}, \"351.05\": {\"frequency\": 79, \"value\": 351.05}, \"349.1\": {\"frequency\": 72, \"value\": 349.1}, \"350.1\": {\"frequency\": 394, \"value\": 350.1}, \"298.55\": {\"frequency\": 76, \"value\": 298.55}, \"349.8\": {\"frequency\": 310, \"value\": 349.8}, \"349.68\": {\"frequency\": 235, \"value\": 349.68}, \"349.96\": {\"frequency\": 496, \"value\": 349.96}, \"349.56\": {\"frequency\": 238, \"value\": 349.56}, \"350.03\": {\"frequency\": 392, \"value\": 350.03}, \"350.12\": {\"frequency\": 235, \"value\": 350.12}, \"348.97\": {\"frequency\": 79, \"value\": 348.97}, \"349.24\": {\"frequency\": 79, \"value\": 349.24}, \"340.68\": {\"frequency\": 85, \"value\": 340.68}, \"348.56\": {\"frequency\": 164, \"value\": 348.56}, \"330.8\": {\"frequency\": 79, \"value\": 330.8}, \"350.32\": {\"frequency\": 313, \"value\": 350.32}, \"349.14\": {\"frequency\": 77, \"value\": 349.14}, \"350.34\": {\"frequency\": 81, \"value\": 350.34}, \"350.28\": {\"frequency\": 76, \"value\": 350.28}, \"338.34\": {\"frequency\": 85, \"value\": 338.34}, \"348.83\": {\"frequency\": 322, \"value\": 348.83}, \"348.93\": {\"frequency\": 166, \"value\": 348.93}, \"348.91\": {\"frequency\": 243, \"value\": 348.91}, \"332.46\": {\"frequency\": 81, \"value\": 332.46}, \"348.75\": {\"frequency\": 83, \"value\": 348.75}, \"327.05\": {\"frequency\": 78, \"value\": 327.05}, \"346.34\": {\"frequency\": 82, \"value\": 346.34}, \"347.23\": {\"frequency\": 78, \"value\": 347.23}, \"348.18\": {\"frequency\": 79, \"value\": 348.18}, \"349.08\": {\"frequency\": 164, \"value\": 349.08}, \"349.57\": {\"frequency\": 405, \"value\": 349.57}, \"350.09\": {\"frequency\": 235, \"value\": 350.09}, \"349.18\": {\"frequency\": 79, \"value\": 349.18}, \"319.48\": {\"frequency\": 78, \"value\": 319.48}, \"349.12\": {\"frequency\": 84, \"value\": 349.12}, \"349.41\": {\"frequency\": 410, \"value\": 349.41}, \"350.2\": {\"frequency\": 156, \"value\": 350.2}, \"350.06\": {\"frequency\": 407, \"value\": 350.06}, \"349.95\": {\"frequency\": 406, \"value\": 349.95}, \"349.35\": {\"frequency\": 473, \"value\": 349.35}, \"348.7\": {\"frequency\": 80, \"value\": 348.7}, \"346.87\": {\"frequency\": 80, \"value\": 346.87}, \"348.95\": {\"frequency\": 165, \"value\": 348.95}, \"348.41\": {\"frequency\": 74, \"value\": 348.41}, \"350.62\": {\"frequency\": 72, \"value\": 350.62}, \"329.02\": {\"frequency\": 84, \"value\": 329.02}, \"349.22\": {\"frequency\": 80, \"value\": 349.22}, \"350.58\": {\"frequency\": 149, \"value\": 350.58}, \"350.82\": {\"frequency\": 80, \"value\": 350.82}, \"349.66\": {\"frequency\": 496, \"value\": 349.66}, \"349.6\": {\"frequency\": 155, \"value\": 349.6}, \"349.72\": {\"frequency\": 538, \"value\": 349.72}, \"281.12\": {\"frequency\": 84, \"value\": 281.12}, \"304.24\": {\"frequency\": 79, \"value\": 304.24}, \"349.94\": {\"frequency\": 312, \"value\": 349.94}, \"349.48\": {\"frequency\": 247, \"value\": 349.48}, \"349.49\": {\"frequency\": 77, \"value\": 349.49}, \"349.38\": {\"frequency\": 392, \"value\": 349.38}, \"347.73\": {\"frequency\": 154, \"value\": 347.73}, \"349.42\": {\"frequency\": 155, \"value\": 349.42}, \"349.91\": {\"frequency\": 243, \"value\": 349.91}, \"342.89\": {\"frequency\": 84, \"value\": 342.89}, \"349.85\": {\"frequency\": 318, \"value\": 349.85}, \"348.81\": {\"frequency\": 161, \"value\": 348.81}, \"349.06\": {\"frequency\": 81, \"value\": 349.06}, \"349.26\": {\"frequency\": 163, \"value\": 349.26}, \"349.84\": {\"frequency\": 241, \"value\": 349.84}, \"350.04\": {\"frequency\": 239, \"value\": 350.04}, \"350.14\": {\"frequency\": 82, \"value\": 350.14}, \"349.39\": {\"frequency\": 324, \"value\": 349.39}, \"346.89\": {\"frequency\": 82, \"value\": 346.89}, \"349.86\": {\"frequency\": 487, \"value\": 349.86}, \"349.74\": {\"frequency\": 483, \"value\": 349.74}, \"349.43\": {\"frequency\": 165, \"value\": 349.43}, \"350.53\": {\"frequency\": 79, \"value\": 350.53}, \"349.65\": {\"frequency\": 245, \"value\": 349.65}, \"349.87\": {\"frequency\": 155, \"value\": 349.87}, \"349.81\": {\"frequency\": 76, \"value\": 349.81}, \"350.22\": {\"frequency\": 75, \"value\": 350.22}, \"337.18\": {\"frequency\": 79, \"value\": 337.18}, \"345.8\": {\"frequency\": 79, \"value\": 345.8}, \"350.29\": {\"frequency\": 153, \"value\": 350.29}, \"322.3\": {\"frequency\": 85, \"value\": 322.3}, \"349.7\": {\"frequency\": 584, \"value\": 349.7}, \"349.64\": {\"frequency\": 157, \"value\": 349.64}, \"349.99\": {\"frequency\": 331, \"value\": 349.99}, \"308.96\": {\"frequency\": 82, \"value\": 308.96}, \"350.5\": {\"frequency\": 237, \"value\": 350.5}, \"312.91\": {\"frequency\": 82, \"value\": 312.91}, \"350.41\": {\"frequency\": 240, \"value\": 350.41}, \"350.35\": {\"frequency\": 333, \"value\": 350.35}, \"350.47\": {\"frequency\": 78, \"value\": 350.47}, \"349.82\": {\"frequency\": 166, \"value\": 349.82}, \"350.54\": {\"frequency\": 83, \"value\": 350.54}, \"349.27\": {\"frequency\": 158, \"value\": 349.27}, \"343.67\": {\"frequency\": 84, \"value\": 343.67}, \"341.94\": {\"frequency\": 80, \"value\": 341.94}, \"347.84\": {\"frequency\": 81, \"value\": 347.84}, \"349.59\": {\"frequency\": 406, \"value\": 349.59}, \"349.54\": {\"frequency\": 306, \"value\": 349.54}, \"349.0\": {\"frequency\": 86, \"value\": 349.0}, \"350.0\": {\"frequency\": 405, \"value\": 350.0}, \"350.08\": {\"frequency\": 239, \"value\": 350.08}, \"348.82\": {\"frequency\": 243, \"value\": 348.82}, \"350.37\": {\"frequency\": 74, \"value\": 350.37}, \"350.43\": {\"frequency\": 159, \"value\": 350.43}, \"350.31\": {\"frequency\": 78, \"value\": 350.31}, \"349.01\": {\"frequency\": 317, \"value\": 349.01}, \"348.55\": {\"frequency\": 79, \"value\": 348.55}, \"348.76\": {\"frequency\": 81, \"value\": 348.76}, \"346.11\": {\"frequency\": 75, \"value\": 346.11}, \"348.16\": {\"frequency\": 82, \"value\": 348.16}, \"350.44\": {\"frequency\": 162, \"value\": 350.44}, \"350.18\": {\"frequency\": 159, \"value\": 350.18}, \"350.49\": {\"frequency\": 172, \"value\": 350.49}, \"350.01\": {\"frequency\": 233, \"value\": 350.01}, \"316.32\": {\"frequency\": 78, \"value\": 316.32}, \"350.33\": {\"frequency\": 238, \"value\": 350.33}, \"350.05\": {\"frequency\": 71, \"value\": 350.05}, \"349.45\": {\"frequency\": 321, \"value\": 349.45}, \"349.63\": {\"frequency\": 240, \"value\": 349.63}, \"348.45\": {\"frequency\": 81, \"value\": 348.45}, \"293.53\": {\"frequency\": 82, \"value\": 293.53}, \"348.86\": {\"frequency\": 172, \"value\": 348.86}, \"348.85\": {\"frequency\": 88, \"value\": 348.85}, \"348.69\": {\"frequency\": 84, \"value\": 348.69}, \"350.02\": {\"frequency\": 570, \"value\": 350.02}, \"351.01\": {\"frequency\": 82, \"value\": 351.01}, \"350.21\": {\"frequency\": 334, \"value\": 350.21}, \"345.4\": {\"frequency\": 79, \"value\": 345.4}, \"349.15\": {\"frequency\": 159, \"value\": 349.15}, \"348.67\": {\"frequency\": 84, \"value\": 348.67}, \"348.78\": {\"frequency\": 79, \"value\": 348.78}, \"346.56\": {\"frequency\": 76, \"value\": 346.56}, \"348.98\": {\"frequency\": 82, \"value\": 348.98}, \"350.75\": {\"frequency\": 76, \"value\": 350.75}, \"349.11\": {\"frequency\": 231, \"value\": 349.11}, \"349.52\": {\"frequency\": 325, \"value\": 349.52}, \"349.05\": {\"frequency\": 82, \"value\": 349.05}, \"349.32\": {\"frequency\": 236, \"value\": 349.32}, \"350.17\": {\"frequency\": 240, \"value\": 350.17}, \"349.04\": {\"frequency\": 82, \"value\": 349.04}, \"335.71\": {\"frequency\": 75, \"value\": 335.71}, \"349.77\": {\"frequency\": 155, \"value\": 349.77}, \"350.11\": {\"frequency\": 390, \"value\": 350.11}, \"348.46\": {\"frequency\": 84, \"value\": 348.46}, \"348.68\": {\"frequency\": 79, \"value\": 348.68}, \"349.37\": {\"frequency\": 389, \"value\": 349.37}, \"348.48\": {\"frequency\": 86, \"value\": 348.48}, \"333.97\": {\"frequency\": 76, \"value\": 333.97}, \"348.53\": {\"frequency\": 71, \"value\": 348.53}, \"346.6\": {\"frequency\": 81, \"value\": 346.6}, \"339.28\": {\"frequency\": 80, \"value\": 339.28}, \"349.17\": {\"frequency\": 74, \"value\": 349.17}, \"349.69\": {\"frequency\": 240, \"value\": 349.69}, \"349.23\": {\"frequency\": 159, \"value\": 349.23}, \"348.64\": {\"frequency\": 79, \"value\": 348.64}, \"349.16\": {\"frequency\": 78, \"value\": 349.16}, \"349.73\": {\"frequency\": 161, \"value\": 349.73}, \"349.51\": {\"frequency\": 160, \"value\": 349.51}, \"349.31\": {\"frequency\": 318, \"value\": 349.31}, \"349.71\": {\"frequency\": 242, \"value\": 349.71}, \"350.26\": {\"frequency\": 240, \"value\": 350.26}, \"344.9\": {\"frequency\": 79, \"value\": 344.9}, \"349.36\": {\"frequency\": 173, \"value\": 349.36}, \"349.19\": {\"frequency\": 159, \"value\": 349.19}, \"348.62\": {\"frequency\": 81, \"value\": 348.62}, \"349.13\": {\"frequency\": 84, \"value\": 349.13}, \"345.67\": {\"frequency\": 83, \"value\": 345.67}, \"349.07\": {\"frequency\": 154, \"value\": 349.07}, \"346.44\": {\"frequency\": 78, \"value\": 346.44}, \"349.58\": {\"frequency\": 158, \"value\": 349.58}, \"348.73\": {\"frequency\": 159, \"value\": 348.73}, \"349.55\": {\"frequency\": 453, \"value\": 349.55}, \"350.13\": {\"frequency\": 231, \"value\": 350.13}, \"349.25\": {\"frequency\": 82, \"value\": 349.25}, \"348.96\": {\"frequency\": 79, \"value\": 348.96}, \"350.24\": {\"frequency\": 250, \"value\": 350.24}, \"347.2\": {\"frequency\": 86, \"value\": 347.2}, \"349.03\": {\"frequency\": 158, \"value\": 349.03}, \"273.15\": {\"frequency\": 80, \"value\": 273.15}, \"349.44\": {\"frequency\": 163, \"value\": 349.44}, \"349.9\": {\"frequency\": 244, \"value\": 349.9}, \"349.67\": {\"frequency\": 325, \"value\": 349.67}}, \"mean\": 348.09707971014467}, \"selected_variable\": {\"name\": [\"<SArray>\"], \"dtype\": \"float\", \"view_component\": \"Numeric\", \"view_file\": \"sarray\", \"descriptives\": {\"rows\": 40020}, \"type\": \"SArray\", \"view_components\": [\"Numeric\", \"Categorical\"]}, \"histogram\": {\"progress\": 1.0, \"histogram\": {\"max\": 351.8617200000002, \"bins\": [80, 84, 85, 158, 79, 82, 160, 239, 241, 396, 571, 37845], \"min\": 272.28923999999995}, \"min\": 273.15, \"complete\": 1, \"max\": 351.05}}, e);\n",
       "                });\n",
       "            })();\n",
       "        "
      ]
     },
     "metadata": {},
     "output_type": "display_data"
    }
   ],
   "source": [
    "#Aprendizaje de Flujos de Entrada al Reactor vs Temperatura de Salida\n",
    "graphlab.canvas.set_target('ipynb')\n",
    "training_dataT['Tempera'].show()"
   ]
  },
  {
   "cell_type": "code",
   "execution_count": 21,
   "metadata": {
    "collapsed": false
   },
   "outputs": [
    {
     "name": "stdout",
     "output_type": "stream",
     "text": [
      "layers Red del Flujo del Reactor vs Temperatura\n",
      "_______________________________________________\n",
      "layer[0]: FullConnectionLayer\n",
      "  init_sigma = 0.01\n",
      "  init_random = gaussian\n",
      "  init_bias = 0\n",
      "  num_hidden_units = 10\n",
      "layer[1]: SigmoidLayer\n",
      "layer[2]: FullConnectionLayer\n",
      "  init_sigma = 0.01\n",
      "  init_random = gaussian\n",
      "  init_bias = 0\n",
      "  num_hidden_units = 223\n",
      "layer[3]: SoftmaxLayer\n",
      "_______________________________________________\n",
      "Parametros de la Red\n",
      "{'learning_rate': 0.001, 'momentum': 0.9}\n"
     ]
    }
   ],
   "source": [
    "netT = graphlab.deeplearning.create(training_dataT, target ='Tempera')\n",
    "print \"layers Red del Flujo del Reactor vs Temperatura\"\n",
    "print \"_______________________________________________\"\n",
    "print netT.layers\n",
    "print \"_______________________________________________\"\n",
    "print \"Parametros de la Red\"\n",
    "print netT.params"
   ]
  },
  {
   "cell_type": "code",
   "execution_count": 22,
   "metadata": {
    "collapsed": false
   },
   "outputs": [
    {
     "data": {
      "text/plain": [
       "<bound method SArray.show of dtype: float\n",
       "Rows: 40020\n",
       "[273.15, 281.12, 287.85, 293.53, 298.55, 304.24, 308.96, 312.91, 316.32, 319.48, 322.3, 324.87, 327.05, 329.02, 330.8, 333.97, 335.71, 338.34, 340.68, 341.94, 342.89, 343.67, 344.9, 345.4, 345.8, 346.34, 346.44, 346.6, 346.89, 347.2, 347.73, 348.18, 348.45, 348.53, 348.54, 348.55, 348.68, 348.73, 348.78, 348.93, 349.11, 349.23, 349.31, 349.4, 349.55, 350.35, 350.44, 350.53, 350.44, 350.33, 350.32, 350.25, 350.17, 350.06, 350.11, 350.25, 350.25, 350.16, 350.07, 350.0, 350.0, 349.95, 349.95, 350.01, 349.96, 350.02, 350.26, 350.18, 350.41, 350.3, 350.37, 350.15, 350.17, 350.22, 350.16, 350.1, 350.05, 350.01, 349.94, 349.97, 350.02, 349.9, 349.79, 349.99, 349.85, 349.74, 349.79, 349.86, 349.94, 349.91, 349.78, 349.76, 349.96, 350.11, 350.15, 350.11, 350.32, 350.3, 350.25, 350.21, ... ]>"
      ]
     },
     "execution_count": 22,
     "metadata": {},
     "output_type": "execute_result"
    }
   ],
   "source": [
    "#Valores a calificar en la red de entrenamiento objetivo 350, rango(345,355)=1\n",
    "training_dataT['Tempera'].show"
   ]
  },
  {
   "cell_type": "code",
   "execution_count": 23,
   "metadata": {
    "collapsed": false
   },
   "outputs": [
    {
     "data": {
      "application/javascript": [
       "$(\"head\").append($(\"<link/>\").attr({\n",
       "  rel:  \"stylesheet\",\n",
       "  type: \"text/css\",\n",
       "  href: \"//cdnjs.cloudflare.com/ajax/libs/font-awesome/4.1.0/css/font-awesome.min.css\"\n",
       "}));\n",
       "$(\"head\").append($(\"<link/>\").attr({\n",
       "  rel:  \"stylesheet\",\n",
       "  type: \"text/css\",\n",
       "  href: \"https://static.turi.com/products/graphlab-create/2.1/canvas/css/canvas.css\"\n",
       "}));\n",
       "\n",
       "            (function(){\n",
       "\n",
       "                var e = null;\n",
       "                if (typeof element == 'undefined') {\n",
       "                    var scripts = document.getElementsByTagName('script');\n",
       "                    var thisScriptTag = scripts[scripts.length-1];\n",
       "                    var parentDiv = thisScriptTag.parentNode;\n",
       "                    e = document.createElement('div');\n",
       "                    parentDiv.appendChild(e);\n",
       "                } else {\n",
       "                    e = element[0];\n",
       "                }\n",
       "\n",
       "                if (typeof requirejs !== 'undefined') {\n",
       "                    // disable load timeout; ipython_app.js is large and can take a while to load.\n",
       "                    requirejs.config({waitSeconds: 0});\n",
       "                }\n",
       "\n",
       "                require(['https://static.turi.com/products/graphlab-create/2.1/canvas/js/ipython_app.js'], function(IPythonApp){\n",
       "                    var app = new IPythonApp();\n",
       "                    app.attachView('sarray','Categorical', {\"ipython\": true, \"sketch\": {\"std\": 7.84123591755698, \"complete\": true, \"min\": 273.15, \"max\": 351.05, \"quantile\": [273.15, 304.24, 322.3, 332.46, 339.28, 343.67, 345.8, 346.6, 347.53, 348.16, 348.48, 348.56, 348.69, 348.75, 348.81, 348.83, 348.86, 348.93, 348.97, 349.01, 349.03, 349.07, 349.11, 349.15, 349.19, 349.23, 349.27, 349.31, 349.32, 349.35, 349.36, 349.38, 349.39, 349.4, 349.41, 349.43, 349.45, 349.46, 349.48, 349.5, 349.52, 349.54, 349.55, 349.56, 349.57, 349.59, 349.61, 349.61, 349.64, 349.66, 349.66, 349.67, 349.69, 349.7, 349.71, 349.72, 349.73, 349.74, 349.75, 349.76, 349.78, 349.79, 349.8, 349.83, 349.85, 349.86, 349.87, 349.9, 349.91, 349.93, 349.94, 349.95, 349.96, 349.99, 350.0, 350.01, 350.02, 350.03, 350.04, 350.06, 350.08, 350.09, 350.1, 350.11, 350.13, 350.15, 350.17, 350.2, 350.22, 350.24, 350.25, 350.28, 350.31, 350.33, 350.35, 350.38, 350.43, 350.49, 350.53, 350.82, 351.05], \"median\": 349.66, \"numeric\": true, \"num_unique\": 223, \"num_undefined\": 0, \"var\": 61.48498071478566, \"progress\": 1.0, \"size\": 40020, \"frequent_items\": {\"350.25\": {\"frequency\": 478, \"value\": 350.25}, \"349.75\": {\"frequency\": 418, \"value\": 349.75}, \"287.85\": {\"frequency\": 85, \"value\": 287.85}, \"349.5\": {\"frequency\": 238, \"value\": 349.5}, \"350.38\": {\"frequency\": 80, \"value\": 350.38}, \"349.93\": {\"frequency\": 158, \"value\": 349.93}, \"349.97\": {\"frequency\": 242, \"value\": 349.97}, \"349.21\": {\"frequency\": 76, \"value\": 349.21}, \"324.87\": {\"frequency\": 76, \"value\": 324.87}, \"348.77\": {\"frequency\": 160, \"value\": 348.77}, \"349.76\": {\"frequency\": 487, \"value\": 349.76}, \"349.28\": {\"frequency\": 83, \"value\": 349.28}, \"349.4\": {\"frequency\": 161, \"value\": 349.4}, \"349.34\": {\"frequency\": 155, \"value\": 349.34}, \"347.74\": {\"frequency\": 79, \"value\": 347.74}, \"349.92\": {\"frequency\": 329, \"value\": 349.92}, \"349.47\": {\"frequency\": 77, \"value\": 349.47}, \"349.02\": {\"frequency\": 158, \"value\": 349.02}, \"348.74\": {\"frequency\": 83, \"value\": 348.74}, \"348.54\": {\"frequency\": 76, \"value\": 348.54}, \"350.91\": {\"frequency\": 155, \"value\": 350.91}, \"349.46\": {\"frequency\": 473, \"value\": 349.46}, \"349.89\": {\"frequency\": 165, \"value\": 349.89}, \"349.79\": {\"frequency\": 387, \"value\": 349.79}, \"349.53\": {\"frequency\": 158, \"value\": 349.53}, \"347.53\": {\"frequency\": 79, \"value\": 347.53}, \"349.88\": {\"frequency\": 80, \"value\": 349.88}, \"349.61\": {\"frequency\": 494, \"value\": 349.61}, \"350.23\": {\"frequency\": 167, \"value\": 350.23}, \"344.35\": {\"frequency\": 79, \"value\": 344.35}, \"350.36\": {\"frequency\": 83, \"value\": 350.36}, \"350.16\": {\"frequency\": 241, \"value\": 350.16}, \"350.3\": {\"frequency\": 240, \"value\": 350.3}, \"349.83\": {\"frequency\": 238, \"value\": 349.83}, \"349.62\": {\"frequency\": 76, \"value\": 349.62}, \"349.78\": {\"frequency\": 159, \"value\": 349.78}, \"349.29\": {\"frequency\": 81, \"value\": 349.29}, \"350.15\": {\"frequency\": 238, \"value\": 350.15}, \"350.07\": {\"frequency\": 162, \"value\": 350.07}, \"351.05\": {\"frequency\": 79, \"value\": 351.05}, \"349.1\": {\"frequency\": 72, \"value\": 349.1}, \"350.1\": {\"frequency\": 394, \"value\": 350.1}, \"298.55\": {\"frequency\": 76, \"value\": 298.55}, \"349.8\": {\"frequency\": 310, \"value\": 349.8}, \"349.68\": {\"frequency\": 235, \"value\": 349.68}, \"349.96\": {\"frequency\": 496, \"value\": 349.96}, \"349.56\": {\"frequency\": 238, \"value\": 349.56}, \"350.03\": {\"frequency\": 392, \"value\": 350.03}, \"350.12\": {\"frequency\": 235, \"value\": 350.12}, \"348.97\": {\"frequency\": 79, \"value\": 348.97}, \"349.24\": {\"frequency\": 79, \"value\": 349.24}, \"340.68\": {\"frequency\": 85, \"value\": 340.68}, \"348.56\": {\"frequency\": 164, \"value\": 348.56}, \"330.8\": {\"frequency\": 79, \"value\": 330.8}, \"350.32\": {\"frequency\": 313, \"value\": 350.32}, \"349.14\": {\"frequency\": 77, \"value\": 349.14}, \"350.34\": {\"frequency\": 81, \"value\": 350.34}, \"350.28\": {\"frequency\": 76, \"value\": 350.28}, \"338.34\": {\"frequency\": 85, \"value\": 338.34}, \"348.83\": {\"frequency\": 322, \"value\": 348.83}, \"348.93\": {\"frequency\": 166, \"value\": 348.93}, \"348.91\": {\"frequency\": 243, \"value\": 348.91}, \"332.46\": {\"frequency\": 81, \"value\": 332.46}, \"348.75\": {\"frequency\": 83, \"value\": 348.75}, \"327.05\": {\"frequency\": 78, \"value\": 327.05}, \"346.34\": {\"frequency\": 82, \"value\": 346.34}, \"347.23\": {\"frequency\": 78, \"value\": 347.23}, \"348.18\": {\"frequency\": 79, \"value\": 348.18}, \"349.08\": {\"frequency\": 164, \"value\": 349.08}, \"349.57\": {\"frequency\": 405, \"value\": 349.57}, \"350.09\": {\"frequency\": 235, \"value\": 350.09}, \"349.18\": {\"frequency\": 79, \"value\": 349.18}, \"319.48\": {\"frequency\": 78, \"value\": 319.48}, \"349.12\": {\"frequency\": 84, \"value\": 349.12}, \"349.41\": {\"frequency\": 410, \"value\": 349.41}, \"350.2\": {\"frequency\": 156, \"value\": 350.2}, \"350.06\": {\"frequency\": 407, \"value\": 350.06}, \"349.95\": {\"frequency\": 406, \"value\": 349.95}, \"349.35\": {\"frequency\": 473, \"value\": 349.35}, \"348.7\": {\"frequency\": 80, \"value\": 348.7}, \"346.87\": {\"frequency\": 80, \"value\": 346.87}, \"348.95\": {\"frequency\": 165, \"value\": 348.95}, \"348.41\": {\"frequency\": 74, \"value\": 348.41}, \"350.62\": {\"frequency\": 72, \"value\": 350.62}, \"329.02\": {\"frequency\": 84, \"value\": 329.02}, \"349.22\": {\"frequency\": 80, \"value\": 349.22}, \"350.58\": {\"frequency\": 149, \"value\": 350.58}, \"350.82\": {\"frequency\": 80, \"value\": 350.82}, \"349.66\": {\"frequency\": 496, \"value\": 349.66}, \"349.6\": {\"frequency\": 155, \"value\": 349.6}, \"349.72\": {\"frequency\": 538, \"value\": 349.72}, \"281.12\": {\"frequency\": 84, \"value\": 281.12}, \"304.24\": {\"frequency\": 79, \"value\": 304.24}, \"349.94\": {\"frequency\": 312, \"value\": 349.94}, \"349.48\": {\"frequency\": 247, \"value\": 349.48}, \"349.49\": {\"frequency\": 77, \"value\": 349.49}, \"349.38\": {\"frequency\": 392, \"value\": 349.38}, \"347.73\": {\"frequency\": 154, \"value\": 347.73}, \"349.42\": {\"frequency\": 155, \"value\": 349.42}, \"349.91\": {\"frequency\": 243, \"value\": 349.91}, \"342.89\": {\"frequency\": 84, \"value\": 342.89}, \"349.85\": {\"frequency\": 318, \"value\": 349.85}, \"348.81\": {\"frequency\": 161, \"value\": 348.81}, \"349.06\": {\"frequency\": 81, \"value\": 349.06}, \"349.26\": {\"frequency\": 163, \"value\": 349.26}, \"349.84\": {\"frequency\": 241, \"value\": 349.84}, \"350.04\": {\"frequency\": 239, \"value\": 350.04}, \"350.14\": {\"frequency\": 82, \"value\": 350.14}, \"349.39\": {\"frequency\": 324, \"value\": 349.39}, \"346.89\": {\"frequency\": 82, \"value\": 346.89}, \"349.86\": {\"frequency\": 487, \"value\": 349.86}, \"349.74\": {\"frequency\": 483, \"value\": 349.74}, \"349.43\": {\"frequency\": 165, \"value\": 349.43}, \"350.53\": {\"frequency\": 79, \"value\": 350.53}, \"349.65\": {\"frequency\": 245, \"value\": 349.65}, \"349.87\": {\"frequency\": 155, \"value\": 349.87}, \"349.81\": {\"frequency\": 76, \"value\": 349.81}, \"350.22\": {\"frequency\": 75, \"value\": 350.22}, \"337.18\": {\"frequency\": 79, \"value\": 337.18}, \"345.8\": {\"frequency\": 79, \"value\": 345.8}, \"350.29\": {\"frequency\": 153, \"value\": 350.29}, \"322.3\": {\"frequency\": 85, \"value\": 322.3}, \"349.7\": {\"frequency\": 584, \"value\": 349.7}, \"349.64\": {\"frequency\": 157, \"value\": 349.64}, \"349.99\": {\"frequency\": 331, \"value\": 349.99}, \"308.96\": {\"frequency\": 82, \"value\": 308.96}, \"350.5\": {\"frequency\": 237, \"value\": 350.5}, \"312.91\": {\"frequency\": 82, \"value\": 312.91}, \"350.41\": {\"frequency\": 240, \"value\": 350.41}, \"350.35\": {\"frequency\": 333, \"value\": 350.35}, \"350.47\": {\"frequency\": 78, \"value\": 350.47}, \"349.82\": {\"frequency\": 166, \"value\": 349.82}, \"350.54\": {\"frequency\": 83, \"value\": 350.54}, \"349.27\": {\"frequency\": 158, \"value\": 349.27}, \"343.67\": {\"frequency\": 84, \"value\": 343.67}, \"341.94\": {\"frequency\": 80, \"value\": 341.94}, \"347.84\": {\"frequency\": 81, \"value\": 347.84}, \"349.59\": {\"frequency\": 406, \"value\": 349.59}, \"349.54\": {\"frequency\": 306, \"value\": 349.54}, \"349.0\": {\"frequency\": 86, \"value\": 349.0}, \"350.0\": {\"frequency\": 405, \"value\": 350.0}, \"350.08\": {\"frequency\": 239, \"value\": 350.08}, \"348.82\": {\"frequency\": 243, \"value\": 348.82}, \"350.37\": {\"frequency\": 74, \"value\": 350.37}, \"350.43\": {\"frequency\": 159, \"value\": 350.43}, \"350.31\": {\"frequency\": 78, \"value\": 350.31}, \"349.01\": {\"frequency\": 317, \"value\": 349.01}, \"348.55\": {\"frequency\": 79, \"value\": 348.55}, \"348.76\": {\"frequency\": 81, \"value\": 348.76}, \"346.11\": {\"frequency\": 75, \"value\": 346.11}, \"348.16\": {\"frequency\": 82, \"value\": 348.16}, \"350.44\": {\"frequency\": 162, \"value\": 350.44}, \"350.18\": {\"frequency\": 159, \"value\": 350.18}, \"350.49\": {\"frequency\": 172, \"value\": 350.49}, \"350.01\": {\"frequency\": 233, \"value\": 350.01}, \"316.32\": {\"frequency\": 78, \"value\": 316.32}, \"350.33\": {\"frequency\": 238, \"value\": 350.33}, \"350.05\": {\"frequency\": 71, \"value\": 350.05}, \"349.45\": {\"frequency\": 321, \"value\": 349.45}, \"349.63\": {\"frequency\": 240, \"value\": 349.63}, \"348.45\": {\"frequency\": 81, \"value\": 348.45}, \"293.53\": {\"frequency\": 82, \"value\": 293.53}, \"348.86\": {\"frequency\": 172, \"value\": 348.86}, \"348.85\": {\"frequency\": 88, \"value\": 348.85}, \"348.69\": {\"frequency\": 84, \"value\": 348.69}, \"350.02\": {\"frequency\": 570, \"value\": 350.02}, \"351.01\": {\"frequency\": 82, \"value\": 351.01}, \"350.21\": {\"frequency\": 334, \"value\": 350.21}, \"345.4\": {\"frequency\": 79, \"value\": 345.4}, \"349.15\": {\"frequency\": 159, \"value\": 349.15}, \"348.67\": {\"frequency\": 84, \"value\": 348.67}, \"348.78\": {\"frequency\": 79, \"value\": 348.78}, \"346.56\": {\"frequency\": 76, \"value\": 346.56}, \"348.98\": {\"frequency\": 82, \"value\": 348.98}, \"350.75\": {\"frequency\": 76, \"value\": 350.75}, \"349.11\": {\"frequency\": 231, \"value\": 349.11}, \"349.52\": {\"frequency\": 325, \"value\": 349.52}, \"349.05\": {\"frequency\": 82, \"value\": 349.05}, \"349.32\": {\"frequency\": 236, \"value\": 349.32}, \"350.17\": {\"frequency\": 240, \"value\": 350.17}, \"349.04\": {\"frequency\": 82, \"value\": 349.04}, \"335.71\": {\"frequency\": 75, \"value\": 335.71}, \"349.77\": {\"frequency\": 155, \"value\": 349.77}, \"350.11\": {\"frequency\": 390, \"value\": 350.11}, \"348.46\": {\"frequency\": 84, \"value\": 348.46}, \"348.68\": {\"frequency\": 79, \"value\": 348.68}, \"349.37\": {\"frequency\": 389, \"value\": 349.37}, \"348.48\": {\"frequency\": 86, \"value\": 348.48}, \"333.97\": {\"frequency\": 76, \"value\": 333.97}, \"348.53\": {\"frequency\": 71, \"value\": 348.53}, \"346.6\": {\"frequency\": 81, \"value\": 346.6}, \"339.28\": {\"frequency\": 80, \"value\": 339.28}, \"349.17\": {\"frequency\": 74, \"value\": 349.17}, \"349.69\": {\"frequency\": 240, \"value\": 349.69}, \"349.23\": {\"frequency\": 159, \"value\": 349.23}, \"348.64\": {\"frequency\": 79, \"value\": 348.64}, \"349.16\": {\"frequency\": 78, \"value\": 349.16}, \"349.73\": {\"frequency\": 161, \"value\": 349.73}, \"349.51\": {\"frequency\": 160, \"value\": 349.51}, \"349.31\": {\"frequency\": 318, \"value\": 349.31}, \"349.71\": {\"frequency\": 242, \"value\": 349.71}, \"350.26\": {\"frequency\": 240, \"value\": 350.26}, \"344.9\": {\"frequency\": 79, \"value\": 344.9}, \"349.36\": {\"frequency\": 173, \"value\": 349.36}, \"349.19\": {\"frequency\": 159, \"value\": 349.19}, \"348.62\": {\"frequency\": 81, \"value\": 348.62}, \"349.13\": {\"frequency\": 84, \"value\": 349.13}, \"345.67\": {\"frequency\": 83, \"value\": 345.67}, \"349.07\": {\"frequency\": 154, \"value\": 349.07}, \"346.44\": {\"frequency\": 78, \"value\": 346.44}, \"349.58\": {\"frequency\": 158, \"value\": 349.58}, \"348.73\": {\"frequency\": 159, \"value\": 348.73}, \"349.55\": {\"frequency\": 453, \"value\": 349.55}, \"350.13\": {\"frequency\": 231, \"value\": 350.13}, \"349.25\": {\"frequency\": 82, \"value\": 349.25}, \"348.96\": {\"frequency\": 79, \"value\": 348.96}, \"350.24\": {\"frequency\": 250, \"value\": 350.24}, \"347.2\": {\"frequency\": 86, \"value\": 347.2}, \"349.03\": {\"frequency\": 158, \"value\": 349.03}, \"273.15\": {\"frequency\": 80, \"value\": 273.15}, \"349.44\": {\"frequency\": 163, \"value\": 349.44}, \"349.9\": {\"frequency\": 244, \"value\": 349.9}, \"349.67\": {\"frequency\": 325, \"value\": 349.67}}, \"mean\": 348.09707971014467}, \"selected_variable\": {\"name\": [\"<SArray>\"], \"dtype\": \"float\", \"view_component\": \"Categorical\", \"view_file\": \"sarray\", \"descriptives\": {\"rows\": 40020}, \"type\": \"SArray\", \"view_components\": [\"Numeric\", \"Categorical\"]}, \"histogram\": {\"progress\": 1.0, \"histogram\": {\"max\": 351.8617200000002, \"bins\": [80, 84, 85, 158, 79, 82, 160, 239, 241, 396, 571, 37845], \"min\": 272.28923999999995}, \"min\": 273.15, \"complete\": 1, \"max\": 351.05}}, e);\n",
       "                });\n",
       "            })();\n",
       "        "
      ]
     },
     "metadata": {},
     "output_type": "display_data"
    }
   ],
   "source": [
    "#Mostramos la frecuencia de recurrencia de cada dato\n",
    "training_dataT['Tempera'].show(view = 'Categorical')"
   ]
  },
  {
   "cell_type": "code",
   "execution_count": 24,
   "metadata": {
    "collapsed": false
   },
   "outputs": [
    {
     "data": {
      "application/javascript": [
       "$(\"head\").append($(\"<link/>\").attr({\n",
       "  rel:  \"stylesheet\",\n",
       "  type: \"text/css\",\n",
       "  href: \"//cdnjs.cloudflare.com/ajax/libs/font-awesome/4.1.0/css/font-awesome.min.css\"\n",
       "}));\n",
       "$(\"head\").append($(\"<link/>\").attr({\n",
       "  rel:  \"stylesheet\",\n",
       "  type: \"text/css\",\n",
       "  href: \"https://static.turi.com/products/graphlab-create/2.1/canvas/css/canvas.css\"\n",
       "}));\n",
       "\n",
       "            (function(){\n",
       "\n",
       "                var e = null;\n",
       "                if (typeof element == 'undefined') {\n",
       "                    var scripts = document.getElementsByTagName('script');\n",
       "                    var thisScriptTag = scripts[scripts.length-1];\n",
       "                    var parentDiv = thisScriptTag.parentNode;\n",
       "                    e = document.createElement('div');\n",
       "                    parentDiv.appendChild(e);\n",
       "                } else {\n",
       "                    e = element[0];\n",
       "                }\n",
       "\n",
       "                if (typeof requirejs !== 'undefined') {\n",
       "                    // disable load timeout; ipython_app.js is large and can take a while to load.\n",
       "                    requirejs.config({waitSeconds: 0});\n",
       "                }\n",
       "\n",
       "                require(['https://static.turi.com/products/graphlab-create/2.1/canvas/js/ipython_app.js'], function(IPythonApp){\n",
       "                    var app = new IPythonApp();\n",
       "                    app.attachView('sarray','Categorical', {\"ipython\": true, \"sketch\": {\"std\": 0.2201666687299416, \"complete\": true, \"min\": -1.0, \"max\": 1.0, \"quantile\": [-1.0, -1.0, -1.0, -1.0, -1.0, -1.0, -1.0, -1.0, -1.0, -1.0, -1.0, -1.0, -1.0, -1.0, -1.0, -1.0, -1.0, -1.0, -1.0, -1.0, -1.0, -1.0, -1.0, -1.0, -1.0, -1.0, -1.0, -1.0, -1.0, -1.0, -1.0, -1.0, -1.0, -1.0, -1.0, -1.0, -1.0, -1.0, -1.0, -1.0, -1.0, -1.0, -1.0, -1.0, -1.0, -1.0, -1.0, -1.0, -1.0, -1.0, -1.0, -1.0, -1.0, -1.0, -1.0, -1.0, -1.0, -1.0, -1.0, -1.0, -1.0, -1.0, -1.0, -1.0, -1.0, -1.0, -1.0, -1.0, -1.0, -1.0, -1.0, -1.0, -1.0, -1.0, -1.0, -1.0, -1.0, -1.0, -1.0, -1.0, -1.0, -1.0, -1.0, -1.0, -1.0, -1.0, -1.0, -1.0, -1.0, -1.0, -1.0, -1.0, -1.0, -1.0, -1.0, -1.0, -1.0, -1.0, -1.0, 1.0, 1.0], \"median\": -1.0, \"numeric\": true, \"num_unique\": 2, \"num_undefined\": 0, \"var\": 0.048473362019639844, \"progress\": 1.0, \"size\": 40020, \"frequent_items\": {\"1\": {\"frequency\": 491, \"value\": 1}, \"-1\": {\"frequency\": 39529, \"value\": -1}}, \"mean\": -0.9754622688655672}, \"selected_variable\": {\"name\": [\"<SArray>\"], \"dtype\": \"int\", \"view_component\": \"Categorical\", \"view_file\": \"sarray\", \"descriptives\": {\"rows\": 40020}, \"type\": \"SArray\", \"view_components\": [\"Numeric\", \"Categorical\"]}, \"histogram\": {\"progress\": 1.0, \"histogram\": {\"max\": 1.0171599999999872, \"bins\": [39529, 0, 0, 0, 0, 0, 0, 0, 0, 0, 0, 491], \"min\": -1.0103599999999995}, \"min\": -1, \"complete\": 1, \"max\": 1}}, e);\n",
       "                });\n",
       "            })();\n",
       "        "
      ]
     },
     "metadata": {},
     "output_type": "display_data"
    }
   ],
   "source": [
    "#valores validos luego de la clasificacion\n",
    "training_dataT['TCalificacion'].show(view = 'Categorical')"
   ]
  },
  {
   "cell_type": "code",
   "execution_count": 25,
   "metadata": {
    "collapsed": false
   },
   "outputs": [
    {
     "name": "stdout",
     "output_type": "stream",
     "text": [
      "Valores_Clasificados: 491\n",
      "Valores_Rechazados: 39529\n"
     ]
    }
   ],
   "source": [
    "#creacion de la tabla de clasificacion\n",
    "Valores_Clasificados =training_dataT[training_dataT['TCalificacion']== +1]\n",
    "Valores_Rechazados   =training_dataT[training_dataT['TCalificacion']== -1]\n",
    "print \"Valores_Clasificados: %s\" % len(Valores_Clasificados)\n",
    "print \"Valores_Rechazados: %s\" % len(Valores_Rechazados)"
   ]
  },
  {
   "cell_type": "code",
   "execution_count": 17,
   "metadata": {
    "collapsed": false
   },
   "outputs": [
    {
     "data": {
      "text/html": [
       "<div style=\"max-height:1000px;max-width:1500px;overflow:auto;\"><table frame=\"box\" rules=\"cols\">\n",
       "    <tr>\n",
       "        <th style=\"padding-left: 1em; padding-right: 1em; text-align: center\">FlujoCh</th>\n",
       "        <th style=\"padding-left: 1em; padding-right: 1em; text-align: center\">FlujoRx</th>\n",
       "        <th style=\"padding-left: 1em; padding-right: 1em; text-align: center\">TCalificacion</th>\n",
       "        <th style=\"padding-left: 1em; padding-right: 1em; text-align: center\">Tempera</th>\n",
       "    </tr>\n",
       "    <tr>\n",
       "        <td style=\"padding-left: 1em; padding-right: 1em; text-align: center; vertical-align: top\">105.25</td>\n",
       "        <td style=\"padding-left: 1em; padding-right: 1em; text-align: center; vertical-align: top\">80.616</td>\n",
       "        <td style=\"padding-left: 1em; padding-right: 1em; text-align: center; vertical-align: top\">1</td>\n",
       "        <td style=\"padding-left: 1em; padding-right: 1em; text-align: center; vertical-align: top\">350.0</td>\n",
       "    </tr>\n",
       "    <tr>\n",
       "        <td style=\"padding-left: 1em; padding-right: 1em; text-align: center; vertical-align: top\">103.47</td>\n",
       "        <td style=\"padding-left: 1em; padding-right: 1em; text-align: center; vertical-align: top\">82.316</td>\n",
       "        <td style=\"padding-left: 1em; padding-right: 1em; text-align: center; vertical-align: top\">1</td>\n",
       "        <td style=\"padding-left: 1em; padding-right: 1em; text-align: center; vertical-align: top\">350.0</td>\n",
       "    </tr>\n",
       "    <tr>\n",
       "        <td style=\"padding-left: 1em; padding-right: 1em; text-align: center; vertical-align: top\">103.8</td>\n",
       "        <td style=\"padding-left: 1em; padding-right: 1em; text-align: center; vertical-align: top\">84.503</td>\n",
       "        <td style=\"padding-left: 1em; padding-right: 1em; text-align: center; vertical-align: top\">1</td>\n",
       "        <td style=\"padding-left: 1em; padding-right: 1em; text-align: center; vertical-align: top\">350.0</td>\n",
       "    </tr>\n",
       "    <tr>\n",
       "        <td style=\"padding-left: 1em; padding-right: 1em; text-align: center; vertical-align: top\">105.39</td>\n",
       "        <td style=\"padding-left: 1em; padding-right: 1em; text-align: center; vertical-align: top\">79.191</td>\n",
       "        <td style=\"padding-left: 1em; padding-right: 1em; text-align: center; vertical-align: top\">1</td>\n",
       "        <td style=\"padding-left: 1em; padding-right: 1em; text-align: center; vertical-align: top\">349.0</td>\n",
       "    </tr>\n",
       "    <tr>\n",
       "        <td style=\"padding-left: 1em; padding-right: 1em; text-align: center; vertical-align: top\">107.77</td>\n",
       "        <td style=\"padding-left: 1em; padding-right: 1em; text-align: center; vertical-align: top\">82.101</td>\n",
       "        <td style=\"padding-left: 1em; padding-right: 1em; text-align: center; vertical-align: top\">1</td>\n",
       "        <td style=\"padding-left: 1em; padding-right: 1em; text-align: center; vertical-align: top\">350.0</td>\n",
       "    </tr>\n",
       "    <tr>\n",
       "        <td style=\"padding-left: 1em; padding-right: 1em; text-align: center; vertical-align: top\">103.34</td>\n",
       "        <td style=\"padding-left: 1em; padding-right: 1em; text-align: center; vertical-align: top\">84.051</td>\n",
       "        <td style=\"padding-left: 1em; padding-right: 1em; text-align: center; vertical-align: top\">1</td>\n",
       "        <td style=\"padding-left: 1em; padding-right: 1em; text-align: center; vertical-align: top\">350.0</td>\n",
       "    </tr>\n",
       "    <tr>\n",
       "        <td style=\"padding-left: 1em; padding-right: 1em; text-align: center; vertical-align: top\">103.93</td>\n",
       "        <td style=\"padding-left: 1em; padding-right: 1em; text-align: center; vertical-align: top\">80.83</td>\n",
       "        <td style=\"padding-left: 1em; padding-right: 1em; text-align: center; vertical-align: top\">1</td>\n",
       "        <td style=\"padding-left: 1em; padding-right: 1em; text-align: center; vertical-align: top\">350.0</td>\n",
       "    </tr>\n",
       "    <tr>\n",
       "        <td style=\"padding-left: 1em; padding-right: 1em; text-align: center; vertical-align: top\">107.11</td>\n",
       "        <td style=\"padding-left: 1em; padding-right: 1em; text-align: center; vertical-align: top\">83.932</td>\n",
       "        <td style=\"padding-left: 1em; padding-right: 1em; text-align: center; vertical-align: top\">1</td>\n",
       "        <td style=\"padding-left: 1em; padding-right: 1em; text-align: center; vertical-align: top\">350.0</td>\n",
       "    </tr>\n",
       "    <tr>\n",
       "        <td style=\"padding-left: 1em; padding-right: 1em; text-align: center; vertical-align: top\">106.02</td>\n",
       "        <td style=\"padding-left: 1em; padding-right: 1em; text-align: center; vertical-align: top\">83.464</td>\n",
       "        <td style=\"padding-left: 1em; padding-right: 1em; text-align: center; vertical-align: top\">1</td>\n",
       "        <td style=\"padding-left: 1em; padding-right: 1em; text-align: center; vertical-align: top\">349.0</td>\n",
       "    </tr>\n",
       "    <tr>\n",
       "        <td style=\"padding-left: 1em; padding-right: 1em; text-align: center; vertical-align: top\">102.43</td>\n",
       "        <td style=\"padding-left: 1em; padding-right: 1em; text-align: center; vertical-align: top\">83.468</td>\n",
       "        <td style=\"padding-left: 1em; padding-right: 1em; text-align: center; vertical-align: top\">1</td>\n",
       "        <td style=\"padding-left: 1em; padding-right: 1em; text-align: center; vertical-align: top\">350.0</td>\n",
       "    </tr>\n",
       "</table>\n",
       "[472 rows x 4 columns]<br/>Note: Only the head of the SFrame is printed.<br/>You can use print_rows(num_rows=m, num_columns=n) to print more rows and columns.\n",
       "</div>"
      ],
      "text/plain": [
       "Columns:\n",
       "\tFlujoCh\tfloat\n",
       "\tFlujoRx\tfloat\n",
       "\tTCalificacion\tint\n",
       "\tTempera\tfloat\n",
       "\n",
       "Rows: 472\n",
       "\n",
       "Data:\n",
       "+---------+---------+---------------+---------+\n",
       "| FlujoCh | FlujoRx | TCalificacion | Tempera |\n",
       "+---------+---------+---------------+---------+\n",
       "|  105.25 |  80.616 |       1       |  350.0  |\n",
       "|  103.47 |  82.316 |       1       |  350.0  |\n",
       "|  103.8  |  84.503 |       1       |  350.0  |\n",
       "|  105.39 |  79.191 |       1       |  349.0  |\n",
       "|  107.77 |  82.101 |       1       |  350.0  |\n",
       "|  103.34 |  84.051 |       1       |  350.0  |\n",
       "|  103.93 |  80.83  |       1       |  350.0  |\n",
       "|  107.11 |  83.932 |       1       |  350.0  |\n",
       "|  106.02 |  83.464 |       1       |  349.0  |\n",
       "|  102.43 |  83.468 |       1       |  350.0  |\n",
       "+---------+---------+---------------+---------+\n",
       "[472 rows x 4 columns]\n",
       "Note: Only the head of the SFrame is printed.\n",
       "You can use print_rows(num_rows=m, num_columns=n) to print more rows and columns."
      ]
     },
     "execution_count": 17,
     "metadata": {},
     "output_type": "execute_result"
    }
   ],
   "source": [
    "#visualizacion de la tabla\n",
    "Valores_Clasificados"
   ]
  },
  {
   "cell_type": "code",
   "execution_count": 49,
   "metadata": {
    "collapsed": false,
    "scrolled": true
   },
   "outputs": [
    {
     "name": "stdout",
     "output_type": "stream",
     "text": [
      "+---------+---------+---------------+---------+\n",
      "| FlujoCh | FlujoRx | TCalificacion | Tempera |\n",
      "+---------+---------+---------------+---------+\n",
      "|  103.19 |  80.964 |       1       |  350.0  |\n",
      "|  105.25 |  80.616 |       1       |  350.0  |\n",
      "|  107.52 |  84.94  |       1       |  350.0  |\n",
      "|  103.47 |  82.316 |       1       |  350.0  |\n",
      "|  103.8  |  84.503 |       1       |  350.0  |\n",
      "|  105.39 |  79.191 |       1       |  349.0  |\n",
      "|  107.77 |  82.101 |       1       |  350.0  |\n",
      "|  107.11 |  83.932 |       1       |  350.0  |\n",
      "|  107.2  |  83.908 |       1       |  350.0  |\n",
      "|  106.02 |  83.464 |       1       |  349.0  |\n",
      "+---------+---------+---------------+---------+\n",
      "[491 rows x 4 columns]\n",
      "Note: Only the head of the SFrame is printed.\n",
      "You can use print_rows(num_rows=m, num_columns=n) to print more rows and columns.\n",
      "caudal Entrada, caudal chaqueta\n",
      "[84.069, 104.93]\n"
     ]
    }
   ],
   "source": [
    "#ramdom de los valores clasificados\n",
    "from random import choice\n",
    "print(choice([Valores_Clasificados]))\n",
    "\n",
    "# valores aleatoreos de Flujo Ch y Flujo en el reactor, para una temperatura Valida entrada fuzzy\n",
    "m=Valores_Clasificados['FlujoCh']\n",
    "n=Valores_Clasificados['FlujoRx']\n",
    "\n",
    "print('caudal Entrada, caudal chaqueta')\n",
    "print[choice(n),choice(m)] #flujo Rx, #flujo Ch\n"
   ]
  },
  {
   "cell_type": "code",
   "execution_count": null,
   "metadata": {
    "collapsed": true
   },
   "outputs": [],
   "source": []
  },
  {
   "cell_type": "code",
   "execution_count": 51,
   "metadata": {
    "collapsed": false,
    "scrolled": true
   },
   "outputs": [],
   "source": [
    "#llamamos la funcion fuzzy\n",
    "#exec(open(\"fuzzyok.py\").read())"
   ]
  },
  {
   "cell_type": "code",
   "execution_count": null,
   "metadata": {
    "collapsed": true
   },
   "outputs": [],
   "source": []
  }
 ],
 "metadata": {
  "kernelspec": {
   "display_name": "Python 2",
   "language": "python",
   "name": "python2"
  },
  "language_info": {
   "codemirror_mode": {
    "name": "ipython",
    "version": 2
   },
   "file_extension": ".py",
   "mimetype": "text/x-python",
   "name": "python",
   "nbconvert_exporter": "python",
   "pygments_lexer": "ipython2",
   "version": "2.7.11"
  }
 },
 "nbformat": 4,
 "nbformat_minor": 0
}
